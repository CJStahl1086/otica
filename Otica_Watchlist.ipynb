{
 "cells": [
  {
   "cell_type": "markdown",
   "id": "2fb5d157-8650-46ec-b7c6-e4a6b1813df4",
   "metadata": {},
   "source": [
    "# Otica Watchlist"
   ]
  },
  {
   "cell_type": "markdown",
   "id": "33d818e1-b229-4344-86eb-82de912201d5",
   "metadata": {},
   "source": [
    "Importion Libraries"
   ]
  },
  {
   "cell_type": "code",
   "execution_count": 1,
   "id": "bfe45033-c273-4ea7-9dad-2b4fdbc82026",
   "metadata": {},
   "outputs": [],
   "source": [
    "import numpy as np\n",
    "import pandas as pd\n",
    "import yfinance as yf\n",
    "from openpyxl import Workbook\n",
    "import re\n",
    "import socket\n",
    "import psutil\n",
    "import plotly.express as px\n",
    "import plotly.graph_objects as go \n",
    "from dash import Dash, html, dcc, dash_table, Input, Output\n",
    "from datetime import datetime, timedelta\n",
    "from dateutil.relativedelta import relativedelta\n",
    "import dash.dependencies as dd\n",
    "from dash.dash_table.Format import Group\n",
    "from plotly.subplots import make_subplots"
   ]
  },
  {
   "cell_type": "markdown",
   "id": "640c240d-9cce-4b86-80d4-6f9026028ed5",
   "metadata": {},
   "source": [
    "Yahoo finance alternative API calls. https://github.com/ranaroussi/yfinance/issues/2422#issuecomment-2840774505 \\n https://github.com/ranaroussi/yfinance/pull/2277"
   ]
  },
  {
   "cell_type": "code",
   "execution_count": 5,
   "id": "6c9d8a67-5106-4489-87c8-a8856cca1e3b",
   "metadata": {},
   "outputs": [],
   "source": [
    "# self._set_session(session or requests.Session(impersonate=\"chrome\"))\n",
    "\n",
    "#  from curl_cffi import requests\n",
    "#  session = requests.Session(impersonate=\"chrome\")\n",
    "#  ticker = yf.Ticker('...', session=session)"
   ]
  },
  {
   "cell_type": "markdown",
   "id": "1f0dc4df-5471-4d5e-acb3-61b8ef73024b",
   "metadata": {},
   "source": [
    "## Enter Data Here"
   ]
  },
  {
   "cell_type": "code",
   "execution_count": 91,
   "id": "67b2a28f-7575-47d3-b14f-9026c043c38d",
   "metadata": {},
   "outputs": [],
   "source": [
    "# --- User-defined dynamic parameters ---\n",
    "symbols = ['O', 'AMZN']               # Ticker symbols to fetch\n",
    "dates = [30, 100, 200]                # Periods for MA and Bollinger Bands\n",
    "period_range = \"10y\"                 # Data time range: last 10 years\n",
    "auto_adjust_prices = True            # Whether to auto-adjust for splits/dividends\n",
    "rsi_period = 14                      # RSI calculation window\n",
    "# --------------------------------------"
   ]
  },
  {
   "cell_type": "markdown",
   "id": "55fbb5eb-2107-4ed2-97af-ad909801408a",
   "metadata": {},
   "source": [
    "accent"
   ]
  },
  {
   "cell_type": "code",
   "execution_count": 52,
   "id": "58f89965-6972-48e7-877d-18e0251420b2",
   "metadata": {},
   "outputs": [],
   "source": [
    "accent_color = '#1abc9c'"
   ]
  },
  {
   "cell_type": "code",
   "execution_count": 21,
   "id": "ed8d0ec6-4fb6-4c2c-a38e-2adb5566e9b7",
   "metadata": {},
   "outputs": [
    {
     "name": "stdout",
     "output_type": "stream",
     "text": [
      "Fetching data for O...\n"
     ]
    },
    {
     "name": "stderr",
     "output_type": "stream",
     "text": [
      "[*********************100%***********************]  1 of 1 completed\n"
     ]
    },
    {
     "name": "stdout",
     "output_type": "stream",
     "text": [
      "Fetching data for AMZN...\n"
     ]
    },
    {
     "name": "stderr",
     "output_type": "stream",
     "text": [
      "[*********************100%***********************]  1 of 1 completed\n"
     ]
    }
   ],
   "source": [
    "# Initialize an empty dictionary to store results\n",
    "symbol_dataframes = {}\n",
    "\n",
    "for symbol in symbols:\n",
    "    try:\n",
    "        print(f\"Fetching data for {symbol}...\")\n",
    "        data = yf.download(symbol, period=period_range, auto_adjust=auto_adjust_prices)\n",
    "\n",
    "        # --- Dynamic Moving Averages & Bollinger Bands ---\n",
    "        for period in dates:\n",
    "            ma_col = f'MA{period}'\n",
    "            std_col = f'BB{period}_Std'\n",
    "            upper_col = f'BB{period}_Upper'\n",
    "            lower_col = f'BB{period}_Lower'\n",
    "\n",
    "            data[ma_col] = data['Close'].rolling(window=period).mean()\n",
    "            data[std_col] = data['Close'].rolling(window=period).std()\n",
    "            data[upper_col] = data[ma_col] + (2 * data[std_col])\n",
    "            data[lower_col] = data[ma_col] - (2 * data[std_col])\n",
    "\n",
    "        # Drop standard deviation columns\n",
    "        std_cols = [f'BB{period}_Std' for period in dates]\n",
    "        data.drop(columns=std_cols, inplace=True)\n",
    "\n",
    "        # --- MACD ---\n",
    "        data['EMA12'] = data['Close'].ewm(span=12, adjust=False).mean()\n",
    "        data['EMA26'] = data['Close'].ewm(span=26, adjust=False).mean()\n",
    "        data['MACD'] = data['EMA12'] - data['EMA26']\n",
    "        data['Signal_Line'] = data['MACD'].ewm(span=9, adjust=False).mean()\n",
    "        data['MACD_Histogram'] = data['MACD'] - data['Signal_Line']\n",
    "\n",
    "        # --- RSI ---\n",
    "        delta = data['Close'].diff()\n",
    "        gain = delta.where(delta > 0, 0)\n",
    "        loss = -delta.where(delta < 0, 0)\n",
    "        avg_gain = gain.rolling(window=rsi_period, min_periods=rsi_period).mean()\n",
    "        avg_loss = loss.rolling(window=rsi_period, min_periods=rsi_period).mean()\n",
    "        rs = avg_gain / avg_loss\n",
    "        data['RSI'] = 100 - (100 / (1 + rs))\n",
    "\n",
    "        symbol_dataframes[symbol] = data\n",
    "    except Exception as e:\n",
    "        print(f\"Failed to fetch data for {symbol}: {e}\")\n",
    "\n",
    "# Cleanup MultiIndex columns if needed\n",
    "for symbol, df in symbol_dataframes.items():\n",
    "    if isinstance(df.columns, pd.MultiIndex):\n",
    "        df.columns = [col[0] if isinstance(col, tuple) else col for col in df.columns]"
   ]
  },
  {
   "cell_type": "markdown",
   "id": "0a87f382-e7af-4d80-8197-45bdc761e6d5",
   "metadata": {},
   "source": [
    "## Wathclist"
   ]
  },
  {
   "cell_type": "code",
   "execution_count": 118,
   "id": "2c6a39a2-c606-4dd9-adea-d159bd12b261",
   "metadata": {},
   "outputs": [],
   "source": [
    "def generate_stock_chart(symbol):\n",
    "\n",
    "    # pull your df\n",
    "    df = symbol_dataframes[symbol].reset_index()\n",
    "    df['Date'] = pd.to_datetime(df['Date'])\n",
    "    # signed-log MACD\n",
    "    df['MACD_slog']      = np.sign(df['MACD']) * np.log1p(np.abs(df['MACD']))\n",
    "    df['Signal_slog']    = np.sign(df['Signal_Line']) * np.log1p(np.abs(df['Signal_Line']))\n",
    "    df['MACD_Hist_slog'] = np.sign(df['MACD_Histogram']) * np.log1p(np.abs(df['MACD_Histogram']))\n",
    "\n",
    "    # split volume\n",
    "    threshold = df['Volume'].quantile(0.95)\n",
    "    max_v     = df['Volume'].max()\n",
    "    df['Vol_bot'] = np.minimum(df['Volume'], threshold)\n",
    "    df['Vol_top'] = np.where(df['Volume'] > threshold, df['Volume'] - threshold, 0)\n",
    "\n",
    "    # make the subplots\n",
    "    fig = make_subplots(\n",
    "        rows=6, cols=1,\n",
    "        shared_xaxes=True,\n",
    "        row_heights=[0.55, 0.02, 0.15, 0.126, 0.014, 0.14],\n",
    "        vertical_spacing=0.03,\n",
    "        specs=[\n",
    "            [{}], [None], [{}],\n",
    "            [{}], [{}],\n",
    "            [{}]\n",
    "        ]\n",
    "    )\n",
    "\n",
    "    # Row 1: Close + MAs + BBands\n",
    "    fig.add_trace(go.Scatter(\n",
    "        x=df['Date'], y=df['Close'], mode='lines',\n",
    "        name='Close',\n",
    "        line=dict(color=accent_color, width=2)\n",
    "    ), row=1, col=1)\n",
    "\n",
    "    for idx, p in enumerate(dates):\n",
    "        ma = f'MA{p}'\n",
    "        if ma not in df:\n",
    "            continue\n",
    "        color = 'lightgrey' if idx == len(dates)//2 else accent_color\n",
    "        fig.add_trace(go.Scatter(\n",
    "            x=df['Date'], y=df[ma], mode='lines',\n",
    "            name=ma,\n",
    "            line=dict(color=color, width=1.5)\n",
    "        ), row=1, col=1)\n",
    "\n",
    "    greys = [f'#{v:02x}{v:02x}{v:02x}' for v in np.linspace(128,200,len(dates),dtype=int)]\n",
    "    for p, grey in zip(dates, greys):\n",
    "        up, lo = f'BB{p}_Upper', f'BB{p}_Lower'\n",
    "        if up in df and lo in df:\n",
    "            fig.add_trace(go.Scatter(\n",
    "                x=df['Date'], y=df[up], mode='lines',\n",
    "                name=up,\n",
    "                line=dict(color=grey, dash='dot')\n",
    "            ), row=1, col=1)\n",
    "            fig.add_trace(go.Scatter(\n",
    "                x=df['Date'], y=df[lo], mode='lines',\n",
    "                name=lo,\n",
    "                line=dict(color=grey, dash='dot')\n",
    "            ), row=1, col=1)\n",
    "\n",
    "    fig.update_yaxes(title_text=\"Price\", row=1, col=1)\n",
    "\n",
    "    # Row 3: RSI\n",
    "    fig.add_trace(go.Scatter(\n",
    "        x=df['Date'], y=df['RSI'], mode='lines',\n",
    "        name='RSI',\n",
    "        line=dict(color=accent_color, width=1.5)\n",
    "    ), row=3, col=1)\n",
    "    fig.update_yaxes(range=[0,100], title_text=\"RSI\", row=3, col=1)\n",
    "    fig.add_hline(y=70, line=dict(color='grey', dash='dash'), row=3, col=1)\n",
    "    fig.add_hline(y=30, line=dict(color='grey', dash='dash'), row=3, col=1)\n",
    "    fig.add_annotation(xref='paper', x=1, xanchor='right',\n",
    "                       yref='y3', y=70, text='Overbought',\n",
    "                       font=dict(color='grey'), showarrow=False, yshift=8)\n",
    "    fig.add_annotation(xref='paper', x=1, xanchor='right',\n",
    "                       yref='y3', y=30, text='Oversold',\n",
    "                       font=dict(color='grey'), showarrow=False, yshift=8)\n",
    "\n",
    "    # Row 4: Volume bottom (accent color)\n",
    "    fig.add_trace(go.Bar(\n",
    "        x=df['Date'], y=df['Vol_bot'],\n",
    "        name='Volume',\n",
    "        marker_color = accent_color\n",
    "    ), row=4, col=1)\n",
    "    fig.update_yaxes(\n",
    "        range=[0, threshold],\n",
    "        title_text=\"Volume\",\n",
    "        tickmode='array',\n",
    "        tickvals=[threshold],\n",
    "        ticktext=[f\"{int(threshold):,}\"],\n",
    "        showgrid=False,\n",
    "        row=4, col=1\n",
    "    )\n",
    "\n",
    "\n",
    "    # Row 6: MACD + hist\n",
    "    fig.add_trace(go.Scatter(\n",
    "        x=df['Date'], y=df['MACD_slog'], mode='lines',\n",
    "        name='MACD',\n",
    "        marker_color = 'blue',\n",
    "        line=dict(width=1.5)\n",
    "    ), row=6, col=1)\n",
    "    fig.add_trace(go.Scatter(\n",
    "        x=df['Date'], y=df['Signal_slog'], mode='lines',\n",
    "        name='Signal',\n",
    "        marker_color = 'red',\n",
    "        line=dict(width=1.5)\n",
    "    ), row=6, col=1)\n",
    "    fig.add_trace(go.Bar(\n",
    "        x=df['Date'], y=df['MACD_Hist_slog'],\n",
    "        name='Hist',\n",
    "        marker_color=['green' if v >= 0 else 'red' for v in df['MACD_Hist_slog']]\n",
    "    ), row=6, col=1)\n",
    "    fig.update_yaxes(title_text=\"MACD\", row=6, col=1)\n",
    "    fig.add_hline(y=0, line=dict(color='grey', dash='dash'), row=6, col=1)\n",
    "\n",
    "    # X-axes and layout tweaks\n",
    "    fig.update_xaxes(row=1, col=1, showticklabels=True)\n",
    "    for r in (3,4,5,6):\n",
    "        fig.update_xaxes(row=r, col=1, showticklabels=False)\n",
    "\n",
    "    fig.update_layout(\n",
    "        template='plotly_dark',\n",
    "        paper_bgcolor='#1e1e1e',\n",
    "        plot_bgcolor='#1e1e1e',\n",
    "        font_color=accent_color,\n",
    "        margin=dict(t=20, b=20, l=20, r=20),\n",
    "        height=950,\n",
    "        legend=dict(traceorder='grouped',\n",
    "                    tracegroupgap=10,\n",
    "                    orientation='v',\n",
    "                    x=1.02, y=1)\n",
    "    )\n",
    "\n",
    "    return fig"
   ]
  },
  {
   "cell_type": "markdown",
   "id": "78ff0066-208e-45c3-b859-4f058140d1ed",
   "metadata": {},
   "source": [
    "## Dashboard"
   ]
  },
  {
   "cell_type": "code",
   "execution_count": 121,
   "id": "7e5591f2-44c2-4cf6-88fe-8e08f34a8d3a",
   "metadata": {},
   "outputs": [
    {
     "data": {
      "text/html": [
       "\n",
       "        <iframe\n",
       "            width=\"100%\"\n",
       "            height=\"650\"\n",
       "            src=\"http://127.0.0.1:53179/\"\n",
       "            frameborder=\"0\"\n",
       "            allowfullscreen\n",
       "            \n",
       "        ></iframe>\n",
       "        "
      ],
      "text/plain": [
       "<IPython.lib.display.IFrame at 0x253246a9a00>"
      ]
     },
     "metadata": {},
     "output_type": "display_data"
    },
    {
     "name": "stdout",
     "output_type": "stream",
     "text": [
      "App running at http://127.0.0.1:53179\n"
     ]
    }
   ],
   "source": [
    "import socket\n",
    "from dash import Dash, dcc, html\n",
    "from dash.dependencies import Input, Output\n",
    "\n",
    "# -----------------------------------------------------------------------------\n",
    "# Helper to get a free localhost port\n",
    "# -----------------------------------------------------------------------------\n",
    "def get_free_port():\n",
    "    s = socket.socket(socket.AF_INET, socket.SOCK_STREAM)\n",
    "    s.bind(('127.0.0.1', 0))\n",
    "    _, port = s.getsockname()\n",
    "    s.close()\n",
    "    return port\n",
    "\n",
    "# -----------------------------------------------------------------------------\n",
    "\n",
    "# -----------------------------------------------------------------------------\n",
    "# Dash app: Watchlist Visualization + callback to change stocks\n",
    "# -----------------------------------------------------------------------------\n",
    "app = Dash(__name__)\n",
    "port = get_free_port()\n",
    "\n",
    "app.layout = html.Div(\n",
    "    style={'backgroundColor':'black','color':'white','padding':'20px'},\n",
    "    children=[\n",
    "        html.H1(\"Watchlist Visualization\", style={'color':accent_color}),\n",
    "        dcc.Dropdown(\n",
    "            id='watchlist-dropdown',\n",
    "            options=[{'label': s,'value':s} for s in symbol_dataframes.keys()],\n",
    "            value=list(symbol_dataframes.keys())[0],\n",
    "            clearable=False,\n",
    "            style={'width':'300px'}\n",
    "        ),\n",
    "        dcc.Graph(id='watchlist-chart', style={'height':'900px'})\n",
    "    ]\n",
    ")\n",
    "\n",
    "@app.callback(\n",
    "    Output('watchlist-chart','figure'),\n",
    "    [Input('watchlist-dropdown','value')]\n",
    ")\n",
    "def update_watchlist_chart(symbol):\n",
    "    return generate_stock_chart(symbol)\n",
    "\n",
    "# -----------------------------------------------------------------------------\n",
    "# Run inline in notebook\n",
    "# -----------------------------------------------------------------------------\n",
    "app.run_server(mode='inline', debug=True, port=port)\n",
    "print(f\"App running at http://127.0.0.1:{port}\")\n"
   ]
  },
  {
   "cell_type": "code",
   "execution_count": null,
   "id": "a34417cc-d68e-4983-bff2-22706134f7c8",
   "metadata": {},
   "outputs": [],
   "source": []
  }
 ],
 "metadata": {
  "kernelspec": {
   "display_name": "Python [conda env:base] *",
   "language": "python",
   "name": "conda-base-py"
  },
  "language_info": {
   "codemirror_mode": {
    "name": "ipython",
    "version": 3
   },
   "file_extension": ".py",
   "mimetype": "text/x-python",
   "name": "python",
   "nbconvert_exporter": "python",
   "pygments_lexer": "ipython3",
   "version": "3.12.7"
  }
 },
 "nbformat": 4,
 "nbformat_minor": 5
}
