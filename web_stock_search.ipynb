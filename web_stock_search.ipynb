{
 "cells": [
  {
   "cell_type": "code",
   "execution_count": 6,
   "id": "3ab4aa9d",
   "metadata": {},
   "outputs": [
    {
     "name": "stdout",
     "output_type": "stream",
     "text": [
      "Enter the stock ticker symbol (or type 'exit' to stop): tsla\n"
     ]
    },
    {
     "ename": "NoSuchWindowException",
     "evalue": "Message: no such window: target window already closed\nfrom unknown error: web view not found\n  (Session info: chrome=116.0.5845.179)\nStacktrace:\n#0 0x5563179c6e23 <unknown>\n#1 0x5563176ef7a7 <unknown>\n#2 0x5563176c7691 <unknown>\n#3 0x556317753e0f <unknown>\n#4 0x556317766eb6 <unknown>\n#5 0x55631774ede3 <unknown>\n#6 0x556317722a7b <unknown>\n#7 0x55631772381e <unknown>\n#8 0x556317988638 <unknown>\n#9 0x55631798c507 <unknown>\n#10 0x556317996c4c <unknown>\n#11 0x55631798d136 <unknown>\n#12 0x55631795b9cf <unknown>\n#13 0x5563179b0b98 <unknown>\n#14 0x5563179b0d68 <unknown>\n#15 0x5563179bfcb3 <unknown>\n#16 0x7f6a9ca94b43 <unknown>\n",
     "output_type": "error",
     "traceback": [
      "\u001b[0;31m---------------------------------------------------------------------------\u001b[0m",
      "\u001b[0;31mNoSuchWindowException\u001b[0m                     Traceback (most recent call last)",
      "Input \u001b[0;32mIn [6]\u001b[0m, in \u001b[0;36m<cell line: 23>\u001b[0;34m()\u001b[0m\n\u001b[1;32m     33\u001b[0m url2 \u001b[38;5;241m=\u001b[39m \u001b[38;5;124mf\u001b[39m\u001b[38;5;124m\"\u001b[39m\u001b[38;5;124mhttps://finviz.com/quote.ashx?t=\u001b[39m\u001b[38;5;132;01m{\u001b[39;00mticker\u001b[38;5;132;01m}\u001b[39;00m\u001b[38;5;124m&p=d\u001b[39m\u001b[38;5;124m\"\u001b[39m\n\u001b[1;32m     35\u001b[0m \u001b[38;5;66;03m# Navigate to the constructed URL in the first browser\u001b[39;00m\n\u001b[0;32m---> 36\u001b[0m \u001b[43mdriver1\u001b[49m\u001b[38;5;241;43m.\u001b[39;49m\u001b[43mget\u001b[49m\u001b[43m(\u001b[49m\u001b[43murl1\u001b[49m\u001b[43m)\u001b[49m\n\u001b[1;32m     38\u001b[0m \u001b[38;5;66;03m# Navigate to the constructed URL in the second browser\u001b[39;00m\n\u001b[1;32m     39\u001b[0m driver2\u001b[38;5;241m.\u001b[39mget(url2)\n",
      "File \u001b[0;32m~/anaconda3/lib/python3.9/site-packages/selenium/webdriver/remote/webdriver.py:353\u001b[0m, in \u001b[0;36mWebDriver.get\u001b[0;34m(self, url)\u001b[0m\n\u001b[1;32m    351\u001b[0m \u001b[38;5;28;01mdef\u001b[39;00m \u001b[38;5;21mget\u001b[39m(\u001b[38;5;28mself\u001b[39m, url: \u001b[38;5;28mstr\u001b[39m) \u001b[38;5;241m-\u001b[39m\u001b[38;5;241m>\u001b[39m \u001b[38;5;28;01mNone\u001b[39;00m:\n\u001b[1;32m    352\u001b[0m \u001b[38;5;250m    \u001b[39m\u001b[38;5;124;03m\"\"\"Loads a web page in the current browser session.\"\"\"\u001b[39;00m\n\u001b[0;32m--> 353\u001b[0m     \u001b[38;5;28;43mself\u001b[39;49m\u001b[38;5;241;43m.\u001b[39;49m\u001b[43mexecute\u001b[49m\u001b[43m(\u001b[49m\u001b[43mCommand\u001b[49m\u001b[38;5;241;43m.\u001b[39;49m\u001b[43mGET\u001b[49m\u001b[43m,\u001b[49m\u001b[43m \u001b[49m\u001b[43m{\u001b[49m\u001b[38;5;124;43m\"\u001b[39;49m\u001b[38;5;124;43murl\u001b[39;49m\u001b[38;5;124;43m\"\u001b[39;49m\u001b[43m:\u001b[49m\u001b[43m \u001b[49m\u001b[43murl\u001b[49m\u001b[43m}\u001b[49m\u001b[43m)\u001b[49m\n",
      "File \u001b[0;32m~/anaconda3/lib/python3.9/site-packages/selenium/webdriver/remote/webdriver.py:344\u001b[0m, in \u001b[0;36mWebDriver.execute\u001b[0;34m(self, driver_command, params)\u001b[0m\n\u001b[1;32m    342\u001b[0m response \u001b[38;5;241m=\u001b[39m \u001b[38;5;28mself\u001b[39m\u001b[38;5;241m.\u001b[39mcommand_executor\u001b[38;5;241m.\u001b[39mexecute(driver_command, params)\n\u001b[1;32m    343\u001b[0m \u001b[38;5;28;01mif\u001b[39;00m response:\n\u001b[0;32m--> 344\u001b[0m     \u001b[38;5;28;43mself\u001b[39;49m\u001b[38;5;241;43m.\u001b[39;49m\u001b[43merror_handler\u001b[49m\u001b[38;5;241;43m.\u001b[39;49m\u001b[43mcheck_response\u001b[49m\u001b[43m(\u001b[49m\u001b[43mresponse\u001b[49m\u001b[43m)\u001b[49m\n\u001b[1;32m    345\u001b[0m     response[\u001b[38;5;124m\"\u001b[39m\u001b[38;5;124mvalue\u001b[39m\u001b[38;5;124m\"\u001b[39m] \u001b[38;5;241m=\u001b[39m \u001b[38;5;28mself\u001b[39m\u001b[38;5;241m.\u001b[39m_unwrap_value(response\u001b[38;5;241m.\u001b[39mget(\u001b[38;5;124m\"\u001b[39m\u001b[38;5;124mvalue\u001b[39m\u001b[38;5;124m\"\u001b[39m, \u001b[38;5;28;01mNone\u001b[39;00m))\n\u001b[1;32m    346\u001b[0m     \u001b[38;5;28;01mreturn\u001b[39;00m response\n",
      "File \u001b[0;32m~/anaconda3/lib/python3.9/site-packages/selenium/webdriver/remote/errorhandler.py:229\u001b[0m, in \u001b[0;36mErrorHandler.check_response\u001b[0;34m(self, response)\u001b[0m\n\u001b[1;32m    227\u001b[0m         alert_text \u001b[38;5;241m=\u001b[39m value[\u001b[38;5;124m\"\u001b[39m\u001b[38;5;124malert\u001b[39m\u001b[38;5;124m\"\u001b[39m]\u001b[38;5;241m.\u001b[39mget(\u001b[38;5;124m\"\u001b[39m\u001b[38;5;124mtext\u001b[39m\u001b[38;5;124m\"\u001b[39m)\n\u001b[1;32m    228\u001b[0m     \u001b[38;5;28;01mraise\u001b[39;00m exception_class(message, screen, stacktrace, alert_text)  \u001b[38;5;66;03m# type: ignore[call-arg]  # mypy is not smart enough here\u001b[39;00m\n\u001b[0;32m--> 229\u001b[0m \u001b[38;5;28;01mraise\u001b[39;00m exception_class(message, screen, stacktrace)\n",
      "\u001b[0;31mNoSuchWindowException\u001b[0m: Message: no such window: target window already closed\nfrom unknown error: web view not found\n  (Session info: chrome=116.0.5845.179)\nStacktrace:\n#0 0x5563179c6e23 <unknown>\n#1 0x5563176ef7a7 <unknown>\n#2 0x5563176c7691 <unknown>\n#3 0x556317753e0f <unknown>\n#4 0x556317766eb6 <unknown>\n#5 0x55631774ede3 <unknown>\n#6 0x556317722a7b <unknown>\n#7 0x55631772381e <unknown>\n#8 0x556317988638 <unknown>\n#9 0x55631798c507 <unknown>\n#10 0x556317996c4c <unknown>\n#11 0x55631798d136 <unknown>\n#12 0x55631795b9cf <unknown>\n#13 0x5563179b0b98 <unknown>\n#14 0x5563179b0d68 <unknown>\n#15 0x5563179bfcb3 <unknown>\n#16 0x7f6a9ca94b43 <unknown>\n"
     ]
    }
   ],
   "source": [
    "from selenium import webdriver\n",
    "\n",
    "# Initialize the Chrome WebDriver for the first browser\n",
    "driver1 = webdriver.Chrome()\n",
    "\n",
    "# Initialize the Chrome WebDriver for the second browser\n",
    "driver2 = webdriver.Chrome()\n",
    "\n",
    "# Set implicit waits for both drivers\n",
    "driver1.implicitly_wait(10)\n",
    "driver2.implicitly_wait(10)\n",
    "\n",
    "# Maximize windows\n",
    "driver1.maximize_window()\n",
    "driver2.maximize_window()\n",
    "\n",
    "while True:\n",
    "    # Get the ticker symbol from the user\n",
    "    ticker = input('Enter the stock ticker symbol (or type \"exit\" to stop): ').strip().upper()\n",
    "\n",
    "    # Check if the user wants to exit the loop\n",
    "    if ticker.lower() == 'exit':\n",
    "        break\n",
    "\n",
    "    # Create the URLs\n",
    "    url1 = f\"https://stockanalysis.com/stocks/{ticker.lower()}/dividend/\"\n",
    "    url2 = f\"https://finviz.com/quote.ashx?t={ticker}&p=d\"\n",
    "    \n",
    "    print(f\"Loading {url1} in first browser...\")\n",
    "    print(f\"Loading {url2} in second browser...\")\n",
    "\n",
    "    # Load the URLs in the web browsers\n",
    "    driver1.get(url1)\n",
    "    driver2.get(url2)\n",
    "\n",
    "# Quit the web browsers\n",
    "#driver1.quit()\n",
    "#driver2.quit()\n"
   ]
  }
 ],
 "metadata": {
  "kernelspec": {
   "display_name": "Python 3 (ipykernel)",
   "language": "python",
   "name": "python3"
  },
  "language_info": {
   "codemirror_mode": {
    "name": "ipython",
    "version": 3
   },
   "file_extension": ".py",
   "mimetype": "text/x-python",
   "name": "python",
   "nbconvert_exporter": "python",
   "pygments_lexer": "ipython3",
   "version": "3.9.12"
  }
 },
 "nbformat": 4,
 "nbformat_minor": 5
}
