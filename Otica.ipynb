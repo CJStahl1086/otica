{
 "cells": [
  {
   "cell_type": "markdown",
   "id": "d7a267ab",
   "metadata": {},
   "source": [
    "# OTICA: Operation Tango Cash"
   ]
  },
  {
   "cell_type": "markdown",
   "id": "a7838462",
   "metadata": {},
   "source": [
    "Importing necessary libraries"
   ]
  },
  {
   "cell_type": "code",
   "execution_count": 1,
   "id": "91950ee8",
   "metadata": {},
   "outputs": [],
   "source": [
    "import numpy as np\n",
    "import pandas as pd\n",
    "import yfinance as yf\n",
    "import datetime as dt\n",
    "from openpyxl import Workbook\n",
    "import re\n",
    "import socket\n",
    "import psutil\n",
    "import plotly.express as px\n",
    "import plotly.graph_objects as go \n",
    "from dash import Dash, html, dcc, dash_table, Input, Output\n",
    "from datetime import datetime, timedelta\n",
    "from dateutil.relativedelta import relativedelta\n",
    "import dash.dependencies as dd\n",
    "from dash.dash_table.Format import Group\n",
    "from plotly.subplots import make_subplots"
   ]
  },
  {
   "cell_type": "code",
   "execution_count": 2,
   "id": "fec27c99-1709-40ee-9cdf-27b7744de6ef",
   "metadata": {},
   "outputs": [],
   "source": [
    "# Get the current date\n",
    "current_date = datetime.now()"
   ]
  },
  {
   "cell_type": "markdown",
   "id": "2835338e",
   "metadata": {},
   "source": [
    "## Getting Robinhood Portfolio"
   ]
  },
  {
   "cell_type": "markdown",
   "id": "fe5c5eea",
   "metadata": {},
   "source": [
    "Need to copy and paste the Robinhood \"Investing overview\" table in the Portfolio excel file in the Portfolio sheet.   The output should be a single column with the first row being \"Name.\""
   ]
  },
  {
   "cell_type": "code",
   "execution_count": 11,
   "id": "5106354f-3419-48dd-ae43-3dce8fd24c3a",
   "metadata": {},
   "outputs": [
    {
     "name": "stdout",
     "output_type": "stream",
     "text": [
      "Loaded sheet is 'Master'. Skipping further processing.\n"
     ]
    }
   ],
   "source": [
    "# Attempt to load the \"Portfolio\" sheet\n",
    "portfolio = pd.read_excel('Portfolio.xlsx', sheet_name='Portfolio')\n",
    "sheet_used = 'Portfolio'\n",
    "\n",
    "# If the DataFrame is empty, load from the \"Master\" sheet instead\n",
    "if portfolio.empty:\n",
    "    portfolio = pd.read_excel('Portfolio.xlsx', sheet_name='Master')\n",
    "    sheet_used = 'Master'\n",
    "\n",
    "# Check if the \"Master\" sheet was loaded and skip further processing if so\n",
    "if sheet_used == 'Master':\n",
    "    print(\"Loaded sheet is 'Master'. Skipping further processing.\")\n",
    "else:\n",
    "    # Add the column names as the first row\n",
    "    portfolio.loc[-1] = portfolio.columns  # Add column names as a new row\n",
    "    portfolio.index = portfolio.index + 1  # Shift the index so that the new row becomes the first row\n",
    "    portfolio = portfolio.sort_index()      # Sort index to move the new row to the top\n",
    "\n",
    "    # Step 1: Extract column names (assuming they are in the first 7 rows of the first column)\n",
    "    column_names = portfolio.iloc[:7, 0].tolist()\n",
    "\n",
    "    # Step 2: Extract the remaining rows (data starts after the first 7 rows)\n",
    "    data_rows = portfolio.iloc[7:, 0].tolist()\n",
    "\n",
    "    # Step 3: Reshape the data into rows of length equal to the number of columns (without padding)\n",
    "    num_columns = len(column_names)\n",
    "    reshaped_data = [data_rows[i:i + num_columns] for i in range(0, len(data_rows), num_columns)]\n",
    "\n",
    "    # Step 4: Create a new DataFrame with the reshaped data and set the column names\n",
    "    portfolio = pd.DataFrame(reshaped_data, columns=column_names)\n",
    "\n",
    "    # Update the 'Total return' column to add a '-' prefix when 'Average cost' is greater than 'Price'\n",
    "    portfolio[\"Total return\"] = portfolio.apply(\n",
    "        lambda row: f\"-{abs(row['Total return'])}\" if row[\"Average cost\"] > row[\"Price\"] else row[\"Total return\"], axis=1\n",
    "    )\n",
    "\n",
    "    # Create a new column 'Return %' to calculate the percentage return\n",
    "    portfolio[\"Return %\"] = ((portfolio[\"Price\"] - portfolio[\"Average cost\"]) / portfolio[\"Average cost\"]) * 100\n",
    "    portfolio[\"Return %\"] = round(portfolio[\"Return %\"], 1)\n",
    "\n",
    "    # Calculate equity distribution for each position\n",
    "    total_equity = portfolio['Equity'].sum()\n",
    "    portfolio['Portfolio %'] = (portfolio['Equity'] / total_equity) * 100\n",
    "    portfolio['Portfolio %'] = round(portfolio['Portfolio %'], 1)\n",
    "\n",
    "    # Rename the 'Total return' column to 'Return'\n",
    "    portfolio = portfolio.rename(columns={'Total return': 'Return'})\n",
    "\n",
    "    # Display the first 5 rows of the final portfolio DataFrame\n",
    "    print(portfolio.head())\n"
   ]
  },
  {
   "cell_type": "code",
   "execution_count": 17,
   "id": "a9737927-0cb7-4e66-8678-7312fbc12177",
   "metadata": {},
   "outputs": [],
   "source": [
    "# Create a list of columns to remove\n",
    "cols_to_drop = [col[:-2] + '_y' for col in portfolio.columns \n",
    "                if col.endswith('_x') and (col[:-2] + '_y' in portfolio.columns)]\n",
    "\n",
    "# Drop the identified _y columns from portfolo\n",
    "portfolio = portfolio.drop(columns=cols_to_drop)\n"
   ]
  },
  {
   "cell_type": "code",
   "execution_count": 19,
   "id": "8d275102-f9e8-4db7-ac95-5b99acbe777d",
   "metadata": {},
   "outputs": [
    {
     "data": {
      "text/plain": [
       "Index(['Name', 'Symbol', 'Shares', 'Price', 'Average cost', 'Return', 'Equity',\n",
       "       'Return %', 'Portfolio %', 'Total_Div',\n",
       "       ...\n",
       "       'technical_score_description', 'Fundamental_Signal', 'Technical_Signal',\n",
       "       'Composite_Action', 'industry', 'industryKey', 'industryDisp', 'sector',\n",
       "       'sectorKey', 'sectorDisp'],\n",
       "      dtype='object', length=265)"
      ]
     },
     "execution_count": 19,
     "metadata": {},
     "output_type": "execute_result"
    }
   ],
   "source": [
    "portfolio.columns"
   ]
  },
  {
   "cell_type": "markdown",
   "id": "7783f22f-cfe2-486c-adf6-2e3a7404ac8d",
   "metadata": {},
   "source": [
    "## Getting Robinhood Dividend"
   ]
  },
  {
   "cell_type": "markdown",
   "id": "51e9e3fd-ae16-48c3-8ec5-4ea4ad60d263",
   "metadata": {},
   "source": [
    "Need to copy and paste the Robinhood \"Dividend History\" table in the Portfolio excel file in the Dividend sheet.  The output should be a single column with the first row being \"Pending.\""
   ]
  },
  {
   "cell_type": "code",
   "execution_count": 23,
   "id": "4c3c02cb-54cb-4ec9-b248-d2dfdf82af30",
   "metadata": {},
   "outputs": [
    {
     "name": "stdout",
     "output_type": "stream",
     "text": [
      "The 'dividends' DataFrame is empty. Skipping processing.\n"
     ]
    }
   ],
   "source": [
    "dividends = pd.read_excel('Portfolio.xlsx', sheet_name='Dividends')\n",
    "\n",
    "# Check if dividends is empty before processing\n",
    "if not dividends.empty:\n",
    "    # Drop missing values\n",
    "    dividends = dividends.dropna()\n",
    "\n",
    "    # Remove rows containing 'Recent', 'Pending', or 'Older'\n",
    "    dividends = dividends[~dividends.astype(str).apply(lambda x: x.str.contains('Recent|Pending|Older', case=False)).any(axis=1)]\n",
    "    dividends = dividends.dropna().reset_index(drop=True)\n",
    "\n",
    "    # Reshape data into three columns: 'Name', 'Date', 'Dividend'\n",
    "    dividends = pd.DataFrame({\n",
    "        'Name': dividends.iloc[0::3, 0].reset_index(drop=True),  # Every 3rd row starting from index 0\n",
    "        'Date': dividends.iloc[1::3, 0].reset_index(drop=True),  # Every 3rd row starting from index 1\n",
    "        'Dividend': dividends.iloc[2::3, 0].reset_index(drop=True)  # Every 3rd row starting from index 2\n",
    "    })\n",
    "\n",
    "    # Convert 'Date' column to datetime\n",
    "    dividends['Date'] = pd.to_datetime(dividends['Date'], errors='coerce')\n",
    "\n",
    "    # Convert 'Dividend' column to numeric\n",
    "    dividends['Dividend'] = pd.to_numeric(dividends['Dividend'], errors='coerce')\n",
    "\n",
    "    # Remove \"Dividend from\" from 'Name' column\n",
    "    dividends['Name'] = dividends['Name'].str.replace('Dividend from', '', regex=False).str.strip()\n",
    "\n",
    "    # Show the first 5 rows\n",
    "    print(dividends.head(5))\n",
    "else:\n",
    "    print(\"The 'dividends' DataFrame is empty. Skipping processing.\")\n"
   ]
  },
  {
   "cell_type": "markdown",
   "id": "9919e059-d2e1-4ede-83f9-b132c977db39",
   "metadata": {},
   "source": [
    "#### Updating Dividend History"
   ]
  },
  {
   "cell_type": "markdown",
   "id": "c3a69589-2d53-4020-b13f-2a537150761f",
   "metadata": {
    "jp-MarkdownHeadingCollapsed": true
   },
   "source": [
    "Need to merge with dividends history to create an updated dataframe"
   ]
  },
  {
   "cell_type": "code",
   "execution_count": 27,
   "id": "3fb447c5-d3a9-4b81-a60d-476ce3f5afda",
   "metadata": {},
   "outputs": [
    {
     "data": {
      "text/plain": [
       "0"
      ]
     },
     "execution_count": 27,
     "metadata": {},
     "output_type": "execute_result"
    }
   ],
   "source": [
    "dividend_history = pd.read_excel('Portfolio.xlsx', sheet_name='Dividend History' )\n",
    "dividends = pd.concat([dividends, dividend_history])\n",
    "dividends = dividends.drop_duplicates()\n",
    "\n",
    "#adding tickers to new dividends\n",
    "dividends['Symbol'] = dividends.groupby('Name')['Symbol'] \\\n",
    "    .transform(lambda x: x.ffill().bfill())\n",
    "\n",
    "#checking master_df to match company names to ticker for first-time dividends\n",
    "def update_symbol(row):\n",
    "    # Only attempt update if the Symbol is missing\n",
    "    if pd.isna(row['Symbol']):\n",
    "        dividend_name = row['Name']\n",
    "        # Find rows in portfolio where the Name contains the dividend's name.\n",
    "        # Using case=False for case-insensitive matching.\n",
    "        matches = portfolio[portfolio['Name'].str.contains(dividend_name, case=False, na=False)]\n",
    "        if not matches.empty:\n",
    "            # If there's at least one match, return the Symbol from the first matching row.\n",
    "            return matches.iloc[0]['Symbol']\n",
    "    # If Symbol is already set or no match is found, return the original value.\n",
    "    return row['Symbol']\n",
    "\n",
    "# Apply the function to update the Symbol column where it is missing.\n",
    "dividends['Symbol'] = dividends.apply(update_symbol, axis=1)\n",
    "\n",
    "# Removing duplicates\n",
    "dividends = dividends.drop_duplicates()\n",
    "dividends['Symbol'].isna().sum()"
   ]
  },
  {
   "cell_type": "markdown",
   "id": "f786277d-fb4c-4640-a03d-bd7e4e6f86d8",
   "metadata": {},
   "source": [
    "#### Calculating Summary Statistics of Dividends "
   ]
  },
  {
   "cell_type": "markdown",
   "id": "1287016a-35a2-4d47-aebf-be7c3713d132",
   "metadata": {},
   "source": [
    "These dividend statistics are being calculated prior to merging using the entire dividend history"
   ]
  },
  {
   "cell_type": "code",
   "execution_count": 31,
   "id": "2b01e05a-1ddc-4899-b846-7eb76e37a3e5",
   "metadata": {},
   "outputs": [
    {
     "name": "stderr",
     "output_type": "stream",
     "text": [
      "C:\\Users\\CJSta\\AppData\\Local\\Temp\\ipykernel_15012\\289637930.py:44: DeprecationWarning: DataFrameGroupBy.apply operated on the grouping columns. This behavior is deprecated, and in a future version of pandas the grouping columns will be excluded from the operation. Either pass `include_groups=False` to exclude the groupings or explicitly select the grouping columns after groupby to silence this warning.\n",
      "  freq = dividends.groupby('Name').apply(classify_frequency_apply).reset_index(name='Div_Freq')\n"
     ]
    },
    {
     "data": {
      "text/html": [
       "<div>\n",
       "<style scoped>\n",
       "    .dataframe tbody tr th:only-of-type {\n",
       "        vertical-align: middle;\n",
       "    }\n",
       "\n",
       "    .dataframe tbody tr th {\n",
       "        vertical-align: top;\n",
       "    }\n",
       "\n",
       "    .dataframe thead th {\n",
       "        text-align: right;\n",
       "    }\n",
       "</style>\n",
       "<table border=\"1\" class=\"dataframe\">\n",
       "  <thead>\n",
       "    <tr style=\"text-align: right;\">\n",
       "      <th></th>\n",
       "      <th>Name</th>\n",
       "      <th>Total_Div</th>\n",
       "      <th>12_Month_Div</th>\n",
       "      <th>Last_div</th>\n",
       "      <th>Div_Freq</th>\n",
       "    </tr>\n",
       "  </thead>\n",
       "  <tbody>\n",
       "    <tr>\n",
       "      <th>0</th>\n",
       "      <td>AT&amp;T</td>\n",
       "      <td>11.97</td>\n",
       "      <td>8.35</td>\n",
       "      <td>1.67</td>\n",
       "      <td>Q</td>\n",
       "    </tr>\n",
       "    <tr>\n",
       "      <th>1</th>\n",
       "      <td>Algonquin Power &amp; Utilities</td>\n",
       "      <td>0.17</td>\n",
       "      <td>0.17</td>\n",
       "      <td>0.17</td>\n",
       "      <td>Q</td>\n",
       "    </tr>\n",
       "    <tr>\n",
       "      <th>2</th>\n",
       "      <td>Alliance Resource</td>\n",
       "      <td>24.50</td>\n",
       "      <td>16.10</td>\n",
       "      <td>5.60</td>\n",
       "      <td>Q</td>\n",
       "    </tr>\n",
       "    <tr>\n",
       "      <th>3</th>\n",
       "      <td>Altria</td>\n",
       "      <td>3.06</td>\n",
       "      <td>3.06</td>\n",
       "      <td>3.06</td>\n",
       "      <td>Q</td>\n",
       "    </tr>\n",
       "    <tr>\n",
       "      <th>4</th>\n",
       "      <td>Apple Hospitality REIT</td>\n",
       "      <td>6.96</td>\n",
       "      <td>4.04</td>\n",
       "      <td>0.32</td>\n",
       "      <td>M</td>\n",
       "    </tr>\n",
       "    <tr>\n",
       "      <th>5</th>\n",
       "      <td>Dynex Capital</td>\n",
       "      <td>9.66</td>\n",
       "      <td>9.66</td>\n",
       "      <td>3.06</td>\n",
       "      <td>M</td>\n",
       "    </tr>\n",
       "    <tr>\n",
       "      <th>6</th>\n",
       "      <td>Energy Transfer</td>\n",
       "      <td>3.90</td>\n",
       "      <td>3.90</td>\n",
       "      <td>3.90</td>\n",
       "      <td>Q</td>\n",
       "    </tr>\n",
       "    <tr>\n",
       "      <th>7</th>\n",
       "      <td>Gladstone Capital</td>\n",
       "      <td>25.45</td>\n",
       "      <td>14.40</td>\n",
       "      <td>1.16</td>\n",
       "      <td>M</td>\n",
       "    </tr>\n",
       "    <tr>\n",
       "      <th>8</th>\n",
       "      <td>Hafnia LTD</td>\n",
       "      <td>0.76</td>\n",
       "      <td>0.76</td>\n",
       "      <td>0.76</td>\n",
       "      <td>Q</td>\n",
       "    </tr>\n",
       "    <tr>\n",
       "      <th>9</th>\n",
       "      <td>Innovative Industrial Properties</td>\n",
       "      <td>16.84</td>\n",
       "      <td>11.40</td>\n",
       "      <td>5.70</td>\n",
       "      <td>Q</td>\n",
       "    </tr>\n",
       "    <tr>\n",
       "      <th>10</th>\n",
       "      <td>Intel</td>\n",
       "      <td>0.65</td>\n",
       "      <td>0.26</td>\n",
       "      <td>0.13</td>\n",
       "      <td>Q</td>\n",
       "    </tr>\n",
       "    <tr>\n",
       "      <th>11</th>\n",
       "      <td>JPMorgan Equity Premium Income</td>\n",
       "      <td>14.12</td>\n",
       "      <td>14.12</td>\n",
       "      <td>4.49</td>\n",
       "      <td>M</td>\n",
       "    </tr>\n",
       "    <tr>\n",
       "      <th>12</th>\n",
       "      <td>Main Street Capital</td>\n",
       "      <td>0.25</td>\n",
       "      <td>0.25</td>\n",
       "      <td>0.25</td>\n",
       "      <td>Q</td>\n",
       "    </tr>\n",
       "    <tr>\n",
       "      <th>13</th>\n",
       "      <td>Realty Income</td>\n",
       "      <td>27.48</td>\n",
       "      <td>24.15</td>\n",
       "      <td>4.83</td>\n",
       "      <td>M</td>\n",
       "    </tr>\n",
       "    <tr>\n",
       "      <th>14</th>\n",
       "      <td>STAG Industrial</td>\n",
       "      <td>20.28</td>\n",
       "      <td>14.87</td>\n",
       "      <td>2.61</td>\n",
       "      <td>M</td>\n",
       "    </tr>\n",
       "    <tr>\n",
       "      <th>15</th>\n",
       "      <td>Saratoga Investment</td>\n",
       "      <td>59.83</td>\n",
       "      <td>43.23</td>\n",
       "      <td>4.25</td>\n",
       "      <td>Q</td>\n",
       "    </tr>\n",
       "    <tr>\n",
       "      <th>16</th>\n",
       "      <td>Taitron Components</td>\n",
       "      <td>0.60</td>\n",
       "      <td>NaN</td>\n",
       "      <td>0.30</td>\n",
       "      <td>Q</td>\n",
       "    </tr>\n",
       "    <tr>\n",
       "      <th>17</th>\n",
       "      <td>iShares 0-3 Month Treasury Bond</td>\n",
       "      <td>14.38</td>\n",
       "      <td>9.10</td>\n",
       "      <td>1.86</td>\n",
       "      <td>M</td>\n",
       "    </tr>\n",
       "  </tbody>\n",
       "</table>\n",
       "</div>"
      ],
      "text/plain": [
       "                                Name  Total_Div  12_Month_Div  Last_div  \\\n",
       "0                               AT&T      11.97          8.35      1.67   \n",
       "1        Algonquin Power & Utilities       0.17          0.17      0.17   \n",
       "2                  Alliance Resource      24.50         16.10      5.60   \n",
       "3                             Altria       3.06          3.06      3.06   \n",
       "4             Apple Hospitality REIT       6.96          4.04      0.32   \n",
       "5                      Dynex Capital       9.66          9.66      3.06   \n",
       "6                    Energy Transfer       3.90          3.90      3.90   \n",
       "7                  Gladstone Capital      25.45         14.40      1.16   \n",
       "8                         Hafnia LTD       0.76          0.76      0.76   \n",
       "9   Innovative Industrial Properties      16.84         11.40      5.70   \n",
       "10                             Intel       0.65          0.26      0.13   \n",
       "11    JPMorgan Equity Premium Income      14.12         14.12      4.49   \n",
       "12               Main Street Capital       0.25          0.25      0.25   \n",
       "13                     Realty Income      27.48         24.15      4.83   \n",
       "14                   STAG Industrial      20.28         14.87      2.61   \n",
       "15               Saratoga Investment      59.83         43.23      4.25   \n",
       "16                Taitron Components       0.60           NaN      0.30   \n",
       "17   iShares 0-3 Month Treasury Bond      14.38          9.10      1.86   \n",
       "\n",
       "   Div_Freq  \n",
       "0         Q  \n",
       "1         Q  \n",
       "2         Q  \n",
       "3         Q  \n",
       "4         M  \n",
       "5         M  \n",
       "6         Q  \n",
       "7         M  \n",
       "8         Q  \n",
       "9         Q  \n",
       "10        Q  \n",
       "11        M  \n",
       "12        Q  \n",
       "13        M  \n",
       "14        M  \n",
       "15        Q  \n",
       "16        Q  \n",
       "17        M  "
      ]
     },
     "execution_count": 31,
     "metadata": {},
     "output_type": "execute_result"
    }
   ],
   "source": [
    "# STATISTIC = Last 12 Months\n",
    "latest_date = dividends['Date'].max()\n",
    "cutoff_date = latest_date - pd.DateOffset(months=12)\n",
    "# Filter the data for the last 12 months\n",
    "last_12_months = dividends[dividends['Date'] >= cutoff_date]\n",
    "# Group by Name and sum the Dividend column\n",
    "dividend_sums = last_12_months.groupby('Name')['Dividend'].sum().reset_index(name= '12_Month_Div')\n",
    "\n",
    "\n",
    "\n",
    "# STATISTIC = Total Dividend \n",
    "total_div_df = dividends.groupby('Name')['Dividend'].sum().reset_index(name='Total_Div')\n",
    "\n",
    "\n",
    "\n",
    "# STATISTIC = Last Dividend Amount\n",
    "most_recent_dividends = dividends.sort_values(by='Date', ascending=False).drop_duplicates(subset='Name', keep='first')\n",
    "most_recent_dividends = most_recent_dividends[['Name', 'Dividend']].reset_index(drop=True)\n",
    "most_recent_dividends = most_recent_dividends.rename(columns={'Dividend' : 'Last_div'})\n",
    "\n",
    "\n",
    "\n",
    "\n",
    "# STATISTIC Frequency \n",
    "def classify_frequency_apply(group):\n",
    "    group = group.sort_values('Date')  # Sort by date\n",
    "    consecutive_months = 0\n",
    "    prev_month = None\n",
    "    for date in group['Date']:\n",
    "        current_month = date.month\n",
    "        if prev_month is not None and current_month == (prev_month % 12) + 1:\n",
    "            consecutive_months += 1\n",
    "        else:\n",
    "            consecutive_months = 1\n",
    "        prev_month = current_month\n",
    "        if consecutive_months >= 3:\n",
    "            return \"M\"  # Assign \"M\" (Monthly) for the entire group\n",
    "    return \"Q\"  # Assign \"Q\" (Quarterly) for the entire group\n",
    "\n",
    "# Ensure column names are stripped of whitespace\n",
    "dividends.columns = dividends.columns.str.strip()\n",
    "\n",
    "# Group by Name and apply the function\n",
    "freq = dividends.groupby('Name').apply(classify_frequency_apply).reset_index(name='Div_Freq')\n",
    "\n",
    "\n",
    "\n",
    "\n",
    "# MERGING STATISTIC DFs\n",
    "merged_dividends = total_div_df.merge(dividend_sums, how='left', on='Name')\n",
    "merged_dividends = merged_dividends.merge(most_recent_dividends, how='left' , on='Name')\n",
    "final_div = merged_dividends.merge(freq, how='left', on='Name')\n",
    "final_div"
   ]
  },
  {
   "cell_type": "code",
   "execution_count": 36,
   "id": "b3e2eac3-761d-476d-a3d8-ee6e976afc7f",
   "metadata": {},
   "outputs": [
    {
     "data": {
      "text/html": [
       "<div>\n",
       "<style scoped>\n",
       "    .dataframe tbody tr th:only-of-type {\n",
       "        vertical-align: middle;\n",
       "    }\n",
       "\n",
       "    .dataframe tbody tr th {\n",
       "        vertical-align: top;\n",
       "    }\n",
       "\n",
       "    .dataframe thead th {\n",
       "        text-align: right;\n",
       "    }\n",
       "</style>\n",
       "<table border=\"1\" class=\"dataframe\">\n",
       "  <thead>\n",
       "    <tr style=\"text-align: right;\">\n",
       "      <th></th>\n",
       "      <th>Name</th>\n",
       "      <th>Symbol</th>\n",
       "      <th>Shares</th>\n",
       "      <th>Price</th>\n",
       "      <th>Average cost</th>\n",
       "      <th>Return</th>\n",
       "      <th>Equity</th>\n",
       "      <th>Return %</th>\n",
       "      <th>Portfolio %</th>\n",
       "      <th>Total_Div</th>\n",
       "      <th>...</th>\n",
       "      <th>technical_score_description</th>\n",
       "      <th>Fundamental_Signal</th>\n",
       "      <th>Technical_Signal</th>\n",
       "      <th>Composite_Action</th>\n",
       "      <th>industry</th>\n",
       "      <th>industryKey</th>\n",
       "      <th>industryDisp</th>\n",
       "      <th>sector</th>\n",
       "      <th>sectorKey</th>\n",
       "      <th>sectorDisp</th>\n",
       "    </tr>\n",
       "  </thead>\n",
       "  <tbody>\n",
       "    <tr>\n",
       "      <th>0</th>\n",
       "      <td>AT&amp;T</td>\n",
       "      <td>T</td>\n",
       "      <td>6</td>\n",
       "      <td>26.78</td>\n",
       "      <td>15.17</td>\n",
       "      <td>69.66</td>\n",
       "      <td>160.68</td>\n",
       "      <td>76.5</td>\n",
       "      <td>3.3</td>\n",
       "      <td>11.97</td>\n",
       "      <td>...</td>\n",
       "      <td>This score is derived from technical indicator...</td>\n",
       "      <td>Sell</td>\n",
       "      <td>Hold</td>\n",
       "      <td>Sell</td>\n",
       "      <td>NaN</td>\n",
       "      <td>NaN</td>\n",
       "      <td>NaN</td>\n",
       "      <td>NaN</td>\n",
       "      <td>NaN</td>\n",
       "      <td>NaN</td>\n",
       "    </tr>\n",
       "    <tr>\n",
       "      <th>1</th>\n",
       "      <td>Alliance Resource</td>\n",
       "      <td>ARLP</td>\n",
       "      <td>8</td>\n",
       "      <td>26.55</td>\n",
       "      <td>22.63</td>\n",
       "      <td>31.38</td>\n",
       "      <td>212.40</td>\n",
       "      <td>17.3</td>\n",
       "      <td>4.4</td>\n",
       "      <td>24.50</td>\n",
       "      <td>...</td>\n",
       "      <td>This score is derived from technical indicator...</td>\n",
       "      <td>Sell</td>\n",
       "      <td>Hold</td>\n",
       "      <td>Sell</td>\n",
       "      <td>NaN</td>\n",
       "      <td>NaN</td>\n",
       "      <td>NaN</td>\n",
       "      <td>NaN</td>\n",
       "      <td>NaN</td>\n",
       "      <td>NaN</td>\n",
       "    </tr>\n",
       "    <tr>\n",
       "      <th>2</th>\n",
       "      <td>Gladstone Capital</td>\n",
       "      <td>GLAD</td>\n",
       "      <td>7</td>\n",
       "      <td>24.15</td>\n",
       "      <td>20.05</td>\n",
       "      <td>28.71</td>\n",
       "      <td>169.05</td>\n",
       "      <td>20.4</td>\n",
       "      <td>3.5</td>\n",
       "      <td>25.45</td>\n",
       "      <td>...</td>\n",
       "      <td>This score is derived from technical indicator...</td>\n",
       "      <td>Sell</td>\n",
       "      <td>Hold</td>\n",
       "      <td>Sell</td>\n",
       "      <td>NaN</td>\n",
       "      <td>NaN</td>\n",
       "      <td>NaN</td>\n",
       "      <td>NaN</td>\n",
       "      <td>NaN</td>\n",
       "      <td>NaN</td>\n",
       "    </tr>\n",
       "    <tr>\n",
       "      <th>3</th>\n",
       "      <td>Broadcom</td>\n",
       "      <td>AVGO</td>\n",
       "      <td>1</td>\n",
       "      <td>181.60</td>\n",
       "      <td>164.30</td>\n",
       "      <td>17.30</td>\n",
       "      <td>181.60</td>\n",
       "      <td>10.5</td>\n",
       "      <td>3.7</td>\n",
       "      <td>0.00</td>\n",
       "      <td>...</td>\n",
       "      <td>This score is derived from technical indicator...</td>\n",
       "      <td>Sell</td>\n",
       "      <td>Hold</td>\n",
       "      <td>Sell</td>\n",
       "      <td>NaN</td>\n",
       "      <td>NaN</td>\n",
       "      <td>NaN</td>\n",
       "      <td>NaN</td>\n",
       "      <td>NaN</td>\n",
       "      <td>NaN</td>\n",
       "    </tr>\n",
       "    <tr>\n",
       "      <th>4</th>\n",
       "      <td>Altria</td>\n",
       "      <td>MO</td>\n",
       "      <td>3</td>\n",
       "      <td>56.84</td>\n",
       "      <td>51.45</td>\n",
       "      <td>16.18</td>\n",
       "      <td>170.52</td>\n",
       "      <td>10.5</td>\n",
       "      <td>3.5</td>\n",
       "      <td>6.12</td>\n",
       "      <td>...</td>\n",
       "      <td>This score is derived from technical indicator...</td>\n",
       "      <td>Sell</td>\n",
       "      <td>Hold</td>\n",
       "      <td>Sell</td>\n",
       "      <td>NaN</td>\n",
       "      <td>NaN</td>\n",
       "      <td>NaN</td>\n",
       "      <td>NaN</td>\n",
       "      <td>NaN</td>\n",
       "      <td>NaN</td>\n",
       "    </tr>\n",
       "    <tr>\n",
       "      <th>5</th>\n",
       "      <td>Realty Income</td>\n",
       "      <td>O</td>\n",
       "      <td>18</td>\n",
       "      <td>55.20</td>\n",
       "      <td>54.87</td>\n",
       "      <td>6.03</td>\n",
       "      <td>993.60</td>\n",
       "      <td>0.6</td>\n",
       "      <td>20.5</td>\n",
       "      <td>27.48</td>\n",
       "      <td>...</td>\n",
       "      <td>This score is derived from technical indicator...</td>\n",
       "      <td>Sell</td>\n",
       "      <td>Hold</td>\n",
       "      <td>Sell</td>\n",
       "      <td>NaN</td>\n",
       "      <td>NaN</td>\n",
       "      <td>NaN</td>\n",
       "      <td>NaN</td>\n",
       "      <td>NaN</td>\n",
       "      <td>NaN</td>\n",
       "    </tr>\n",
       "    <tr>\n",
       "      <th>6</th>\n",
       "      <td>Algonquin Power &amp; Utilities</td>\n",
       "      <td>AQN</td>\n",
       "      <td>3</td>\n",
       "      <td>5.04</td>\n",
       "      <td>4.79</td>\n",
       "      <td>0.75</td>\n",
       "      <td>15.12</td>\n",
       "      <td>5.2</td>\n",
       "      <td>0.3</td>\n",
       "      <td>0.17</td>\n",
       "      <td>...</td>\n",
       "      <td>This score is derived from technical indicator...</td>\n",
       "      <td>Sell</td>\n",
       "      <td>Hold</td>\n",
       "      <td>Sell</td>\n",
       "      <td>NaN</td>\n",
       "      <td>NaN</td>\n",
       "      <td>NaN</td>\n",
       "      <td>NaN</td>\n",
       "      <td>NaN</td>\n",
       "      <td>NaN</td>\n",
       "    </tr>\n",
       "    <tr>\n",
       "      <th>7</th>\n",
       "      <td>Aramark</td>\n",
       "      <td>ARMK</td>\n",
       "      <td>1</td>\n",
       "      <td>33.13</td>\n",
       "      <td>33.85</td>\n",
       "      <td>-0.72</td>\n",
       "      <td>33.13</td>\n",
       "      <td>-2.1</td>\n",
       "      <td>0.7</td>\n",
       "      <td>0.00</td>\n",
       "      <td>...</td>\n",
       "      <td>This score is derived from technical indicator...</td>\n",
       "      <td>Sell</td>\n",
       "      <td>Hold</td>\n",
       "      <td>Sell</td>\n",
       "      <td>NaN</td>\n",
       "      <td>NaN</td>\n",
       "      <td>NaN</td>\n",
       "      <td>NaN</td>\n",
       "      <td>NaN</td>\n",
       "      <td>NaN</td>\n",
       "    </tr>\n",
       "    <tr>\n",
       "      <th>8</th>\n",
       "      <td>PennantPark Floating Rate</td>\n",
       "      <td>PFLT</td>\n",
       "      <td>11</td>\n",
       "      <td>9.60</td>\n",
       "      <td>9.79</td>\n",
       "      <td>-2.10</td>\n",
       "      <td>105.60</td>\n",
       "      <td>-1.9</td>\n",
       "      <td>2.2</td>\n",
       "      <td>0.00</td>\n",
       "      <td>...</td>\n",
       "      <td>This score is derived from technical indicator...</td>\n",
       "      <td>Sell</td>\n",
       "      <td>Hold</td>\n",
       "      <td>Sell</td>\n",
       "      <td>NaN</td>\n",
       "      <td>NaN</td>\n",
       "      <td>NaN</td>\n",
       "      <td>NaN</td>\n",
       "      <td>NaN</td>\n",
       "      <td>NaN</td>\n",
       "    </tr>\n",
       "    <tr>\n",
       "      <th>9</th>\n",
       "      <td>Novo Nordisk</td>\n",
       "      <td>NVO</td>\n",
       "      <td>1</td>\n",
       "      <td>65.00</td>\n",
       "      <td>67.64</td>\n",
       "      <td>-2.64</td>\n",
       "      <td>65.00</td>\n",
       "      <td>-3.9</td>\n",
       "      <td>1.3</td>\n",
       "      <td>0.00</td>\n",
       "      <td>...</td>\n",
       "      <td>This score is derived from technical indicator...</td>\n",
       "      <td>Sell</td>\n",
       "      <td>Hold</td>\n",
       "      <td>Sell</td>\n",
       "      <td>NaN</td>\n",
       "      <td>NaN</td>\n",
       "      <td>NaN</td>\n",
       "      <td>NaN</td>\n",
       "      <td>NaN</td>\n",
       "      <td>NaN</td>\n",
       "    </tr>\n",
       "    <tr>\n",
       "      <th>10</th>\n",
       "      <td>Main Street Capital</td>\n",
       "      <td>MAIN</td>\n",
       "      <td>1</td>\n",
       "      <td>51.70</td>\n",
       "      <td>56.00</td>\n",
       "      <td>-4.30</td>\n",
       "      <td>51.70</td>\n",
       "      <td>-7.7</td>\n",
       "      <td>1.1</td>\n",
       "      <td>0.25</td>\n",
       "      <td>...</td>\n",
       "      <td>This score is derived from technical indicator...</td>\n",
       "      <td>Sell</td>\n",
       "      <td>Hold</td>\n",
       "      <td>Sell</td>\n",
       "      <td>NaN</td>\n",
       "      <td>NaN</td>\n",
       "      <td>NaN</td>\n",
       "      <td>NaN</td>\n",
       "      <td>NaN</td>\n",
       "      <td>NaN</td>\n",
       "    </tr>\n",
       "    <tr>\n",
       "      <th>11</th>\n",
       "      <td>Intel</td>\n",
       "      <td>INTC</td>\n",
       "      <td>1</td>\n",
       "      <td>19.64</td>\n",
       "      <td>31.30</td>\n",
       "      <td>-11.66</td>\n",
       "      <td>19.64</td>\n",
       "      <td>-37.3</td>\n",
       "      <td>0.4</td>\n",
       "      <td>0.65</td>\n",
       "      <td>...</td>\n",
       "      <td>This score is derived from technical indicator...</td>\n",
       "      <td>Sell</td>\n",
       "      <td>Hold</td>\n",
       "      <td>Sell</td>\n",
       "      <td>NaN</td>\n",
       "      <td>NaN</td>\n",
       "      <td>NaN</td>\n",
       "      <td>NaN</td>\n",
       "      <td>NaN</td>\n",
       "      <td>NaN</td>\n",
       "    </tr>\n",
       "    <tr>\n",
       "      <th>12</th>\n",
       "      <td>Hafnia LTD</td>\n",
       "      <td>HAFN</td>\n",
       "      <td>10</td>\n",
       "      <td>4.21</td>\n",
       "      <td>5.66</td>\n",
       "      <td>-14.59</td>\n",
       "      <td>42.05</td>\n",
       "      <td>-25.6</td>\n",
       "      <td>0.9</td>\n",
       "      <td>0.76</td>\n",
       "      <td>...</td>\n",
       "      <td>This score is derived from technical indicator...</td>\n",
       "      <td>Sell</td>\n",
       "      <td>Hold</td>\n",
       "      <td>Sell</td>\n",
       "      <td>NaN</td>\n",
       "      <td>NaN</td>\n",
       "      <td>NaN</td>\n",
       "      <td>NaN</td>\n",
       "      <td>NaN</td>\n",
       "      <td>NaN</td>\n",
       "    </tr>\n",
       "    <tr>\n",
       "      <th>13</th>\n",
       "      <td>Dynex Capital</td>\n",
       "      <td>DX</td>\n",
       "      <td>22</td>\n",
       "      <td>11.43</td>\n",
       "      <td>12.22</td>\n",
       "      <td>-17.42</td>\n",
       "      <td>251.46</td>\n",
       "      <td>-6.5</td>\n",
       "      <td>5.2</td>\n",
       "      <td>9.66</td>\n",
       "      <td>...</td>\n",
       "      <td>This score is derived from technical indicator...</td>\n",
       "      <td>Sell</td>\n",
       "      <td>Hold</td>\n",
       "      <td>Sell</td>\n",
       "      <td>NaN</td>\n",
       "      <td>NaN</td>\n",
       "      <td>NaN</td>\n",
       "      <td>NaN</td>\n",
       "      <td>NaN</td>\n",
       "      <td>NaN</td>\n",
       "    </tr>\n",
       "    <tr>\n",
       "      <th>14</th>\n",
       "      <td>Apple Hospitality REIT</td>\n",
       "      <td>APLE</td>\n",
       "      <td>16</td>\n",
       "      <td>11.47</td>\n",
       "      <td>13.02</td>\n",
       "      <td>-24.83</td>\n",
       "      <td>183.52</td>\n",
       "      <td>-11.9</td>\n",
       "      <td>3.8</td>\n",
       "      <td>6.96</td>\n",
       "      <td>...</td>\n",
       "      <td>This score is derived from technical indicator...</td>\n",
       "      <td>Sell</td>\n",
       "      <td>Hold</td>\n",
       "      <td>Sell</td>\n",
       "      <td>NaN</td>\n",
       "      <td>NaN</td>\n",
       "      <td>NaN</td>\n",
       "      <td>NaN</td>\n",
       "      <td>NaN</td>\n",
       "      <td>NaN</td>\n",
       "    </tr>\n",
       "    <tr>\n",
       "      <th>15</th>\n",
       "      <td>Energy Transfer</td>\n",
       "      <td>ET</td>\n",
       "      <td>12</td>\n",
       "      <td>16.23</td>\n",
       "      <td>18.70</td>\n",
       "      <td>-29.65</td>\n",
       "      <td>194.76</td>\n",
       "      <td>-13.2</td>\n",
       "      <td>4.0</td>\n",
       "      <td>3.90</td>\n",
       "      <td>...</td>\n",
       "      <td>This score is derived from technical indicator...</td>\n",
       "      <td>Sell</td>\n",
       "      <td>Hold</td>\n",
       "      <td>Sell</td>\n",
       "      <td>NaN</td>\n",
       "      <td>NaN</td>\n",
       "      <td>NaN</td>\n",
       "      <td>NaN</td>\n",
       "      <td>NaN</td>\n",
       "      <td>NaN</td>\n",
       "    </tr>\n",
       "    <tr>\n",
       "      <th>16</th>\n",
       "      <td>JPMorgan Equity Premium Income</td>\n",
       "      <td>JEPI</td>\n",
       "      <td>13</td>\n",
       "      <td>54.15</td>\n",
       "      <td>57.15</td>\n",
       "      <td>-39.05</td>\n",
       "      <td>703.95</td>\n",
       "      <td>-5.2</td>\n",
       "      <td>14.5</td>\n",
       "      <td>14.12</td>\n",
       "      <td>...</td>\n",
       "      <td>This score is derived from technical indicator...</td>\n",
       "      <td>Sell</td>\n",
       "      <td>Hold</td>\n",
       "      <td>Sell</td>\n",
       "      <td>Asset Management</td>\n",
       "      <td>asset_management</td>\n",
       "      <td>Asset Management</td>\n",
       "      <td>Financial Services</td>\n",
       "      <td>financial_services</td>\n",
       "      <td>Financial Services</td>\n",
       "    </tr>\n",
       "    <tr>\n",
       "      <th>17</th>\n",
       "      <td>Saratoga Investment</td>\n",
       "      <td>SAR</td>\n",
       "      <td>17</td>\n",
       "      <td>22.47</td>\n",
       "      <td>25.22</td>\n",
       "      <td>-46.73</td>\n",
       "      <td>381.99</td>\n",
       "      <td>-10.9</td>\n",
       "      <td>7.9</td>\n",
       "      <td>59.83</td>\n",
       "      <td>...</td>\n",
       "      <td>This score is derived from technical indicator...</td>\n",
       "      <td>Sell</td>\n",
       "      <td>Hold</td>\n",
       "      <td>Sell</td>\n",
       "      <td>NaN</td>\n",
       "      <td>NaN</td>\n",
       "      <td>NaN</td>\n",
       "      <td>NaN</td>\n",
       "      <td>NaN</td>\n",
       "      <td>NaN</td>\n",
       "    </tr>\n",
       "    <tr>\n",
       "      <th>18</th>\n",
       "      <td>Innovative Industrial Properties</td>\n",
       "      <td>IIPR</td>\n",
       "      <td>5</td>\n",
       "      <td>49.60</td>\n",
       "      <td>66.15</td>\n",
       "      <td>-82.76</td>\n",
       "      <td>248.00</td>\n",
       "      <td>-25.0</td>\n",
       "      <td>5.1</td>\n",
       "      <td>22.54</td>\n",
       "      <td>...</td>\n",
       "      <td>This score is derived from technical indicator...</td>\n",
       "      <td>Sell</td>\n",
       "      <td>Hold</td>\n",
       "      <td>Sell</td>\n",
       "      <td>NaN</td>\n",
       "      <td>NaN</td>\n",
       "      <td>NaN</td>\n",
       "      <td>NaN</td>\n",
       "      <td>NaN</td>\n",
       "      <td>NaN</td>\n",
       "    </tr>\n",
       "    <tr>\n",
       "      <th>19</th>\n",
       "      <td>STAG Industrial</td>\n",
       "      <td>STAG</td>\n",
       "      <td>21</td>\n",
       "      <td>31.44</td>\n",
       "      <td>36.35</td>\n",
       "      <td>-103.19</td>\n",
       "      <td>660.24</td>\n",
       "      <td>-13.5</td>\n",
       "      <td>13.6</td>\n",
       "      <td>20.28</td>\n",
       "      <td>...</td>\n",
       "      <td>This score is derived from technical indicator...</td>\n",
       "      <td>Sell</td>\n",
       "      <td>Hold</td>\n",
       "      <td>Sell</td>\n",
       "      <td>NaN</td>\n",
       "      <td>NaN</td>\n",
       "      <td>NaN</td>\n",
       "      <td>NaN</td>\n",
       "      <td>NaN</td>\n",
       "      <td>NaN</td>\n",
       "    </tr>\n",
       "  </tbody>\n",
       "</table>\n",
       "<p>20 rows × 265 columns</p>\n",
       "</div>"
      ],
      "text/plain": [
       "                                Name Symbol  Shares   Price  Average cost  \\\n",
       "0                               AT&T      T       6   26.78         15.17   \n",
       "1                  Alliance Resource   ARLP       8   26.55         22.63   \n",
       "2                  Gladstone Capital   GLAD       7   24.15         20.05   \n",
       "3                           Broadcom   AVGO       1  181.60        164.30   \n",
       "4                             Altria     MO       3   56.84         51.45   \n",
       "5                      Realty Income      O      18   55.20         54.87   \n",
       "6        Algonquin Power & Utilities    AQN       3    5.04          4.79   \n",
       "7                            Aramark   ARMK       1   33.13         33.85   \n",
       "8          PennantPark Floating Rate   PFLT      11    9.60          9.79   \n",
       "9                       Novo Nordisk    NVO       1   65.00         67.64   \n",
       "10               Main Street Capital   MAIN       1   51.70         56.00   \n",
       "11                             Intel   INTC       1   19.64         31.30   \n",
       "12                        Hafnia LTD   HAFN      10    4.21          5.66   \n",
       "13                     Dynex Capital     DX      22   11.43         12.22   \n",
       "14            Apple Hospitality REIT   APLE      16   11.47         13.02   \n",
       "15                   Energy Transfer     ET      12   16.23         18.70   \n",
       "16    JPMorgan Equity Premium Income   JEPI      13   54.15         57.15   \n",
       "17               Saratoga Investment    SAR      17   22.47         25.22   \n",
       "18  Innovative Industrial Properties   IIPR       5   49.60         66.15   \n",
       "19                   STAG Industrial   STAG      21   31.44         36.35   \n",
       "\n",
       "    Return  Equity  Return %  Portfolio %  Total_Div  ...  \\\n",
       "0    69.66  160.68      76.5          3.3      11.97  ...   \n",
       "1    31.38  212.40      17.3          4.4      24.50  ...   \n",
       "2    28.71  169.05      20.4          3.5      25.45  ...   \n",
       "3    17.30  181.60      10.5          3.7       0.00  ...   \n",
       "4    16.18  170.52      10.5          3.5       6.12  ...   \n",
       "5     6.03  993.60       0.6         20.5      27.48  ...   \n",
       "6     0.75   15.12       5.2          0.3       0.17  ...   \n",
       "7    -0.72   33.13      -2.1          0.7       0.00  ...   \n",
       "8    -2.10  105.60      -1.9          2.2       0.00  ...   \n",
       "9    -2.64   65.00      -3.9          1.3       0.00  ...   \n",
       "10   -4.30   51.70      -7.7          1.1       0.25  ...   \n",
       "11  -11.66   19.64     -37.3          0.4       0.65  ...   \n",
       "12  -14.59   42.05     -25.6          0.9       0.76  ...   \n",
       "13  -17.42  251.46      -6.5          5.2       9.66  ...   \n",
       "14  -24.83  183.52     -11.9          3.8       6.96  ...   \n",
       "15  -29.65  194.76     -13.2          4.0       3.90  ...   \n",
       "16  -39.05  703.95      -5.2         14.5      14.12  ...   \n",
       "17  -46.73  381.99     -10.9          7.9      59.83  ...   \n",
       "18  -82.76  248.00     -25.0          5.1      22.54  ...   \n",
       "19 -103.19  660.24     -13.5         13.6      20.28  ...   \n",
       "\n",
       "                          technical_score_description  Fundamental_Signal  \\\n",
       "0   This score is derived from technical indicator...                Sell   \n",
       "1   This score is derived from technical indicator...                Sell   \n",
       "2   This score is derived from technical indicator...                Sell   \n",
       "3   This score is derived from technical indicator...                Sell   \n",
       "4   This score is derived from technical indicator...                Sell   \n",
       "5   This score is derived from technical indicator...                Sell   \n",
       "6   This score is derived from technical indicator...                Sell   \n",
       "7   This score is derived from technical indicator...                Sell   \n",
       "8   This score is derived from technical indicator...                Sell   \n",
       "9   This score is derived from technical indicator...                Sell   \n",
       "10  This score is derived from technical indicator...                Sell   \n",
       "11  This score is derived from technical indicator...                Sell   \n",
       "12  This score is derived from technical indicator...                Sell   \n",
       "13  This score is derived from technical indicator...                Sell   \n",
       "14  This score is derived from technical indicator...                Sell   \n",
       "15  This score is derived from technical indicator...                Sell   \n",
       "16  This score is derived from technical indicator...                Sell   \n",
       "17  This score is derived from technical indicator...                Sell   \n",
       "18  This score is derived from technical indicator...                Sell   \n",
       "19  This score is derived from technical indicator...                Sell   \n",
       "\n",
       "   Technical_Signal  Composite_Action          industry       industryKey  \\\n",
       "0              Hold              Sell               NaN               NaN   \n",
       "1              Hold              Sell               NaN               NaN   \n",
       "2              Hold              Sell               NaN               NaN   \n",
       "3              Hold              Sell               NaN               NaN   \n",
       "4              Hold              Sell               NaN               NaN   \n",
       "5              Hold              Sell               NaN               NaN   \n",
       "6              Hold              Sell               NaN               NaN   \n",
       "7              Hold              Sell               NaN               NaN   \n",
       "8              Hold              Sell               NaN               NaN   \n",
       "9              Hold              Sell               NaN               NaN   \n",
       "10             Hold              Sell               NaN               NaN   \n",
       "11             Hold              Sell               NaN               NaN   \n",
       "12             Hold              Sell               NaN               NaN   \n",
       "13             Hold              Sell               NaN               NaN   \n",
       "14             Hold              Sell               NaN               NaN   \n",
       "15             Hold              Sell               NaN               NaN   \n",
       "16             Hold              Sell  Asset Management  asset_management   \n",
       "17             Hold              Sell               NaN               NaN   \n",
       "18             Hold              Sell               NaN               NaN   \n",
       "19             Hold              Sell               NaN               NaN   \n",
       "\n",
       "        industryDisp              sector           sectorKey  \\\n",
       "0                NaN                 NaN                 NaN   \n",
       "1                NaN                 NaN                 NaN   \n",
       "2                NaN                 NaN                 NaN   \n",
       "3                NaN                 NaN                 NaN   \n",
       "4                NaN                 NaN                 NaN   \n",
       "5                NaN                 NaN                 NaN   \n",
       "6                NaN                 NaN                 NaN   \n",
       "7                NaN                 NaN                 NaN   \n",
       "8                NaN                 NaN                 NaN   \n",
       "9                NaN                 NaN                 NaN   \n",
       "10               NaN                 NaN                 NaN   \n",
       "11               NaN                 NaN                 NaN   \n",
       "12               NaN                 NaN                 NaN   \n",
       "13               NaN                 NaN                 NaN   \n",
       "14               NaN                 NaN                 NaN   \n",
       "15               NaN                 NaN                 NaN   \n",
       "16  Asset Management  Financial Services  financial_services   \n",
       "17               NaN                 NaN                 NaN   \n",
       "18               NaN                 NaN                 NaN   \n",
       "19               NaN                 NaN                 NaN   \n",
       "\n",
       "            sectorDisp  \n",
       "0                  NaN  \n",
       "1                  NaN  \n",
       "2                  NaN  \n",
       "3                  NaN  \n",
       "4                  NaN  \n",
       "5                  NaN  \n",
       "6                  NaN  \n",
       "7                  NaN  \n",
       "8                  NaN  \n",
       "9                  NaN  \n",
       "10                 NaN  \n",
       "11                 NaN  \n",
       "12                 NaN  \n",
       "13                 NaN  \n",
       "14                 NaN  \n",
       "15                 NaN  \n",
       "16  Financial Services  \n",
       "17                 NaN  \n",
       "18                 NaN  \n",
       "19                 NaN  \n",
       "\n",
       "[20 rows x 265 columns]"
      ]
     },
     "execution_count": 36,
     "metadata": {},
     "output_type": "execute_result"
    }
   ],
   "source": [
    "portfolio"
   ]
  },
  {
   "cell_type": "code",
   "execution_count": 34,
   "id": "0dd9f6c2-8227-482c-b686-6b532b5f1a35",
   "metadata": {},
   "outputs": [
    {
     "ename": "NameError",
     "evalue": "name 'master' is not defined",
     "output_type": "error",
     "traceback": [
      "\u001b[1;31m---------------------------------------------------------------------------\u001b[0m",
      "\u001b[1;31mNameError\u001b[0m                                 Traceback (most recent call last)",
      "Cell \u001b[1;32mIn[34], line 1\u001b[0m\n\u001b[1;32m----> 1\u001b[0m master\n",
      "\u001b[1;31mNameError\u001b[0m: name 'master' is not defined"
     ]
    }
   ],
   "source": [
    "master"
   ]
  },
  {
   "cell_type": "markdown",
   "id": "d180720f-5c13-48f2-b09d-732489598414",
   "metadata": {},
   "source": [
    "# Creating Master df from Portfolio, Dividends and Yahoo Finance"
   ]
  },
  {
   "cell_type": "code",
   "execution_count": 38,
   "id": "391a31cb-f594-49c3-8d02-934a18d051b8",
   "metadata": {},
   "outputs": [
    {
     "data": {
      "text/html": [
       "<div>\n",
       "<style scoped>\n",
       "    .dataframe tbody tr th:only-of-type {\n",
       "        vertical-align: middle;\n",
       "    }\n",
       "\n",
       "    .dataframe tbody tr th {\n",
       "        vertical-align: top;\n",
       "    }\n",
       "\n",
       "    .dataframe thead th {\n",
       "        text-align: right;\n",
       "    }\n",
       "</style>\n",
       "<table border=\"1\" class=\"dataframe\">\n",
       "  <thead>\n",
       "    <tr style=\"text-align: right;\">\n",
       "      <th></th>\n",
       "      <th>Name</th>\n",
       "      <th>Symbol</th>\n",
       "      <th>Shares</th>\n",
       "      <th>Price</th>\n",
       "      <th>Average cost</th>\n",
       "      <th>Return</th>\n",
       "      <th>Equity</th>\n",
       "      <th>Return %</th>\n",
       "      <th>Portfolio %</th>\n",
       "      <th>Total_Div</th>\n",
       "      <th>...</th>\n",
       "      <th>technical_score_description</th>\n",
       "      <th>Fundamental_Signal</th>\n",
       "      <th>Technical_Signal</th>\n",
       "      <th>Composite_Action</th>\n",
       "      <th>industry</th>\n",
       "      <th>industryKey</th>\n",
       "      <th>industryDisp</th>\n",
       "      <th>sector</th>\n",
       "      <th>sectorKey</th>\n",
       "      <th>sectorDisp</th>\n",
       "    </tr>\n",
       "  </thead>\n",
       "  <tbody>\n",
       "    <tr>\n",
       "      <th>0</th>\n",
       "      <td>AT&amp;T</td>\n",
       "      <td>T</td>\n",
       "      <td>6</td>\n",
       "      <td>26.78</td>\n",
       "      <td>15.17</td>\n",
       "      <td>69.66</td>\n",
       "      <td>160.68</td>\n",
       "      <td>76.5</td>\n",
       "      <td>3.3</td>\n",
       "      <td>11.97</td>\n",
       "      <td>...</td>\n",
       "      <td>This score is derived from technical indicator...</td>\n",
       "      <td>Sell</td>\n",
       "      <td>Hold</td>\n",
       "      <td>Sell</td>\n",
       "      <td>NaN</td>\n",
       "      <td>NaN</td>\n",
       "      <td>NaN</td>\n",
       "      <td>NaN</td>\n",
       "      <td>NaN</td>\n",
       "      <td>NaN</td>\n",
       "    </tr>\n",
       "    <tr>\n",
       "      <th>1</th>\n",
       "      <td>Alliance Resource</td>\n",
       "      <td>ARLP</td>\n",
       "      <td>8</td>\n",
       "      <td>26.55</td>\n",
       "      <td>22.63</td>\n",
       "      <td>31.38</td>\n",
       "      <td>212.40</td>\n",
       "      <td>17.3</td>\n",
       "      <td>4.4</td>\n",
       "      <td>24.50</td>\n",
       "      <td>...</td>\n",
       "      <td>This score is derived from technical indicator...</td>\n",
       "      <td>Sell</td>\n",
       "      <td>Hold</td>\n",
       "      <td>Sell</td>\n",
       "      <td>NaN</td>\n",
       "      <td>NaN</td>\n",
       "      <td>NaN</td>\n",
       "      <td>NaN</td>\n",
       "      <td>NaN</td>\n",
       "      <td>NaN</td>\n",
       "    </tr>\n",
       "    <tr>\n",
       "      <th>2</th>\n",
       "      <td>Gladstone Capital</td>\n",
       "      <td>GLAD</td>\n",
       "      <td>7</td>\n",
       "      <td>24.15</td>\n",
       "      <td>20.05</td>\n",
       "      <td>28.71</td>\n",
       "      <td>169.05</td>\n",
       "      <td>20.4</td>\n",
       "      <td>3.5</td>\n",
       "      <td>25.45</td>\n",
       "      <td>...</td>\n",
       "      <td>This score is derived from technical indicator...</td>\n",
       "      <td>Sell</td>\n",
       "      <td>Hold</td>\n",
       "      <td>Sell</td>\n",
       "      <td>NaN</td>\n",
       "      <td>NaN</td>\n",
       "      <td>NaN</td>\n",
       "      <td>NaN</td>\n",
       "      <td>NaN</td>\n",
       "      <td>NaN</td>\n",
       "    </tr>\n",
       "    <tr>\n",
       "      <th>3</th>\n",
       "      <td>Broadcom</td>\n",
       "      <td>AVGO</td>\n",
       "      <td>1</td>\n",
       "      <td>181.60</td>\n",
       "      <td>164.30</td>\n",
       "      <td>17.30</td>\n",
       "      <td>181.60</td>\n",
       "      <td>10.5</td>\n",
       "      <td>3.7</td>\n",
       "      <td>0.00</td>\n",
       "      <td>...</td>\n",
       "      <td>This score is derived from technical indicator...</td>\n",
       "      <td>Sell</td>\n",
       "      <td>Hold</td>\n",
       "      <td>Sell</td>\n",
       "      <td>NaN</td>\n",
       "      <td>NaN</td>\n",
       "      <td>NaN</td>\n",
       "      <td>NaN</td>\n",
       "      <td>NaN</td>\n",
       "      <td>NaN</td>\n",
       "    </tr>\n",
       "    <tr>\n",
       "      <th>4</th>\n",
       "      <td>Altria</td>\n",
       "      <td>MO</td>\n",
       "      <td>3</td>\n",
       "      <td>56.84</td>\n",
       "      <td>51.45</td>\n",
       "      <td>16.18</td>\n",
       "      <td>170.52</td>\n",
       "      <td>10.5</td>\n",
       "      <td>3.5</td>\n",
       "      <td>6.12</td>\n",
       "      <td>...</td>\n",
       "      <td>This score is derived from technical indicator...</td>\n",
       "      <td>Sell</td>\n",
       "      <td>Hold</td>\n",
       "      <td>Sell</td>\n",
       "      <td>NaN</td>\n",
       "      <td>NaN</td>\n",
       "      <td>NaN</td>\n",
       "      <td>NaN</td>\n",
       "      <td>NaN</td>\n",
       "      <td>NaN</td>\n",
       "    </tr>\n",
       "    <tr>\n",
       "      <th>5</th>\n",
       "      <td>Realty Income</td>\n",
       "      <td>O</td>\n",
       "      <td>18</td>\n",
       "      <td>55.20</td>\n",
       "      <td>54.87</td>\n",
       "      <td>6.03</td>\n",
       "      <td>993.60</td>\n",
       "      <td>0.6</td>\n",
       "      <td>20.5</td>\n",
       "      <td>27.48</td>\n",
       "      <td>...</td>\n",
       "      <td>This score is derived from technical indicator...</td>\n",
       "      <td>Sell</td>\n",
       "      <td>Hold</td>\n",
       "      <td>Sell</td>\n",
       "      <td>NaN</td>\n",
       "      <td>NaN</td>\n",
       "      <td>NaN</td>\n",
       "      <td>NaN</td>\n",
       "      <td>NaN</td>\n",
       "      <td>NaN</td>\n",
       "    </tr>\n",
       "    <tr>\n",
       "      <th>6</th>\n",
       "      <td>Algonquin Power &amp; Utilities</td>\n",
       "      <td>AQN</td>\n",
       "      <td>3</td>\n",
       "      <td>5.04</td>\n",
       "      <td>4.79</td>\n",
       "      <td>0.75</td>\n",
       "      <td>15.12</td>\n",
       "      <td>5.2</td>\n",
       "      <td>0.3</td>\n",
       "      <td>0.17</td>\n",
       "      <td>...</td>\n",
       "      <td>This score is derived from technical indicator...</td>\n",
       "      <td>Sell</td>\n",
       "      <td>Hold</td>\n",
       "      <td>Sell</td>\n",
       "      <td>NaN</td>\n",
       "      <td>NaN</td>\n",
       "      <td>NaN</td>\n",
       "      <td>NaN</td>\n",
       "      <td>NaN</td>\n",
       "      <td>NaN</td>\n",
       "    </tr>\n",
       "    <tr>\n",
       "      <th>7</th>\n",
       "      <td>Aramark</td>\n",
       "      <td>ARMK</td>\n",
       "      <td>1</td>\n",
       "      <td>33.13</td>\n",
       "      <td>33.85</td>\n",
       "      <td>-0.72</td>\n",
       "      <td>33.13</td>\n",
       "      <td>-2.1</td>\n",
       "      <td>0.7</td>\n",
       "      <td>0.00</td>\n",
       "      <td>...</td>\n",
       "      <td>This score is derived from technical indicator...</td>\n",
       "      <td>Sell</td>\n",
       "      <td>Hold</td>\n",
       "      <td>Sell</td>\n",
       "      <td>NaN</td>\n",
       "      <td>NaN</td>\n",
       "      <td>NaN</td>\n",
       "      <td>NaN</td>\n",
       "      <td>NaN</td>\n",
       "      <td>NaN</td>\n",
       "    </tr>\n",
       "    <tr>\n",
       "      <th>8</th>\n",
       "      <td>PennantPark Floating Rate</td>\n",
       "      <td>PFLT</td>\n",
       "      <td>11</td>\n",
       "      <td>9.60</td>\n",
       "      <td>9.79</td>\n",
       "      <td>-2.10</td>\n",
       "      <td>105.60</td>\n",
       "      <td>-1.9</td>\n",
       "      <td>2.2</td>\n",
       "      <td>0.00</td>\n",
       "      <td>...</td>\n",
       "      <td>This score is derived from technical indicator...</td>\n",
       "      <td>Sell</td>\n",
       "      <td>Hold</td>\n",
       "      <td>Sell</td>\n",
       "      <td>NaN</td>\n",
       "      <td>NaN</td>\n",
       "      <td>NaN</td>\n",
       "      <td>NaN</td>\n",
       "      <td>NaN</td>\n",
       "      <td>NaN</td>\n",
       "    </tr>\n",
       "    <tr>\n",
       "      <th>9</th>\n",
       "      <td>Novo Nordisk</td>\n",
       "      <td>NVO</td>\n",
       "      <td>1</td>\n",
       "      <td>65.00</td>\n",
       "      <td>67.64</td>\n",
       "      <td>-2.64</td>\n",
       "      <td>65.00</td>\n",
       "      <td>-3.9</td>\n",
       "      <td>1.3</td>\n",
       "      <td>0.00</td>\n",
       "      <td>...</td>\n",
       "      <td>This score is derived from technical indicator...</td>\n",
       "      <td>Sell</td>\n",
       "      <td>Hold</td>\n",
       "      <td>Sell</td>\n",
       "      <td>NaN</td>\n",
       "      <td>NaN</td>\n",
       "      <td>NaN</td>\n",
       "      <td>NaN</td>\n",
       "      <td>NaN</td>\n",
       "      <td>NaN</td>\n",
       "    </tr>\n",
       "    <tr>\n",
       "      <th>10</th>\n",
       "      <td>Main Street Capital</td>\n",
       "      <td>MAIN</td>\n",
       "      <td>1</td>\n",
       "      <td>51.70</td>\n",
       "      <td>56.00</td>\n",
       "      <td>-4.30</td>\n",
       "      <td>51.70</td>\n",
       "      <td>-7.7</td>\n",
       "      <td>1.1</td>\n",
       "      <td>0.25</td>\n",
       "      <td>...</td>\n",
       "      <td>This score is derived from technical indicator...</td>\n",
       "      <td>Sell</td>\n",
       "      <td>Hold</td>\n",
       "      <td>Sell</td>\n",
       "      <td>NaN</td>\n",
       "      <td>NaN</td>\n",
       "      <td>NaN</td>\n",
       "      <td>NaN</td>\n",
       "      <td>NaN</td>\n",
       "      <td>NaN</td>\n",
       "    </tr>\n",
       "    <tr>\n",
       "      <th>11</th>\n",
       "      <td>Intel</td>\n",
       "      <td>INTC</td>\n",
       "      <td>1</td>\n",
       "      <td>19.64</td>\n",
       "      <td>31.30</td>\n",
       "      <td>-11.66</td>\n",
       "      <td>19.64</td>\n",
       "      <td>-37.3</td>\n",
       "      <td>0.4</td>\n",
       "      <td>0.65</td>\n",
       "      <td>...</td>\n",
       "      <td>This score is derived from technical indicator...</td>\n",
       "      <td>Sell</td>\n",
       "      <td>Hold</td>\n",
       "      <td>Sell</td>\n",
       "      <td>NaN</td>\n",
       "      <td>NaN</td>\n",
       "      <td>NaN</td>\n",
       "      <td>NaN</td>\n",
       "      <td>NaN</td>\n",
       "      <td>NaN</td>\n",
       "    </tr>\n",
       "    <tr>\n",
       "      <th>12</th>\n",
       "      <td>Hafnia LTD</td>\n",
       "      <td>HAFN</td>\n",
       "      <td>10</td>\n",
       "      <td>4.21</td>\n",
       "      <td>5.66</td>\n",
       "      <td>-14.59</td>\n",
       "      <td>42.05</td>\n",
       "      <td>-25.6</td>\n",
       "      <td>0.9</td>\n",
       "      <td>0.76</td>\n",
       "      <td>...</td>\n",
       "      <td>This score is derived from technical indicator...</td>\n",
       "      <td>Sell</td>\n",
       "      <td>Hold</td>\n",
       "      <td>Sell</td>\n",
       "      <td>NaN</td>\n",
       "      <td>NaN</td>\n",
       "      <td>NaN</td>\n",
       "      <td>NaN</td>\n",
       "      <td>NaN</td>\n",
       "      <td>NaN</td>\n",
       "    </tr>\n",
       "    <tr>\n",
       "      <th>13</th>\n",
       "      <td>Dynex Capital</td>\n",
       "      <td>DX</td>\n",
       "      <td>22</td>\n",
       "      <td>11.43</td>\n",
       "      <td>12.22</td>\n",
       "      <td>-17.42</td>\n",
       "      <td>251.46</td>\n",
       "      <td>-6.5</td>\n",
       "      <td>5.2</td>\n",
       "      <td>9.66</td>\n",
       "      <td>...</td>\n",
       "      <td>This score is derived from technical indicator...</td>\n",
       "      <td>Sell</td>\n",
       "      <td>Hold</td>\n",
       "      <td>Sell</td>\n",
       "      <td>NaN</td>\n",
       "      <td>NaN</td>\n",
       "      <td>NaN</td>\n",
       "      <td>NaN</td>\n",
       "      <td>NaN</td>\n",
       "      <td>NaN</td>\n",
       "    </tr>\n",
       "    <tr>\n",
       "      <th>14</th>\n",
       "      <td>Apple Hospitality REIT</td>\n",
       "      <td>APLE</td>\n",
       "      <td>16</td>\n",
       "      <td>11.47</td>\n",
       "      <td>13.02</td>\n",
       "      <td>-24.83</td>\n",
       "      <td>183.52</td>\n",
       "      <td>-11.9</td>\n",
       "      <td>3.8</td>\n",
       "      <td>6.96</td>\n",
       "      <td>...</td>\n",
       "      <td>This score is derived from technical indicator...</td>\n",
       "      <td>Sell</td>\n",
       "      <td>Hold</td>\n",
       "      <td>Sell</td>\n",
       "      <td>NaN</td>\n",
       "      <td>NaN</td>\n",
       "      <td>NaN</td>\n",
       "      <td>NaN</td>\n",
       "      <td>NaN</td>\n",
       "      <td>NaN</td>\n",
       "    </tr>\n",
       "    <tr>\n",
       "      <th>15</th>\n",
       "      <td>Energy Transfer</td>\n",
       "      <td>ET</td>\n",
       "      <td>12</td>\n",
       "      <td>16.23</td>\n",
       "      <td>18.70</td>\n",
       "      <td>-29.65</td>\n",
       "      <td>194.76</td>\n",
       "      <td>-13.2</td>\n",
       "      <td>4.0</td>\n",
       "      <td>3.90</td>\n",
       "      <td>...</td>\n",
       "      <td>This score is derived from technical indicator...</td>\n",
       "      <td>Sell</td>\n",
       "      <td>Hold</td>\n",
       "      <td>Sell</td>\n",
       "      <td>NaN</td>\n",
       "      <td>NaN</td>\n",
       "      <td>NaN</td>\n",
       "      <td>NaN</td>\n",
       "      <td>NaN</td>\n",
       "      <td>NaN</td>\n",
       "    </tr>\n",
       "    <tr>\n",
       "      <th>16</th>\n",
       "      <td>JPMorgan Equity Premium Income</td>\n",
       "      <td>JEPI</td>\n",
       "      <td>13</td>\n",
       "      <td>54.15</td>\n",
       "      <td>57.15</td>\n",
       "      <td>-39.05</td>\n",
       "      <td>703.95</td>\n",
       "      <td>-5.2</td>\n",
       "      <td>14.5</td>\n",
       "      <td>14.12</td>\n",
       "      <td>...</td>\n",
       "      <td>This score is derived from technical indicator...</td>\n",
       "      <td>Sell</td>\n",
       "      <td>Hold</td>\n",
       "      <td>Sell</td>\n",
       "      <td>Asset Management</td>\n",
       "      <td>asset_management</td>\n",
       "      <td>Asset Management</td>\n",
       "      <td>Financial Services</td>\n",
       "      <td>financial_services</td>\n",
       "      <td>Financial Services</td>\n",
       "    </tr>\n",
       "    <tr>\n",
       "      <th>17</th>\n",
       "      <td>Saratoga Investment</td>\n",
       "      <td>SAR</td>\n",
       "      <td>17</td>\n",
       "      <td>22.47</td>\n",
       "      <td>25.22</td>\n",
       "      <td>-46.73</td>\n",
       "      <td>381.99</td>\n",
       "      <td>-10.9</td>\n",
       "      <td>7.9</td>\n",
       "      <td>59.83</td>\n",
       "      <td>...</td>\n",
       "      <td>This score is derived from technical indicator...</td>\n",
       "      <td>Sell</td>\n",
       "      <td>Hold</td>\n",
       "      <td>Sell</td>\n",
       "      <td>NaN</td>\n",
       "      <td>NaN</td>\n",
       "      <td>NaN</td>\n",
       "      <td>NaN</td>\n",
       "      <td>NaN</td>\n",
       "      <td>NaN</td>\n",
       "    </tr>\n",
       "    <tr>\n",
       "      <th>18</th>\n",
       "      <td>Innovative Industrial Properties</td>\n",
       "      <td>IIPR</td>\n",
       "      <td>5</td>\n",
       "      <td>49.60</td>\n",
       "      <td>66.15</td>\n",
       "      <td>-82.76</td>\n",
       "      <td>248.00</td>\n",
       "      <td>-25.0</td>\n",
       "      <td>5.1</td>\n",
       "      <td>22.54</td>\n",
       "      <td>...</td>\n",
       "      <td>This score is derived from technical indicator...</td>\n",
       "      <td>Sell</td>\n",
       "      <td>Hold</td>\n",
       "      <td>Sell</td>\n",
       "      <td>NaN</td>\n",
       "      <td>NaN</td>\n",
       "      <td>NaN</td>\n",
       "      <td>NaN</td>\n",
       "      <td>NaN</td>\n",
       "      <td>NaN</td>\n",
       "    </tr>\n",
       "    <tr>\n",
       "      <th>19</th>\n",
       "      <td>STAG Industrial</td>\n",
       "      <td>STAG</td>\n",
       "      <td>21</td>\n",
       "      <td>31.44</td>\n",
       "      <td>36.35</td>\n",
       "      <td>-103.19</td>\n",
       "      <td>660.24</td>\n",
       "      <td>-13.5</td>\n",
       "      <td>13.6</td>\n",
       "      <td>20.28</td>\n",
       "      <td>...</td>\n",
       "      <td>This score is derived from technical indicator...</td>\n",
       "      <td>Sell</td>\n",
       "      <td>Hold</td>\n",
       "      <td>Sell</td>\n",
       "      <td>NaN</td>\n",
       "      <td>NaN</td>\n",
       "      <td>NaN</td>\n",
       "      <td>NaN</td>\n",
       "      <td>NaN</td>\n",
       "      <td>NaN</td>\n",
       "    </tr>\n",
       "  </tbody>\n",
       "</table>\n",
       "<p>20 rows × 265 columns</p>\n",
       "</div>"
      ],
      "text/plain": [
       "                                Name Symbol  Shares   Price  Average cost  \\\n",
       "0                               AT&T      T       6   26.78         15.17   \n",
       "1                  Alliance Resource   ARLP       8   26.55         22.63   \n",
       "2                  Gladstone Capital   GLAD       7   24.15         20.05   \n",
       "3                           Broadcom   AVGO       1  181.60        164.30   \n",
       "4                             Altria     MO       3   56.84         51.45   \n",
       "5                      Realty Income      O      18   55.20         54.87   \n",
       "6        Algonquin Power & Utilities    AQN       3    5.04          4.79   \n",
       "7                            Aramark   ARMK       1   33.13         33.85   \n",
       "8          PennantPark Floating Rate   PFLT      11    9.60          9.79   \n",
       "9                       Novo Nordisk    NVO       1   65.00         67.64   \n",
       "10               Main Street Capital   MAIN       1   51.70         56.00   \n",
       "11                             Intel   INTC       1   19.64         31.30   \n",
       "12                        Hafnia LTD   HAFN      10    4.21          5.66   \n",
       "13                     Dynex Capital     DX      22   11.43         12.22   \n",
       "14            Apple Hospitality REIT   APLE      16   11.47         13.02   \n",
       "15                   Energy Transfer     ET      12   16.23         18.70   \n",
       "16    JPMorgan Equity Premium Income   JEPI      13   54.15         57.15   \n",
       "17               Saratoga Investment    SAR      17   22.47         25.22   \n",
       "18  Innovative Industrial Properties   IIPR       5   49.60         66.15   \n",
       "19                   STAG Industrial   STAG      21   31.44         36.35   \n",
       "\n",
       "    Return  Equity  Return %  Portfolio %  Total_Div  ...  \\\n",
       "0    69.66  160.68      76.5          3.3      11.97  ...   \n",
       "1    31.38  212.40      17.3          4.4      24.50  ...   \n",
       "2    28.71  169.05      20.4          3.5      25.45  ...   \n",
       "3    17.30  181.60      10.5          3.7       0.00  ...   \n",
       "4    16.18  170.52      10.5          3.5       6.12  ...   \n",
       "5     6.03  993.60       0.6         20.5      27.48  ...   \n",
       "6     0.75   15.12       5.2          0.3       0.17  ...   \n",
       "7    -0.72   33.13      -2.1          0.7       0.00  ...   \n",
       "8    -2.10  105.60      -1.9          2.2       0.00  ...   \n",
       "9    -2.64   65.00      -3.9          1.3       0.00  ...   \n",
       "10   -4.30   51.70      -7.7          1.1       0.25  ...   \n",
       "11  -11.66   19.64     -37.3          0.4       0.65  ...   \n",
       "12  -14.59   42.05     -25.6          0.9       0.76  ...   \n",
       "13  -17.42  251.46      -6.5          5.2       9.66  ...   \n",
       "14  -24.83  183.52     -11.9          3.8       6.96  ...   \n",
       "15  -29.65  194.76     -13.2          4.0       3.90  ...   \n",
       "16  -39.05  703.95      -5.2         14.5      14.12  ...   \n",
       "17  -46.73  381.99     -10.9          7.9      59.83  ...   \n",
       "18  -82.76  248.00     -25.0          5.1      22.54  ...   \n",
       "19 -103.19  660.24     -13.5         13.6      20.28  ...   \n",
       "\n",
       "                          technical_score_description  Fundamental_Signal  \\\n",
       "0   This score is derived from technical indicator...                Sell   \n",
       "1   This score is derived from technical indicator...                Sell   \n",
       "2   This score is derived from technical indicator...                Sell   \n",
       "3   This score is derived from technical indicator...                Sell   \n",
       "4   This score is derived from technical indicator...                Sell   \n",
       "5   This score is derived from technical indicator...                Sell   \n",
       "6   This score is derived from technical indicator...                Sell   \n",
       "7   This score is derived from technical indicator...                Sell   \n",
       "8   This score is derived from technical indicator...                Sell   \n",
       "9   This score is derived from technical indicator...                Sell   \n",
       "10  This score is derived from technical indicator...                Sell   \n",
       "11  This score is derived from technical indicator...                Sell   \n",
       "12  This score is derived from technical indicator...                Sell   \n",
       "13  This score is derived from technical indicator...                Sell   \n",
       "14  This score is derived from technical indicator...                Sell   \n",
       "15  This score is derived from technical indicator...                Sell   \n",
       "16  This score is derived from technical indicator...                Sell   \n",
       "17  This score is derived from technical indicator...                Sell   \n",
       "18  This score is derived from technical indicator...                Sell   \n",
       "19  This score is derived from technical indicator...                Sell   \n",
       "\n",
       "   Technical_Signal  Composite_Action          industry       industryKey  \\\n",
       "0              Hold              Sell               NaN               NaN   \n",
       "1              Hold              Sell               NaN               NaN   \n",
       "2              Hold              Sell               NaN               NaN   \n",
       "3              Hold              Sell               NaN               NaN   \n",
       "4              Hold              Sell               NaN               NaN   \n",
       "5              Hold              Sell               NaN               NaN   \n",
       "6              Hold              Sell               NaN               NaN   \n",
       "7              Hold              Sell               NaN               NaN   \n",
       "8              Hold              Sell               NaN               NaN   \n",
       "9              Hold              Sell               NaN               NaN   \n",
       "10             Hold              Sell               NaN               NaN   \n",
       "11             Hold              Sell               NaN               NaN   \n",
       "12             Hold              Sell               NaN               NaN   \n",
       "13             Hold              Sell               NaN               NaN   \n",
       "14             Hold              Sell               NaN               NaN   \n",
       "15             Hold              Sell               NaN               NaN   \n",
       "16             Hold              Sell  Asset Management  asset_management   \n",
       "17             Hold              Sell               NaN               NaN   \n",
       "18             Hold              Sell               NaN               NaN   \n",
       "19             Hold              Sell               NaN               NaN   \n",
       "\n",
       "        industryDisp              sector           sectorKey  \\\n",
       "0                NaN                 NaN                 NaN   \n",
       "1                NaN                 NaN                 NaN   \n",
       "2                NaN                 NaN                 NaN   \n",
       "3                NaN                 NaN                 NaN   \n",
       "4                NaN                 NaN                 NaN   \n",
       "5                NaN                 NaN                 NaN   \n",
       "6                NaN                 NaN                 NaN   \n",
       "7                NaN                 NaN                 NaN   \n",
       "8                NaN                 NaN                 NaN   \n",
       "9                NaN                 NaN                 NaN   \n",
       "10               NaN                 NaN                 NaN   \n",
       "11               NaN                 NaN                 NaN   \n",
       "12               NaN                 NaN                 NaN   \n",
       "13               NaN                 NaN                 NaN   \n",
       "14               NaN                 NaN                 NaN   \n",
       "15               NaN                 NaN                 NaN   \n",
       "16  Asset Management  Financial Services  financial_services   \n",
       "17               NaN                 NaN                 NaN   \n",
       "18               NaN                 NaN                 NaN   \n",
       "19               NaN                 NaN                 NaN   \n",
       "\n",
       "            sectorDisp  \n",
       "0                  NaN  \n",
       "1                  NaN  \n",
       "2                  NaN  \n",
       "3                  NaN  \n",
       "4                  NaN  \n",
       "5                  NaN  \n",
       "6                  NaN  \n",
       "7                  NaN  \n",
       "8                  NaN  \n",
       "9                  NaN  \n",
       "10                 NaN  \n",
       "11                 NaN  \n",
       "12                 NaN  \n",
       "13                 NaN  \n",
       "14                 NaN  \n",
       "15                 NaN  \n",
       "16  Financial Services  \n",
       "17                 NaN  \n",
       "18                 NaN  \n",
       "19                 NaN  \n",
       "\n",
       "[20 rows x 265 columns]"
      ]
     },
     "execution_count": 38,
     "metadata": {},
     "output_type": "execute_result"
    }
   ],
   "source": [
    "if 'master' not in globals():\n",
    "    master = portfolio.copy()\n",
    "else:\n",
    "    # Merge the master1 DataFrame with dividend statistics using the 'Name' column\n",
    "    master = portfolio.merge(final_div, how='left', on='Name')\n",
    "    \n",
    "    # Convert 'Return' and 'Total_Div' columns to numeric values; non-numeric entries become NaN\n",
    "    master['Return'] = pd.to_numeric(master['Return'], errors='coerce')\n",
    "    master['Total_Div'] = pd.to_numeric(master['Total_Div'], errors='coerce')\n",
    "    \n",
    "    # Replace any NaN values with 0 to ensure proper calculations\n",
    "    master['Return'] = master['Return'].fillna(0)\n",
    "    master['Total_Div'] = master['Total_Div'].fillna(0)\n",
    "    \n",
    "    # Calculate Dividend Return Percentage\n",
    "    master['Div Return %'] = round((master['Total_Div'] / (master['Shares'] * master['Average cost'])) * 100, 1)\n",
    "    \n",
    "    # Calculate Total Return in dollars by summing capital gains and dividends\n",
    "    master['Total Return'] = master['Return'] + master['Total_Div']\n",
    "    \n",
    "    # Calculate Total Return Percentage\n",
    "    master['Total Return %'] = round((master['Total Return'] / (master['Shares'] * master['Average cost'])) * 100, 1)\n",
    "    \n",
    "    # 1. Cost Basis per Position: Total amount invested in each position\n",
    "    master['Cost Basis'] = master['Shares'] * master['Average cost']\n",
    "    \n",
    "    # 2. Unrealized Gain (or Loss): The difference between the current market value and the cost basis\n",
    "    master['Unrealized Gain'] = master['Equity'] - master['Cost Basis']\n",
    "    \n",
    "    # 3. Unrealized Gain Percentage: Gain (or loss) as a percentage of the cost basis\n",
    "    master['Unrealized Gain %'] = round((master['Unrealized Gain'] / master['Cost Basis']) * 100, 1)\n",
    "    \n",
    "    # 4. Gain (or Loss) per Share: Change in price per share relative to its average cost\n",
    "    master['Gain per Share'] = master['Price'] - master['Average cost']\n",
    "    \n",
    "    # 5. Dividend per Share and Dividend per Share Percentage:\n",
    "    master['Dividend per Share'] = round(master['Total_Div'] / master['Shares'], 2)\n",
    "    master['Dividend per Share (%)'] = round((master['Dividend per Share'] / master['Price']) * 100, 1)\n",
    "    \n",
    "    # 6. Dividend Yield Based on Current Price:\n",
    "    master['Dividend Yield (Price) %'] = round((master['12_Month_Div'] / (master['Shares'] * master['Price'])) * 100, 1)\n",
    "    \n",
    "    # 7. Total Return per Share: Overall return (capital gains + dividends) per share\n",
    "    master['Total Return per Share'] = round(master['Total Return'] / master['Shares'], 2)\n",
    "    \n",
    "    # 8. Contribution to Portfolio Return:\n",
    "    total_portfolio_return = master['Total Return'].sum()\n",
    "    master['Return Contribution %'] = round((master['Total Return'] / total_portfolio_return) * 100, 1)\n",
    "\n",
    "# Display the final DataFrame\n",
    "master"
   ]
  },
  {
   "cell_type": "markdown",
   "id": "7aee0640-a3ac-4e91-ae12-053ca8e3680e",
   "metadata": {},
   "source": [
    "#### Iterating over symbols with Yfinance API"
   ]
  },
  {
   "cell_type": "markdown",
   "id": "dde5c6b8-6ec8-4c6c-a6c8-a70120188e42",
   "metadata": {},
   "source": [
    "Do not use if you are offline or are out of API requests"
   ]
  },
  {
   "cell_type": "code",
   "execution_count": 438,
   "id": "e8316d0b-d0d7-4e65-8b3b-1be5363c76f1",
   "metadata": {},
   "outputs": [
    {
     "ename": "MergeError",
     "evalue": "Passing 'suffixes' which cause duplicate columns {'sectorKey_x', 'industry_x', 'industryDisp_x', 'sector_x', 'industryKey_x', 'sectorDisp_x'} is not allowed.",
     "output_type": "error",
     "traceback": [
      "\u001b[1;31m---------------------------------------------------------------------------\u001b[0m",
      "\u001b[1;31mMergeError\u001b[0m                                Traceback (most recent call last)",
      "Cell \u001b[1;32mIn[438], line 17\u001b[0m\n\u001b[0;32m     13\u001b[0m stock_data_df\u001b[38;5;241m.\u001b[39mrename(columns\u001b[38;5;241m=\u001b[39m{\u001b[38;5;124m'\u001b[39m\u001b[38;5;124mindex\u001b[39m\u001b[38;5;124m'\u001b[39m: \u001b[38;5;124m'\u001b[39m\u001b[38;5;124mSymbol\u001b[39m\u001b[38;5;124m'\u001b[39m}, inplace\u001b[38;5;241m=\u001b[39m\u001b[38;5;28;01mTrue\u001b[39;00m)\n\u001b[0;32m     16\u001b[0m \u001b[38;5;66;03m#MERGING\u001b[39;00m\n\u001b[1;32m---> 17\u001b[0m master \u001b[38;5;241m=\u001b[39m master\u001b[38;5;241m.\u001b[39mmerge(stock_data_df, on\u001b[38;5;241m=\u001b[39m\u001b[38;5;124m'\u001b[39m\u001b[38;5;124mSymbol\u001b[39m\u001b[38;5;124m'\u001b[39m, how\u001b[38;5;241m=\u001b[39m\u001b[38;5;124m'\u001b[39m\u001b[38;5;124mleft\u001b[39m\u001b[38;5;124m'\u001b[39m)\n",
      "File \u001b[1;32m~\\anaconda3\\Lib\\site-packages\\pandas\\core\\frame.py:10832\u001b[0m, in \u001b[0;36mDataFrame.merge\u001b[1;34m(self, right, how, on, left_on, right_on, left_index, right_index, sort, suffixes, copy, indicator, validate)\u001b[0m\n\u001b[0;32m  10813\u001b[0m \u001b[38;5;129m@Substitution\u001b[39m(\u001b[38;5;124m\"\u001b[39m\u001b[38;5;124m\"\u001b[39m)\n\u001b[0;32m  10814\u001b[0m \u001b[38;5;129m@Appender\u001b[39m(_merge_doc, indents\u001b[38;5;241m=\u001b[39m\u001b[38;5;241m2\u001b[39m)\n\u001b[0;32m  10815\u001b[0m \u001b[38;5;28;01mdef\u001b[39;00m \u001b[38;5;21mmerge\u001b[39m(\n\u001b[1;32m   (...)\u001b[0m\n\u001b[0;32m  10828\u001b[0m     validate: MergeValidate \u001b[38;5;241m|\u001b[39m \u001b[38;5;28;01mNone\u001b[39;00m \u001b[38;5;241m=\u001b[39m \u001b[38;5;28;01mNone\u001b[39;00m,\n\u001b[0;32m  10829\u001b[0m ) \u001b[38;5;241m-\u001b[39m\u001b[38;5;241m>\u001b[39m DataFrame:\n\u001b[0;32m  10830\u001b[0m     \u001b[38;5;28;01mfrom\u001b[39;00m \u001b[38;5;21;01mpandas\u001b[39;00m\u001b[38;5;21;01m.\u001b[39;00m\u001b[38;5;21;01mcore\u001b[39;00m\u001b[38;5;21;01m.\u001b[39;00m\u001b[38;5;21;01mreshape\u001b[39;00m\u001b[38;5;21;01m.\u001b[39;00m\u001b[38;5;21;01mmerge\u001b[39;00m \u001b[38;5;28;01mimport\u001b[39;00m merge\n\u001b[1;32m> 10832\u001b[0m     \u001b[38;5;28;01mreturn\u001b[39;00m merge(\n\u001b[0;32m  10833\u001b[0m         \u001b[38;5;28mself\u001b[39m,\n\u001b[0;32m  10834\u001b[0m         right,\n\u001b[0;32m  10835\u001b[0m         how\u001b[38;5;241m=\u001b[39mhow,\n\u001b[0;32m  10836\u001b[0m         on\u001b[38;5;241m=\u001b[39mon,\n\u001b[0;32m  10837\u001b[0m         left_on\u001b[38;5;241m=\u001b[39mleft_on,\n\u001b[0;32m  10838\u001b[0m         right_on\u001b[38;5;241m=\u001b[39mright_on,\n\u001b[0;32m  10839\u001b[0m         left_index\u001b[38;5;241m=\u001b[39mleft_index,\n\u001b[0;32m  10840\u001b[0m         right_index\u001b[38;5;241m=\u001b[39mright_index,\n\u001b[0;32m  10841\u001b[0m         sort\u001b[38;5;241m=\u001b[39msort,\n\u001b[0;32m  10842\u001b[0m         suffixes\u001b[38;5;241m=\u001b[39msuffixes,\n\u001b[0;32m  10843\u001b[0m         copy\u001b[38;5;241m=\u001b[39mcopy,\n\u001b[0;32m  10844\u001b[0m         indicator\u001b[38;5;241m=\u001b[39mindicator,\n\u001b[0;32m  10845\u001b[0m         validate\u001b[38;5;241m=\u001b[39mvalidate,\n\u001b[0;32m  10846\u001b[0m     )\n",
      "File \u001b[1;32m~\\anaconda3\\Lib\\site-packages\\pandas\\core\\reshape\\merge.py:184\u001b[0m, in \u001b[0;36mmerge\u001b[1;34m(left, right, how, on, left_on, right_on, left_index, right_index, sort, suffixes, copy, indicator, validate)\u001b[0m\n\u001b[0;32m    169\u001b[0m \u001b[38;5;28;01melse\u001b[39;00m:\n\u001b[0;32m    170\u001b[0m     op \u001b[38;5;241m=\u001b[39m _MergeOperation(\n\u001b[0;32m    171\u001b[0m         left_df,\n\u001b[0;32m    172\u001b[0m         right_df,\n\u001b[1;32m   (...)\u001b[0m\n\u001b[0;32m    182\u001b[0m         validate\u001b[38;5;241m=\u001b[39mvalidate,\n\u001b[0;32m    183\u001b[0m     )\n\u001b[1;32m--> 184\u001b[0m     \u001b[38;5;28;01mreturn\u001b[39;00m op\u001b[38;5;241m.\u001b[39mget_result(copy\u001b[38;5;241m=\u001b[39mcopy)\n",
      "File \u001b[1;32m~\\anaconda3\\Lib\\site-packages\\pandas\\core\\reshape\\merge.py:888\u001b[0m, in \u001b[0;36m_MergeOperation.get_result\u001b[1;34m(self, copy)\u001b[0m\n\u001b[0;32m    884\u001b[0m     \u001b[38;5;28mself\u001b[39m\u001b[38;5;241m.\u001b[39mleft, \u001b[38;5;28mself\u001b[39m\u001b[38;5;241m.\u001b[39mright \u001b[38;5;241m=\u001b[39m \u001b[38;5;28mself\u001b[39m\u001b[38;5;241m.\u001b[39m_indicator_pre_merge(\u001b[38;5;28mself\u001b[39m\u001b[38;5;241m.\u001b[39mleft, \u001b[38;5;28mself\u001b[39m\u001b[38;5;241m.\u001b[39mright)\n\u001b[0;32m    886\u001b[0m join_index, left_indexer, right_indexer \u001b[38;5;241m=\u001b[39m \u001b[38;5;28mself\u001b[39m\u001b[38;5;241m.\u001b[39m_get_join_info()\n\u001b[1;32m--> 888\u001b[0m result \u001b[38;5;241m=\u001b[39m \u001b[38;5;28mself\u001b[39m\u001b[38;5;241m.\u001b[39m_reindex_and_concat(\n\u001b[0;32m    889\u001b[0m     join_index, left_indexer, right_indexer, copy\u001b[38;5;241m=\u001b[39mcopy\n\u001b[0;32m    890\u001b[0m )\n\u001b[0;32m    891\u001b[0m result \u001b[38;5;241m=\u001b[39m result\u001b[38;5;241m.\u001b[39m__finalize__(\u001b[38;5;28mself\u001b[39m, method\u001b[38;5;241m=\u001b[39m\u001b[38;5;28mself\u001b[39m\u001b[38;5;241m.\u001b[39m_merge_type)\n\u001b[0;32m    893\u001b[0m \u001b[38;5;28;01mif\u001b[39;00m \u001b[38;5;28mself\u001b[39m\u001b[38;5;241m.\u001b[39mindicator:\n",
      "File \u001b[1;32m~\\anaconda3\\Lib\\site-packages\\pandas\\core\\reshape\\merge.py:840\u001b[0m, in \u001b[0;36m_MergeOperation._reindex_and_concat\u001b[1;34m(self, join_index, left_indexer, right_indexer, copy)\u001b[0m\n\u001b[0;32m    837\u001b[0m left \u001b[38;5;241m=\u001b[39m \u001b[38;5;28mself\u001b[39m\u001b[38;5;241m.\u001b[39mleft[:]\n\u001b[0;32m    838\u001b[0m right \u001b[38;5;241m=\u001b[39m \u001b[38;5;28mself\u001b[39m\u001b[38;5;241m.\u001b[39mright[:]\n\u001b[1;32m--> 840\u001b[0m llabels, rlabels \u001b[38;5;241m=\u001b[39m _items_overlap_with_suffix(\n\u001b[0;32m    841\u001b[0m     \u001b[38;5;28mself\u001b[39m\u001b[38;5;241m.\u001b[39mleft\u001b[38;5;241m.\u001b[39m_info_axis, \u001b[38;5;28mself\u001b[39m\u001b[38;5;241m.\u001b[39mright\u001b[38;5;241m.\u001b[39m_info_axis, \u001b[38;5;28mself\u001b[39m\u001b[38;5;241m.\u001b[39msuffixes\n\u001b[0;32m    842\u001b[0m )\n\u001b[0;32m    844\u001b[0m \u001b[38;5;28;01mif\u001b[39;00m left_indexer \u001b[38;5;129;01mis\u001b[39;00m \u001b[38;5;129;01mnot\u001b[39;00m \u001b[38;5;28;01mNone\u001b[39;00m \u001b[38;5;129;01mand\u001b[39;00m \u001b[38;5;129;01mnot\u001b[39;00m is_range_indexer(left_indexer, \u001b[38;5;28mlen\u001b[39m(left)):\n\u001b[0;32m    845\u001b[0m     \u001b[38;5;66;03m# Pinning the index here (and in the right code just below) is not\u001b[39;00m\n\u001b[0;32m    846\u001b[0m     \u001b[38;5;66;03m#  necessary, but makes the `.take` more performant if we have e.g.\u001b[39;00m\n\u001b[0;32m    847\u001b[0m     \u001b[38;5;66;03m#  a MultiIndex for left.index.\u001b[39;00m\n\u001b[0;32m    848\u001b[0m     lmgr \u001b[38;5;241m=\u001b[39m left\u001b[38;5;241m.\u001b[39m_mgr\u001b[38;5;241m.\u001b[39mreindex_indexer(\n\u001b[0;32m    849\u001b[0m         join_index,\n\u001b[0;32m    850\u001b[0m         left_indexer,\n\u001b[1;32m   (...)\u001b[0m\n\u001b[0;32m    855\u001b[0m         use_na_proxy\u001b[38;5;241m=\u001b[39m\u001b[38;5;28;01mTrue\u001b[39;00m,\n\u001b[0;32m    856\u001b[0m     )\n",
      "File \u001b[1;32m~\\anaconda3\\Lib\\site-packages\\pandas\\core\\reshape\\merge.py:2757\u001b[0m, in \u001b[0;36m_items_overlap_with_suffix\u001b[1;34m(left, right, suffixes)\u001b[0m\n\u001b[0;32m   2755\u001b[0m     dups\u001b[38;5;241m.\u001b[39mextend(rlabels[(rlabels\u001b[38;5;241m.\u001b[39mduplicated()) \u001b[38;5;241m&\u001b[39m (\u001b[38;5;241m~\u001b[39mright\u001b[38;5;241m.\u001b[39mduplicated())]\u001b[38;5;241m.\u001b[39mtolist())\n\u001b[0;32m   2756\u001b[0m \u001b[38;5;28;01mif\u001b[39;00m dups:\n\u001b[1;32m-> 2757\u001b[0m     \u001b[38;5;28;01mraise\u001b[39;00m MergeError(\n\u001b[0;32m   2758\u001b[0m         \u001b[38;5;124mf\u001b[39m\u001b[38;5;124m\"\u001b[39m\u001b[38;5;124mPassing \u001b[39m\u001b[38;5;124m'\u001b[39m\u001b[38;5;124msuffixes\u001b[39m\u001b[38;5;124m'\u001b[39m\u001b[38;5;124m which cause duplicate columns \u001b[39m\u001b[38;5;132;01m{\u001b[39;00m\u001b[38;5;28mset\u001b[39m(dups)\u001b[38;5;132;01m}\u001b[39;00m\u001b[38;5;124m is \u001b[39m\u001b[38;5;124m\"\u001b[39m\n\u001b[0;32m   2759\u001b[0m         \u001b[38;5;124mf\u001b[39m\u001b[38;5;124m\"\u001b[39m\u001b[38;5;124mnot allowed.\u001b[39m\u001b[38;5;124m\"\u001b[39m,\n\u001b[0;32m   2760\u001b[0m     )\n\u001b[0;32m   2762\u001b[0m \u001b[38;5;28;01mreturn\u001b[39;00m llabels, rlabels\n",
      "\u001b[1;31mMergeError\u001b[0m: Passing 'suffixes' which cause duplicate columns {'sectorKey_x', 'industry_x', 'industryDisp_x', 'sector_x', 'industryKey_x', 'sectorDisp_x'} is not allowed."
     ]
    }
   ],
   "source": [
    "#using each symbol of master and getting yahoo finance data\n",
    "symbols = master['Symbol'].tolist()\n",
    "\n",
    "data_dict = {}\n",
    "# Fetch stock data using yfinance\n",
    "for ticker in symbols:\n",
    "    stock = yf.Ticker(ticker)\n",
    "    data = stock.info  # Retrieve stock information\n",
    "    # Add the data to the dictionary using the ticker symbol as the key\n",
    "    data_dict[ticker] = data\n",
    "# Convert the dictionary to a DataFrame\n",
    "stock_data_df = pd.DataFrame.from_dict(data_dict, orient='index').reset_index()\n",
    "stock_data_df.rename(columns={'index': 'Symbol'}, inplace=True)\n",
    "\n",
    "\n",
    "#MERGING\n",
    "master = master.merge(stock_data_df, on='Symbol', how='left')"
   ]
  },
  {
   "cell_type": "code",
   "execution_count": null,
   "id": "f3051090-a70a-448a-8f9a-208578a70a13",
   "metadata": {},
   "outputs": [],
   "source": [
    "#### Iteration of Watchlist Symbols"
   ]
  },
  {
   "cell_type": "markdown",
   "id": "d90d9409-09cc-4cc6-968d-0dc13f7cfd65",
   "metadata": {},
   "source": [
    "# Creating Master df with all calculations"
   ]
  },
  {
   "cell_type": "markdown",
   "id": "7dda9c5a-0693-45d8-a166-a0d02de367ad",
   "metadata": {},
   "source": [
    "DONT USE IF OFFLINE"
   ]
  },
  {
   "cell_type": "code",
   "execution_count": 364,
   "id": "3d168bb8-7483-494a-a009-617e2800b09a",
   "metadata": {},
   "outputs": [
    {
     "ename": "KeyError",
     "evalue": "'epsTrailingTwelveMonths'",
     "output_type": "error",
     "traceback": [
      "\u001b[1;31m---------------------------------------------------------------------------\u001b[0m",
      "\u001b[1;31mKeyError\u001b[0m                                  Traceback (most recent call last)",
      "File \u001b[1;32m~\\anaconda3\\Lib\\site-packages\\pandas\\core\\indexes\\base.py:3805\u001b[0m, in \u001b[0;36mIndex.get_loc\u001b[1;34m(self, key)\u001b[0m\n\u001b[0;32m   3804\u001b[0m \u001b[38;5;28;01mtry\u001b[39;00m:\n\u001b[1;32m-> 3805\u001b[0m     \u001b[38;5;28;01mreturn\u001b[39;00m \u001b[38;5;28mself\u001b[39m\u001b[38;5;241m.\u001b[39m_engine\u001b[38;5;241m.\u001b[39mget_loc(casted_key)\n\u001b[0;32m   3806\u001b[0m \u001b[38;5;28;01mexcept\u001b[39;00m \u001b[38;5;167;01mKeyError\u001b[39;00m \u001b[38;5;28;01mas\u001b[39;00m err:\n",
      "File \u001b[1;32mindex.pyx:167\u001b[0m, in \u001b[0;36mpandas._libs.index.IndexEngine.get_loc\u001b[1;34m()\u001b[0m\n",
      "File \u001b[1;32mindex.pyx:196\u001b[0m, in \u001b[0;36mpandas._libs.index.IndexEngine.get_loc\u001b[1;34m()\u001b[0m\n",
      "File \u001b[1;32mpandas\\\\_libs\\\\hashtable_class_helper.pxi:7081\u001b[0m, in \u001b[0;36mpandas._libs.hashtable.PyObjectHashTable.get_item\u001b[1;34m()\u001b[0m\n",
      "File \u001b[1;32mpandas\\\\_libs\\\\hashtable_class_helper.pxi:7089\u001b[0m, in \u001b[0;36mpandas._libs.hashtable.PyObjectHashTable.get_item\u001b[1;34m()\u001b[0m\n",
      "\u001b[1;31mKeyError\u001b[0m: 'epsTrailingTwelveMonths'",
      "\nThe above exception was the direct cause of the following exception:\n",
      "\u001b[1;31mKeyError\u001b[0m                                  Traceback (most recent call last)",
      "Cell \u001b[1;32mIn[364], line 4\u001b[0m\n\u001b[0;32m      1\u001b[0m \u001b[38;5;66;03m# --- Derived Metrics Using epsTrailingTwelveMonths ---\u001b[39;00m\n\u001b[0;32m      2\u001b[0m \n\u001b[0;32m      3\u001b[0m \u001b[38;5;66;03m# 1. Custom P/E (based on trailing 12-month EPS)\u001b[39;00m\n\u001b[1;32m----> 4\u001b[0m master[\u001b[38;5;124m'\u001b[39m\u001b[38;5;124mP/E (TTM)\u001b[39m\u001b[38;5;124m'\u001b[39m] \u001b[38;5;241m=\u001b[39m np\u001b[38;5;241m.\u001b[39mwhere(master[\u001b[38;5;124m'\u001b[39m\u001b[38;5;124mepsTrailingTwelveMonths\u001b[39m\u001b[38;5;124m'\u001b[39m] \u001b[38;5;241m>\u001b[39m \u001b[38;5;241m0\u001b[39m,\n\u001b[0;32m      5\u001b[0m                                \u001b[38;5;28mround\u001b[39m(master[\u001b[38;5;124m'\u001b[39m\u001b[38;5;124mPrice\u001b[39m\u001b[38;5;124m'\u001b[39m] \u001b[38;5;241m/\u001b[39m master[\u001b[38;5;124m'\u001b[39m\u001b[38;5;124mepsTrailingTwelveMonths\u001b[39m\u001b[38;5;124m'\u001b[39m], \u001b[38;5;241m1\u001b[39m),\n\u001b[0;32m      6\u001b[0m                                np\u001b[38;5;241m.\u001b[39mnan)\n\u001b[0;32m      8\u001b[0m \u001b[38;5;66;03m# 2. % From 52W High\u001b[39;00m\n\u001b[0;32m      9\u001b[0m master[\u001b[38;5;124m'\u001b[39m\u001b[38;5;132;01m% F\u001b[39;00m\u001b[38;5;124mrom 52W High\u001b[39m\u001b[38;5;124m'\u001b[39m] \u001b[38;5;241m=\u001b[39m \u001b[38;5;28mround\u001b[39m((master[\u001b[38;5;124m'\u001b[39m\u001b[38;5;124mPrice\u001b[39m\u001b[38;5;124m'\u001b[39m] \u001b[38;5;241m-\u001b[39m master[\u001b[38;5;124m'\u001b[39m\u001b[38;5;124mfiftyTwoWeekHigh\u001b[39m\u001b[38;5;124m'\u001b[39m]) \u001b[38;5;241m/\u001b[39m master[\u001b[38;5;124m'\u001b[39m\u001b[38;5;124mfiftyTwoWeekHigh\u001b[39m\u001b[38;5;124m'\u001b[39m] \u001b[38;5;241m*\u001b[39m \u001b[38;5;241m100\u001b[39m, \u001b[38;5;241m1\u001b[39m)\n",
      "File \u001b[1;32m~\\anaconda3\\Lib\\site-packages\\pandas\\core\\frame.py:4102\u001b[0m, in \u001b[0;36mDataFrame.__getitem__\u001b[1;34m(self, key)\u001b[0m\n\u001b[0;32m   4100\u001b[0m \u001b[38;5;28;01mif\u001b[39;00m \u001b[38;5;28mself\u001b[39m\u001b[38;5;241m.\u001b[39mcolumns\u001b[38;5;241m.\u001b[39mnlevels \u001b[38;5;241m>\u001b[39m \u001b[38;5;241m1\u001b[39m:\n\u001b[0;32m   4101\u001b[0m     \u001b[38;5;28;01mreturn\u001b[39;00m \u001b[38;5;28mself\u001b[39m\u001b[38;5;241m.\u001b[39m_getitem_multilevel(key)\n\u001b[1;32m-> 4102\u001b[0m indexer \u001b[38;5;241m=\u001b[39m \u001b[38;5;28mself\u001b[39m\u001b[38;5;241m.\u001b[39mcolumns\u001b[38;5;241m.\u001b[39mget_loc(key)\n\u001b[0;32m   4103\u001b[0m \u001b[38;5;28;01mif\u001b[39;00m is_integer(indexer):\n\u001b[0;32m   4104\u001b[0m     indexer \u001b[38;5;241m=\u001b[39m [indexer]\n",
      "File \u001b[1;32m~\\anaconda3\\Lib\\site-packages\\pandas\\core\\indexes\\base.py:3812\u001b[0m, in \u001b[0;36mIndex.get_loc\u001b[1;34m(self, key)\u001b[0m\n\u001b[0;32m   3807\u001b[0m     \u001b[38;5;28;01mif\u001b[39;00m \u001b[38;5;28misinstance\u001b[39m(casted_key, \u001b[38;5;28mslice\u001b[39m) \u001b[38;5;129;01mor\u001b[39;00m (\n\u001b[0;32m   3808\u001b[0m         \u001b[38;5;28misinstance\u001b[39m(casted_key, abc\u001b[38;5;241m.\u001b[39mIterable)\n\u001b[0;32m   3809\u001b[0m         \u001b[38;5;129;01mand\u001b[39;00m \u001b[38;5;28many\u001b[39m(\u001b[38;5;28misinstance\u001b[39m(x, \u001b[38;5;28mslice\u001b[39m) \u001b[38;5;28;01mfor\u001b[39;00m x \u001b[38;5;129;01min\u001b[39;00m casted_key)\n\u001b[0;32m   3810\u001b[0m     ):\n\u001b[0;32m   3811\u001b[0m         \u001b[38;5;28;01mraise\u001b[39;00m InvalidIndexError(key)\n\u001b[1;32m-> 3812\u001b[0m     \u001b[38;5;28;01mraise\u001b[39;00m \u001b[38;5;167;01mKeyError\u001b[39;00m(key) \u001b[38;5;28;01mfrom\u001b[39;00m \u001b[38;5;21;01merr\u001b[39;00m\n\u001b[0;32m   3813\u001b[0m \u001b[38;5;28;01mexcept\u001b[39;00m \u001b[38;5;167;01mTypeError\u001b[39;00m:\n\u001b[0;32m   3814\u001b[0m     \u001b[38;5;66;03m# If we have a listlike key, _check_indexing_error will raise\u001b[39;00m\n\u001b[0;32m   3815\u001b[0m     \u001b[38;5;66;03m#  InvalidIndexError. Otherwise we fall through and re-raise\u001b[39;00m\n\u001b[0;32m   3816\u001b[0m     \u001b[38;5;66;03m#  the TypeError.\u001b[39;00m\n\u001b[0;32m   3817\u001b[0m     \u001b[38;5;28mself\u001b[39m\u001b[38;5;241m.\u001b[39m_check_indexing_error(key)\n",
      "\u001b[1;31mKeyError\u001b[0m: 'epsTrailingTwelveMonths'"
     ]
    }
   ],
   "source": [
    "# --- Derived Metrics Using epsTrailingTwelveMonths ---\n",
    "\n",
    "# 1. Custom P/E (based on trailing 12-month EPS)\n",
    "master['P/E (TTM)'] = np.where(master['epsTrailingTwelveMonths'] > 0,\n",
    "                               round(master['Price'] / master['epsTrailingTwelveMonths'], 1),\n",
    "                               np.nan)\n",
    "\n",
    "# 2. % From 52W High\n",
    "master['% From 52W High'] = round((master['Price'] - master['fiftyTwoWeekHigh']) / master['fiftyTwoWeekHigh'] * 100, 1)\n",
    "\n",
    "# 3. % From 52W Low\n",
    "master['% From 52W Low'] = round((master['Price'] - master['fiftyTwoWeekLow']) / master['fiftyTwoWeekLow'] * 100, 1)\n",
    "\n",
    "# 4. Upside and Downside to 52W levels\n",
    "master['Upside to 52W High'] = round(master['fiftyTwoWeekHigh'] - master['Price'], 2)\n",
    "master['Downside to 52W Low'] = round(master['Price'] - master['fiftyTwoWeekLow'], 2)\n",
    "\n",
    "# 5. Risk/Reward Ratio\n",
    "master['Risk/Reward Ratio'] = round(master['Upside to 52W High'] / master['Downside to 52W Low'], 2)\n",
    "master.replace([np.inf, -np.inf], np.nan, inplace=True)\n",
    "\n",
    "# 6. Yield Spread (YF vs Cost-based Yield)\n",
    "master['Yield Spread %'] = round(master['dividendYield'] - master['Div Return %'], 1)\n",
    "\n",
    "# 7. P/E Spread\n",
    "master['P/E Spread'] = round(master['forwardEps'] - master['trailingEps'], 1)\n",
    "\n",
    "# 8. Weighted Beta\n",
    "master['Weighted Beta'] = round((master['Portfolio %'] / 100) * master['beta'], 3)\n",
    "\n",
    "# 9. Market Cap %\n",
    "total_market_cap = master['marketCap'].sum(skipna=True)\n",
    "master['Market Cap %'] = round((master['marketCap'] / total_market_cap) * 100, 2)\n",
    "\n",
    "# 10. Income Yield on Equity\n",
    "master['Income Yield on Equity %'] = round((master['12_Month_Div'] / master['Equity']) * 100, 1)"
   ]
  },
  {
   "cell_type": "markdown",
   "id": "0fba71f7-148f-4489-9478-098f12bacb89",
   "metadata": {},
   "source": [
    "#### Manually entering data points"
   ]
  },
  {
   "cell_type": "code",
   "execution_count": 367,
   "id": "ed4fb191-3d38-4e29-b642-ea200993fc79",
   "metadata": {},
   "outputs": [],
   "source": [
    "# Define the mapping for industry and sector\n",
    "mapping = {\n",
    "    'industry': 'Asset Management',\n",
    "    'industryKey': 'asset_management',\n",
    "    'industryDisp': 'Asset Management',\n",
    "    'sector': 'Financial Services',\n",
    "    'sectorKey': 'financial_services',\n",
    "    'sectorDisp': 'Financial Services'\n",
    "}\n",
    "\n",
    "# Apply the mapping only for JEPI\n",
    "for col, value in mapping.items():\n",
    "    master.loc[master['Symbol'] == 'JEPI', col] = value"
   ]
  },
  {
   "cell_type": "markdown",
   "id": "880eb363-ee27-4f6d-9b4e-1f300c76eacd",
   "metadata": {},
   "source": [
    "## Getting Robinhood Transactions & Deposits"
   ]
  },
  {
   "cell_type": "markdown",
   "id": "2313cae8-1197-482c-84fe-db3752eab69a",
   "metadata": {},
   "source": [
    "Need to copy and paste the Robinhood \"Recent History\" table in the Portfolio excel file in the Transactions sheet.  The output should be a single column with the first name as \"Recent.\""
   ]
  },
  {
   "cell_type": "code",
   "execution_count": 42,
   "id": "8ca8f4ff-c2f0-4b4a-8fe0-072cffc68e96",
   "metadata": {},
   "outputs": [
    {
     "name": "stdout",
     "output_type": "stream",
     "text": [
      "The 'Transactions' sheet is empty. Skipping processing.\n"
     ]
    }
   ],
   "source": [
    "# Import Transactions sheet\n",
    "transactions_df = pd.read_excel('Portfolio.xlsx', sheet_name='Transactions')\n",
    "\n",
    "if not transactions_df.empty:\n",
    "    # Use 'Recent' if it exists; otherwise, use the first column.\n",
    "    col_name = 'Recent' if 'Recent' in transactions_df.columns else transactions_df.columns[0]\n",
    "    \n",
    "    transactions_cleaned = []\n",
    "    current_transaction = []\n",
    "    \n",
    "    # Group rows into transactions using empty rows (NaN or empty strings) as delimiters.\n",
    "    for value in transactions_df[col_name]:\n",
    "        if pd.notna(value) and str(value).strip() != \"\":\n",
    "            current_transaction.append(value)\n",
    "        else:\n",
    "            if current_transaction:\n",
    "                transactions_cleaned.append(current_transaction)\n",
    "                current_transaction = []\n",
    "    if current_transaction:\n",
    "        transactions_cleaned.append(current_transaction)\n",
    "    \n",
    "    # Build structured data:\n",
    "    # For deposits, assume 3 rows (Description, Date, Amount);\n",
    "    # for buy/sell transactions, assume 4 rows (Description, Date, Amount, Details).\n",
    "    structured_data = []\n",
    "    for transaction in transactions_cleaned:\n",
    "        if re.search(r'deposit', str(transaction[0]), flags=re.IGNORECASE):\n",
    "            structured_data.append(transaction[:3])\n",
    "        else:\n",
    "            structured_data.append(transaction[:4])\n",
    "    \n",
    "    # Determine maximum number of columns.\n",
    "    max_cols = max(len(x) for x in structured_data)\n",
    "    column_names = [\"Description\", \"Date\", \"Amount\", \"Details\"]\n",
    "    df_columns = column_names[:max_cols]\n",
    "    \n",
    "    # Create a DataFrame.\n",
    "    structured_transactions = pd.DataFrame(structured_data, columns=df_columns)\n",
    "    \n",
    "    # Convert 'Date' to datetime and 'Amount' to numeric (if the columns exist).\n",
    "    if 'Date' in structured_transactions.columns:\n",
    "        structured_transactions['Date'] = pd.to_datetime(structured_transactions['Date'], errors='coerce')\n",
    "    if 'Amount' in structured_transactions.columns:\n",
    "        structured_transactions['Amount'] = pd.to_numeric(structured_transactions['Amount'], errors='coerce')\n",
    "    \n",
    "    # Function to process transactions for missing amount info.\n",
    "    def process_transactions(df):\n",
    "        for index, row in df.iterrows():\n",
    "            # Handle 'instant deposit' cases in a case-insensitive manner.\n",
    "            if re.search(r'instant deposit', str(row['Description']), flags=re.IGNORECASE):\n",
    "                if pd.isna(row['Amount']):\n",
    "                    amount = pd.to_numeric(''.join(filter(str.isdigit, str(row['Description']))), errors='coerce')\n",
    "                    df.at[index, 'Amount'] = amount\n",
    "            # If Amount is missing, try extracting it from Details.\n",
    "            if pd.isna(row['Amount']) and pd.notna(row.get('Details')):\n",
    "                amount_from_details = pd.to_numeric(''.join(filter(str.isdigit, str(row['Details']))), errors='coerce')\n",
    "                df.at[index, 'Amount'] = amount_from_details\n",
    "        return df\n",
    "    \n",
    "    transactions = process_transactions(structured_transactions)\n",
    "    \n",
    "    # --------------------------------------------------------\n",
    "    # Regex Functions for Company Name and Transaction Type\n",
    "    # --------------------------------------------------------\n",
    "    def extract_company_name(description):\n",
    "        # This regex captures the company name preceding \"Limit\" or \"Market\"\n",
    "        # followed by \"Buy\" or \"Sell\", regardless of case.\n",
    "        pattern = r'^(.*?)\\s+(?:Limit|Market)\\s+(Buy|Sell)$'\n",
    "        match = re.search(pattern, str(description), flags=re.IGNORECASE)\n",
    "        if match:\n",
    "            return match.group(1).strip()\n",
    "        return np.nan\n",
    "\n",
    "    def extract_transaction_type(description):\n",
    "        # This regex looks for \"buy\", \"sell\", or \"deposit\" anywhere in the description.\n",
    "        match = re.search(r'\\b(buy|sell|deposit)\\b', str(description), flags=re.IGNORECASE)\n",
    "        if match:\n",
    "            return match.group(1).capitalize()  # Standardize the capitalization.\n",
    "        return np.nan\n",
    "\n",
    "    # Create a 'Name' column using the company name extraction function.\n",
    "    transactions['Name'] = transactions['Description'].apply(extract_company_name)\n",
    "    \n",
    "    # Create a 'Buy_sell' column using the transaction type extraction function.\n",
    "    transactions['Buy_sell'] = transactions['Description'].apply(extract_transaction_type)\n",
    "    \n",
    "    # Initialize the 'Symbol' column.\n",
    "    transactions['Symbol'] = np.nan\n",
    "    \n",
    "    def update_symbol(row):\n",
    "        # Only attempt symbol lookup if 'Name' exists and 'Symbol' is NaN.\n",
    "        if pd.isna(row['Symbol']) and pd.notna(row['Name']):\n",
    "            company_name = row['Name']\n",
    "            # Use a case-insensitive search on the portfolio's Name column.\n",
    "            matches = portfolio[portfolio['Name'].str.contains(company_name, case=False, na=False)]\n",
    "            if not matches.empty and 'Symbol' in matches.columns:\n",
    "                return matches.iloc[0]['Symbol']\n",
    "        return row['Symbol']\n",
    "    \n",
    "    transactions['Symbol'] = transactions.apply(update_symbol, axis=1)\n",
    "    \n",
    "    # For Buy and Sell transactions, extract Shares and Price from the Details using regex.\n",
    "    transactions['Shares'] = transactions['Details'].str.extract(r'(\\d+)\\s+share', expand=True)\n",
    "    transactions['Price'] = transactions['Details'].str.extract(r'\\$(\\d+\\.?\\d*)', expand=True)\n",
    "    \n",
    "    transactions['Shares'] = pd.to_numeric(transactions['Shares'], errors='coerce')\n",
    "    transactions['Price'] = pd.to_numeric(transactions['Price'], errors='coerce')\n",
    "    \n",
    "    # Optionally, view the full transactions DataFrame.\n",
    "    print(\"Full Transactions DataFrame:\")\n",
    "    print(transactions.head(10))\n",
    "else:\n",
    "    print(\"The 'Transactions' sheet is empty. Skipping processing.\")\n"
   ]
  },
  {
   "cell_type": "markdown",
   "id": "bc7b0537-6110-47b7-b604-2caf075c60a7",
   "metadata": {},
   "source": [
    "# Updating transaction and deposit history"
   ]
  },
  {
   "cell_type": "code",
   "execution_count": 46,
   "id": "d222a879-4d72-41ea-862d-1fc72cd75464",
   "metadata": {},
   "outputs": [
    {
     "data": {
      "text/html": [
       "<div>\n",
       "<style scoped>\n",
       "    .dataframe tbody tr th:only-of-type {\n",
       "        vertical-align: middle;\n",
       "    }\n",
       "\n",
       "    .dataframe tbody tr th {\n",
       "        vertical-align: top;\n",
       "    }\n",
       "\n",
       "    .dataframe thead th {\n",
       "        text-align: right;\n",
       "    }\n",
       "</style>\n",
       "<table border=\"1\" class=\"dataframe\">\n",
       "  <thead>\n",
       "    <tr style=\"text-align: right;\">\n",
       "      <th></th>\n",
       "      <th>Description</th>\n",
       "      <th>Date</th>\n",
       "      <th>Amount</th>\n",
       "      <th>Details</th>\n",
       "      <th>Name</th>\n",
       "      <th>Buy_sell</th>\n",
       "      <th>Symbol</th>\n",
       "      <th>Shares</th>\n",
       "      <th>Price</th>\n",
       "      <th>Recent</th>\n",
       "      <th>Match</th>\n",
       "    </tr>\n",
       "  </thead>\n",
       "  <tbody>\n",
       "    <tr>\n",
       "      <th>0</th>\n",
       "      <td>Deposit to individual from CHASE COLLEGE</td>\n",
       "      <td>2025-04-08</td>\n",
       "      <td>500.00</td>\n",
       "      <td>NaN</td>\n",
       "      <td>NaN</td>\n",
       "      <td>Deposit</td>\n",
       "      <td>NaN</td>\n",
       "      <td>NaN</td>\n",
       "      <td>NaN</td>\n",
       "      <td>NaN</td>\n",
       "      <td>NaN</td>\n",
       "    </tr>\n",
       "    <tr>\n",
       "      <th>1</th>\n",
       "      <td>Dynex Capital Market Buy</td>\n",
       "      <td>2025-04-06</td>\n",
       "      <td>46.48</td>\n",
       "      <td>4 shares at $11.62</td>\n",
       "      <td>Dynex Capital</td>\n",
       "      <td>Buy</td>\n",
       "      <td>DX</td>\n",
       "      <td>4.0</td>\n",
       "      <td>11.62</td>\n",
       "      <td>NaN</td>\n",
       "      <td>Yes</td>\n",
       "    </tr>\n",
       "    <tr>\n",
       "      <th>2</th>\n",
       "      <td>Apple Hospitality REIT Market Buy</td>\n",
       "      <td>2025-04-06</td>\n",
       "      <td>44.40</td>\n",
       "      <td>4 shares at $11.10</td>\n",
       "      <td>Apple Hospitality REIT</td>\n",
       "      <td>Buy</td>\n",
       "      <td>APLE</td>\n",
       "      <td>4.0</td>\n",
       "      <td>11.10</td>\n",
       "      <td>NaN</td>\n",
       "      <td>Yes</td>\n",
       "    </tr>\n",
       "    <tr>\n",
       "      <th>3</th>\n",
       "      <td>JPMorgan Equity Premium Income Market Buy</td>\n",
       "      <td>2025-04-06</td>\n",
       "      <td>101.16</td>\n",
       "      <td>2 shares at $50.58</td>\n",
       "      <td>JPMorgan Equity Premium Income</td>\n",
       "      <td>Buy</td>\n",
       "      <td>JEPI</td>\n",
       "      <td>2.0</td>\n",
       "      <td>50.58</td>\n",
       "      <td>NaN</td>\n",
       "      <td>Yes</td>\n",
       "    </tr>\n",
       "    <tr>\n",
       "      <th>4</th>\n",
       "      <td>PennantPark Floating Rate Market Buy</td>\n",
       "      <td>2025-04-06</td>\n",
       "      <td>96.50</td>\n",
       "      <td>10 shares at $9.65</td>\n",
       "      <td>PennantPark Floating Rate</td>\n",
       "      <td>Buy</td>\n",
       "      <td>PFLT</td>\n",
       "      <td>10.0</td>\n",
       "      <td>9.65</td>\n",
       "      <td>NaN</td>\n",
       "      <td>Yes</td>\n",
       "    </tr>\n",
       "    <tr>\n",
       "      <th>...</th>\n",
       "      <td>...</td>\n",
       "      <td>...</td>\n",
       "      <td>...</td>\n",
       "      <td>...</td>\n",
       "      <td>...</td>\n",
       "      <td>...</td>\n",
       "      <td>...</td>\n",
       "      <td>...</td>\n",
       "      <td>...</td>\n",
       "      <td>...</td>\n",
       "      <td>...</td>\n",
       "    </tr>\n",
       "    <tr>\n",
       "      <th>99</th>\n",
       "      <td>Intel Limit Buy</td>\n",
       "      <td>2023-06-04</td>\n",
       "      <td>31.30</td>\n",
       "      <td>1 share at $31.30</td>\n",
       "      <td>Intel</td>\n",
       "      <td>Buy</td>\n",
       "      <td>INTC</td>\n",
       "      <td>1.0</td>\n",
       "      <td>31.30</td>\n",
       "      <td>NaN</td>\n",
       "      <td>Yes</td>\n",
       "    </tr>\n",
       "    <tr>\n",
       "      <th>100</th>\n",
       "      <td>AT&amp;T Limit Buy</td>\n",
       "      <td>2023-06-04</td>\n",
       "      <td>15.42</td>\n",
       "      <td>1 share at $15.42</td>\n",
       "      <td>AT&amp;T</td>\n",
       "      <td>Buy</td>\n",
       "      <td>T</td>\n",
       "      <td>1.0</td>\n",
       "      <td>15.42</td>\n",
       "      <td>NaN</td>\n",
       "      <td>Yes</td>\n",
       "    </tr>\n",
       "    <tr>\n",
       "      <th>101</th>\n",
       "      <td>Gladstone Capital Limit Buy</td>\n",
       "      <td>2023-06-04</td>\n",
       "      <td>9.45</td>\n",
       "      <td>1 share at $9.45</td>\n",
       "      <td>Gladstone Capital</td>\n",
       "      <td>Buy</td>\n",
       "      <td>GLAD</td>\n",
       "      <td>1.0</td>\n",
       "      <td>9.45</td>\n",
       "      <td>NaN</td>\n",
       "      <td>Yes</td>\n",
       "    </tr>\n",
       "    <tr>\n",
       "      <th>102</th>\n",
       "      <td>Apple Hospitality REIT Limit Buy</td>\n",
       "      <td>2023-06-04</td>\n",
       "      <td>30.56</td>\n",
       "      <td>2 shares at $15.28</td>\n",
       "      <td>Apple Hospitality REIT</td>\n",
       "      <td>Buy</td>\n",
       "      <td>APLE</td>\n",
       "      <td>2.0</td>\n",
       "      <td>15.28</td>\n",
       "      <td>NaN</td>\n",
       "      <td>Yes</td>\n",
       "    </tr>\n",
       "    <tr>\n",
       "      <th>103</th>\n",
       "      <td>NaN</td>\n",
       "      <td>NaT</td>\n",
       "      <td>NaN</td>\n",
       "      <td>NaN</td>\n",
       "      <td>NaN</td>\n",
       "      <td>NaN</td>\n",
       "      <td>NaN</td>\n",
       "      <td>NaN</td>\n",
       "      <td>NaN</td>\n",
       "      <td>8 shares at $12.70</td>\n",
       "      <td>No</td>\n",
       "    </tr>\n",
       "  </tbody>\n",
       "</table>\n",
       "<p>104 rows × 11 columns</p>\n",
       "</div>"
      ],
      "text/plain": [
       "                                   Description       Date  Amount  \\\n",
       "0     Deposit to individual from CHASE COLLEGE 2025-04-08  500.00   \n",
       "1                     Dynex Capital Market Buy 2025-04-06   46.48   \n",
       "2            Apple Hospitality REIT Market Buy 2025-04-06   44.40   \n",
       "3    JPMorgan Equity Premium Income Market Buy 2025-04-06  101.16   \n",
       "4         PennantPark Floating Rate Market Buy 2025-04-06   96.50   \n",
       "..                                         ...        ...     ...   \n",
       "99                             Intel Limit Buy 2023-06-04   31.30   \n",
       "100                             AT&T Limit Buy 2023-06-04   15.42   \n",
       "101                Gladstone Capital Limit Buy 2023-06-04    9.45   \n",
       "102           Apple Hospitality REIT Limit Buy 2023-06-04   30.56   \n",
       "103                                        NaN        NaT     NaN   \n",
       "\n",
       "                Details                            Name Buy_sell Symbol  \\\n",
       "0                   NaN                             NaN  Deposit    NaN   \n",
       "1    4 shares at $11.62                   Dynex Capital      Buy     DX   \n",
       "2    4 shares at $11.10          Apple Hospitality REIT      Buy   APLE   \n",
       "3    2 shares at $50.58  JPMorgan Equity Premium Income      Buy   JEPI   \n",
       "4    10 shares at $9.65       PennantPark Floating Rate      Buy   PFLT   \n",
       "..                  ...                             ...      ...    ...   \n",
       "99    1 share at $31.30                           Intel      Buy   INTC   \n",
       "100   1 share at $15.42                            AT&T      Buy      T   \n",
       "101    1 share at $9.45               Gladstone Capital      Buy   GLAD   \n",
       "102  2 shares at $15.28          Apple Hospitality REIT      Buy   APLE   \n",
       "103                 NaN                             NaN      NaN    NaN   \n",
       "\n",
       "     Shares  Price              Recent Match  \n",
       "0       NaN    NaN                 NaN   NaN  \n",
       "1       4.0  11.62                 NaN   Yes  \n",
       "2       4.0  11.10                 NaN   Yes  \n",
       "3       2.0  50.58                 NaN   Yes  \n",
       "4      10.0   9.65                 NaN   Yes  \n",
       "..      ...    ...                 ...   ...  \n",
       "99      1.0  31.30                 NaN   Yes  \n",
       "100     1.0  15.42                 NaN   Yes  \n",
       "101     1.0   9.45                 NaN   Yes  \n",
       "102     2.0  15.28                 NaN   Yes  \n",
       "103     NaN    NaN  8 shares at $12.70    No  \n",
       "\n",
       "[104 rows x 11 columns]"
      ]
     },
     "execution_count": 46,
     "metadata": {},
     "output_type": "execute_result"
    }
   ],
   "source": [
    "# Import Deposit History sheet\n",
    "deposit_history = pd.read_excel('Portfolio.xlsx', sheet_name='Deposit History')\n",
    "\n",
    "# Check if deposits exists and is defined before using it\n",
    "if 'deposits' in locals():\n",
    "    deposits = pd.concat([deposits, deposit_history], ignore_index=True).drop_duplicates()\n",
    "else:\n",
    "    deposits = deposit_history  # If deposits was never defined, just use deposit_history\n",
    "\n",
    "\n",
    "#\n",
    "transaction_history = pd.read_excel('Portfolio.xlsx', sheet_name='Transaction History')\n",
    "\n",
    "if 'transactions' not in globals():\n",
    "    transactions = transaction_history.copy()\n",
    "else:\n",
    "    # If not empty, concatenate with transaction_history and process\n",
    "    transactions = pd.concat([transactions, transaction_history])\n",
    "    transactions = transactions.drop_duplicates(subset=['Description', 'Date'], keep='last')\n",
    "    transactions = transactions.sort_values(by='Date', ascending=False)\n",
    "\n",
    "transactions"
   ]
  },
  {
   "cell_type": "markdown",
   "id": "21575bc8-579e-4bda-986c-92192addd283",
   "metadata": {},
   "source": [
    "# Yahoo Finance price history for each stock in Portfolio"
   ]
  },
  {
   "cell_type": "code",
   "execution_count": 62,
   "id": "7a6fab1f-20ea-478e-9e6f-bfd27a3a7f11",
   "metadata": {},
   "outputs": [
    {
     "name": "stdout",
     "output_type": "stream",
     "text": [
      "Fetching data for DX...\n",
      "YF.download() has changed argument auto_adjust default to True\n"
     ]
    },
    {
     "name": "stderr",
     "output_type": "stream",
     "text": [
      "[*********************100%***********************]  1 of 1 completed\n"
     ]
    },
    {
     "name": "stdout",
     "output_type": "stream",
     "text": [
      "Fetching data for APLE...\n"
     ]
    },
    {
     "name": "stderr",
     "output_type": "stream",
     "text": [
      "[*********************100%***********************]  1 of 1 completed\n"
     ]
    },
    {
     "name": "stdout",
     "output_type": "stream",
     "text": [
      "Fetching data for JEPI...\n"
     ]
    },
    {
     "name": "stderr",
     "output_type": "stream",
     "text": [
      "[*********************100%***********************]  1 of 1 completed\n"
     ]
    },
    {
     "name": "stdout",
     "output_type": "stream",
     "text": [
      "Fetching data for PFLT...\n"
     ]
    },
    {
     "name": "stderr",
     "output_type": "stream",
     "text": [
      "[*********************100%***********************]  1 of 1 completed\n"
     ]
    },
    {
     "name": "stdout",
     "output_type": "stream",
     "text": [
      "Fetching data for IIPR...\n"
     ]
    },
    {
     "name": "stderr",
     "output_type": "stream",
     "text": [
      "[*********************100%***********************]  1 of 1 completed\n"
     ]
    },
    {
     "name": "stdout",
     "output_type": "stream",
     "text": [
      "Fetching data for MAIN...\n"
     ]
    },
    {
     "name": "stderr",
     "output_type": "stream",
     "text": [
      "[*********************100%***********************]  1 of 1 completed\n"
     ]
    },
    {
     "name": "stdout",
     "output_type": "stream",
     "text": [
      "Fetching data for NVO...\n"
     ]
    },
    {
     "name": "stderr",
     "output_type": "stream",
     "text": [
      "[*********************100%***********************]  1 of 1 completed\n"
     ]
    },
    {
     "name": "stdout",
     "output_type": "stream",
     "text": [
      "Fetching data for ARMK...\n"
     ]
    },
    {
     "name": "stderr",
     "output_type": "stream",
     "text": [
      "[*********************100%***********************]  1 of 1 completed\n"
     ]
    },
    {
     "name": "stdout",
     "output_type": "stream",
     "text": [
      "Fetching data for AVGO...\n"
     ]
    },
    {
     "name": "stderr",
     "output_type": "stream",
     "text": [
      "[*********************100%***********************]  1 of 1 completed\n"
     ]
    },
    {
     "name": "stdout",
     "output_type": "stream",
     "text": [
      "Fetching data for STAG...\n"
     ]
    },
    {
     "name": "stderr",
     "output_type": "stream",
     "text": [
      "[*********************100%***********************]  1 of 1 completed\n"
     ]
    },
    {
     "name": "stdout",
     "output_type": "stream",
     "text": [
      "Fetching data for MO...\n"
     ]
    },
    {
     "name": "stderr",
     "output_type": "stream",
     "text": [
      "[*********************100%***********************]  1 of 1 completed\n"
     ]
    },
    {
     "name": "stdout",
     "output_type": "stream",
     "text": [
      "Fetching data for ET...\n"
     ]
    },
    {
     "name": "stderr",
     "output_type": "stream",
     "text": [
      "[*********************100%***********************]  1 of 1 completed\n"
     ]
    },
    {
     "name": "stdout",
     "output_type": "stream",
     "text": [
      "Fetching data for SAR...\n"
     ]
    },
    {
     "name": "stderr",
     "output_type": "stream",
     "text": [
      "[*********************100%***********************]  1 of 1 completed\n"
     ]
    },
    {
     "name": "stdout",
     "output_type": "stream",
     "text": [
      "Fetching data for ARLP...\n"
     ]
    },
    {
     "name": "stderr",
     "output_type": "stream",
     "text": [
      "[*********************100%***********************]  1 of 1 completed\n"
     ]
    },
    {
     "name": "stdout",
     "output_type": "stream",
     "text": [
      "Fetching data for O...\n"
     ]
    },
    {
     "name": "stderr",
     "output_type": "stream",
     "text": [
      "[*********************100%***********************]  1 of 1 completed\n",
      "[*********************100%***********************]  1 of 1 completed\n"
     ]
    },
    {
     "name": "stdout",
     "output_type": "stream",
     "text": [
      "Fetching data for HAFN...\n",
      "Fetching data for SGOV...\n"
     ]
    },
    {
     "name": "stderr",
     "output_type": "stream",
     "text": [
      "[*********************100%***********************]  1 of 1 completed\n"
     ]
    },
    {
     "name": "stdout",
     "output_type": "stream",
     "text": [
      "Fetching data for AQN...\n"
     ]
    },
    {
     "name": "stderr",
     "output_type": "stream",
     "text": [
      "[*********************100%***********************]  1 of 1 completed\n"
     ]
    },
    {
     "name": "stdout",
     "output_type": "stream",
     "text": [
      "Fetching data for GLAD...\n"
     ]
    },
    {
     "name": "stderr",
     "output_type": "stream",
     "text": [
      "[*********************100%***********************]  1 of 1 completed\n",
      "[*********************100%***********************]  1 of 1 completed\n"
     ]
    },
    {
     "name": "stdout",
     "output_type": "stream",
     "text": [
      "Fetching data for WEAV...\n",
      "Fetching data for TAIT...\n"
     ]
    },
    {
     "name": "stderr",
     "output_type": "stream",
     "text": [
      "[*********************100%***********************]  1 of 1 completed\n"
     ]
    },
    {
     "name": "stdout",
     "output_type": "stream",
     "text": [
      "Fetching data for T...\n"
     ]
    },
    {
     "name": "stderr",
     "output_type": "stream",
     "text": [
      "[*********************100%***********************]  1 of 1 completed\n"
     ]
    },
    {
     "name": "stdout",
     "output_type": "stream",
     "text": [
      "Fetching data for INTC...\n"
     ]
    },
    {
     "name": "stderr",
     "output_type": "stream",
     "text": [
      "[*********************100%***********************]  1 of 1 completed\n"
     ]
    },
    {
     "name": "stdout",
     "output_type": "stream",
     "text": [
      "Fetching data for ^GSPC...\n"
     ]
    },
    {
     "name": "stderr",
     "output_type": "stream",
     "text": [
      "[*********************100%***********************]  1 of 1 completed\n"
     ]
    }
   ],
   "source": [
    "import yfinance as yf\n",
    "import pandas as pd\n",
    "from datetime import datetime\n",
    "from dateutil.relativedelta import relativedelta\n",
    "\n",
    "# Calculate the start date (13 years ago)\n",
    "start_date = datetime.now() - relativedelta(years=13)\n",
    "\n",
    "symbol_dataframes = {}\n",
    "\n",
    "# Assume 'transactions' is a DataFrame containing the 'Symbol' column\n",
    "# Add S&P 500 ticker to the list of symbols\n",
    "symbols = list(transactions['Symbol'].unique()) + [\"^GSPC\"]\n",
    "symbols = [s for s in symbols if pd.notnull(s)]\n",
    "\n",
    "for symbol in symbols:\n",
    "    try:\n",
    "        print(f\"Fetching data for {symbol}...\")\n",
    "        # Fetch historical data for the symbol using the start parameter\n",
    "        data = yf.download(symbol, start=start_date)\n",
    "        \n",
    "        # Calculate moving averages\n",
    "        data['MA50'] = data['Close'].rolling(window=50).mean()\n",
    "        data['MA100'] = data['Close'].rolling(window=100).mean()\n",
    "        data['MA200'] = data['Close'].rolling(window=200).mean()\n",
    "\n",
    "        # Calculate Bollinger Bands (50-day)\n",
    "        data['BB50_Std'] = data['Close'].rolling(window=50).std()\n",
    "        data['BB50_Upper'] = data['MA50'] + (2 * data['BB50_Std'])\n",
    "        data['BB50_Lower'] = data['MA50'] - (2 * data['BB50_Std'])\n",
    "\n",
    "        # Calculate Bollinger Bands (100-day)\n",
    "        data['BB100_Std'] = data['Close'].rolling(window=100).std()\n",
    "        data['BB100_Upper'] = data['MA100'] + (2 * data['BB100_Std'])\n",
    "        data['BB100_Lower'] = data['MA100'] - (2 * data['BB100_Std'])\n",
    "\n",
    "        # Calculate Bollinger Bands (200-day)\n",
    "        data['BB200_Std'] = data['Close'].rolling(window=200).std()\n",
    "        data['BB200_Upper'] = data['MA200'] + (2 * data['BB200_Std'])\n",
    "        data['BB200_Lower'] = data['MA200'] - (2 * data['BB200_Std'])\n",
    "\n",
    "        # Drop the standard deviation columns (optional)\n",
    "        data.drop(columns=['BB50_Std', 'BB100_Std', 'BB200_Std'], inplace=True)\n",
    "\n",
    "        # ----- MACD Calculation Start -----\n",
    "        # Calculate the 12-period and 26-period EMAs of the closing prices\n",
    "        data['EMA12'] = data['Close'].ewm(span=12, adjust=False).mean()\n",
    "        data['EMA26'] = data['Close'].ewm(span=26, adjust=False).mean()\n",
    "        \n",
    "        # MACD Line: difference between the two EMAs\n",
    "        data['MACD'] = data['EMA12'] - data['EMA26']\n",
    "        \n",
    "        # Signal Line: 9-period EMA of the MACD Line\n",
    "        data['Signal_Line'] = data['MACD'].ewm(span=9, adjust=False).mean()\n",
    "        \n",
    "        # Histogram: difference between MACD and Signal Line (optional)\n",
    "        data['MACD_Histogram'] = data['MACD'] - data['Signal_Line']\n",
    "        # ----- MACD Calculation End -----\n",
    "\n",
    "        # ----- RSI Calculation Start -----\n",
    "        rsi_period = 14\n",
    "        delta = data['Close'].diff()\n",
    "\n",
    "        # Separate gains and losses\n",
    "        gain = delta.where(delta > 0, 0)\n",
    "        loss = -delta.where(delta < 0, 0)\n",
    "        \n",
    "        # Calculate the rolling averages of gains and losses\n",
    "        avg_gain = gain.rolling(window=rsi_period, min_periods=rsi_period).mean()\n",
    "        avg_loss = loss.rolling(window=rsi_period, min_periods=rsi_period).mean()\n",
    "        \n",
    "        # Calculate the Relative Strength (RS)\n",
    "        rs = avg_gain / avg_loss\n",
    "        \n",
    "        # Compute RSI\n",
    "        data['RSI'] = 100 - (100 / (1 + rs))\n",
    "        # ----- RSI Calculation End -----\n",
    "\n",
    "        # Store the DataFrame in the dictionary\n",
    "        symbol_dataframes[symbol] = data\n",
    "    except Exception as e:\n",
    "        print(f\"Failed to fetch data for {symbol}: {e}\")\n",
    "\n",
    "# Optional: If any of your DataFrames have MultiIndex columns, simplify them\n",
    "for symbol, df in symbol_dataframes.items():\n",
    "    if isinstance(df.columns, pd.MultiIndex):  # Check if columns are MultiIndex\n",
    "        df.columns = [col[0] if isinstance(col, tuple) else col for col in df.columns]\n"
   ]
  },
  {
   "cell_type": "markdown",
   "id": "35831b01-3162-4e01-a7ee-e34adb08351d",
   "metadata": {},
   "source": [
    "Export each DataFrame to a different sheet in an Excel file"
   ]
  },
  {
   "cell_type": "code",
   "execution_count": 65,
   "id": "3af76982-2bf2-44e9-bfdb-04f03507e34d",
   "metadata": {},
   "outputs": [
    {
     "name": "stdout",
     "output_type": "stream",
     "text": [
      "Data successfully exported to portfolio_data.xlsx\n"
     ]
    }
   ],
   "source": [
    "output_file = 'portfolio_data.xlsx'\n",
    "with pd.ExcelWriter(output_file, engine='openpyxl') as writer:\n",
    "    for symbol, df in symbol_dataframes.items():\n",
    "        # Excel sheet names have a 31 character limit and cannot contain some characters.\n",
    "        # Here, we trim the symbol name if needed.\n",
    "        sheet_name = symbol[:31]\n",
    "        df.to_excel(writer, sheet_name=sheet_name)\n",
    "\n",
    "\n",
    "print(f\"Data successfully exported to {output_file}\")"
   ]
  },
  {
   "cell_type": "markdown",
   "id": "5aa8ec65-d5c7-4e0b-8c42-1a8945873455",
   "metadata": {},
   "source": [
    "## IMPORT HERE INSTEAD OF API"
   ]
  },
  {
   "cell_type": "markdown",
   "id": "e392ca9d-a82d-46e7-8031-b892d73caabc",
   "metadata": {},
   "source": [
    "Do not Use if useing AP"
   ]
  },
  {
   "cell_type": "code",
   "execution_count": 67,
   "id": "96cae2b3-e2f4-4aaf-a383-33cf6c053572",
   "metadata": {},
   "outputs": [],
   "source": [
    "portfolio_file = 'portfolio_data.xlsx'\n",
    "xls = pd.ExcelFile(portfolio_file)\n",
    "symbol_dataframes = {}\n",
    "\n",
    "for sheet in xls.sheet_names:\n",
    "    symbol_dataframes[sheet] = pd.read_excel(portfolio_file, sheet_name=sheet)\n"
   ]
  },
  {
   "cell_type": "markdown",
   "id": "6cabfbd1-02ea-46ec-961d-de40f6922c9d",
   "metadata": {},
   "source": [
    "# Executing Match"
   ]
  },
  {
   "cell_type": "code",
   "execution_count": 69,
   "id": "fd921145-bed8-4afb-aba5-c84ffbb4de66",
   "metadata": {},
   "outputs": [],
   "source": [
    "# checking references to yahoo finance date as needed for display\n",
    "# Ensure both transactions['Date'] and symbol_dataframes indices are datetime\n",
    "transactions['Date'] = pd.to_datetime(transactions['Date'])\n",
    "for symbol, df in symbol_dataframes.items():\n",
    "    symbol_dataframes[symbol].index = pd.to_datetime(df.index)\n",
    "\n",
    "def check_date_match(row):\n",
    "    # Skip rows with a deposit\n",
    "    if row['Buy_sell'] == 'Deposit':\n",
    "        return None  # or you can use an empty string ''\n",
    "\n",
    "    symbol = row['Symbol']\n",
    "    trans_date = row['Date']\n",
    "\n",
    "    # If the symbol isn’t in our dictionary, return 'No'\n",
    "    if symbol not in symbol_dataframes:\n",
    "        return 'No'\n",
    "\n",
    "    df = symbol_dataframes[symbol]\n",
    "    \n",
    "    # Use searchsorted to get the insertion position for trans_date in the sorted index.\n",
    "    pos = df.index.searchsorted(trans_date)\n",
    "    \n",
    "    # If pos is within the index, then either the transaction date or the next available date exists.\n",
    "    if pos < len(df.index):\n",
    "        matched_date = df.index[pos]\n",
    "        # Optionally, you could compare if matched_date == trans_date or is the next available day.\n",
    "        # For now, we simply return 'Yes' if a candidate exists.\n",
    "        return 'Yes'\n",
    "    else:\n",
    "        return 'No'\n",
    "\n",
    "# Apply the function to each row to create the 'Match' column.\n",
    "transactions['Match'] = transactions.apply(check_date_match, axis=1)\n",
    "\n",
    "#### Exporting updated shit"
   ]
  },
  {
   "cell_type": "markdown",
   "id": "d64aaaf3-4086-4ebe-a088-46b3638c9018",
   "metadata": {},
   "source": [
    "# Importing Watchlist"
   ]
  },
  {
   "cell_type": "code",
   "execution_count": 72,
   "id": "bb3e8586-f0bc-472d-a8ea-d7d4aa5525aa",
   "metadata": {},
   "outputs": [],
   "source": [
    "# Import Deposit History sheet\n",
    "watchlist = pd.read_excel('Portfolio.xlsx', sheet_name='Watchlist')"
   ]
  },
  {
   "cell_type": "code",
   "execution_count": 74,
   "id": "9ffef6a9-0153-4944-825c-ad7c5dbde2a0",
   "metadata": {},
   "outputs": [
    {
     "name": "stderr",
     "output_type": "stream",
     "text": [
      "[*********************100%***********************]  1 of 1 completed"
     ]
    },
    {
     "name": "stdout",
     "output_type": "stream",
     "text": [
      "Fetching data for CRWD...\n"
     ]
    },
    {
     "name": "stderr",
     "output_type": "stream",
     "text": [
      "\n",
      "[*********************100%***********************]  1 of 1 completed"
     ]
    },
    {
     "name": "stdout",
     "output_type": "stream",
     "text": [
      "Fetching data for PANW...\n"
     ]
    },
    {
     "name": "stderr",
     "output_type": "stream",
     "text": [
      "\n",
      "[*********************100%***********************]  1 of 1 completed\n"
     ]
    },
    {
     "name": "stdout",
     "output_type": "stream",
     "text": [
      "Fetching data for CRWV...\n",
      "Fetching data for FRT...\n"
     ]
    },
    {
     "name": "stderr",
     "output_type": "stream",
     "text": [
      "[*********************100%***********************]  1 of 1 completed\n",
      "[*********************100%***********************]  1 of 1 completed\n"
     ]
    },
    {
     "name": "stdout",
     "output_type": "stream",
     "text": [
      "Fetching data for BAM...\n",
      "Fetching data for AVGO...\n"
     ]
    },
    {
     "name": "stderr",
     "output_type": "stream",
     "text": [
      "[*********************100%***********************]  1 of 1 completed\n"
     ]
    },
    {
     "name": "stdout",
     "output_type": "stream",
     "text": [
      "Fetching data for BDDY...\n"
     ]
    },
    {
     "name": "stderr",
     "output_type": "stream",
     "text": [
      "[*********************100%***********************]  1 of 1 completed\n",
      "\n",
      "1 Failed download:\n",
      "['BDDY']: YFPricesMissingError('possibly delisted; no price data found  (period=10y) (Yahoo error = \"No data found, symbol may be delisted\")')\n"
     ]
    },
    {
     "name": "stdout",
     "output_type": "stream",
     "text": [
      "Fetching data for EPD...\n"
     ]
    },
    {
     "name": "stderr",
     "output_type": "stream",
     "text": [
      "[*********************100%***********************]  1 of 1 completed\n",
      "[*********************100%***********************]  1 of 1 completed\n"
     ]
    },
    {
     "name": "stdout",
     "output_type": "stream",
     "text": [
      "Fetching data for ARIS...\n",
      "Fetching data for EPR...\n"
     ]
    },
    {
     "name": "stderr",
     "output_type": "stream",
     "text": [
      "[*********************100%***********************]  1 of 1 completed\n",
      "[*********************100%***********************]  1 of 1 completed"
     ]
    },
    {
     "name": "stdout",
     "output_type": "stream",
     "text": [
      "Fetching data for ^GSPC...\n"
     ]
    },
    {
     "name": "stderr",
     "output_type": "stream",
     "text": [
      "\n"
     ]
    }
   ],
   "source": [
    "symbol_dataframes1 = {}\n",
    "\n",
    "\n",
    "\n",
    "# Assume 'watchlist' is a DataFrame containing the 'Symbol' column\n",
    "# Add S&P 500 ticker to the list of symbols1\n",
    "symbols1 = list(watchlist['Symbol'].unique()) + [\"^GSPC\"]\n",
    "symbols1 = [s for s in symbols1 if pd.notnull(s)]\n",
    "\n",
    "\n",
    "\n",
    "\n",
    "for symbol1 in symbols1:\n",
    "    try:\n",
    "        print(f\"Fetching data for {symbol1}...\")\n",
    "        # Fetch historical data for the symbol1\n",
    "        data = yf.download(symbol1, period=\"10y\")\n",
    "        \n",
    "        # Calculate moving averages\n",
    "        data['MA50'] = data['Close'].rolling(window=50).mean()\n",
    "        data['MA100'] = data['Close'].rolling(window=100).mean()\n",
    "        data['MA200'] = data['Close'].rolling(window=200).mean()\n",
    "\n",
    "        # Calculate Bollinger Bands (50-day)\n",
    "        data['BB50_Std'] = data['Close'].rolling(window=50).std()\n",
    "        data['BB50_Upper'] = data['MA50'] + (2 * data['BB50_Std'])\n",
    "        data['BB50_Lower'] = data['MA50'] - (2 * data['BB50_Std'])\n",
    "\n",
    "        # Calculate Bollinger Bands (100-day)\n",
    "        data['BB100_Std'] = data['Close'].rolling(window=100).std()\n",
    "        data['BB100_Upper'] = data['MA100'] + (2 * data['BB100_Std'])\n",
    "        data['BB100_Lower'] = data['MA100'] - (2 * data['BB100_Std'])\n",
    "\n",
    "        # Calculate Bollinger Bands (200-day)\n",
    "        data['BB200_Std'] = data['Close'].rolling(window=200).std()\n",
    "        data['BB200_Upper'] = data['MA200'] + (2 * data['BB200_Std'])\n",
    "        data['BB200_Lower'] = data['MA200'] - (2 * data['BB200_Std'])\n",
    "\n",
    "        # Drop the standard deviation columns (optional)\n",
    "        data.drop(columns=['BB50_Std', 'BB100_Std', 'BB200_Std'], inplace=True)\n",
    "\n",
    "        # ----- MACD Calculation Start -----\n",
    "        # Calculate the 12-period and 26-period EMAs of the closing prices\n",
    "        data['EMA12'] = data['Close'].ewm(span=12, adjust=False).mean()\n",
    "        data['EMA26'] = data['Close'].ewm(span=26, adjust=False).mean()\n",
    "        \n",
    "        # MACD Line: difference between the two EMAs\n",
    "        data['MACD'] = data['EMA12'] - data['EMA26']\n",
    "        \n",
    "        # Signal Line: 9-period EMA of the MACD Line\n",
    "        data['Signal_Line'] = data['MACD'].ewm(span=9, adjust=False).mean()\n",
    "        \n",
    "        # Histogram: difference between MACD and Signal Line (optional)\n",
    "        data['MACD_Histogram'] = data['MACD'] - data['Signal_Line']\n",
    "        # ----- MACD Calculation End -----\n",
    "\n",
    "        # ----- RSI Calculation Start -----\n",
    "        rsi_period = 14\n",
    "        delta = data['Close'].diff()\n",
    "\n",
    "        # Separate gains and losses\n",
    "        gain = delta.where(delta > 0, 0)\n",
    "        loss = -delta.where(delta < 0, 0)\n",
    "        \n",
    "        # Calculate the rolling averages of gains and losses\n",
    "        avg_gain = gain.rolling(window=rsi_period, min_periods=rsi_period).mean()\n",
    "        avg_loss = loss.rolling(window=rsi_period, min_periods=rsi_period).mean()\n",
    "        \n",
    "        # Calculate the Relative Strength (RS)\n",
    "        rs = avg_gain / avg_loss\n",
    "        \n",
    "        # Compute RSI\n",
    "        data['RSI'] = 100 - (100 / (1 + rs))\n",
    "        # ----- RSI Calculation End -----\n",
    "\n",
    "        # Store the DataFrame in the dictionary\n",
    "        symbol_dataframes1[symbol1] = data\n",
    "    except Exception as e:\n",
    "        print(f\"Failed to fetch data for {symbol1}: {e}\")\n",
    "\n",
    "# Optional: If any of your DataFrames have MultiIndex columns, simplify them\n",
    "for symbol1, df in symbol_dataframes1.items():\n",
    "    if isinstance(df.columns, pd.MultiIndex):  # Check if columns are MultiIndex\n",
    "        df.columns = [col[0] if isinstance(col, tuple) else col for col in df.columns]\n"
   ]
  },
  {
   "cell_type": "markdown",
   "id": "eb66696a-28c0-4b87-8876-5ffcad5d6fe8",
   "metadata": {},
   "source": [
    "Exporting watchlist stock data off-grid use"
   ]
  },
  {
   "cell_type": "code",
   "execution_count": 77,
   "id": "3e9cb12d-c4d7-4cc3-add1-aca2a0dd3b5b",
   "metadata": {},
   "outputs": [],
   "source": [
    "output_file = 'watchlist_data.xlsx'\n",
    "with pd.ExcelWriter(output_file, engine='openpyxl') as writer:\n",
    "    for symbol, df in symbol_dataframes1.items():\n",
    "        # Excel sheet names have a 31 character limit and cannot contain some characters.\n",
    "        # Here, we trim the symbol name if needed.\n",
    "        sheet_name = symbol[:31]\n",
    "        df.to_excel(writer, sheet_name=sheet_name)"
   ]
  },
  {
   "cell_type": "markdown",
   "id": "2434dd28-67dc-4a77-afa0-7bdb3f55505c",
   "metadata": {},
   "source": [
    "-gridImporting when off "
   ]
  },
  {
   "cell_type": "code",
   "execution_count": 79,
   "id": "3d1b10af-4e89-4267-af13-c89e3f0a8d9e",
   "metadata": {},
   "outputs": [],
   "source": [
    "watchlist_file = 'watchlist_data.xlsx'\n",
    "xls = pd.ExcelFile(watchlist_file)\n",
    "symbol_dataframes1 = {}\n",
    "\n",
    "for sheet in xls.sheet_names:\n",
    "    symbol_dataframes1[sheet] = pd.read_excel(watchlist_file, sheet_name=sheet)"
   ]
  },
  {
   "cell_type": "markdown",
   "id": "ab893c50-5383-4790-9183-45c39299fd71",
   "metadata": {},
   "source": [
    "# EXPORTING"
   ]
  },
  {
   "cell_type": "code",
   "execution_count": null,
   "id": "5f1b6737-68b8-4496-81b8-cf97b98d467f",
   "metadata": {},
   "outputs": [],
   "source": []
  },
  {
   "cell_type": "code",
   "execution_count": null,
   "id": "03180f4b-ef8c-47fb-9710-29a9848908ea",
   "metadata": {},
   "outputs": [],
   "source": []
  },
  {
   "cell_type": "code",
   "execution_count": 83,
   "id": "437730b9-5222-4466-b1f0-a7d7aa25b1b9",
   "metadata": {},
   "outputs": [],
   "source": [
    "#getting shit\n",
    "strategy = pd.read_excel('Portfolio.xlsx', sheet_name='Strategy')\n",
    "plays = pd.read_excel('Portfolio.xlsx', sheet_name='Plays')\n",
    "watchlist_b = pd.read_excel('Portfolio.xlsx', sheet_name='Strategy')"
   ]
  },
  {
   "cell_type": "code",
   "execution_count": 99,
   "id": "86c43058-a6ea-47dd-8ee2-3239b767cfda",
   "metadata": {},
   "outputs": [],
   "source": [
    "master.rename(columns=lambda col: col[:-2] if col.endswith('_x') else col, inplace=True)\n"
   ]
  },
  {
   "cell_type": "code",
   "execution_count": 101,
   "id": "ba8037e5-cc96-430a-ac91-c5c611248810",
   "metadata": {},
   "outputs": [
    {
     "name": "stdout",
     "output_type": "stream",
     "text": [
      "Excel file 'Portfolio_test.xlsx' created successfully!\n"
     ]
    }
   ],
   "source": [
    "#Define the file name\n",
    "file_name = \"Portfolio_test.xlsx\"\n",
    "\n",
    "# Write DataFrames to Excel\n",
    "with pd.ExcelWriter(file_name, engine='openpyxl') as writer:\n",
    "    # Create empty sheets\n",
    "    pd.DataFrame().to_excel(writer, sheet_name='Portfolio', index=False)\n",
    "    pd.DataFrame().to_excel(writer, sheet_name='Dividends', index=False)\n",
    "    pd.DataFrame().to_excel(writer, sheet_name='Transactions', index=False)\n",
    "    \n",
    "    # Write DataFrames to their respective sheets\n",
    "    master.to_excel(writer, sheet_name='Master', index=False)\n",
    "    watchlist.to_excel(writer, sheet_name='Watchlist', index=False)\n",
    "    dividends.to_excel(writer, sheet_name='Dividend History', index=False)\n",
    "    transactions.to_excel(writer, sheet_name='Transaction History', index=False)\n",
    "    deposits.to_excel(writer, sheet_name='Deposit History', index=False)\n",
    "    strategy.to_excel(writer, sheet_name='Strategy', index=False)\n",
    "    plays.to_excel(writer, sheet_name='Plays', index=False)\n",
    "    watchlist_b.to_excel(writer, sheet_name='Watchlist B', index=False)\n",
    "\n",
    "print(f\"Excel file '{file_name}' created successfully!\")"
   ]
  },
  {
   "cell_type": "markdown",
   "id": "b0f0fd47-54ef-4313-9e4d-a27e363c64fe",
   "metadata": {},
   "source": [
    "# KEY STATISTICS"
   ]
  },
  {
   "cell_type": "markdown",
   "id": "35984ee3-83b5-4483-b9ea-ae988c67890e",
   "metadata": {},
   "source": [
    "Use with table_data"
   ]
  },
  {
   "cell_type": "code",
   "execution_count": 103,
   "id": "24c42c44-0841-4148-b8cc-3937de7dd371",
   "metadata": {},
   "outputs": [
    {
     "data": {
      "text/html": [
       "<div>\n",
       "<style scoped>\n",
       "    .dataframe tbody tr th:only-of-type {\n",
       "        vertical-align: middle;\n",
       "    }\n",
       "\n",
       "    .dataframe tbody tr th {\n",
       "        vertical-align: top;\n",
       "    }\n",
       "\n",
       "    .dataframe thead th {\n",
       "        text-align: right;\n",
       "    }\n",
       "</style>\n",
       "<table border=\"1\" class=\"dataframe\">\n",
       "  <thead>\n",
       "    <tr style=\"text-align: right;\">\n",
       "      <th></th>\n",
       "      <th>Name</th>\n",
       "      <th>Symbol</th>\n",
       "      <th>industry</th>\n",
       "      <th>industry</th>\n",
       "      <th>dividendRate</th>\n",
       "      <th>dividendYield</th>\n",
       "      <th>industry</th>\n",
       "      <th>industry</th>\n",
       "    </tr>\n",
       "  </thead>\n",
       "  <tbody>\n",
       "    <tr>\n",
       "      <th>7</th>\n",
       "      <td>Aramark</td>\n",
       "      <td>ARMK</td>\n",
       "      <td>Specialty Business Services</td>\n",
       "      <td>NaN</td>\n",
       "      <td>0.42</td>\n",
       "      <td>1.27</td>\n",
       "      <td>Specialty Business Services</td>\n",
       "      <td>NaN</td>\n",
       "    </tr>\n",
       "    <tr>\n",
       "      <th>3</th>\n",
       "      <td>Broadcom</td>\n",
       "      <td>AVGO</td>\n",
       "      <td>Semiconductors</td>\n",
       "      <td>NaN</td>\n",
       "      <td>2.36</td>\n",
       "      <td>1.30</td>\n",
       "      <td>Semiconductors</td>\n",
       "      <td>NaN</td>\n",
       "    </tr>\n",
       "    <tr>\n",
       "      <th>11</th>\n",
       "      <td>Intel</td>\n",
       "      <td>INTC</td>\n",
       "      <td>Semiconductors</td>\n",
       "      <td>NaN</td>\n",
       "      <td>0.50</td>\n",
       "      <td>2.24</td>\n",
       "      <td>Semiconductors</td>\n",
       "      <td>NaN</td>\n",
       "    </tr>\n",
       "    <tr>\n",
       "      <th>9</th>\n",
       "      <td>Novo Nordisk</td>\n",
       "      <td>NVO</td>\n",
       "      <td>Drug Manufacturers - General</td>\n",
       "      <td>NaN</td>\n",
       "      <td>1.62</td>\n",
       "      <td>2.50</td>\n",
       "      <td>Drug Manufacturers - General</td>\n",
       "      <td>NaN</td>\n",
       "    </tr>\n",
       "    <tr>\n",
       "      <th>0</th>\n",
       "      <td>AT&amp;T</td>\n",
       "      <td>T</td>\n",
       "      <td>Telecom Services</td>\n",
       "      <td>NaN</td>\n",
       "      <td>1.11</td>\n",
       "      <td>4.14</td>\n",
       "      <td>Telecom Services</td>\n",
       "      <td>NaN</td>\n",
       "    </tr>\n",
       "    <tr>\n",
       "      <th>19</th>\n",
       "      <td>STAG Industrial</td>\n",
       "      <td>STAG</td>\n",
       "      <td>REIT - Industrial</td>\n",
       "      <td>NaN</td>\n",
       "      <td>1.49</td>\n",
       "      <td>4.74</td>\n",
       "      <td>REIT - Industrial</td>\n",
       "      <td>NaN</td>\n",
       "    </tr>\n",
       "    <tr>\n",
       "      <th>6</th>\n",
       "      <td>Algonquin Power &amp; Utilities</td>\n",
       "      <td>AQN</td>\n",
       "      <td>Utilities - Diversified</td>\n",
       "      <td>NaN</td>\n",
       "      <td>0.26</td>\n",
       "      <td>5.16</td>\n",
       "      <td>Utilities - Diversified</td>\n",
       "      <td>NaN</td>\n",
       "    </tr>\n",
       "    <tr>\n",
       "      <th>5</th>\n",
       "      <td>Realty Income</td>\n",
       "      <td>O</td>\n",
       "      <td>REIT - Retail</td>\n",
       "      <td>NaN</td>\n",
       "      <td>3.22</td>\n",
       "      <td>5.83</td>\n",
       "      <td>REIT - Retail</td>\n",
       "      <td>NaN</td>\n",
       "    </tr>\n",
       "    <tr>\n",
       "      <th>4</th>\n",
       "      <td>Altria</td>\n",
       "      <td>MO</td>\n",
       "      <td>Tobacco</td>\n",
       "      <td>NaN</td>\n",
       "      <td>4.08</td>\n",
       "      <td>7.20</td>\n",
       "      <td>Tobacco</td>\n",
       "      <td>NaN</td>\n",
       "    </tr>\n",
       "    <tr>\n",
       "      <th>16</th>\n",
       "      <td>JPMorgan Equity Premium Income</td>\n",
       "      <td>JEPI</td>\n",
       "      <td>Asset Management</td>\n",
       "      <td>Asset Management</td>\n",
       "      <td>NaN</td>\n",
       "      <td>7.47</td>\n",
       "      <td>Asset Management</td>\n",
       "      <td>Asset Management</td>\n",
       "    </tr>\n",
       "    <tr>\n",
       "      <th>15</th>\n",
       "      <td>Energy Transfer</td>\n",
       "      <td>ET</td>\n",
       "      <td>Oil &amp; Gas Midstream</td>\n",
       "      <td>NaN</td>\n",
       "      <td>1.30</td>\n",
       "      <td>7.96</td>\n",
       "      <td>Oil &amp; Gas Midstream</td>\n",
       "      <td>NaN</td>\n",
       "    </tr>\n",
       "    <tr>\n",
       "      <th>10</th>\n",
       "      <td>Main Street Capital</td>\n",
       "      <td>MAIN</td>\n",
       "      <td>Asset Management</td>\n",
       "      <td>NaN</td>\n",
       "      <td>4.20</td>\n",
       "      <td>8.10</td>\n",
       "      <td>Asset Management</td>\n",
       "      <td>NaN</td>\n",
       "    </tr>\n",
       "    <tr>\n",
       "      <th>2</th>\n",
       "      <td>Gladstone Capital</td>\n",
       "      <td>GLAD</td>\n",
       "      <td>Asset Management</td>\n",
       "      <td>NaN</td>\n",
       "      <td>1.98</td>\n",
       "      <td>8.20</td>\n",
       "      <td>Asset Management</td>\n",
       "      <td>NaN</td>\n",
       "    </tr>\n",
       "    <tr>\n",
       "      <th>14</th>\n",
       "      <td>Apple Hospitality REIT</td>\n",
       "      <td>APLE</td>\n",
       "      <td>REIT - Hotel &amp; Motel</td>\n",
       "      <td>NaN</td>\n",
       "      <td>0.96</td>\n",
       "      <td>8.37</td>\n",
       "      <td>REIT - Hotel &amp; Motel</td>\n",
       "      <td>NaN</td>\n",
       "    </tr>\n",
       "    <tr>\n",
       "      <th>1</th>\n",
       "      <td>Alliance Resource</td>\n",
       "      <td>ARLP</td>\n",
       "      <td>Thermal Coal</td>\n",
       "      <td>NaN</td>\n",
       "      <td>2.80</td>\n",
       "      <td>10.74</td>\n",
       "      <td>Thermal Coal</td>\n",
       "      <td>NaN</td>\n",
       "    </tr>\n",
       "    <tr>\n",
       "      <th>8</th>\n",
       "      <td>PennantPark Floating Rate</td>\n",
       "      <td>PFLT</td>\n",
       "      <td>Asset Management</td>\n",
       "      <td>NaN</td>\n",
       "      <td>1.23</td>\n",
       "      <td>12.92</td>\n",
       "      <td>Asset Management</td>\n",
       "      <td>NaN</td>\n",
       "    </tr>\n",
       "    <tr>\n",
       "      <th>17</th>\n",
       "      <td>Saratoga Investment</td>\n",
       "      <td>SAR</td>\n",
       "      <td>Asset Management</td>\n",
       "      <td>NaN</td>\n",
       "      <td>3.00</td>\n",
       "      <td>13.33</td>\n",
       "      <td>Asset Management</td>\n",
       "      <td>NaN</td>\n",
       "    </tr>\n",
       "    <tr>\n",
       "      <th>18</th>\n",
       "      <td>Innovative Industrial Properties</td>\n",
       "      <td>IIPR</td>\n",
       "      <td>REIT - Industrial</td>\n",
       "      <td>NaN</td>\n",
       "      <td>7.60</td>\n",
       "      <td>15.40</td>\n",
       "      <td>REIT - Industrial</td>\n",
       "      <td>NaN</td>\n",
       "    </tr>\n",
       "    <tr>\n",
       "      <th>13</th>\n",
       "      <td>Dynex Capital</td>\n",
       "      <td>DX</td>\n",
       "      <td>REIT - Mortgage</td>\n",
       "      <td>NaN</td>\n",
       "      <td>2.04</td>\n",
       "      <td>17.91</td>\n",
       "      <td>REIT - Mortgage</td>\n",
       "      <td>NaN</td>\n",
       "    </tr>\n",
       "    <tr>\n",
       "      <th>12</th>\n",
       "      <td>Hafnia LTD</td>\n",
       "      <td>HAFN</td>\n",
       "      <td>Marine Shipping</td>\n",
       "      <td>NaN</td>\n",
       "      <td>1.16</td>\n",
       "      <td>27.50</td>\n",
       "      <td>Marine Shipping</td>\n",
       "      <td>NaN</td>\n",
       "    </tr>\n",
       "  </tbody>\n",
       "</table>\n",
       "</div>"
      ],
      "text/plain": [
       "                                Name Symbol                      industry  \\\n",
       "7                            Aramark   ARMK   Specialty Business Services   \n",
       "3                           Broadcom   AVGO                Semiconductors   \n",
       "11                             Intel   INTC                Semiconductors   \n",
       "9                       Novo Nordisk    NVO  Drug Manufacturers - General   \n",
       "0                               AT&T      T              Telecom Services   \n",
       "19                   STAG Industrial   STAG             REIT - Industrial   \n",
       "6        Algonquin Power & Utilities    AQN       Utilities - Diversified   \n",
       "5                      Realty Income      O                 REIT - Retail   \n",
       "4                             Altria     MO                       Tobacco   \n",
       "16    JPMorgan Equity Premium Income   JEPI              Asset Management   \n",
       "15                   Energy Transfer     ET           Oil & Gas Midstream   \n",
       "10               Main Street Capital   MAIN              Asset Management   \n",
       "2                  Gladstone Capital   GLAD              Asset Management   \n",
       "14            Apple Hospitality REIT   APLE          REIT - Hotel & Motel   \n",
       "1                  Alliance Resource   ARLP                  Thermal Coal   \n",
       "8          PennantPark Floating Rate   PFLT              Asset Management   \n",
       "17               Saratoga Investment    SAR              Asset Management   \n",
       "18  Innovative Industrial Properties   IIPR             REIT - Industrial   \n",
       "13                     Dynex Capital     DX               REIT - Mortgage   \n",
       "12                        Hafnia LTD   HAFN               Marine Shipping   \n",
       "\n",
       "            industry  dividendRate  dividendYield  \\\n",
       "7                NaN          0.42           1.27   \n",
       "3                NaN          2.36           1.30   \n",
       "11               NaN          0.50           2.24   \n",
       "9                NaN          1.62           2.50   \n",
       "0                NaN          1.11           4.14   \n",
       "19               NaN          1.49           4.74   \n",
       "6                NaN          0.26           5.16   \n",
       "5                NaN          3.22           5.83   \n",
       "4                NaN          4.08           7.20   \n",
       "16  Asset Management           NaN           7.47   \n",
       "15               NaN          1.30           7.96   \n",
       "10               NaN          4.20           8.10   \n",
       "2                NaN          1.98           8.20   \n",
       "14               NaN          0.96           8.37   \n",
       "1                NaN          2.80          10.74   \n",
       "8                NaN          1.23          12.92   \n",
       "17               NaN          3.00          13.33   \n",
       "18               NaN          7.60          15.40   \n",
       "13               NaN          2.04          17.91   \n",
       "12               NaN          1.16          27.50   \n",
       "\n",
       "                        industry          industry  \n",
       "7    Specialty Business Services               NaN  \n",
       "3                 Semiconductors               NaN  \n",
       "11                Semiconductors               NaN  \n",
       "9   Drug Manufacturers - General               NaN  \n",
       "0               Telecom Services               NaN  \n",
       "19             REIT - Industrial               NaN  \n",
       "6        Utilities - Diversified               NaN  \n",
       "5                  REIT - Retail               NaN  \n",
       "4                        Tobacco               NaN  \n",
       "16              Asset Management  Asset Management  \n",
       "15           Oil & Gas Midstream               NaN  \n",
       "10              Asset Management               NaN  \n",
       "2               Asset Management               NaN  \n",
       "14          REIT - Hotel & Motel               NaN  \n",
       "1                   Thermal Coal               NaN  \n",
       "8               Asset Management               NaN  \n",
       "17              Asset Management               NaN  \n",
       "18             REIT - Industrial               NaN  \n",
       "13               REIT - Mortgage               NaN  \n",
       "12               Marine Shipping               NaN  "
      ]
     },
     "execution_count": 103,
     "metadata": {},
     "output_type": "execute_result"
    }
   ],
   "source": [
    "a = master[['Name', 'Symbol','industry', 'dividendRate', 'dividendYield', 'industry']]\n",
    "a = a.sort_values(by=['dividendYield'])\n",
    "a"
   ]
  },
  {
   "cell_type": "markdown",
   "id": "bbb426ac-cc3d-4172-8270-986fe881aa6c",
   "metadata": {},
   "source": [
    "# Strategy "
   ]
  },
  {
   "cell_type": "code",
   "execution_count": 107,
   "id": "4e703803-9178-4241-acc3-34d731b9cf0b",
   "metadata": {},
   "outputs": [],
   "source": [
    "# Define strategy metrics\n",
    "strategy_metrics = {\n",
    "    'growth_perform': [\n",
    "        'Total Return %', 'Unrealized Gain %', 'Return Contribution %',\n",
    "        'Total Return per Share', 'earningsQuarterlyGrowth', 'revenueGrowth'\n",
    "    ],\n",
    "    'dividend': [\n",
    "        'Dividend Yield (Price) %', 'Div Return %', 'Total_Div',\n",
    "        'Dividend per Share', '12_Month_Div', 'dividendRate', 'payoutRatio'\n",
    "    ],\n",
    "    'risk': [\n",
    "        'Portfolio %', 'beta', 'Risk/Reward Ratio',\n",
    "        'Unrealized Gain %', 'shortRatio', 'debtToEquity'\n",
    "    ],\n",
    "    'value_fund': [\n",
    "        'trailingPE', 'forwardPE', 'priceToBook',\n",
    "        'priceToSalesTrailing12Months', 'returnOnAssets', 'returnOnEquity'\n",
    "    ],\n",
    "    'stability_futur': [\n",
    "        'fiveYearAvgDividendYield', 'payoutRatio', 'epsForward',\n",
    "        'epsCurrentYear', 'grossMargins', 'netIncomeToCommon'\n",
    "    ],\n",
    "    'technical': [\n",
    "        'fiftyTwoWeekLow', 'fiftyTwoWeekHigh', '52WeekChange',\n",
    "        'fiftyDayAverageChangePercent', 'dayLow', 'dayHigh', 'averageVolume'\n",
    "    ]\n",
    "}\n",
    "\n",
    "# Calculate average score for each strategy and add formula & basic explanation columns\n",
    "for strategy, metrics in strategy_metrics.items():\n",
    "    # Determine which metrics are available in the master DataFrame\n",
    "    existing_metrics = [m for m in metrics if m in master.columns]\n",
    "    # Calculate the score as the simple mean of the available metrics\n",
    "    master[strategy + '_score'] = master[existing_metrics].mean(axis=1)\n",
    "    # Create a formula string that shows how the score is calculated\n",
    "    formula_str = \" + \".join(existing_metrics) + f\" / {len(existing_metrics)}\"\n",
    "    master[strategy + '_score_formula'] = formula_str\n",
    "    # Create a basic explanation listing the metrics used\n",
    "    basic_explanation = f\"Average of the following metrics: {', '.join(existing_metrics)}\"\n",
    "    master[strategy + '_score_explain'] = basic_explanation\n",
    "\n",
    "# Detailed descriptions for each strategy in plain language for a curious college student\n",
    "detailed_descriptions = {\n",
    "    'growth_perform': (\n",
    "        \"This score represents the company's growth performance. It is computed as the average of metrics that measure overall returns, \"\n",
    "        \"unrealized gains, the contribution of each stock to total returns, per share returns, earnings growth, and revenue growth. \"\n",
    "        \"In simple terms, it shows how fast the company is expanding and how much profit it might generate if current trends continue. \"\n",
    "        \"Higher scores indicate stronger growth performance.\"\n",
    "    ),\n",
    "    'dividend': (\n",
    "        \"This score reflects the company’s dividend performance. It averages key metrics such as dividend yield, dividend return percentage, \"\n",
    "        \"total dividends paid, dividend per share, and payout ratios. Essentially, it tells you how attractive the stock is if you're seeking a steady income through dividends. \"\n",
    "        \"A higher score suggests that the company pays healthy dividends, making it a good option for income investors.\"\n",
    "    ),\n",
    "    'risk': (\n",
    "        \"This score quantifies the overall risk of the investment by averaging metrics like portfolio allocation, beta (volatility), risk/reward ratio, \"\n",
    "        \"unrealized gains, short ratios, and debt levels. It provides a picture of how volatile or risky the stock might be. \"\n",
    "        \"Lower scores are generally preferable here, as they indicate less risk; however, depending on your risk tolerance, a moderate score might be acceptable.\"\n",
    "    ),\n",
    "    'value_fund': (\n",
    "        \"This score evaluates the valuation and fundamental strength of the company. It combines metrics such as trailing and forward P/E ratios, \"\n",
    "        \"price-to-book, price-to-sales, return on assets, and return on equity. In simple terms, it helps assess whether a stock is undervalued or overvalued. \"\n",
    "        \"A lower score may indicate that the stock is a better value, while a higher score could suggest overvaluation.\"\n",
    "    ),\n",
    "    'stability_futur': (\n",
    "        \"This score measures the long-term stability and future outlook of the company. It averages metrics like five-year average dividend yield, payout ratio, \"\n",
    "        \"EPS forecasts, current EPS, gross margins, and net income. It gives you a sense of how reliably the company might perform in the future. \"\n",
    "        \"Higher scores in this category suggest stronger stability and more reliable future earnings, which is appealing for long-term investors.\"\n",
    "    ),\n",
    "    'technical': (\n",
    "        \"This score is derived from technical indicators such as 52-week low and high, 52-week change, short-term average changes, daily price ranges, and trading volume. \"\n",
    "        \"It is designed to capture the current momentum and technical strength of the stock. A higher score may indicate bullish trends or strong price movement, \"\n",
    "        \"but should be considered together with fundamental analysis.\"\n",
    "    )\n",
    "}\n",
    "\n",
    "# Add a detailed description column for each strategy\n",
    "for strategy in strategy_metrics.keys():\n",
    "    master[strategy + '_score_description'] = detailed_descriptions[strategy]"
   ]
  },
  {
   "cell_type": "markdown",
   "id": "b3b8a583-0713-4ee9-a724-a2ce508f46c1",
   "metadata": {},
   "source": [
    "# Defining signals"
   ]
  },
  {
   "cell_type": "code",
   "execution_count": 110,
   "id": "1c7609de-81b3-4b94-a551-fff8b88aeb08",
   "metadata": {},
   "outputs": [],
   "source": [
    "# Define functions to compute buy/sell signals with a \"Good Buy\" category\n",
    "\n",
    "def compute_fundamental_signal(row):\n",
    "    \"\"\"\n",
    "    Fundamental criteria (heuristic example):\n",
    "    - Good Buy: trailingPE < 15, Dividend Yield (Price) % > 3, \n",
    "      earningsQuarterlyGrowth > 20, risk_score < 40, and value_fund_score < 40.\n",
    "    - Buy: trailingPE < 20, Dividend Yield (Price) % > 2, \n",
    "      earningsQuarterlyGrowth > 10, risk_score < 50, and value_fund_score < 50.\n",
    "    - Otherwise: Sell.\n",
    "    \"\"\"\n",
    "    try:\n",
    "        if (\n",
    "            (row['trailingPE'] < 15) and \n",
    "            (row['Dividend Yield (Price) %'] > 3) and \n",
    "            (row['earningsQuarterlyGrowth'] > 20) and \n",
    "            (row['risk_score'] < 40) and \n",
    "            (row['value_fund_score'] < 40)\n",
    "        ):\n",
    "            return \"Good Buy\"\n",
    "        elif (\n",
    "            (row['trailingPE'] < 20) and \n",
    "            (row['Dividend Yield (Price) %'] > 2) and \n",
    "            (row['earningsQuarterlyGrowth'] > 10) and \n",
    "            (row['risk_score'] < 50) and \n",
    "            (row['value_fund_score'] < 50)\n",
    "        ):\n",
    "            return \"Buy\"\n",
    "        else:\n",
    "            return \"Sell\"\n",
    "    except Exception as e:\n",
    "        return \"Hold\"\n",
    "\n",
    "def compute_technical_signal(row):\n",
    "    \"\"\"\n",
    "    Technical criteria (heuristic example):\n",
    "    - Good Buy: If the current Price is within 3% above the fiftyTwoWeekLow and technical_score > 60.\n",
    "    - Buy: If the current Price is within 5% above the fiftyTwoWeekLow and technical_score > 50.\n",
    "    - Sell: If the current Price is within 5% below the fiftyTwoWeekHigh.\n",
    "    - Else: Hold.\n",
    "    \"\"\"\n",
    "    try:\n",
    "        price = row['Price']\n",
    "        low = row['fiftyTwoWeekLow']\n",
    "        high = row['fiftyTwoWeekHigh']\n",
    "        \n",
    "        if (price <= low * 1.03) and (row['technical_score'] > 60):\n",
    "            return \"Good Buy\"\n",
    "        elif (price <= low * 1.05) and (row['technical_score'] > 50):\n",
    "            return \"Buy\"\n",
    "        elif price >= high * 0.95:\n",
    "            return \"Sell\"\n",
    "        else:\n",
    "            return \"Hold\"\n",
    "    except Exception as e:\n",
    "        return \"Hold\"\n",
    "\n",
    "def compute_composite_action(row):\n",
    "    \"\"\"\n",
    "    Composite action combining both fundamental and technical signals:\n",
    "    - If both signals are \"Good Buy\", overall action is \"Good Buy\".\n",
    "    - If either signal is \"Sell\", overall action is \"Sell\".\n",
    "    - If both signals are either \"Buy\" or \"Good Buy\", overall action is \"Buy\".\n",
    "    - Otherwise, it's \"Hold\".\n",
    "    \"\"\"\n",
    "    fund_signal = row.get('Fundamental_Signal', \"Hold\")\n",
    "    tech_signal = row.get('Technical_Signal', \"Hold\")\n",
    "    \n",
    "    if fund_signal == \"Good Buy\" and tech_signal == \"Good Buy\":\n",
    "        return \"Good Buy\"\n",
    "    elif fund_signal == \"Sell\" or tech_signal == \"Sell\":\n",
    "        return \"Sell\"\n",
    "    elif (fund_signal in [\"Buy\", \"Good Buy\"]) and (tech_signal in [\"Buy\", \"Good Buy\"]):\n",
    "        return \"Buy\"\n",
    "    else:\n",
    "        return \"Hold\"\n",
    "\n",
    "# Apply the functions to the master DataFrame to create the new signal columns\n",
    "master['Fundamental_Signal'] = master.apply(compute_fundamental_signal, axis=1)\n",
    "master['Technical_Signal'] = master.apply(compute_technical_signal, axis=1)\n",
    "master['Composite_Action'] = master.apply(compute_composite_action, axis=1)"
   ]
  },
  {
   "cell_type": "markdown",
   "id": "2cd12dc8-8536-4cf6-8fbd-d8528bbc27f1",
   "metadata": {},
   "source": [
    "# DASHBOARD TABLE"
   ]
  },
  {
   "cell_type": "code",
   "execution_count": 183,
   "id": "6a4d19af-0dbe-4687-b606-eee8bcaabc6c",
   "metadata": {},
   "outputs": [],
   "source": [
    "\n",
    "# Define the top 17 most important variables for all-around decision making.\n",
    "# This list mixes key original variables and our computed composite scores.\n",
    "top_columns = [\n",
    "    'Name',                         # Company Name\n",
    "    'Symbol',                       # Ticker Symbol\n",
    "    'Price',                        # Current Stock Price\n",
    "    'dividendYield',\n",
    "    'beta',                         # Volatility/Risk Indicator\n",
    "    'trailingPE',                   # Price-to-Earnings Ratio (valuation)\n",
    "    'Dividend Yield (Price) %',     # Dividend Yield (income measure)\n",
    "    'Total Return %',               # Overall Return Performance\n",
    "    'Return Contribution %',        # Contribution to Portfolio Return\n",
    "    'debtToEquity',                 # Leverage/Risk Indicator\n",
    "    'revenueGrowth',                # Revenue Growth (growth measure)\n",
    "    'earningsQuarterlyGrowth',      # Earnings Growth (growth measure)\n",
    "    'growth_perform_score',         # Composite Growth Performance Score\n",
    "    'dividend_score',               # Composite Dividend Score\n",
    "    'risk_score',                   # Composite Risk Score\n",
    "    'value_fund_score',             # Composite Valuation Score\n",
    "    'technical_score',               # Composite Technical Score\n",
    "    'Fundamental_Signal',\n",
    "    'Technical_Signal',\n",
    "    'Composite_Action'\n",
    "]\n",
    "\n",
    "# Create a new DataFrame with the top 17 variables\n",
    "df = master[top_columns].copy()"
   ]
  },
  {
   "cell_type": "markdown",
   "id": "56de676c-87c2-4836-ad4a-b3d1d7156cb1",
   "metadata": {},
   "source": [
    "# Insert Cash"
   ]
  },
  {
   "cell_type": "code",
   "execution_count": 116,
   "id": "327549c5-2880-4031-99c7-84cd18289338",
   "metadata": {},
   "outputs": [],
   "source": [
    "cash = 160.87"
   ]
  },
  {
   "cell_type": "code",
   "execution_count": 118,
   "id": "f3342f58-1962-4d2e-b96e-5de2acedc36c",
   "metadata": {},
   "outputs": [
    {
     "name": "stdout",
     "output_type": "stream",
     "text": [
      "Total Deposits:              $5,150.00\n",
      "Total Invested (Cost Basis): $5,053.52\n",
      "Portfolio Value:             $4,844.01\n",
      "Cash:                        $160.87\n",
      "Total Account Value:         $5,004.88\n",
      "-----------------------------------------------------\n",
      "Return vs Invested:          $-209.51 | -4.15%\n",
      "-> This shows how well your current investments are performing, excluding idle cash.\n",
      "-----------------------------------------------------\n",
      "Return vs Deposits:          $-145.12 | -2.82%\n",
      "-> This indicates the overall performance of your total portfolio, including unused cash.\n",
      "-----------------------------------------------------\n",
      "Total Return:                $-209.63\n",
      "Average Return %:            -1.18%\n",
      "Total Positions:             20\n",
      "Winners (Return > 0):        7\n",
      "Losers (Return < 0):         13\n",
      "-----------------------------------------------------\n",
      "Total Dividends Received:    $240.86\n",
      "Portfolio Dividend Yield:    4.97%\n",
      "-> This represents the dividend income as a percentage of the current portfolio value.\n",
      "-----------------------------------------------------\n",
      "Yield on Cost:               4.77%\n",
      "-> This reflects the dividend income as a percentage of the original investment cost.\n"
     ]
    }
   ],
   "source": [
    "# --- Assumes all data is created prior ---\n",
    "\n",
    "# Total deposits made into the account\n",
    "total_deposits = deposits['Amount'].sum()\n",
    "\n",
    "# Total invested based on current holdings' cost basis\n",
    "total_invested_str = (master['Shares'] * master['Average cost']).sum()\n",
    "\n",
    "# Current portfolio value (sum of equity values of all holdings)\n",
    "curr_port_value_str = round(master['Equity'].sum(), 2)\n",
    "\n",
    "# Total account value (portfolio value + cash)\n",
    "total = curr_port_value_str + cash\n",
    "\n",
    "# --- Return Calculations ---\n",
    "\n",
    "# Returns based only on invested capital (excluding idle cash)\n",
    "returns = round(curr_port_value_str - total_invested_str, 2)\n",
    "return_pct = round((returns / total_invested_str) * 100, 2)\n",
    "\n",
    "# Returns based on total deposits (including idle cash)\n",
    "total_returns = round(total - total_deposits, 2)\n",
    "return_pct_full = round((total_returns / total_deposits) * 100, 2)\n",
    "\n",
    "# --- Performance Statistics ---\n",
    "\n",
    "# Convert 'Dividend' column to numeric, coercing errors to NaN\n",
    "dividends['Dividend'] = pd.to_numeric(dividends['Dividend'], errors='coerce')\n",
    "\n",
    "# Total return across all positions\n",
    "total_return = master['Return'].sum()\n",
    "\n",
    "# Average return percentage across all positions\n",
    "average_return_pct = master['Return %'].mean()\n",
    "\n",
    "# Count of positions with positive and negative returns\n",
    "positive_positions = (master['Return'] > 0).sum()\n",
    "negative_positions = (master['Return'] < 0).sum()\n",
    "total_positions = master.shape[0]\n",
    "\n",
    "# Total dividends received\n",
    "total_dividends = dividends['Dividend'].sum()\n",
    "\n",
    "# Portfolio dividend yield (total dividends / current portfolio value)\n",
    "portfolio_yield_pct = round((total_dividends / curr_port_value_str) * 100, 2)\n",
    "\n",
    "# --- Yield on Cost Calculation ---\n",
    "\n",
    "# Annual dividend income (assuming 'Dividend' represents annual figures)\n",
    "annual_dividend_income = total_dividends\n",
    "\n",
    "# Yield on Cost (annual dividend income / total invested)\n",
    "yield_on_cost = round((annual_dividend_income / total_invested_str) * 100, 2)\n",
    "\n",
    "# --- Output ---\n",
    "\n",
    "print(f\"Total Deposits:              ${total_deposits:,.2f}\")\n",
    "print(f\"Total Invested (Cost Basis): ${total_invested_str:,.2f}\")\n",
    "print(f\"Portfolio Value:             ${curr_port_value_str:,.2f}\")\n",
    "print(f\"Cash:                        ${cash:,.2f}\")\n",
    "print(f\"Total Account Value:         ${total:,.2f}\")\n",
    "print(f\"-----------------------------------------------------\")\n",
    "print(f\"Return vs Invested:          ${returns:,.2f} | {return_pct}%\")\n",
    "print(\"-> This shows how well your current investments are performing, excluding idle cash.\")\n",
    "print(f\"-----------------------------------------------------\")\n",
    "print(f\"Return vs Deposits:          ${total_returns:,.2f} | {return_pct_full}%\")\n",
    "print(\"-> This indicates the overall performance of your total portfolio, including unused cash.\")\n",
    "print(f\"-----------------------------------------------------\")\n",
    "print(f\"Total Return:                ${total_return:,.2f}\")\n",
    "print(f\"Average Return %:            {average_return_pct:.2f}%\")\n",
    "print(f\"Total Positions:             {total_positions}\")\n",
    "print(f\"Winners (Return > 0):        {positive_positions}\")\n",
    "print(f\"Losers (Return < 0):         {negative_positions}\")\n",
    "print(f\"-----------------------------------------------------\")\n",
    "print(f\"Total Dividends Received:    ${total_dividends:,.2f}\")\n",
    "print(f\"Portfolio Dividend Yield:    {portfolio_yield_pct:.2f}%\")\n",
    "print(\"-> This represents the dividend income as a percentage of the current portfolio value.\")\n",
    "print(f\"-----------------------------------------------------\")\n",
    "print(f\"Yield on Cost:               {yield_on_cost:.2f}%\")\n",
    "print(\"-> This reflects the dividend income as a percentage of the original investment cost.\")\n"
   ]
  },
  {
   "cell_type": "markdown",
   "id": "27a2b8f4-5baf-4dd1-aea7-0ddb748863aa",
   "metadata": {},
   "source": [
    "# Accent Color"
   ]
  },
  {
   "cell_type": "code",
   "execution_count": 121,
   "id": "415f50ad-e847-48ee-ad36-dfc0849a10ac",
   "metadata": {},
   "outputs": [],
   "source": [
    "accent_color = '#1abc9c'  # Fresh teal accent"
   ]
  },
  {
   "cell_type": "code",
   "execution_count": null,
   "id": "711ec2ad-759f-4a8f-9ca5-d964f38d755a",
   "metadata": {},
   "outputs": [],
   "source": []
  },
  {
   "cell_type": "code",
   "execution_count": 124,
   "id": "16beb3a5-e9b2-403e-adbc-9f886fabd84b",
   "metadata": {},
   "outputs": [
    {
     "data": {
      "text/plain": [
       "4844.01"
      ]
     },
     "execution_count": 124,
     "metadata": {},
     "output_type": "execute_result"
    }
   ],
   "source": [
    "curr_port_value_str"
   ]
  },
  {
   "cell_type": "markdown",
   "id": "25c71efc-2fe6-4dff-999c-4e8c77692882",
   "metadata": {},
   "source": [
    "# SUNBURST"
   ]
  },
  {
   "cell_type": "code",
   "execution_count": 155,
   "id": "75feeb3b-5c77-41a6-bd6e-e1b6c37fbcc7",
   "metadata": {},
   "outputs": [],
   "source": [
    "master = pd.read_excel('Portfolio.xlsx', sheet_name = 'Master')\n",
    "                       "
   ]
  },
  {
   "cell_type": "code",
   "execution_count": 157,
   "id": "a00d8536-a301-4ffe-89f2-c687cc72c8d6",
   "metadata": {},
   "outputs": [
    {
     "data": {
      "application/vnd.plotly.v1+json": {
       "config": {
        "plotlyServerURL": "https://plot.ly"
       },
       "data": [
        {
         "branchvalues": "total",
         "hoverinfo": "text",
         "labels": [
          "APLE",
          "AQN",
          "ARLP",
          "ARMK",
          "AVGO",
          "DX",
          "ET",
          "GLAD",
          "HAFN",
          "IIPR",
          "INTC",
          "JEPI",
          "MAIN",
          "MO",
          "NVO",
          "O",
          "PFLT",
          "SAR",
          "STAG",
          "T",
          "Asset Management",
          "Drug Manufacturers - General",
          "Marine Shipping",
          "Oil & Gas Midstream",
          "REIT - Hotel & Motel",
          "REIT - Industrial",
          "REIT - Mortgage",
          "REIT - Retail",
          "Semiconductors",
          "Specialty Business Services",
          "Telecom Services",
          "Thermal Coal",
          "Tobacco",
          "Utilities - Diversified",
          "Total"
         ],
         "marker": {
          "colors": [
           183.52,
           15.12,
           212.4,
           33.13,
           181.6,
           251.46,
           194.76,
           169.05,
           42.05,
           248,
           19.64,
           703.95,
           51.7,
           170.52,
           65,
           993.6,
           105.6,
           381.99,
           660.24,
           160.68,
           1412.29,
           65,
           42.05,
           194.76,
           183.52,
           908.24,
           251.46,
           993.6,
           201.24,
           33.13,
           160.68,
           212.4,
           170.52,
           15.12,
           4844.009999999999
          ],
          "colorscale": [
           [
            0,
            "#440154"
           ],
           [
            0.1111111111111111,
            "#482878"
           ],
           [
            0.2222222222222222,
            "#3e4989"
           ],
           [
            0.3333333333333333,
            "#31688e"
           ],
           [
            0.4444444444444444,
            "#26828e"
           ],
           [
            0.5555555555555556,
            "#1f9e89"
           ],
           [
            0.6666666666666666,
            "#35b779"
           ],
           [
            0.7777777777777778,
            "#6ece58"
           ],
           [
            0.8888888888888888,
            "#b5de2b"
           ],
           [
            1,
            "#fde725"
           ]
          ]
         },
         "parents": [
          "REIT - Hotel & Motel",
          "Utilities - Diversified",
          "Thermal Coal",
          "Specialty Business Services",
          "Semiconductors",
          "REIT - Mortgage",
          "Oil & Gas Midstream",
          "Asset Management",
          "Marine Shipping",
          "REIT - Industrial",
          "Semiconductors",
          "Asset Management",
          "Asset Management",
          "Tobacco",
          "Drug Manufacturers - General",
          "REIT - Retail",
          "Asset Management",
          "Asset Management",
          "REIT - Industrial",
          "Telecom Services",
          "Total",
          "Total",
          "Total",
          "Total",
          "Total",
          "Total",
          "Total",
          "Total",
          "Total",
          "Total",
          "Total",
          "Total",
          "Total",
          "Total",
          ""
         ],
         "text": [
          "<b>APLE</b><br>Equity: $183.52<br>% of Portfolio: 3.8%",
          "<b>AQN</b><br>Equity: $15.12<br>% of Portfolio: 0.3%",
          "<b>ARLP</b><br>Equity: $212.40<br>% of Portfolio: 4.4%",
          "<b>ARMK</b><br>Equity: $33.13<br>% of Portfolio: 0.7%",
          "<b>AVGO</b><br>Equity: $181.60<br>% of Portfolio: 3.7%",
          "<b>DX</b><br>Equity: $251.46<br>% of Portfolio: 5.2%",
          "<b>ET</b><br>Equity: $194.76<br>% of Portfolio: 4.0%",
          "<b>GLAD</b><br>Equity: $169.05<br>% of Portfolio: 3.5%",
          "<b>HAFN</b><br>Equity: $42.05<br>% of Portfolio: 0.9%",
          "<b>IIPR</b><br>Equity: $248.00<br>% of Portfolio: 5.1%",
          "<b>INTC</b><br>Equity: $19.64<br>% of Portfolio: 0.4%",
          "<b>JEPI</b><br>Equity: $703.95<br>% of Portfolio: 14.5%",
          "<b>MAIN</b><br>Equity: $51.70<br>% of Portfolio: 1.1%",
          "<b>MO</b><br>Equity: $170.52<br>% of Portfolio: 3.5%",
          "<b>NVO</b><br>Equity: $65.00<br>% of Portfolio: 1.3%",
          "<b>O</b><br>Equity: $993.60<br>% of Portfolio: 20.5%",
          "<b>PFLT</b><br>Equity: $105.60<br>% of Portfolio: 2.2%",
          "<b>SAR</b><br>Equity: $381.99<br>% of Portfolio: 7.9%",
          "<b>STAG</b><br>Equity: $660.24<br>% of Portfolio: 13.6%",
          "<b>T</b><br>Equity: $160.68<br>% of Portfolio: 3.3%",
          "<b>Asset Management</b><br>Equity: $1,412.29<br>% of Portfolio: 29.2%",
          "<b>Drug Manufacturers - General</b><br>Equity: $65.00<br>% of Portfolio: 1.3%",
          "<b>Marine Shipping</b><br>Equity: $42.05<br>% of Portfolio: 0.9%",
          "<b>Oil & Gas Midstream</b><br>Equity: $194.76<br>% of Portfolio: 4.0%",
          "<b>REIT - Hotel & Motel</b><br>Equity: $183.52<br>% of Portfolio: 3.8%",
          "<b>REIT - Industrial</b><br>Equity: $908.24<br>% of Portfolio: 18.7%",
          "<b>REIT - Mortgage</b><br>Equity: $251.46<br>% of Portfolio: 5.2%",
          "<b>REIT - Retail</b><br>Equity: $993.60<br>% of Portfolio: 20.5%",
          "<b>Semiconductors</b><br>Equity: $201.24<br>% of Portfolio: 4.2%",
          "<b>Specialty Business Services</b><br>Equity: $33.13<br>% of Portfolio: 0.7%",
          "<b>Telecom Services</b><br>Equity: $160.68<br>% of Portfolio: 3.3%",
          "<b>Thermal Coal</b><br>Equity: $212.40<br>% of Portfolio: 4.4%",
          "<b>Tobacco</b><br>Equity: $170.52<br>% of Portfolio: 3.5%",
          "<b>Utilities - Diversified</b><br>Equity: $15.12<br>% of Portfolio: 0.3%",
          "<b>Total</b><br>Equity: $4,844.01<br>% of Portfolio: 100.0%"
         ],
         "textinfo": "label",
         "type": "sunburst",
         "values": [
          183.52,
          15.12,
          212.4,
          33.13,
          181.6,
          251.46,
          194.76,
          169.05,
          42.05,
          248,
          19.64,
          703.95,
          51.7,
          170.52,
          65,
          993.6,
          105.6,
          381.99,
          660.24,
          160.68,
          1412.29,
          65,
          42.05,
          194.76,
          183.52,
          908.24,
          251.46,
          993.6,
          201.24,
          33.13,
          160.68,
          212.4,
          170.52,
          15.12,
          4844.009999999999
         ]
        }
       ],
       "layout": {
        "font": {
         "color": "#1abc9c"
        },
        "height": 700,
        "margin": {
         "b": 10,
         "l": 10,
         "r": 10,
         "t": 60
        },
        "paper_bgcolor": "#1e1e1e",
        "plot_bgcolor": "#1e1e1e",
        "template": {
         "data": {
          "bar": [
           {
            "error_x": {
             "color": "#2a3f5f"
            },
            "error_y": {
             "color": "#2a3f5f"
            },
            "marker": {
             "line": {
              "color": "#E5ECF6",
              "width": 0.5
             },
             "pattern": {
              "fillmode": "overlay",
              "size": 10,
              "solidity": 0.2
             }
            },
            "type": "bar"
           }
          ],
          "barpolar": [
           {
            "marker": {
             "line": {
              "color": "#E5ECF6",
              "width": 0.5
             },
             "pattern": {
              "fillmode": "overlay",
              "size": 10,
              "solidity": 0.2
             }
            },
            "type": "barpolar"
           }
          ],
          "carpet": [
           {
            "aaxis": {
             "endlinecolor": "#2a3f5f",
             "gridcolor": "white",
             "linecolor": "white",
             "minorgridcolor": "white",
             "startlinecolor": "#2a3f5f"
            },
            "baxis": {
             "endlinecolor": "#2a3f5f",
             "gridcolor": "white",
             "linecolor": "white",
             "minorgridcolor": "white",
             "startlinecolor": "#2a3f5f"
            },
            "type": "carpet"
           }
          ],
          "choropleth": [
           {
            "colorbar": {
             "outlinewidth": 0,
             "ticks": ""
            },
            "type": "choropleth"
           }
          ],
          "contour": [
           {
            "colorbar": {
             "outlinewidth": 0,
             "ticks": ""
            },
            "colorscale": [
             [
              0,
              "#0d0887"
             ],
             [
              0.1111111111111111,
              "#46039f"
             ],
             [
              0.2222222222222222,
              "#7201a8"
             ],
             [
              0.3333333333333333,
              "#9c179e"
             ],
             [
              0.4444444444444444,
              "#bd3786"
             ],
             [
              0.5555555555555556,
              "#d8576b"
             ],
             [
              0.6666666666666666,
              "#ed7953"
             ],
             [
              0.7777777777777778,
              "#fb9f3a"
             ],
             [
              0.8888888888888888,
              "#fdca26"
             ],
             [
              1,
              "#f0f921"
             ]
            ],
            "type": "contour"
           }
          ],
          "contourcarpet": [
           {
            "colorbar": {
             "outlinewidth": 0,
             "ticks": ""
            },
            "type": "contourcarpet"
           }
          ],
          "heatmap": [
           {
            "colorbar": {
             "outlinewidth": 0,
             "ticks": ""
            },
            "colorscale": [
             [
              0,
              "#0d0887"
             ],
             [
              0.1111111111111111,
              "#46039f"
             ],
             [
              0.2222222222222222,
              "#7201a8"
             ],
             [
              0.3333333333333333,
              "#9c179e"
             ],
             [
              0.4444444444444444,
              "#bd3786"
             ],
             [
              0.5555555555555556,
              "#d8576b"
             ],
             [
              0.6666666666666666,
              "#ed7953"
             ],
             [
              0.7777777777777778,
              "#fb9f3a"
             ],
             [
              0.8888888888888888,
              "#fdca26"
             ],
             [
              1,
              "#f0f921"
             ]
            ],
            "type": "heatmap"
           }
          ],
          "heatmapgl": [
           {
            "colorbar": {
             "outlinewidth": 0,
             "ticks": ""
            },
            "colorscale": [
             [
              0,
              "#0d0887"
             ],
             [
              0.1111111111111111,
              "#46039f"
             ],
             [
              0.2222222222222222,
              "#7201a8"
             ],
             [
              0.3333333333333333,
              "#9c179e"
             ],
             [
              0.4444444444444444,
              "#bd3786"
             ],
             [
              0.5555555555555556,
              "#d8576b"
             ],
             [
              0.6666666666666666,
              "#ed7953"
             ],
             [
              0.7777777777777778,
              "#fb9f3a"
             ],
             [
              0.8888888888888888,
              "#fdca26"
             ],
             [
              1,
              "#f0f921"
             ]
            ],
            "type": "heatmapgl"
           }
          ],
          "histogram": [
           {
            "marker": {
             "pattern": {
              "fillmode": "overlay",
              "size": 10,
              "solidity": 0.2
             }
            },
            "type": "histogram"
           }
          ],
          "histogram2d": [
           {
            "colorbar": {
             "outlinewidth": 0,
             "ticks": ""
            },
            "colorscale": [
             [
              0,
              "#0d0887"
             ],
             [
              0.1111111111111111,
              "#46039f"
             ],
             [
              0.2222222222222222,
              "#7201a8"
             ],
             [
              0.3333333333333333,
              "#9c179e"
             ],
             [
              0.4444444444444444,
              "#bd3786"
             ],
             [
              0.5555555555555556,
              "#d8576b"
             ],
             [
              0.6666666666666666,
              "#ed7953"
             ],
             [
              0.7777777777777778,
              "#fb9f3a"
             ],
             [
              0.8888888888888888,
              "#fdca26"
             ],
             [
              1,
              "#f0f921"
             ]
            ],
            "type": "histogram2d"
           }
          ],
          "histogram2dcontour": [
           {
            "colorbar": {
             "outlinewidth": 0,
             "ticks": ""
            },
            "colorscale": [
             [
              0,
              "#0d0887"
             ],
             [
              0.1111111111111111,
              "#46039f"
             ],
             [
              0.2222222222222222,
              "#7201a8"
             ],
             [
              0.3333333333333333,
              "#9c179e"
             ],
             [
              0.4444444444444444,
              "#bd3786"
             ],
             [
              0.5555555555555556,
              "#d8576b"
             ],
             [
              0.6666666666666666,
              "#ed7953"
             ],
             [
              0.7777777777777778,
              "#fb9f3a"
             ],
             [
              0.8888888888888888,
              "#fdca26"
             ],
             [
              1,
              "#f0f921"
             ]
            ],
            "type": "histogram2dcontour"
           }
          ],
          "mesh3d": [
           {
            "colorbar": {
             "outlinewidth": 0,
             "ticks": ""
            },
            "type": "mesh3d"
           }
          ],
          "parcoords": [
           {
            "line": {
             "colorbar": {
              "outlinewidth": 0,
              "ticks": ""
             }
            },
            "type": "parcoords"
           }
          ],
          "pie": [
           {
            "automargin": true,
            "type": "pie"
           }
          ],
          "scatter": [
           {
            "fillpattern": {
             "fillmode": "overlay",
             "size": 10,
             "solidity": 0.2
            },
            "type": "scatter"
           }
          ],
          "scatter3d": [
           {
            "line": {
             "colorbar": {
              "outlinewidth": 0,
              "ticks": ""
             }
            },
            "marker": {
             "colorbar": {
              "outlinewidth": 0,
              "ticks": ""
             }
            },
            "type": "scatter3d"
           }
          ],
          "scattercarpet": [
           {
            "marker": {
             "colorbar": {
              "outlinewidth": 0,
              "ticks": ""
             }
            },
            "type": "scattercarpet"
           }
          ],
          "scattergeo": [
           {
            "marker": {
             "colorbar": {
              "outlinewidth": 0,
              "ticks": ""
             }
            },
            "type": "scattergeo"
           }
          ],
          "scattergl": [
           {
            "marker": {
             "colorbar": {
              "outlinewidth": 0,
              "ticks": ""
             }
            },
            "type": "scattergl"
           }
          ],
          "scattermapbox": [
           {
            "marker": {
             "colorbar": {
              "outlinewidth": 0,
              "ticks": ""
             }
            },
            "type": "scattermapbox"
           }
          ],
          "scatterpolar": [
           {
            "marker": {
             "colorbar": {
              "outlinewidth": 0,
              "ticks": ""
             }
            },
            "type": "scatterpolar"
           }
          ],
          "scatterpolargl": [
           {
            "marker": {
             "colorbar": {
              "outlinewidth": 0,
              "ticks": ""
             }
            },
            "type": "scatterpolargl"
           }
          ],
          "scatterternary": [
           {
            "marker": {
             "colorbar": {
              "outlinewidth": 0,
              "ticks": ""
             }
            },
            "type": "scatterternary"
           }
          ],
          "surface": [
           {
            "colorbar": {
             "outlinewidth": 0,
             "ticks": ""
            },
            "colorscale": [
             [
              0,
              "#0d0887"
             ],
             [
              0.1111111111111111,
              "#46039f"
             ],
             [
              0.2222222222222222,
              "#7201a8"
             ],
             [
              0.3333333333333333,
              "#9c179e"
             ],
             [
              0.4444444444444444,
              "#bd3786"
             ],
             [
              0.5555555555555556,
              "#d8576b"
             ],
             [
              0.6666666666666666,
              "#ed7953"
             ],
             [
              0.7777777777777778,
              "#fb9f3a"
             ],
             [
              0.8888888888888888,
              "#fdca26"
             ],
             [
              1,
              "#f0f921"
             ]
            ],
            "type": "surface"
           }
          ],
          "table": [
           {
            "cells": {
             "fill": {
              "color": "#EBF0F8"
             },
             "line": {
              "color": "white"
             }
            },
            "header": {
             "fill": {
              "color": "#C8D4E3"
             },
             "line": {
              "color": "white"
             }
            },
            "type": "table"
           }
          ]
         },
         "layout": {
          "annotationdefaults": {
           "arrowcolor": "#2a3f5f",
           "arrowhead": 0,
           "arrowwidth": 1
          },
          "autotypenumbers": "strict",
          "coloraxis": {
           "colorbar": {
            "outlinewidth": 0,
            "ticks": ""
           }
          },
          "colorscale": {
           "diverging": [
            [
             0,
             "#8e0152"
            ],
            [
             0.1,
             "#c51b7d"
            ],
            [
             0.2,
             "#de77ae"
            ],
            [
             0.3,
             "#f1b6da"
            ],
            [
             0.4,
             "#fde0ef"
            ],
            [
             0.5,
             "#f7f7f7"
            ],
            [
             0.6,
             "#e6f5d0"
            ],
            [
             0.7,
             "#b8e186"
            ],
            [
             0.8,
             "#7fbc41"
            ],
            [
             0.9,
             "#4d9221"
            ],
            [
             1,
             "#276419"
            ]
           ],
           "sequential": [
            [
             0,
             "#0d0887"
            ],
            [
             0.1111111111111111,
             "#46039f"
            ],
            [
             0.2222222222222222,
             "#7201a8"
            ],
            [
             0.3333333333333333,
             "#9c179e"
            ],
            [
             0.4444444444444444,
             "#bd3786"
            ],
            [
             0.5555555555555556,
             "#d8576b"
            ],
            [
             0.6666666666666666,
             "#ed7953"
            ],
            [
             0.7777777777777778,
             "#fb9f3a"
            ],
            [
             0.8888888888888888,
             "#fdca26"
            ],
            [
             1,
             "#f0f921"
            ]
           ],
           "sequentialminus": [
            [
             0,
             "#0d0887"
            ],
            [
             0.1111111111111111,
             "#46039f"
            ],
            [
             0.2222222222222222,
             "#7201a8"
            ],
            [
             0.3333333333333333,
             "#9c179e"
            ],
            [
             0.4444444444444444,
             "#bd3786"
            ],
            [
             0.5555555555555556,
             "#d8576b"
            ],
            [
             0.6666666666666666,
             "#ed7953"
            ],
            [
             0.7777777777777778,
             "#fb9f3a"
            ],
            [
             0.8888888888888888,
             "#fdca26"
            ],
            [
             1,
             "#f0f921"
            ]
           ]
          },
          "colorway": [
           "#636efa",
           "#EF553B",
           "#00cc96",
           "#ab63fa",
           "#FFA15A",
           "#19d3f3",
           "#FF6692",
           "#B6E880",
           "#FF97FF",
           "#FECB52"
          ],
          "font": {
           "color": "#2a3f5f"
          },
          "geo": {
           "bgcolor": "white",
           "lakecolor": "white",
           "landcolor": "#E5ECF6",
           "showlakes": true,
           "showland": true,
           "subunitcolor": "white"
          },
          "hoverlabel": {
           "align": "left"
          },
          "hovermode": "closest",
          "mapbox": {
           "style": "light"
          },
          "paper_bgcolor": "white",
          "plot_bgcolor": "#E5ECF6",
          "polar": {
           "angularaxis": {
            "gridcolor": "white",
            "linecolor": "white",
            "ticks": ""
           },
           "bgcolor": "#E5ECF6",
           "radialaxis": {
            "gridcolor": "white",
            "linecolor": "white",
            "ticks": ""
           }
          },
          "scene": {
           "xaxis": {
            "backgroundcolor": "#E5ECF6",
            "gridcolor": "white",
            "gridwidth": 2,
            "linecolor": "white",
            "showbackground": true,
            "ticks": "",
            "zerolinecolor": "white"
           },
           "yaxis": {
            "backgroundcolor": "#E5ECF6",
            "gridcolor": "white",
            "gridwidth": 2,
            "linecolor": "white",
            "showbackground": true,
            "ticks": "",
            "zerolinecolor": "white"
           },
           "zaxis": {
            "backgroundcolor": "#E5ECF6",
            "gridcolor": "white",
            "gridwidth": 2,
            "linecolor": "white",
            "showbackground": true,
            "ticks": "",
            "zerolinecolor": "white"
           }
          },
          "shapedefaults": {
           "line": {
            "color": "#2a3f5f"
           }
          },
          "ternary": {
           "aaxis": {
            "gridcolor": "white",
            "linecolor": "white",
            "ticks": ""
           },
           "baxis": {
            "gridcolor": "white",
            "linecolor": "white",
            "ticks": ""
           },
           "bgcolor": "#E5ECF6",
           "caxis": {
            "gridcolor": "white",
            "linecolor": "white",
            "ticks": ""
           }
          },
          "title": {
           "x": 0.05
          },
          "xaxis": {
           "automargin": true,
           "gridcolor": "white",
           "linecolor": "white",
           "ticks": "",
           "title": {
            "standoff": 15
           },
           "zerolinecolor": "white",
           "zerolinewidth": 2
          },
          "yaxis": {
           "automargin": true,
           "gridcolor": "white",
           "linecolor": "white",
           "ticks": "",
           "title": {
            "standoff": 15
           },
           "zerolinecolor": "white",
           "zerolinewidth": 2
          }
         }
        },
        "title": {
         "font": {
          "color": "#1abc9c",
          "size": 18
         },
         "text": "Portfolio Value: 4844.01 | Return: $-209.51 (-4.15%)",
         "x": 0.5,
         "xanchor": "center"
        },
        "width": 700
       }
      },
      "image/png": "[encoded data removed]",
      "text/html": [
       "<div>                            <div id=\"d7d163c3-481b-43e5-b71d-fe352a712a16\" class=\"plotly-graph-div\" style=\"height:700px; width:700px;\"></div>            <script type=\"text/javascript\">                require([\"plotly\"], function(Plotly) {                    window.PLOTLYENV=window.PLOTLYENV || {};                                    if (document.getElementById(\"d7d163c3-481b-43e5-b71d-fe352a712a16\")) {                    Plotly.newPlot(                        \"d7d163c3-481b-43e5-b71d-fe352a712a16\",                        [{\"branchvalues\":\"total\",\"hoverinfo\":\"text\",\"labels\":[\"APLE\",\"AQN\",\"ARLP\",\"ARMK\",\"AVGO\",\"DX\",\"ET\",\"GLAD\",\"HAFN\",\"IIPR\",\"INTC\",\"JEPI\",\"MAIN\",\"MO\",\"NVO\",\"O\",\"PFLT\",\"SAR\",\"STAG\",\"T\",\"Asset Management\",\"Drug Manufacturers - General\",\"Marine Shipping\",\"Oil & Gas Midstream\",\"REIT - Hotel & Motel\",\"REIT - Industrial\",\"REIT - Mortgage\",\"REIT - Retail\",\"Semiconductors\",\"Specialty Business Services\",\"Telecom Services\",\"Thermal Coal\",\"Tobacco\",\"Utilities - Diversified\",\"Total\"],\"marker\":{\"colors\":[183.52,15.12,212.4,33.13,181.6,251.46,194.76,169.05,42.05,248.0,19.64,703.95,51.7,170.52,65.0,993.6,105.6,381.99,660.24,160.68,1412.29,65.0,42.05,194.76,183.52,908.24,251.46,993.6,201.24,33.13,160.68,212.4,170.52,15.12,4844.009999999999],\"colorscale\":[[0.0,\"#440154\"],[0.1111111111111111,\"#482878\"],[0.2222222222222222,\"#3e4989\"],[0.3333333333333333,\"#31688e\"],[0.4444444444444444,\"#26828e\"],[0.5555555555555556,\"#1f9e89\"],[0.6666666666666666,\"#35b779\"],[0.7777777777777778,\"#6ece58\"],[0.8888888888888888,\"#b5de2b\"],[1.0,\"#fde725\"]]},\"parents\":[\"REIT - Hotel & Motel\",\"Utilities - Diversified\",\"Thermal Coal\",\"Specialty Business Services\",\"Semiconductors\",\"REIT - Mortgage\",\"Oil & Gas Midstream\",\"Asset Management\",\"Marine Shipping\",\"REIT - Industrial\",\"Semiconductors\",\"Asset Management\",\"Asset Management\",\"Tobacco\",\"Drug Manufacturers - General\",\"REIT - Retail\",\"Asset Management\",\"Asset Management\",\"REIT - Industrial\",\"Telecom Services\",\"Total\",\"Total\",\"Total\",\"Total\",\"Total\",\"Total\",\"Total\",\"Total\",\"Total\",\"Total\",\"Total\",\"Total\",\"Total\",\"Total\",\"\"],\"text\":[\"\\u003cb\\u003eAPLE\\u003c\\u002fb\\u003e\\u003cbr\\u003eEquity: $183.52\\u003cbr\\u003e% of Portfolio: 3.8%\",\"\\u003cb\\u003eAQN\\u003c\\u002fb\\u003e\\u003cbr\\u003eEquity: $15.12\\u003cbr\\u003e% of Portfolio: 0.3%\",\"\\u003cb\\u003eARLP\\u003c\\u002fb\\u003e\\u003cbr\\u003eEquity: $212.40\\u003cbr\\u003e% of Portfolio: 4.4%\",\"\\u003cb\\u003eARMK\\u003c\\u002fb\\u003e\\u003cbr\\u003eEquity: $33.13\\u003cbr\\u003e% of Portfolio: 0.7%\",\"\\u003cb\\u003eAVGO\\u003c\\u002fb\\u003e\\u003cbr\\u003eEquity: $181.60\\u003cbr\\u003e% of Portfolio: 3.7%\",\"\\u003cb\\u003eDX\\u003c\\u002fb\\u003e\\u003cbr\\u003eEquity: $251.46\\u003cbr\\u003e% of Portfolio: 5.2%\",\"\\u003cb\\u003eET\\u003c\\u002fb\\u003e\\u003cbr\\u003eEquity: $194.76\\u003cbr\\u003e% of Portfolio: 4.0%\",\"\\u003cb\\u003eGLAD\\u003c\\u002fb\\u003e\\u003cbr\\u003eEquity: $169.05\\u003cbr\\u003e% of Portfolio: 3.5%\",\"\\u003cb\\u003eHAFN\\u003c\\u002fb\\u003e\\u003cbr\\u003eEquity: $42.05\\u003cbr\\u003e% of Portfolio: 0.9%\",\"\\u003cb\\u003eIIPR\\u003c\\u002fb\\u003e\\u003cbr\\u003eEquity: $248.00\\u003cbr\\u003e% of Portfolio: 5.1%\",\"\\u003cb\\u003eINTC\\u003c\\u002fb\\u003e\\u003cbr\\u003eEquity: $19.64\\u003cbr\\u003e% of Portfolio: 0.4%\",\"\\u003cb\\u003eJEPI\\u003c\\u002fb\\u003e\\u003cbr\\u003eEquity: $703.95\\u003cbr\\u003e% of Portfolio: 14.5%\",\"\\u003cb\\u003eMAIN\\u003c\\u002fb\\u003e\\u003cbr\\u003eEquity: $51.70\\u003cbr\\u003e% of Portfolio: 1.1%\",\"\\u003cb\\u003eMO\\u003c\\u002fb\\u003e\\u003cbr\\u003eEquity: $170.52\\u003cbr\\u003e% of Portfolio: 3.5%\",\"\\u003cb\\u003eNVO\\u003c\\u002fb\\u003e\\u003cbr\\u003eEquity: $65.00\\u003cbr\\u003e% of Portfolio: 1.3%\",\"\\u003cb\\u003eO\\u003c\\u002fb\\u003e\\u003cbr\\u003eEquity: $993.60\\u003cbr\\u003e% of Portfolio: 20.5%\",\"\\u003cb\\u003ePFLT\\u003c\\u002fb\\u003e\\u003cbr\\u003eEquity: $105.60\\u003cbr\\u003e% of Portfolio: 2.2%\",\"\\u003cb\\u003eSAR\\u003c\\u002fb\\u003e\\u003cbr\\u003eEquity: $381.99\\u003cbr\\u003e% of Portfolio: 7.9%\",\"\\u003cb\\u003eSTAG\\u003c\\u002fb\\u003e\\u003cbr\\u003eEquity: $660.24\\u003cbr\\u003e% of Portfolio: 13.6%\",\"\\u003cb\\u003eT\\u003c\\u002fb\\u003e\\u003cbr\\u003eEquity: $160.68\\u003cbr\\u003e% of Portfolio: 3.3%\",\"\\u003cb\\u003eAsset Management\\u003c\\u002fb\\u003e\\u003cbr\\u003eEquity: $1,412.29\\u003cbr\\u003e% of Portfolio: 29.2%\",\"\\u003cb\\u003eDrug Manufacturers - General\\u003c\\u002fb\\u003e\\u003cbr\\u003eEquity: $65.00\\u003cbr\\u003e% of Portfolio: 1.3%\",\"\\u003cb\\u003eMarine Shipping\\u003c\\u002fb\\u003e\\u003cbr\\u003eEquity: $42.05\\u003cbr\\u003e% of Portfolio: 0.9%\",\"\\u003cb\\u003eOil & Gas Midstream\\u003c\\u002fb\\u003e\\u003cbr\\u003eEquity: $194.76\\u003cbr\\u003e% of Portfolio: 4.0%\",\"\\u003cb\\u003eREIT - Hotel & Motel\\u003c\\u002fb\\u003e\\u003cbr\\u003eEquity: $183.52\\u003cbr\\u003e% of Portfolio: 3.8%\",\"\\u003cb\\u003eREIT - Industrial\\u003c\\u002fb\\u003e\\u003cbr\\u003eEquity: $908.24\\u003cbr\\u003e% of Portfolio: 18.7%\",\"\\u003cb\\u003eREIT - Mortgage\\u003c\\u002fb\\u003e\\u003cbr\\u003eEquity: $251.46\\u003cbr\\u003e% of Portfolio: 5.2%\",\"\\u003cb\\u003eREIT - Retail\\u003c\\u002fb\\u003e\\u003cbr\\u003eEquity: $993.60\\u003cbr\\u003e% of Portfolio: 20.5%\",\"\\u003cb\\u003eSemiconductors\\u003c\\u002fb\\u003e\\u003cbr\\u003eEquity: $201.24\\u003cbr\\u003e% of Portfolio: 4.2%\",\"\\u003cb\\u003eSpecialty Business Services\\u003c\\u002fb\\u003e\\u003cbr\\u003eEquity: $33.13\\u003cbr\\u003e% of Portfolio: 0.7%\",\"\\u003cb\\u003eTelecom Services\\u003c\\u002fb\\u003e\\u003cbr\\u003eEquity: $160.68\\u003cbr\\u003e% of Portfolio: 3.3%\",\"\\u003cb\\u003eThermal Coal\\u003c\\u002fb\\u003e\\u003cbr\\u003eEquity: $212.40\\u003cbr\\u003e% of Portfolio: 4.4%\",\"\\u003cb\\u003eTobacco\\u003c\\u002fb\\u003e\\u003cbr\\u003eEquity: $170.52\\u003cbr\\u003e% of Portfolio: 3.5%\",\"\\u003cb\\u003eUtilities - Diversified\\u003c\\u002fb\\u003e\\u003cbr\\u003eEquity: $15.12\\u003cbr\\u003e% of Portfolio: 0.3%\",\"\\u003cb\\u003eTotal\\u003c\\u002fb\\u003e\\u003cbr\\u003eEquity: $4,844.01\\u003cbr\\u003e% of Portfolio: 100.0%\"],\"textinfo\":\"label\",\"values\":[183.52,15.12,212.4,33.13,181.6,251.46,194.76,169.05,42.05,248.0,19.64,703.95,51.7,170.52,65.0,993.6,105.6,381.99,660.24,160.68,1412.29,65.0,42.05,194.76,183.52,908.24,251.46,993.6,201.24,33.13,160.68,212.4,170.52,15.12,4844.009999999999],\"type\":\"sunburst\"}],                        {\"template\":{\"data\":{\"histogram2dcontour\":[{\"type\":\"histogram2dcontour\",\"colorbar\":{\"outlinewidth\":0,\"ticks\":\"\"},\"colorscale\":[[0.0,\"#0d0887\"],[0.1111111111111111,\"#46039f\"],[0.2222222222222222,\"#7201a8\"],[0.3333333333333333,\"#9c179e\"],[0.4444444444444444,\"#bd3786\"],[0.5555555555555556,\"#d8576b\"],[0.6666666666666666,\"#ed7953\"],[0.7777777777777778,\"#fb9f3a\"],[0.8888888888888888,\"#fdca26\"],[1.0,\"#f0f921\"]]}],\"choropleth\":[{\"type\":\"choropleth\",\"colorbar\":{\"outlinewidth\":0,\"ticks\":\"\"}}],\"histogram2d\":[{\"type\":\"histogram2d\",\"colorbar\":{\"outlinewidth\":0,\"ticks\":\"\"},\"colorscale\":[[0.0,\"#0d0887\"],[0.1111111111111111,\"#46039f\"],[0.2222222222222222,\"#7201a8\"],[0.3333333333333333,\"#9c179e\"],[0.4444444444444444,\"#bd3786\"],[0.5555555555555556,\"#d8576b\"],[0.6666666666666666,\"#ed7953\"],[0.7777777777777778,\"#fb9f3a\"],[0.8888888888888888,\"#fdca26\"],[1.0,\"#f0f921\"]]}],\"heatmap\":[{\"type\":\"heatmap\",\"colorbar\":{\"outlinewidth\":0,\"ticks\":\"\"},\"colorscale\":[[0.0,\"#0d0887\"],[0.1111111111111111,\"#46039f\"],[0.2222222222222222,\"#7201a8\"],[0.3333333333333333,\"#9c179e\"],[0.4444444444444444,\"#bd3786\"],[0.5555555555555556,\"#d8576b\"],[0.6666666666666666,\"#ed7953\"],[0.7777777777777778,\"#fb9f3a\"],[0.8888888888888888,\"#fdca26\"],[1.0,\"#f0f921\"]]}],\"heatmapgl\":[{\"type\":\"heatmapgl\",\"colorbar\":{\"outlinewidth\":0,\"ticks\":\"\"},\"colorscale\":[[0.0,\"#0d0887\"],[0.1111111111111111,\"#46039f\"],[0.2222222222222222,\"#7201a8\"],[0.3333333333333333,\"#9c179e\"],[0.4444444444444444,\"#bd3786\"],[0.5555555555555556,\"#d8576b\"],[0.6666666666666666,\"#ed7953\"],[0.7777777777777778,\"#fb9f3a\"],[0.8888888888888888,\"#fdca26\"],[1.0,\"#f0f921\"]]}],\"contourcarpet\":[{\"type\":\"contourcarpet\",\"colorbar\":{\"outlinewidth\":0,\"ticks\":\"\"}}],\"contour\":[{\"type\":\"contour\",\"colorbar\":{\"outlinewidth\":0,\"ticks\":\"\"},\"colorscale\":[[0.0,\"#0d0887\"],[0.1111111111111111,\"#46039f\"],[0.2222222222222222,\"#7201a8\"],[0.3333333333333333,\"#9c179e\"],[0.4444444444444444,\"#bd3786\"],[0.5555555555555556,\"#d8576b\"],[0.6666666666666666,\"#ed7953\"],[0.7777777777777778,\"#fb9f3a\"],[0.8888888888888888,\"#fdca26\"],[1.0,\"#f0f921\"]]}],\"surface\":[{\"type\":\"surface\",\"colorbar\":{\"outlinewidth\":0,\"ticks\":\"\"},\"colorscale\":[[0.0,\"#0d0887\"],[0.1111111111111111,\"#46039f\"],[0.2222222222222222,\"#7201a8\"],[0.3333333333333333,\"#9c179e\"],[0.4444444444444444,\"#bd3786\"],[0.5555555555555556,\"#d8576b\"],[0.6666666666666666,\"#ed7953\"],[0.7777777777777778,\"#fb9f3a\"],[0.8888888888888888,\"#fdca26\"],[1.0,\"#f0f921\"]]}],\"mesh3d\":[{\"type\":\"mesh3d\",\"colorbar\":{\"outlinewidth\":0,\"ticks\":\"\"}}],\"scatter\":[{\"fillpattern\":{\"fillmode\":\"overlay\",\"size\":10,\"solidity\":0.2},\"type\":\"scatter\"}],\"parcoords\":[{\"type\":\"parcoords\",\"line\":{\"colorbar\":{\"outlinewidth\":0,\"ticks\":\"\"}}}],\"scatterpolargl\":[{\"type\":\"scatterpolargl\",\"marker\":{\"colorbar\":{\"outlinewidth\":0,\"ticks\":\"\"}}}],\"bar\":[{\"error_x\":{\"color\":\"#2a3f5f\"},\"error_y\":{\"color\":\"#2a3f5f\"},\"marker\":{\"line\":{\"color\":\"#E5ECF6\",\"width\":0.5},\"pattern\":{\"fillmode\":\"overlay\",\"size\":10,\"solidity\":0.2}},\"type\":\"bar\"}],\"scattergeo\":[{\"type\":\"scattergeo\",\"marker\":{\"colorbar\":{\"outlinewidth\":0,\"ticks\":\"\"}}}],\"scatterpolar\":[{\"type\":\"scatterpolar\",\"marker\":{\"colorbar\":{\"outlinewidth\":0,\"ticks\":\"\"}}}],\"histogram\":[{\"marker\":{\"pattern\":{\"fillmode\":\"overlay\",\"size\":10,\"solidity\":0.2}},\"type\":\"histogram\"}],\"scattergl\":[{\"type\":\"scattergl\",\"marker\":{\"colorbar\":{\"outlinewidth\":0,\"ticks\":\"\"}}}],\"scatter3d\":[{\"type\":\"scatter3d\",\"line\":{\"colorbar\":{\"outlinewidth\":0,\"ticks\":\"\"}},\"marker\":{\"colorbar\":{\"outlinewidth\":0,\"ticks\":\"\"}}}],\"scattermapbox\":[{\"type\":\"scattermapbox\",\"marker\":{\"colorbar\":{\"outlinewidth\":0,\"ticks\":\"\"}}}],\"scatterternary\":[{\"type\":\"scatterternary\",\"marker\":{\"colorbar\":{\"outlinewidth\":0,\"ticks\":\"\"}}}],\"scattercarpet\":[{\"type\":\"scattercarpet\",\"marker\":{\"colorbar\":{\"outlinewidth\":0,\"ticks\":\"\"}}}],\"carpet\":[{\"aaxis\":{\"endlinecolor\":\"#2a3f5f\",\"gridcolor\":\"white\",\"linecolor\":\"white\",\"minorgridcolor\":\"white\",\"startlinecolor\":\"#2a3f5f\"},\"baxis\":{\"endlinecolor\":\"#2a3f5f\",\"gridcolor\":\"white\",\"linecolor\":\"white\",\"minorgridcolor\":\"white\",\"startlinecolor\":\"#2a3f5f\"},\"type\":\"carpet\"}],\"table\":[{\"cells\":{\"fill\":{\"color\":\"#EBF0F8\"},\"line\":{\"color\":\"white\"}},\"header\":{\"fill\":{\"color\":\"#C8D4E3\"},\"line\":{\"color\":\"white\"}},\"type\":\"table\"}],\"barpolar\":[{\"marker\":{\"line\":{\"color\":\"#E5ECF6\",\"width\":0.5},\"pattern\":{\"fillmode\":\"overlay\",\"size\":10,\"solidity\":0.2}},\"type\":\"barpolar\"}],\"pie\":[{\"automargin\":true,\"type\":\"pie\"}]},\"layout\":{\"autotypenumbers\":\"strict\",\"colorway\":[\"#636efa\",\"#EF553B\",\"#00cc96\",\"#ab63fa\",\"#FFA15A\",\"#19d3f3\",\"#FF6692\",\"#B6E880\",\"#FF97FF\",\"#FECB52\"],\"font\":{\"color\":\"#2a3f5f\"},\"hovermode\":\"closest\",\"hoverlabel\":{\"align\":\"left\"},\"paper_bgcolor\":\"white\",\"plot_bgcolor\":\"#E5ECF6\",\"polar\":{\"bgcolor\":\"#E5ECF6\",\"angularaxis\":{\"gridcolor\":\"white\",\"linecolor\":\"white\",\"ticks\":\"\"},\"radialaxis\":{\"gridcolor\":\"white\",\"linecolor\":\"white\",\"ticks\":\"\"}},\"ternary\":{\"bgcolor\":\"#E5ECF6\",\"aaxis\":{\"gridcolor\":\"white\",\"linecolor\":\"white\",\"ticks\":\"\"},\"baxis\":{\"gridcolor\":\"white\",\"linecolor\":\"white\",\"ticks\":\"\"},\"caxis\":{\"gridcolor\":\"white\",\"linecolor\":\"white\",\"ticks\":\"\"}},\"coloraxis\":{\"colorbar\":{\"outlinewidth\":0,\"ticks\":\"\"}},\"colorscale\":{\"sequential\":[[0.0,\"#0d0887\"],[0.1111111111111111,\"#46039f\"],[0.2222222222222222,\"#7201a8\"],[0.3333333333333333,\"#9c179e\"],[0.4444444444444444,\"#bd3786\"],[0.5555555555555556,\"#d8576b\"],[0.6666666666666666,\"#ed7953\"],[0.7777777777777778,\"#fb9f3a\"],[0.8888888888888888,\"#fdca26\"],[1.0,\"#f0f921\"]],\"sequentialminus\":[[0.0,\"#0d0887\"],[0.1111111111111111,\"#46039f\"],[0.2222222222222222,\"#7201a8\"],[0.3333333333333333,\"#9c179e\"],[0.4444444444444444,\"#bd3786\"],[0.5555555555555556,\"#d8576b\"],[0.6666666666666666,\"#ed7953\"],[0.7777777777777778,\"#fb9f3a\"],[0.8888888888888888,\"#fdca26\"],[1.0,\"#f0f921\"]],\"diverging\":[[0,\"#8e0152\"],[0.1,\"#c51b7d\"],[0.2,\"#de77ae\"],[0.3,\"#f1b6da\"],[0.4,\"#fde0ef\"],[0.5,\"#f7f7f7\"],[0.6,\"#e6f5d0\"],[0.7,\"#b8e186\"],[0.8,\"#7fbc41\"],[0.9,\"#4d9221\"],[1,\"#276419\"]]},\"xaxis\":{\"gridcolor\":\"white\",\"linecolor\":\"white\",\"ticks\":\"\",\"title\":{\"standoff\":15},\"zerolinecolor\":\"white\",\"automargin\":true,\"zerolinewidth\":2},\"yaxis\":{\"gridcolor\":\"white\",\"linecolor\":\"white\",\"ticks\":\"\",\"title\":{\"standoff\":15},\"zerolinecolor\":\"white\",\"automargin\":true,\"zerolinewidth\":2},\"scene\":{\"xaxis\":{\"backgroundcolor\":\"#E5ECF6\",\"gridcolor\":\"white\",\"linecolor\":\"white\",\"showbackground\":true,\"ticks\":\"\",\"zerolinecolor\":\"white\",\"gridwidth\":2},\"yaxis\":{\"backgroundcolor\":\"#E5ECF6\",\"gridcolor\":\"white\",\"linecolor\":\"white\",\"showbackground\":true,\"ticks\":\"\",\"zerolinecolor\":\"white\",\"gridwidth\":2},\"zaxis\":{\"backgroundcolor\":\"#E5ECF6\",\"gridcolor\":\"white\",\"linecolor\":\"white\",\"showbackground\":true,\"ticks\":\"\",\"zerolinecolor\":\"white\",\"gridwidth\":2}},\"shapedefaults\":{\"line\":{\"color\":\"#2a3f5f\"}},\"annotationdefaults\":{\"arrowcolor\":\"#2a3f5f\",\"arrowhead\":0,\"arrowwidth\":1},\"geo\":{\"bgcolor\":\"white\",\"landcolor\":\"#E5ECF6\",\"subunitcolor\":\"white\",\"showland\":true,\"showlakes\":true,\"lakecolor\":\"white\"},\"title\":{\"x\":0.05},\"mapbox\":{\"style\":\"light\"}}},\"title\":{\"font\":{\"size\":18,\"color\":\"#1abc9c\"},\"text\":\"Portfolio Value: 4844.01 | Return: $-209.51 (-4.15%)\",\"x\":0.5,\"xanchor\":\"center\"},\"font\":{\"color\":\"#1abc9c\"},\"margin\":{\"t\":60,\"b\":10,\"r\":10,\"l\":10},\"paper_bgcolor\":\"#1e1e1e\",\"plot_bgcolor\":\"#1e1e1e\",\"height\":700,\"width\":700},                        {\"responsive\": true}                    ).then(function(){\n",
       "                            \n",
       "var gd = document.getElementById('d7d163c3-481b-43e5-b71d-fe352a712a16');\n",
       "var x = new MutationObserver(function (mutations, observer) {{\n",
       "        var display = window.getComputedStyle(gd).display;\n",
       "        if (!display || display === 'none') {{\n",
       "            console.log([gd, 'removed!']);\n",
       "            Plotly.purge(gd);\n",
       "            observer.disconnect();\n",
       "        }}\n",
       "}});\n",
       "\n",
       "// Listen for the removal of the full notebook cells\n",
       "var notebookContainer = gd.closest('#notebook-container');\n",
       "if (notebookContainer) {{\n",
       "    x.observe(notebookContainer, {childList: true});\n",
       "}}\n",
       "\n",
       "// Listen for the clearing of the current output cell\n",
       "var outputEl = gd.closest('.output');\n",
       "if (outputEl) {{\n",
       "    x.observe(outputEl, {childList: true});\n",
       "}}\n",
       "\n",
       "                        })                };                });            </script>        </div>"
      ]
     },
     "metadata": {},
     "output_type": "display_data"
    }
   ],
   "source": [
    "returns_str = f\"${returns:,.2f}\"\n",
    "return_pct_str = f\"{return_pct:.2f}%\"\n",
    "\n",
    "# Title string\n",
    "chart_title = f\"Portfolio Value: {curr_port_value_str} | Return: {returns_str} ({return_pct_str})\"\n",
    "\n",
    "# Define levels for the hierarchy in Sunburst\n",
    "levels = ['Symbol', 'industry']  # From bottom to top\n",
    "value_column = 'Equity'  # Column used for sizing and calculations\n",
    "total_equity = master[value_column].sum()\n",
    "\n",
    "def build_hierarchical_dataframe(master, levels, value_column):\n",
    "    df_list = []\n",
    "    for i, level in enumerate(levels):\n",
    "        df_tree = pd.DataFrame(columns=['id', 'parent', 'value', '% of Portfolio', 'hover_text'])\n",
    "        dfg = master.groupby(levels[i:]).sum(numeric_only=True).reset_index()\n",
    "        df_tree['id'] = dfg[level].copy()\n",
    "        if i < len(levels) - 1:\n",
    "            df_tree['parent'] = dfg[levels[i+1]].copy()\n",
    "        else:\n",
    "            df_tree['parent'] = 'Total'\n",
    "        df_tree['value'] = dfg[value_column]\n",
    "        df_tree['% of Portfolio'] = ((df_tree['value'] / total_equity) * 100).round(1)\n",
    "        df_tree['hover_text'] = (\n",
    "            '<b>' + df_tree['id'] + '</b><br>' +\n",
    "            'Equity: $' + df_tree['value'].apply(lambda x: f\"{x:,.2f}\") + '<br>' +\n",
    "            '% of Portfolio: ' + df_tree['% of Portfolio'].astype(str) + '%'\n",
    "        )\n",
    "        df_list.append(df_tree)\n",
    "    \n",
    "    total = pd.Series({\n",
    "        'id': 'Total',\n",
    "        'parent': '',\n",
    "        'value': total_equity,\n",
    "        '% of Portfolio': 100.0,\n",
    "        'hover_text': '<b>Total</b><br>Equity: $' + f\"{total_equity:,.2f}\" + '<br>% of Portfolio: 100.0%'\n",
    "    })\n",
    "    df_list.append(pd.DataFrame([total]))\n",
    "    return pd.concat(df_list, ignore_index=True)\n",
    "\n",
    "# Build the hierarchical DataFrame\n",
    "df_all_trees = build_hierarchical_dataframe(master, levels, value_column)\n",
    "\n",
    "# Create the Sunburst chart\n",
    "sunburst_fig = go.Figure(go.Sunburst(\n",
    "    labels=df_all_trees['id'],\n",
    "    parents=df_all_trees['parent'],\n",
    "    values=df_all_trees['value'],\n",
    "    branchvalues='total',\n",
    "    marker=dict(colors=df_all_trees['value'], colorscale='Viridis'),\n",
    "    hoverinfo=\"text\",\n",
    "    textinfo=\"label\",\n",
    "    text=df_all_trees[\"hover_text\"],\n",
    "))\n",
    "\n",
    "sunburst_fig.update_layout(\n",
    "    title=dict(\n",
    "        text=chart_title,\n",
    "        font=dict(size=18, color=accent_color),\n",
    "        x=0.5,\n",
    "        xanchor='center'\n",
    "    ),\n",
    "    paper_bgcolor='#1e1e1e',\n",
    "    plot_bgcolor='#1e1e1e',\n",
    "    font_color=accent_color,\n",
    "    margin=dict(t=60, b=10, r=10, l=10),  # Make room for the title\n",
    "    height=700,\n",
    "    width=700,\n",
    ")\n",
    "\n",
    "# Show chart\n",
    "sunburst_fig.show()"
   ]
  },
  {
   "cell_type": "markdown",
   "id": "ba9e1f3c-a869-4e38-86de-27c5195b8b17",
   "metadata": {},
   "source": [
    "# Dividend Bar Chart"
   ]
  },
  {
   "cell_type": "code",
   "execution_count": 185,
   "id": "9d56aba0-f8d4-4b83-82c5-76bf20648acb",
   "metadata": {},
   "outputs": [
    {
     "data": {
      "application/vnd.plotly.v1+json": {
       "config": {
        "plotlyServerURL": "https://plot.ly"
       },
       "data": [
        {
         "alignmentgroup": "True",
         "hovertemplate": "Symbol=GLAD<br>YearMonth=%{x}<br>Dividend=%{y}<extra></extra>",
         "legendgroup": "GLAD",
         "marker": {
          "color": "#636efa",
          "pattern": {
           "shape": ""
          }
         },
         "name": "GLAD",
         "offsetgroup": "GLAD",
         "orientation": "v",
         "showlegend": true,
         "textposition": "auto",
         "type": "bar",
         "x": [
          "2023-06",
          "2023-07",
          "2023-08",
          "2023-09",
          "2023-10",
          "2023-11",
          "2023-12",
          "2024-01",
          "2024-02",
          "2024-04",
          "2024-05",
          "2024-06",
          "2024-07",
          "2024-08",
          "2024-09",
          "2024-10",
          "2024-11",
          "2024-12",
          "2025-02",
          "2025-03"
         ],
         "xaxis": "x",
         "y": [
          0.08,
          0.66,
          0.83,
          1.3599999999999999,
          1.16,
          1.16,
          1.16,
          1.16,
          1.16,
          2.32,
          1.16,
          1.16,
          1.16,
          1.16,
          1.16,
          1.16,
          1.16,
          3.96,
          1.16,
          1.16
         ],
         "yaxis": "y"
        },
        {
         "alignmentgroup": "True",
         "hovertemplate": "Symbol=APLE<br>YearMonth=%{x}<br>Dividend=%{y}<extra></extra>",
         "legendgroup": "APLE",
         "marker": {
          "color": "#EF553B",
          "pattern": {
           "shape": ""
          }
         },
         "name": "APLE",
         "offsetgroup": "APLE",
         "orientation": "v",
         "showlegend": true,
         "textposition": "auto",
         "type": "bar",
         "x": [
          "2023-07",
          "2023-08",
          "2023-09",
          "2023-10",
          "2023-11",
          "2023-12",
          "2024-01",
          "2024-02",
          "2024-03",
          "2024-04",
          "2024-05",
          "2024-06",
          "2024-07",
          "2024-08",
          "2024-09",
          "2024-10",
          "2024-11",
          "2024-12",
          "2025-01",
          "2025-02",
          "2025-03",
          "2025-04"
         ],
         "xaxis": "x",
         "y": [
          0.16,
          0.16,
          0.16,
          0.32,
          0.32,
          0.32,
          0.52,
          0.32,
          0.32,
          0.32,
          0.32,
          0.32,
          0.32,
          0.32,
          0.32,
          0.32,
          0.32,
          0.32,
          0.52,
          0.32,
          0.32,
          0.32
         ],
         "yaxis": "y"
        },
        {
         "alignmentgroup": "True",
         "hovertemplate": "Symbol=STAG<br>YearMonth=%{x}<br>Dividend=%{y}<extra></extra>",
         "legendgroup": "STAG",
         "marker": {
          "color": "#00cc96",
          "pattern": {
           "shape": ""
          }
         },
         "name": "STAG",
         "offsetgroup": "STAG",
         "orientation": "v",
         "showlegend": true,
         "textposition": "auto",
         "type": "bar",
         "x": [
          "2023-07",
          "2023-08",
          "2023-09",
          "2023-10",
          "2023-11",
          "2023-12",
          "2024-01",
          "2024-02",
          "2024-03",
          "2024-04",
          "2024-05",
          "2024-06",
          "2024-07",
          "2024-08",
          "2024-09",
          "2024-10",
          "2024-11",
          "2024-12",
          "2025-01",
          "2025-02",
          "2025-03",
          "2025-04"
         ],
         "xaxis": "x",
         "y": [
          0.25,
          0.25,
          0.61,
          0.61,
          0.61,
          0.61,
          0.61,
          0.62,
          0.62,
          0.62,
          0.62,
          0.62,
          0.62,
          0.62,
          0.62,
          0.62,
          1.23,
          1.23,
          1.73,
          1.74,
          2.61,
          2.61
         ],
         "yaxis": "y"
        },
        {
         "alignmentgroup": "True",
         "hovertemplate": "Symbol=ARLP<br>YearMonth=%{x}<br>Dividend=%{y}<extra></extra>",
         "legendgroup": "ARLP",
         "marker": {
          "color": "#ab63fa",
          "pattern": {
           "shape": ""
          }
         },
         "name": "ARLP",
         "offsetgroup": "ARLP",
         "orientation": "v",
         "showlegend": true,
         "textposition": "auto",
         "type": "bar",
         "x": [
          "2023-08",
          "2023-11",
          "2024-02",
          "2024-05",
          "2024-08",
          "2024-11",
          "2025-02"
         ],
         "xaxis": "x",
         "y": [
          1.4,
          3.5,
          3.5,
          3.5,
          3.5,
          3.5,
          5.6
         ],
         "yaxis": "y"
        },
        {
         "alignmentgroup": "True",
         "hovertemplate": "Symbol=T<br>YearMonth=%{x}<br>Dividend=%{y}<extra></extra>",
         "legendgroup": "T",
         "marker": {
          "color": "#FFA15A",
          "pattern": {
           "shape": ""
          }
         },
         "name": "T",
         "offsetgroup": "T",
         "orientation": "v",
         "showlegend": true,
         "textposition": "auto",
         "type": "bar",
         "x": [
          "2023-08",
          "2023-11",
          "2024-02",
          "2024-05",
          "2024-08",
          "2024-11",
          "2025-02",
          "2025-05"
         ],
         "xaxis": "x",
         "y": [
          0.28,
          1.67,
          1.67,
          1.67,
          1.67,
          1.67,
          1.67,
          1.67
         ],
         "yaxis": "y"
        },
        {
         "alignmentgroup": "True",
         "hovertemplate": "Symbol=INTC<br>YearMonth=%{x}<br>Dividend=%{y}<extra></extra>",
         "legendgroup": "INTC",
         "marker": {
          "color": "#19d3f3",
          "pattern": {
           "shape": ""
          }
         },
         "name": "INTC",
         "offsetgroup": "INTC",
         "orientation": "v",
         "showlegend": true,
         "textposition": "auto",
         "type": "bar",
         "x": [
          "2023-09",
          "2023-12",
          "2024-03",
          "2024-06",
          "2024-09"
         ],
         "xaxis": "x",
         "y": [
          0.13,
          0.13,
          0.13,
          0.13,
          0.13
         ],
         "yaxis": "y"
        },
        {
         "alignmentgroup": "True",
         "hovertemplate": "Symbol=O<br>YearMonth=%{x}<br>Dividend=%{y}<extra></extra>",
         "legendgroup": "O",
         "marker": {
          "color": "#FF6692",
          "pattern": {
           "shape": ""
          }
         },
         "name": "O",
         "offsetgroup": "O",
         "orientation": "v",
         "showlegend": true,
         "textposition": "auto",
         "type": "bar",
         "x": [
          "2023-09",
          "2023-10",
          "2023-11",
          "2023-12",
          "2024-01",
          "2024-02",
          "2024-03",
          "2024-04",
          "2024-05",
          "2024-06",
          "2024-07",
          "2024-08",
          "2024-09",
          "2024-10",
          "2024-11",
          "2024-12",
          "2025-01",
          "2025-02",
          "2025-03",
          "2025-04"
         ],
         "xaxis": "x",
         "y": [
          0.26,
          0.26,
          0.26,
          0.51,
          0.51,
          0.51,
          0.51,
          0.51,
          0.51,
          0.53,
          0.53,
          0.53,
          0.53,
          0.53,
          1.05,
          1.32,
          4.22,
          4.75,
          4.82,
          4.83
         ],
         "yaxis": "y"
        },
        {
         "alignmentgroup": "True",
         "hovertemplate": "Symbol=SAR<br>YearMonth=%{x}<br>Dividend=%{y}<extra></extra>",
         "legendgroup": "SAR",
         "marker": {
          "color": "#B6E880",
          "pattern": {
           "shape": ""
          }
         },
         "name": "SAR",
         "offsetgroup": "SAR",
         "orientation": "v",
         "showlegend": true,
         "textposition": "auto",
         "type": "bar",
         "x": [
          "2023-09",
          "2023-12",
          "2024-03",
          "2024-06",
          "2024-09",
          "2024-12",
          "2025-03",
          "2025-04"
         ],
         "xaxis": "x",
         "y": [
          3.55,
          6.48,
          6.57,
          6.66,
          6.66,
          13.080000000000002,
          12.58,
          4.25
         ],
         "yaxis": "y"
        },
        {
         "alignmentgroup": "True",
         "hovertemplate": "Symbol=TAIT<br>YearMonth=%{x}<br>Dividend=%{y}<extra></extra>",
         "legendgroup": "TAIT",
         "marker": {
          "color": "#FF97FF",
          "pattern": {
           "shape": ""
          }
         },
         "name": "TAIT",
         "offsetgroup": "TAIT",
         "orientation": "v",
         "showlegend": true,
         "textposition": "auto",
         "type": "bar",
         "x": [
          "2023-09",
          "2023-11"
         ],
         "xaxis": "x",
         "y": [
          0.3,
          0.3
         ],
         "yaxis": "y"
        },
        {
         "alignmentgroup": "True",
         "hovertemplate": "Symbol=IIPR<br>YearMonth=%{x}<br>Dividend=%{y}<extra></extra>",
         "legendgroup": "IIPR",
         "marker": {
          "color": "#FECB52",
          "pattern": {
           "shape": ""
          }
         },
         "name": "IIPR",
         "offsetgroup": "IIPR",
         "orientation": "v",
         "showlegend": true,
         "textposition": "auto",
         "type": "bar",
         "x": [
          "2023-10",
          "2024-01",
          "2024-04",
          "2024-07",
          "2024-10",
          "2025-01",
          "2025-04"
         ],
         "xaxis": "x",
         "y": [
          1.8,
          1.82,
          1.82,
          1.9,
          1.9,
          1.9,
          5.7
         ],
         "yaxis": "y"
        },
        {
         "alignmentgroup": "True",
         "hovertemplate": "Symbol=SGOV<br>YearMonth=%{x}<br>Dividend=%{y}<extra></extra>",
         "legendgroup": "SGOV",
         "marker": {
          "color": "#636efa",
          "pattern": {
           "shape": ""
          }
         },
         "name": "SGOV",
         "offsetgroup": "SGOV",
         "orientation": "v",
         "showlegend": true,
         "textposition": "auto",
         "type": "bar",
         "x": [
          "2023-10",
          "2023-11",
          "2023-12",
          "2024-02",
          "2024-03",
          "2024-04",
          "2024-05",
          "2024-06",
          "2024-07",
          "2024-08",
          "2024-09",
          "2024-10",
          "2024-11",
          "2024-12"
         ],
         "xaxis": "x",
         "y": [
          0.41,
          0.43,
          1.8,
          0.92,
          0.82,
          0.9,
          0.86,
          0.88,
          0.88,
          0.91,
          0.89,
          0.86,
          0.83,
          2.99
         ],
         "yaxis": "y"
        },
        {
         "alignmentgroup": "True",
         "hovertemplate": "Symbol=HAFN<br>YearMonth=%{x}<br>Dividend=%{y}<extra></extra>",
         "legendgroup": "HAFN",
         "marker": {
          "color": "#EF553B",
          "pattern": {
           "shape": ""
          }
         },
         "name": "HAFN",
         "offsetgroup": "HAFN",
         "orientation": "v",
         "showlegend": true,
         "textposition": "auto",
         "type": "bar",
         "x": [
          "2024-12"
         ],
         "xaxis": "x",
         "y": [
          0.76
         ],
         "yaxis": "y"
        },
        {
         "alignmentgroup": "True",
         "hovertemplate": "Symbol=JEPI<br>YearMonth=%{x}<br>Dividend=%{y}<extra></extra>",
         "legendgroup": "JEPI",
         "marker": {
          "color": "#00cc96",
          "pattern": {
           "shape": ""
          }
         },
         "name": "JEPI",
         "offsetgroup": "JEPI",
         "orientation": "v",
         "showlegend": true,
         "textposition": "auto",
         "type": "bar",
         "x": [
          "2024-12",
          "2025-01",
          "2025-02",
          "2025-03",
          "2025-04"
         ],
         "xaxis": "x",
         "y": [
          0.8,
          1.97,
          3.26,
          3.6,
          4.49
         ],
         "yaxis": "y"
        },
        {
         "alignmentgroup": "True",
         "hovertemplate": "Symbol=AQN<br>YearMonth=%{x}<br>Dividend=%{y}<extra></extra>",
         "legendgroup": "AQN",
         "marker": {
          "color": "#ab63fa",
          "pattern": {
           "shape": ""
          }
         },
         "name": "AQN",
         "offsetgroup": "AQN",
         "orientation": "v",
         "showlegend": true,
         "textposition": "auto",
         "type": "bar",
         "x": [
          "2025-01"
         ],
         "xaxis": "x",
         "y": [
          0.17
         ],
         "yaxis": "y"
        },
        {
         "alignmentgroup": "True",
         "hovertemplate": "Symbol=DX<br>YearMonth=%{x}<br>Dividend=%{y}<extra></extra>",
         "legendgroup": "DX",
         "marker": {
          "color": "#FFA15A",
          "pattern": {
           "shape": ""
          }
         },
         "name": "DX",
         "offsetgroup": "DX",
         "orientation": "v",
         "showlegend": true,
         "textposition": "auto",
         "type": "bar",
         "x": [
          "2025-01",
          "2025-02",
          "2025-03",
          "2025-04"
         ],
         "xaxis": "x",
         "y": [
          1.2,
          2.7,
          2.7,
          3.06
         ],
         "yaxis": "y"
        },
        {
         "alignmentgroup": "True",
         "hovertemplate": "Symbol=ET<br>YearMonth=%{x}<br>Dividend=%{y}<extra></extra>",
         "legendgroup": "ET",
         "marker": {
          "color": "#19d3f3",
          "pattern": {
           "shape": ""
          }
         },
         "name": "ET",
         "offsetgroup": "ET",
         "orientation": "v",
         "showlegend": true,
         "textposition": "auto",
         "type": "bar",
         "x": [
          "2025-02"
         ],
         "xaxis": "x",
         "y": [
          3.9
         ],
         "yaxis": "y"
        },
        {
         "alignmentgroup": "True",
         "hovertemplate": "Symbol=MAIN<br>YearMonth=%{x}<br>Dividend=%{y}<extra></extra>",
         "legendgroup": "MAIN",
         "marker": {
          "color": "#FF6692",
          "pattern": {
           "shape": ""
          }
         },
         "name": "MAIN",
         "offsetgroup": "MAIN",
         "orientation": "v",
         "showlegend": true,
         "textposition": "auto",
         "type": "bar",
         "x": [
          "2025-04"
         ],
         "xaxis": "x",
         "y": [
          0.25
         ],
         "yaxis": "y"
        },
        {
         "alignmentgroup": "True",
         "hovertemplate": "Symbol=MO<br>YearMonth=%{x}<br>Dividend=%{y}<extra></extra>",
         "legendgroup": "MO",
         "marker": {
          "color": "#B6E880",
          "pattern": {
           "shape": ""
          }
         },
         "name": "MO",
         "offsetgroup": "MO",
         "orientation": "v",
         "showlegend": true,
         "textposition": "auto",
         "type": "bar",
         "x": [
          "2025-04"
         ],
         "xaxis": "x",
         "y": [
          3.06
         ],
         "yaxis": "y"
        }
       ],
       "layout": {
        "annotations": [
         {
          "align": "center",
          "font": {
           "color": "#1abc9c",
           "size": 12
          },
          "showarrow": false,
          "text": "<b>0.08</b>",
          "x": "2023-06",
          "y": 0.08,
          "yshift": 10
         },
         {
          "align": "center",
          "font": {
           "color": "#1abc9c",
           "size": 12
          },
          "showarrow": false,
          "text": "<b>1.07</b>",
          "x": "2023-07",
          "y": 1.07,
          "yshift": 10
         },
         {
          "align": "center",
          "font": {
           "color": "#1abc9c",
           "size": 12
          },
          "showarrow": false,
          "text": "<b>2.92</b>",
          "x": "2023-08",
          "y": 2.92,
          "yshift": 10
         },
         {
          "align": "center",
          "font": {
           "color": "#1abc9c",
           "size": 12
          },
          "showarrow": false,
          "text": "<b>6.37</b>",
          "x": "2023-09",
          "y": 6.37,
          "yshift": 10
         },
         {
          "align": "center",
          "font": {
           "color": "#1abc9c",
           "size": 12
          },
          "showarrow": false,
          "text": "<b>4.56</b>",
          "x": "2023-10",
          "y": 4.56,
          "yshift": 10
         },
         {
          "align": "center",
          "font": {
           "color": "#1abc9c",
           "size": 12
          },
          "showarrow": false,
          "text": "<b>8.25</b>",
          "x": "2023-11",
          "y": 8.25,
          "yshift": 10
         },
         {
          "align": "center",
          "font": {
           "color": "#1abc9c",
           "size": 12
          },
          "showarrow": false,
          "text": "<b>11.01</b>",
          "x": "2023-12",
          "y": 11.01,
          "yshift": 10
         },
         {
          "align": "center",
          "font": {
           "color": "#1abc9c",
           "size": 12
          },
          "showarrow": false,
          "text": "<b>4.62</b>",
          "x": "2024-01",
          "y": 4.62,
          "yshift": 10
         },
         {
          "align": "center",
          "font": {
           "color": "#1abc9c",
           "size": 12
          },
          "showarrow": false,
          "text": "<b>8.70</b>",
          "x": "2024-02",
          "y": 8.7,
          "yshift": 10
         },
         {
          "align": "center",
          "font": {
           "color": "#1abc9c",
           "size": 12
          },
          "showarrow": false,
          "text": "<b>8.97</b>",
          "x": "2024-03",
          "y": 8.97,
          "yshift": 10
         },
         {
          "align": "center",
          "font": {
           "color": "#1abc9c",
           "size": 12
          },
          "showarrow": false,
          "text": "<b>6.49</b>",
          "x": "2024-04",
          "y": 6.49,
          "yshift": 10
         },
         {
          "align": "center",
          "font": {
           "color": "#1abc9c",
           "size": 12
          },
          "showarrow": false,
          "text": "<b>8.64</b>",
          "x": "2024-05",
          "y": 8.64,
          "yshift": 10
         },
         {
          "align": "center",
          "font": {
           "color": "#1abc9c",
           "size": 12
          },
          "showarrow": false,
          "text": "<b>10.30</b>",
          "x": "2024-06",
          "y": 10.3,
          "yshift": 10
         },
         {
          "align": "center",
          "font": {
           "color": "#1abc9c",
           "size": 12
          },
          "showarrow": false,
          "text": "<b>5.41</b>",
          "x": "2024-07",
          "y": 5.41,
          "yshift": 10
         },
         {
          "align": "center",
          "font": {
           "color": "#1abc9c",
           "size": 12
          },
          "showarrow": false,
          "text": "<b>8.71</b>",
          "x": "2024-08",
          "y": 8.71,
          "yshift": 10
         },
         {
          "align": "center",
          "font": {
           "color": "#1abc9c",
           "size": 12
          },
          "showarrow": false,
          "text": "<b>10.31</b>",
          "x": "2024-09",
          "y": 10.31,
          "yshift": 10
         },
         {
          "align": "center",
          "font": {
           "color": "#1abc9c",
           "size": 12
          },
          "showarrow": false,
          "text": "<b>5.39</b>",
          "x": "2024-10",
          "y": 5.39,
          "yshift": 10
         },
         {
          "align": "center",
          "font": {
           "color": "#1abc9c",
           "size": 12
          },
          "showarrow": false,
          "text": "<b>9.76</b>",
          "x": "2024-11",
          "y": 9.76,
          "yshift": 10
         },
         {
          "align": "center",
          "font": {
           "color": "#1abc9c",
           "size": 12
          },
          "showarrow": false,
          "text": "<b>24.46</b>",
          "x": "2024-12",
          "y": 24.46,
          "yshift": 10
         },
         {
          "align": "center",
          "font": {
           "color": "#1abc9c",
           "size": 12
          },
          "showarrow": false,
          "text": "<b>11.71</b>",
          "x": "2025-01",
          "y": 11.709999999999999,
          "yshift": 10
         },
         {
          "align": "center",
          "font": {
           "color": "#1abc9c",
           "size": 12
          },
          "showarrow": false,
          "text": "<b>25.10</b>",
          "x": "2025-02",
          "y": 25.1,
          "yshift": 10
         },
         {
          "align": "center",
          "font": {
           "color": "#1abc9c",
           "size": 12
          },
          "showarrow": false,
          "text": "<b>27.79</b>",
          "x": "2025-03",
          "y": 27.79,
          "yshift": 10
         },
         {
          "align": "center",
          "font": {
           "color": "#1abc9c",
           "size": 12
          },
          "showarrow": false,
          "text": "<b>28.57</b>",
          "x": "2025-04",
          "y": 28.57,
          "yshift": 10
         },
         {
          "align": "center",
          "font": {
           "color": "#1abc9c",
           "size": 12
          },
          "showarrow": false,
          "text": "<b>1.67</b>",
          "x": "2025-05",
          "y": 1.67,
          "yshift": 10
         }
        ],
        "autosize": true,
        "barmode": "stack",
        "font": {
         "color": "#1abc9c"
        },
        "legend": {
         "title": {
          "text": "Symbol"
         },
         "tracegroupgap": 0
        },
        "margin": {
         "b": 20,
         "l": 20,
         "r": 20,
         "t": 20
        },
        "paper_bgcolor": "#1e1e1e",
        "plot_bgcolor": "#1e1e1e",
        "template": {
         "data": {
          "bar": [
           {
            "error_x": {
             "color": "#2a3f5f"
            },
            "error_y": {
             "color": "#2a3f5f"
            },
            "marker": {
             "line": {
              "color": "#E5ECF6",
              "width": 0.5
             },
             "pattern": {
              "fillmode": "overlay",
              "size": 10,
              "solidity": 0.2
             }
            },
            "type": "bar"
           }
          ],
          "barpolar": [
           {
            "marker": {
             "line": {
              "color": "#E5ECF6",
              "width": 0.5
             },
             "pattern": {
              "fillmode": "overlay",
              "size": 10,
              "solidity": 0.2
             }
            },
            "type": "barpolar"
           }
          ],
          "carpet": [
           {
            "aaxis": {
             "endlinecolor": "#2a3f5f",
             "gridcolor": "white",
             "linecolor": "white",
             "minorgridcolor": "white",
             "startlinecolor": "#2a3f5f"
            },
            "baxis": {
             "endlinecolor": "#2a3f5f",
             "gridcolor": "white",
             "linecolor": "white",
             "minorgridcolor": "white",
             "startlinecolor": "#2a3f5f"
            },
            "type": "carpet"
           }
          ],
          "choropleth": [
           {
            "colorbar": {
             "outlinewidth": 0,
             "ticks": ""
            },
            "type": "choropleth"
           }
          ],
          "contour": [
           {
            "colorbar": {
             "outlinewidth": 0,
             "ticks": ""
            },
            "colorscale": [
             [
              0,
              "#0d0887"
             ],
             [
              0.1111111111111111,
              "#46039f"
             ],
             [
              0.2222222222222222,
              "#7201a8"
             ],
             [
              0.3333333333333333,
              "#9c179e"
             ],
             [
              0.4444444444444444,
              "#bd3786"
             ],
             [
              0.5555555555555556,
              "#d8576b"
             ],
             [
              0.6666666666666666,
              "#ed7953"
             ],
             [
              0.7777777777777778,
              "#fb9f3a"
             ],
             [
              0.8888888888888888,
              "#fdca26"
             ],
             [
              1,
              "#f0f921"
             ]
            ],
            "type": "contour"
           }
          ],
          "contourcarpet": [
           {
            "colorbar": {
             "outlinewidth": 0,
             "ticks": ""
            },
            "type": "contourcarpet"
           }
          ],
          "heatmap": [
           {
            "colorbar": {
             "outlinewidth": 0,
             "ticks": ""
            },
            "colorscale": [
             [
              0,
              "#0d0887"
             ],
             [
              0.1111111111111111,
              "#46039f"
             ],
             [
              0.2222222222222222,
              "#7201a8"
             ],
             [
              0.3333333333333333,
              "#9c179e"
             ],
             [
              0.4444444444444444,
              "#bd3786"
             ],
             [
              0.5555555555555556,
              "#d8576b"
             ],
             [
              0.6666666666666666,
              "#ed7953"
             ],
             [
              0.7777777777777778,
              "#fb9f3a"
             ],
             [
              0.8888888888888888,
              "#fdca26"
             ],
             [
              1,
              "#f0f921"
             ]
            ],
            "type": "heatmap"
           }
          ],
          "heatmapgl": [
           {
            "colorbar": {
             "outlinewidth": 0,
             "ticks": ""
            },
            "colorscale": [
             [
              0,
              "#0d0887"
             ],
             [
              0.1111111111111111,
              "#46039f"
             ],
             [
              0.2222222222222222,
              "#7201a8"
             ],
             [
              0.3333333333333333,
              "#9c179e"
             ],
             [
              0.4444444444444444,
              "#bd3786"
             ],
             [
              0.5555555555555556,
              "#d8576b"
             ],
             [
              0.6666666666666666,
              "#ed7953"
             ],
             [
              0.7777777777777778,
              "#fb9f3a"
             ],
             [
              0.8888888888888888,
              "#fdca26"
             ],
             [
              1,
              "#f0f921"
             ]
            ],
            "type": "heatmapgl"
           }
          ],
          "histogram": [
           {
            "marker": {
             "pattern": {
              "fillmode": "overlay",
              "size": 10,
              "solidity": 0.2
             }
            },
            "type": "histogram"
           }
          ],
          "histogram2d": [
           {
            "colorbar": {
             "outlinewidth": 0,
             "ticks": ""
            },
            "colorscale": [
             [
              0,
              "#0d0887"
             ],
             [
              0.1111111111111111,
              "#46039f"
             ],
             [
              0.2222222222222222,
              "#7201a8"
             ],
             [
              0.3333333333333333,
              "#9c179e"
             ],
             [
              0.4444444444444444,
              "#bd3786"
             ],
             [
              0.5555555555555556,
              "#d8576b"
             ],
             [
              0.6666666666666666,
              "#ed7953"
             ],
             [
              0.7777777777777778,
              "#fb9f3a"
             ],
             [
              0.8888888888888888,
              "#fdca26"
             ],
             [
              1,
              "#f0f921"
             ]
            ],
            "type": "histogram2d"
           }
          ],
          "histogram2dcontour": [
           {
            "colorbar": {
             "outlinewidth": 0,
             "ticks": ""
            },
            "colorscale": [
             [
              0,
              "#0d0887"
             ],
             [
              0.1111111111111111,
              "#46039f"
             ],
             [
              0.2222222222222222,
              "#7201a8"
             ],
             [
              0.3333333333333333,
              "#9c179e"
             ],
             [
              0.4444444444444444,
              "#bd3786"
             ],
             [
              0.5555555555555556,
              "#d8576b"
             ],
             [
              0.6666666666666666,
              "#ed7953"
             ],
             [
              0.7777777777777778,
              "#fb9f3a"
             ],
             [
              0.8888888888888888,
              "#fdca26"
             ],
             [
              1,
              "#f0f921"
             ]
            ],
            "type": "histogram2dcontour"
           }
          ],
          "mesh3d": [
           {
            "colorbar": {
             "outlinewidth": 0,
             "ticks": ""
            },
            "type": "mesh3d"
           }
          ],
          "parcoords": [
           {
            "line": {
             "colorbar": {
              "outlinewidth": 0,
              "ticks": ""
             }
            },
            "type": "parcoords"
           }
          ],
          "pie": [
           {
            "automargin": true,
            "type": "pie"
           }
          ],
          "scatter": [
           {
            "fillpattern": {
             "fillmode": "overlay",
             "size": 10,
             "solidity": 0.2
            },
            "type": "scatter"
           }
          ],
          "scatter3d": [
           {
            "line": {
             "colorbar": {
              "outlinewidth": 0,
              "ticks": ""
             }
            },
            "marker": {
             "colorbar": {
              "outlinewidth": 0,
              "ticks": ""
             }
            },
            "type": "scatter3d"
           }
          ],
          "scattercarpet": [
           {
            "marker": {
             "colorbar": {
              "outlinewidth": 0,
              "ticks": ""
             }
            },
            "type": "scattercarpet"
           }
          ],
          "scattergeo": [
           {
            "marker": {
             "colorbar": {
              "outlinewidth": 0,
              "ticks": ""
             }
            },
            "type": "scattergeo"
           }
          ],
          "scattergl": [
           {
            "marker": {
             "colorbar": {
              "outlinewidth": 0,
              "ticks": ""
             }
            },
            "type": "scattergl"
           }
          ],
          "scattermapbox": [
           {
            "marker": {
             "colorbar": {
              "outlinewidth": 0,
              "ticks": ""
             }
            },
            "type": "scattermapbox"
           }
          ],
          "scatterpolar": [
           {
            "marker": {
             "colorbar": {
              "outlinewidth": 0,
              "ticks": ""
             }
            },
            "type": "scatterpolar"
           }
          ],
          "scatterpolargl": [
           {
            "marker": {
             "colorbar": {
              "outlinewidth": 0,
              "ticks": ""
             }
            },
            "type": "scatterpolargl"
           }
          ],
          "scatterternary": [
           {
            "marker": {
             "colorbar": {
              "outlinewidth": 0,
              "ticks": ""
             }
            },
            "type": "scatterternary"
           }
          ],
          "surface": [
           {
            "colorbar": {
             "outlinewidth": 0,
             "ticks": ""
            },
            "colorscale": [
             [
              0,
              "#0d0887"
             ],
             [
              0.1111111111111111,
              "#46039f"
             ],
             [
              0.2222222222222222,
              "#7201a8"
             ],
             [
              0.3333333333333333,
              "#9c179e"
             ],
             [
              0.4444444444444444,
              "#bd3786"
             ],
             [
              0.5555555555555556,
              "#d8576b"
             ],
             [
              0.6666666666666666,
              "#ed7953"
             ],
             [
              0.7777777777777778,
              "#fb9f3a"
             ],
             [
              0.8888888888888888,
              "#fdca26"
             ],
             [
              1,
              "#f0f921"
             ]
            ],
            "type": "surface"
           }
          ],
          "table": [
           {
            "cells": {
             "fill": {
              "color": "#EBF0F8"
             },
             "line": {
              "color": "white"
             }
            },
            "header": {
             "fill": {
              "color": "#C8D4E3"
             },
             "line": {
              "color": "white"
             }
            },
            "type": "table"
           }
          ]
         },
         "layout": {
          "annotationdefaults": {
           "arrowcolor": "#2a3f5f",
           "arrowhead": 0,
           "arrowwidth": 1
          },
          "autotypenumbers": "strict",
          "coloraxis": {
           "colorbar": {
            "outlinewidth": 0,
            "ticks": ""
           }
          },
          "colorscale": {
           "diverging": [
            [
             0,
             "#8e0152"
            ],
            [
             0.1,
             "#c51b7d"
            ],
            [
             0.2,
             "#de77ae"
            ],
            [
             0.3,
             "#f1b6da"
            ],
            [
             0.4,
             "#fde0ef"
            ],
            [
             0.5,
             "#f7f7f7"
            ],
            [
             0.6,
             "#e6f5d0"
            ],
            [
             0.7,
             "#b8e186"
            ],
            [
             0.8,
             "#7fbc41"
            ],
            [
             0.9,
             "#4d9221"
            ],
            [
             1,
             "#276419"
            ]
           ],
           "sequential": [
            [
             0,
             "#0d0887"
            ],
            [
             0.1111111111111111,
             "#46039f"
            ],
            [
             0.2222222222222222,
             "#7201a8"
            ],
            [
             0.3333333333333333,
             "#9c179e"
            ],
            [
             0.4444444444444444,
             "#bd3786"
            ],
            [
             0.5555555555555556,
             "#d8576b"
            ],
            [
             0.6666666666666666,
             "#ed7953"
            ],
            [
             0.7777777777777778,
             "#fb9f3a"
            ],
            [
             0.8888888888888888,
             "#fdca26"
            ],
            [
             1,
             "#f0f921"
            ]
           ],
           "sequentialminus": [
            [
             0,
             "#0d0887"
            ],
            [
             0.1111111111111111,
             "#46039f"
            ],
            [
             0.2222222222222222,
             "#7201a8"
            ],
            [
             0.3333333333333333,
             "#9c179e"
            ],
            [
             0.4444444444444444,
             "#bd3786"
            ],
            [
             0.5555555555555556,
             "#d8576b"
            ],
            [
             0.6666666666666666,
             "#ed7953"
            ],
            [
             0.7777777777777778,
             "#fb9f3a"
            ],
            [
             0.8888888888888888,
             "#fdca26"
            ],
            [
             1,
             "#f0f921"
            ]
           ]
          },
          "colorway": [
           "#636efa",
           "#EF553B",
           "#00cc96",
           "#ab63fa",
           "#FFA15A",
           "#19d3f3",
           "#FF6692",
           "#B6E880",
           "#FF97FF",
           "#FECB52"
          ],
          "font": {
           "color": "#2a3f5f"
          },
          "geo": {
           "bgcolor": "white",
           "lakecolor": "white",
           "landcolor": "#E5ECF6",
           "showlakes": true,
           "showland": true,
           "subunitcolor": "white"
          },
          "hoverlabel": {
           "align": "left"
          },
          "hovermode": "closest",
          "mapbox": {
           "style": "light"
          },
          "paper_bgcolor": "white",
          "plot_bgcolor": "#E5ECF6",
          "polar": {
           "angularaxis": {
            "gridcolor": "white",
            "linecolor": "white",
            "ticks": ""
           },
           "bgcolor": "#E5ECF6",
           "radialaxis": {
            "gridcolor": "white",
            "linecolor": "white",
            "ticks": ""
           }
          },
          "scene": {
           "xaxis": {
            "backgroundcolor": "#E5ECF6",
            "gridcolor": "white",
            "gridwidth": 2,
            "linecolor": "white",
            "showbackground": true,
            "ticks": "",
            "zerolinecolor": "white"
           },
           "yaxis": {
            "backgroundcolor": "#E5ECF6",
            "gridcolor": "white",
            "gridwidth": 2,
            "linecolor": "white",
            "showbackground": true,
            "ticks": "",
            "zerolinecolor": "white"
           },
           "zaxis": {
            "backgroundcolor": "#E5ECF6",
            "gridcolor": "white",
            "gridwidth": 2,
            "linecolor": "white",
            "showbackground": true,
            "ticks": "",
            "zerolinecolor": "white"
           }
          },
          "shapedefaults": {
           "line": {
            "color": "#2a3f5f"
           }
          },
          "ternary": {
           "aaxis": {
            "gridcolor": "white",
            "linecolor": "white",
            "ticks": ""
           },
           "baxis": {
            "gridcolor": "white",
            "linecolor": "white",
            "ticks": ""
           },
           "bgcolor": "#E5ECF6",
           "caxis": {
            "gridcolor": "white",
            "linecolor": "white",
            "ticks": ""
           }
          },
          "title": {
           "x": 0.05
          },
          "xaxis": {
           "automargin": true,
           "gridcolor": "white",
           "linecolor": "white",
           "ticks": "",
           "title": {
            "standoff": 15
           },
           "zerolinecolor": "white",
           "zerolinewidth": 2
          },
          "yaxis": {
           "automargin": true,
           "gridcolor": "white",
           "linecolor": "white",
           "ticks": "",
           "title": {
            "standoff": 15
           },
           "zerolinecolor": "white",
           "zerolinewidth": 2
          }
         }
        },
        "xaxis": {
         "anchor": "y",
         "autorange": true,
         "domain": [
          0,
          1
         ],
         "range": [
          "2023-05-18",
          "2025-05-15"
         ],
         "showgrid": false,
         "title": {},
         "type": "date",
         "zeroline": true,
         "zerolinecolor": "gray"
        },
        "yaxis": {
         "anchor": "x",
         "autorange": true,
         "domain": [
          0,
          1
         ],
         "dtick": 5,
         "gridcolor": "gray",
         "range": [
          0,
          30.474666666666668
         ],
         "title": {
          "text": "Dividends ($)"
         },
         "type": "linear",
         "zeroline": true,
         "zerolinecolor": "gray"
        }
       }
      },
      "image/png": "[encoded data removed]",
      "text/html": [
       "<div>                            <div id=\"c87ccab1-4127-436c-98a5-3be52f7b59d4\" class=\"plotly-graph-div\" style=\"height:525px; width:100%;\"></div>            <script type=\"text/javascript\">                require([\"plotly\"], function(Plotly) {                    window.PLOTLYENV=window.PLOTLYENV || {};                                    if (document.getElementById(\"c87ccab1-4127-436c-98a5-3be52f7b59d4\")) {                    Plotly.newPlot(                        \"c87ccab1-4127-436c-98a5-3be52f7b59d4\",                        [{\"alignmentgroup\":\"True\",\"hovertemplate\":\"Symbol=GLAD\\u003cbr\\u003eYearMonth=%{x}\\u003cbr\\u003eDividend=%{y}\\u003cextra\\u003e\\u003c\\u002fextra\\u003e\",\"legendgroup\":\"GLAD\",\"marker\":{\"color\":\"#636efa\",\"pattern\":{\"shape\":\"\"}},\"name\":\"GLAD\",\"offsetgroup\":\"GLAD\",\"orientation\":\"v\",\"showlegend\":true,\"textposition\":\"auto\",\"x\":[\"2023-06\",\"2023-07\",\"2023-08\",\"2023-09\",\"2023-10\",\"2023-11\",\"2023-12\",\"2024-01\",\"2024-02\",\"2024-04\",\"2024-05\",\"2024-06\",\"2024-07\",\"2024-08\",\"2024-09\",\"2024-10\",\"2024-11\",\"2024-12\",\"2025-02\",\"2025-03\"],\"xaxis\":\"x\",\"y\":[0.08,0.66,0.83,1.3599999999999999,1.16,1.16,1.16,1.16,1.16,2.32,1.16,1.16,1.16,1.16,1.16,1.16,1.16,3.96,1.16,1.16],\"yaxis\":\"y\",\"type\":\"bar\"},{\"alignmentgroup\":\"True\",\"hovertemplate\":\"Symbol=APLE\\u003cbr\\u003eYearMonth=%{x}\\u003cbr\\u003eDividend=%{y}\\u003cextra\\u003e\\u003c\\u002fextra\\u003e\",\"legendgroup\":\"APLE\",\"marker\":{\"color\":\"#EF553B\",\"pattern\":{\"shape\":\"\"}},\"name\":\"APLE\",\"offsetgroup\":\"APLE\",\"orientation\":\"v\",\"showlegend\":true,\"textposition\":\"auto\",\"x\":[\"2023-07\",\"2023-08\",\"2023-09\",\"2023-10\",\"2023-11\",\"2023-12\",\"2024-01\",\"2024-02\",\"2024-03\",\"2024-04\",\"2024-05\",\"2024-06\",\"2024-07\",\"2024-08\",\"2024-09\",\"2024-10\",\"2024-11\",\"2024-12\",\"2025-01\",\"2025-02\",\"2025-03\",\"2025-04\"],\"xaxis\":\"x\",\"y\":[0.16,0.16,0.16,0.32,0.32,0.32,0.52,0.32,0.32,0.32,0.32,0.32,0.32,0.32,0.32,0.32,0.32,0.32,0.52,0.32,0.32,0.32],\"yaxis\":\"y\",\"type\":\"bar\"},{\"alignmentgroup\":\"True\",\"hovertemplate\":\"Symbol=STAG\\u003cbr\\u003eYearMonth=%{x}\\u003cbr\\u003eDividend=%{y}\\u003cextra\\u003e\\u003c\\u002fextra\\u003e\",\"legendgroup\":\"STAG\",\"marker\":{\"color\":\"#00cc96\",\"pattern\":{\"shape\":\"\"}},\"name\":\"STAG\",\"offsetgroup\":\"STAG\",\"orientation\":\"v\",\"showlegend\":true,\"textposition\":\"auto\",\"x\":[\"2023-07\",\"2023-08\",\"2023-09\",\"2023-10\",\"2023-11\",\"2023-12\",\"2024-01\",\"2024-02\",\"2024-03\",\"2024-04\",\"2024-05\",\"2024-06\",\"2024-07\",\"2024-08\",\"2024-09\",\"2024-10\",\"2024-11\",\"2024-12\",\"2025-01\",\"2025-02\",\"2025-03\",\"2025-04\"],\"xaxis\":\"x\",\"y\":[0.25,0.25,0.61,0.61,0.61,0.61,0.61,0.62,0.62,0.62,0.62,0.62,0.62,0.62,0.62,0.62,1.23,1.23,1.73,1.74,2.61,2.61],\"yaxis\":\"y\",\"type\":\"bar\"},{\"alignmentgroup\":\"True\",\"hovertemplate\":\"Symbol=ARLP\\u003cbr\\u003eYearMonth=%{x}\\u003cbr\\u003eDividend=%{y}\\u003cextra\\u003e\\u003c\\u002fextra\\u003e\",\"legendgroup\":\"ARLP\",\"marker\":{\"color\":\"#ab63fa\",\"pattern\":{\"shape\":\"\"}},\"name\":\"ARLP\",\"offsetgroup\":\"ARLP\",\"orientation\":\"v\",\"showlegend\":true,\"textposition\":\"auto\",\"x\":[\"2023-08\",\"2023-11\",\"2024-02\",\"2024-05\",\"2024-08\",\"2024-11\",\"2025-02\"],\"xaxis\":\"x\",\"y\":[1.4,3.5,3.5,3.5,3.5,3.5,5.6],\"yaxis\":\"y\",\"type\":\"bar\"},{\"alignmentgroup\":\"True\",\"hovertemplate\":\"Symbol=T\\u003cbr\\u003eYearMonth=%{x}\\u003cbr\\u003eDividend=%{y}\\u003cextra\\u003e\\u003c\\u002fextra\\u003e\",\"legendgroup\":\"T\",\"marker\":{\"color\":\"#FFA15A\",\"pattern\":{\"shape\":\"\"}},\"name\":\"T\",\"offsetgroup\":\"T\",\"orientation\":\"v\",\"showlegend\":true,\"textposition\":\"auto\",\"x\":[\"2023-08\",\"2023-11\",\"2024-02\",\"2024-05\",\"2024-08\",\"2024-11\",\"2025-02\",\"2025-05\"],\"xaxis\":\"x\",\"y\":[0.28,1.67,1.67,1.67,1.67,1.67,1.67,1.67],\"yaxis\":\"y\",\"type\":\"bar\"},{\"alignmentgroup\":\"True\",\"hovertemplate\":\"Symbol=INTC\\u003cbr\\u003eYearMonth=%{x}\\u003cbr\\u003eDividend=%{y}\\u003cextra\\u003e\\u003c\\u002fextra\\u003e\",\"legendgroup\":\"INTC\",\"marker\":{\"color\":\"#19d3f3\",\"pattern\":{\"shape\":\"\"}},\"name\":\"INTC\",\"offsetgroup\":\"INTC\",\"orientation\":\"v\",\"showlegend\":true,\"textposition\":\"auto\",\"x\":[\"2023-09\",\"2023-12\",\"2024-03\",\"2024-06\",\"2024-09\"],\"xaxis\":\"x\",\"y\":[0.13,0.13,0.13,0.13,0.13],\"yaxis\":\"y\",\"type\":\"bar\"},{\"alignmentgroup\":\"True\",\"hovertemplate\":\"Symbol=O\\u003cbr\\u003eYearMonth=%{x}\\u003cbr\\u003eDividend=%{y}\\u003cextra\\u003e\\u003c\\u002fextra\\u003e\",\"legendgroup\":\"O\",\"marker\":{\"color\":\"#FF6692\",\"pattern\":{\"shape\":\"\"}},\"name\":\"O\",\"offsetgroup\":\"O\",\"orientation\":\"v\",\"showlegend\":true,\"textposition\":\"auto\",\"x\":[\"2023-09\",\"2023-10\",\"2023-11\",\"2023-12\",\"2024-01\",\"2024-02\",\"2024-03\",\"2024-04\",\"2024-05\",\"2024-06\",\"2024-07\",\"2024-08\",\"2024-09\",\"2024-10\",\"2024-11\",\"2024-12\",\"2025-01\",\"2025-02\",\"2025-03\",\"2025-04\"],\"xaxis\":\"x\",\"y\":[0.26,0.26,0.26,0.51,0.51,0.51,0.51,0.51,0.51,0.53,0.53,0.53,0.53,0.53,1.05,1.32,4.22,4.75,4.82,4.83],\"yaxis\":\"y\",\"type\":\"bar\"},{\"alignmentgroup\":\"True\",\"hovertemplate\":\"Symbol=SAR\\u003cbr\\u003eYearMonth=%{x}\\u003cbr\\u003eDividend=%{y}\\u003cextra\\u003e\\u003c\\u002fextra\\u003e\",\"legendgroup\":\"SAR\",\"marker\":{\"color\":\"#B6E880\",\"pattern\":{\"shape\":\"\"}},\"name\":\"SAR\",\"offsetgroup\":\"SAR\",\"orientation\":\"v\",\"showlegend\":true,\"textposition\":\"auto\",\"x\":[\"2023-09\",\"2023-12\",\"2024-03\",\"2024-06\",\"2024-09\",\"2024-12\",\"2025-03\",\"2025-04\"],\"xaxis\":\"x\",\"y\":[3.55,6.48,6.57,6.66,6.66,13.080000000000002,12.58,4.25],\"yaxis\":\"y\",\"type\":\"bar\"},{\"alignmentgroup\":\"True\",\"hovertemplate\":\"Symbol=TAIT\\u003cbr\\u003eYearMonth=%{x}\\u003cbr\\u003eDividend=%{y}\\u003cextra\\u003e\\u003c\\u002fextra\\u003e\",\"legendgroup\":\"TAIT\",\"marker\":{\"color\":\"#FF97FF\",\"pattern\":{\"shape\":\"\"}},\"name\":\"TAIT\",\"offsetgroup\":\"TAIT\",\"orientation\":\"v\",\"showlegend\":true,\"textposition\":\"auto\",\"x\":[\"2023-09\",\"2023-11\"],\"xaxis\":\"x\",\"y\":[0.3,0.3],\"yaxis\":\"y\",\"type\":\"bar\"},{\"alignmentgroup\":\"True\",\"hovertemplate\":\"Symbol=IIPR\\u003cbr\\u003eYearMonth=%{x}\\u003cbr\\u003eDividend=%{y}\\u003cextra\\u003e\\u003c\\u002fextra\\u003e\",\"legendgroup\":\"IIPR\",\"marker\":{\"color\":\"#FECB52\",\"pattern\":{\"shape\":\"\"}},\"name\":\"IIPR\",\"offsetgroup\":\"IIPR\",\"orientation\":\"v\",\"showlegend\":true,\"textposition\":\"auto\",\"x\":[\"2023-10\",\"2024-01\",\"2024-04\",\"2024-07\",\"2024-10\",\"2025-01\",\"2025-04\"],\"xaxis\":\"x\",\"y\":[1.8,1.82,1.82,1.9,1.9,1.9,5.7],\"yaxis\":\"y\",\"type\":\"bar\"},{\"alignmentgroup\":\"True\",\"hovertemplate\":\"Symbol=SGOV\\u003cbr\\u003eYearMonth=%{x}\\u003cbr\\u003eDividend=%{y}\\u003cextra\\u003e\\u003c\\u002fextra\\u003e\",\"legendgroup\":\"SGOV\",\"marker\":{\"color\":\"#636efa\",\"pattern\":{\"shape\":\"\"}},\"name\":\"SGOV\",\"offsetgroup\":\"SGOV\",\"orientation\":\"v\",\"showlegend\":true,\"textposition\":\"auto\",\"x\":[\"2023-10\",\"2023-11\",\"2023-12\",\"2024-02\",\"2024-03\",\"2024-04\",\"2024-05\",\"2024-06\",\"2024-07\",\"2024-08\",\"2024-09\",\"2024-10\",\"2024-11\",\"2024-12\"],\"xaxis\":\"x\",\"y\":[0.41,0.43,1.8,0.92,0.82,0.9,0.86,0.88,0.88,0.91,0.89,0.86,0.83,2.99],\"yaxis\":\"y\",\"type\":\"bar\"},{\"alignmentgroup\":\"True\",\"hovertemplate\":\"Symbol=HAFN\\u003cbr\\u003eYearMonth=%{x}\\u003cbr\\u003eDividend=%{y}\\u003cextra\\u003e\\u003c\\u002fextra\\u003e\",\"legendgroup\":\"HAFN\",\"marker\":{\"color\":\"#EF553B\",\"pattern\":{\"shape\":\"\"}},\"name\":\"HAFN\",\"offsetgroup\":\"HAFN\",\"orientation\":\"v\",\"showlegend\":true,\"textposition\":\"auto\",\"x\":[\"2024-12\"],\"xaxis\":\"x\",\"y\":[0.76],\"yaxis\":\"y\",\"type\":\"bar\"},{\"alignmentgroup\":\"True\",\"hovertemplate\":\"Symbol=JEPI\\u003cbr\\u003eYearMonth=%{x}\\u003cbr\\u003eDividend=%{y}\\u003cextra\\u003e\\u003c\\u002fextra\\u003e\",\"legendgroup\":\"JEPI\",\"marker\":{\"color\":\"#00cc96\",\"pattern\":{\"shape\":\"\"}},\"name\":\"JEPI\",\"offsetgroup\":\"JEPI\",\"orientation\":\"v\",\"showlegend\":true,\"textposition\":\"auto\",\"x\":[\"2024-12\",\"2025-01\",\"2025-02\",\"2025-03\",\"2025-04\"],\"xaxis\":\"x\",\"y\":[0.8,1.97,3.26,3.6,4.49],\"yaxis\":\"y\",\"type\":\"bar\"},{\"alignmentgroup\":\"True\",\"hovertemplate\":\"Symbol=AQN\\u003cbr\\u003eYearMonth=%{x}\\u003cbr\\u003eDividend=%{y}\\u003cextra\\u003e\\u003c\\u002fextra\\u003e\",\"legendgroup\":\"AQN\",\"marker\":{\"color\":\"#ab63fa\",\"pattern\":{\"shape\":\"\"}},\"name\":\"AQN\",\"offsetgroup\":\"AQN\",\"orientation\":\"v\",\"showlegend\":true,\"textposition\":\"auto\",\"x\":[\"2025-01\"],\"xaxis\":\"x\",\"y\":[0.17],\"yaxis\":\"y\",\"type\":\"bar\"},{\"alignmentgroup\":\"True\",\"hovertemplate\":\"Symbol=DX\\u003cbr\\u003eYearMonth=%{x}\\u003cbr\\u003eDividend=%{y}\\u003cextra\\u003e\\u003c\\u002fextra\\u003e\",\"legendgroup\":\"DX\",\"marker\":{\"color\":\"#FFA15A\",\"pattern\":{\"shape\":\"\"}},\"name\":\"DX\",\"offsetgroup\":\"DX\",\"orientation\":\"v\",\"showlegend\":true,\"textposition\":\"auto\",\"x\":[\"2025-01\",\"2025-02\",\"2025-03\",\"2025-04\"],\"xaxis\":\"x\",\"y\":[1.2,2.7,2.7,3.06],\"yaxis\":\"y\",\"type\":\"bar\"},{\"alignmentgroup\":\"True\",\"hovertemplate\":\"Symbol=ET\\u003cbr\\u003eYearMonth=%{x}\\u003cbr\\u003eDividend=%{y}\\u003cextra\\u003e\\u003c\\u002fextra\\u003e\",\"legendgroup\":\"ET\",\"marker\":{\"color\":\"#19d3f3\",\"pattern\":{\"shape\":\"\"}},\"name\":\"ET\",\"offsetgroup\":\"ET\",\"orientation\":\"v\",\"showlegend\":true,\"textposition\":\"auto\",\"x\":[\"2025-02\"],\"xaxis\":\"x\",\"y\":[3.9],\"yaxis\":\"y\",\"type\":\"bar\"},{\"alignmentgroup\":\"True\",\"hovertemplate\":\"Symbol=MAIN\\u003cbr\\u003eYearMonth=%{x}\\u003cbr\\u003eDividend=%{y}\\u003cextra\\u003e\\u003c\\u002fextra\\u003e\",\"legendgroup\":\"MAIN\",\"marker\":{\"color\":\"#FF6692\",\"pattern\":{\"shape\":\"\"}},\"name\":\"MAIN\",\"offsetgroup\":\"MAIN\",\"orientation\":\"v\",\"showlegend\":true,\"textposition\":\"auto\",\"x\":[\"2025-04\"],\"xaxis\":\"x\",\"y\":[0.25],\"yaxis\":\"y\",\"type\":\"bar\"},{\"alignmentgroup\":\"True\",\"hovertemplate\":\"Symbol=MO\\u003cbr\\u003eYearMonth=%{x}\\u003cbr\\u003eDividend=%{y}\\u003cextra\\u003e\\u003c\\u002fextra\\u003e\",\"legendgroup\":\"MO\",\"marker\":{\"color\":\"#B6E880\",\"pattern\":{\"shape\":\"\"}},\"name\":\"MO\",\"offsetgroup\":\"MO\",\"orientation\":\"v\",\"showlegend\":true,\"textposition\":\"auto\",\"x\":[\"2025-04\"],\"xaxis\":\"x\",\"y\":[3.06],\"yaxis\":\"y\",\"type\":\"bar\"}],                        {\"template\":{\"data\":{\"histogram2dcontour\":[{\"type\":\"histogram2dcontour\",\"colorbar\":{\"outlinewidth\":0,\"ticks\":\"\"},\"colorscale\":[[0.0,\"#0d0887\"],[0.1111111111111111,\"#46039f\"],[0.2222222222222222,\"#7201a8\"],[0.3333333333333333,\"#9c179e\"],[0.4444444444444444,\"#bd3786\"],[0.5555555555555556,\"#d8576b\"],[0.6666666666666666,\"#ed7953\"],[0.7777777777777778,\"#fb9f3a\"],[0.8888888888888888,\"#fdca26\"],[1.0,\"#f0f921\"]]}],\"choropleth\":[{\"type\":\"choropleth\",\"colorbar\":{\"outlinewidth\":0,\"ticks\":\"\"}}],\"histogram2d\":[{\"type\":\"histogram2d\",\"colorbar\":{\"outlinewidth\":0,\"ticks\":\"\"},\"colorscale\":[[0.0,\"#0d0887\"],[0.1111111111111111,\"#46039f\"],[0.2222222222222222,\"#7201a8\"],[0.3333333333333333,\"#9c179e\"],[0.4444444444444444,\"#bd3786\"],[0.5555555555555556,\"#d8576b\"],[0.6666666666666666,\"#ed7953\"],[0.7777777777777778,\"#fb9f3a\"],[0.8888888888888888,\"#fdca26\"],[1.0,\"#f0f921\"]]}],\"heatmap\":[{\"type\":\"heatmap\",\"colorbar\":{\"outlinewidth\":0,\"ticks\":\"\"},\"colorscale\":[[0.0,\"#0d0887\"],[0.1111111111111111,\"#46039f\"],[0.2222222222222222,\"#7201a8\"],[0.3333333333333333,\"#9c179e\"],[0.4444444444444444,\"#bd3786\"],[0.5555555555555556,\"#d8576b\"],[0.6666666666666666,\"#ed7953\"],[0.7777777777777778,\"#fb9f3a\"],[0.8888888888888888,\"#fdca26\"],[1.0,\"#f0f921\"]]}],\"heatmapgl\":[{\"type\":\"heatmapgl\",\"colorbar\":{\"outlinewidth\":0,\"ticks\":\"\"},\"colorscale\":[[0.0,\"#0d0887\"],[0.1111111111111111,\"#46039f\"],[0.2222222222222222,\"#7201a8\"],[0.3333333333333333,\"#9c179e\"],[0.4444444444444444,\"#bd3786\"],[0.5555555555555556,\"#d8576b\"],[0.6666666666666666,\"#ed7953\"],[0.7777777777777778,\"#fb9f3a\"],[0.8888888888888888,\"#fdca26\"],[1.0,\"#f0f921\"]]}],\"contourcarpet\":[{\"type\":\"contourcarpet\",\"colorbar\":{\"outlinewidth\":0,\"ticks\":\"\"}}],\"contour\":[{\"type\":\"contour\",\"colorbar\":{\"outlinewidth\":0,\"ticks\":\"\"},\"colorscale\":[[0.0,\"#0d0887\"],[0.1111111111111111,\"#46039f\"],[0.2222222222222222,\"#7201a8\"],[0.3333333333333333,\"#9c179e\"],[0.4444444444444444,\"#bd3786\"],[0.5555555555555556,\"#d8576b\"],[0.6666666666666666,\"#ed7953\"],[0.7777777777777778,\"#fb9f3a\"],[0.8888888888888888,\"#fdca26\"],[1.0,\"#f0f921\"]]}],\"surface\":[{\"type\":\"surface\",\"colorbar\":{\"outlinewidth\":0,\"ticks\":\"\"},\"colorscale\":[[0.0,\"#0d0887\"],[0.1111111111111111,\"#46039f\"],[0.2222222222222222,\"#7201a8\"],[0.3333333333333333,\"#9c179e\"],[0.4444444444444444,\"#bd3786\"],[0.5555555555555556,\"#d8576b\"],[0.6666666666666666,\"#ed7953\"],[0.7777777777777778,\"#fb9f3a\"],[0.8888888888888888,\"#fdca26\"],[1.0,\"#f0f921\"]]}],\"mesh3d\":[{\"type\":\"mesh3d\",\"colorbar\":{\"outlinewidth\":0,\"ticks\":\"\"}}],\"scatter\":[{\"fillpattern\":{\"fillmode\":\"overlay\",\"size\":10,\"solidity\":0.2},\"type\":\"scatter\"}],\"parcoords\":[{\"type\":\"parcoords\",\"line\":{\"colorbar\":{\"outlinewidth\":0,\"ticks\":\"\"}}}],\"scatterpolargl\":[{\"type\":\"scatterpolargl\",\"marker\":{\"colorbar\":{\"outlinewidth\":0,\"ticks\":\"\"}}}],\"bar\":[{\"error_x\":{\"color\":\"#2a3f5f\"},\"error_y\":{\"color\":\"#2a3f5f\"},\"marker\":{\"line\":{\"color\":\"#E5ECF6\",\"width\":0.5},\"pattern\":{\"fillmode\":\"overlay\",\"size\":10,\"solidity\":0.2}},\"type\":\"bar\"}],\"scattergeo\":[{\"type\":\"scattergeo\",\"marker\":{\"colorbar\":{\"outlinewidth\":0,\"ticks\":\"\"}}}],\"scatterpolar\":[{\"type\":\"scatterpolar\",\"marker\":{\"colorbar\":{\"outlinewidth\":0,\"ticks\":\"\"}}}],\"histogram\":[{\"marker\":{\"pattern\":{\"fillmode\":\"overlay\",\"size\":10,\"solidity\":0.2}},\"type\":\"histogram\"}],\"scattergl\":[{\"type\":\"scattergl\",\"marker\":{\"colorbar\":{\"outlinewidth\":0,\"ticks\":\"\"}}}],\"scatter3d\":[{\"type\":\"scatter3d\",\"line\":{\"colorbar\":{\"outlinewidth\":0,\"ticks\":\"\"}},\"marker\":{\"colorbar\":{\"outlinewidth\":0,\"ticks\":\"\"}}}],\"scattermapbox\":[{\"type\":\"scattermapbox\",\"marker\":{\"colorbar\":{\"outlinewidth\":0,\"ticks\":\"\"}}}],\"scatterternary\":[{\"type\":\"scatterternary\",\"marker\":{\"colorbar\":{\"outlinewidth\":0,\"ticks\":\"\"}}}],\"scattercarpet\":[{\"type\":\"scattercarpet\",\"marker\":{\"colorbar\":{\"outlinewidth\":0,\"ticks\":\"\"}}}],\"carpet\":[{\"aaxis\":{\"endlinecolor\":\"#2a3f5f\",\"gridcolor\":\"white\",\"linecolor\":\"white\",\"minorgridcolor\":\"white\",\"startlinecolor\":\"#2a3f5f\"},\"baxis\":{\"endlinecolor\":\"#2a3f5f\",\"gridcolor\":\"white\",\"linecolor\":\"white\",\"minorgridcolor\":\"white\",\"startlinecolor\":\"#2a3f5f\"},\"type\":\"carpet\"}],\"table\":[{\"cells\":{\"fill\":{\"color\":\"#EBF0F8\"},\"line\":{\"color\":\"white\"}},\"header\":{\"fill\":{\"color\":\"#C8D4E3\"},\"line\":{\"color\":\"white\"}},\"type\":\"table\"}],\"barpolar\":[{\"marker\":{\"line\":{\"color\":\"#E5ECF6\",\"width\":0.5},\"pattern\":{\"fillmode\":\"overlay\",\"size\":10,\"solidity\":0.2}},\"type\":\"barpolar\"}],\"pie\":[{\"automargin\":true,\"type\":\"pie\"}]},\"layout\":{\"autotypenumbers\":\"strict\",\"colorway\":[\"#636efa\",\"#EF553B\",\"#00cc96\",\"#ab63fa\",\"#FFA15A\",\"#19d3f3\",\"#FF6692\",\"#B6E880\",\"#FF97FF\",\"#FECB52\"],\"font\":{\"color\":\"#2a3f5f\"},\"hovermode\":\"closest\",\"hoverlabel\":{\"align\":\"left\"},\"paper_bgcolor\":\"white\",\"plot_bgcolor\":\"#E5ECF6\",\"polar\":{\"bgcolor\":\"#E5ECF6\",\"angularaxis\":{\"gridcolor\":\"white\",\"linecolor\":\"white\",\"ticks\":\"\"},\"radialaxis\":{\"gridcolor\":\"white\",\"linecolor\":\"white\",\"ticks\":\"\"}},\"ternary\":{\"bgcolor\":\"#E5ECF6\",\"aaxis\":{\"gridcolor\":\"white\",\"linecolor\":\"white\",\"ticks\":\"\"},\"baxis\":{\"gridcolor\":\"white\",\"linecolor\":\"white\",\"ticks\":\"\"},\"caxis\":{\"gridcolor\":\"white\",\"linecolor\":\"white\",\"ticks\":\"\"}},\"coloraxis\":{\"colorbar\":{\"outlinewidth\":0,\"ticks\":\"\"}},\"colorscale\":{\"sequential\":[[0.0,\"#0d0887\"],[0.1111111111111111,\"#46039f\"],[0.2222222222222222,\"#7201a8\"],[0.3333333333333333,\"#9c179e\"],[0.4444444444444444,\"#bd3786\"],[0.5555555555555556,\"#d8576b\"],[0.6666666666666666,\"#ed7953\"],[0.7777777777777778,\"#fb9f3a\"],[0.8888888888888888,\"#fdca26\"],[1.0,\"#f0f921\"]],\"sequentialminus\":[[0.0,\"#0d0887\"],[0.1111111111111111,\"#46039f\"],[0.2222222222222222,\"#7201a8\"],[0.3333333333333333,\"#9c179e\"],[0.4444444444444444,\"#bd3786\"],[0.5555555555555556,\"#d8576b\"],[0.6666666666666666,\"#ed7953\"],[0.7777777777777778,\"#fb9f3a\"],[0.8888888888888888,\"#fdca26\"],[1.0,\"#f0f921\"]],\"diverging\":[[0,\"#8e0152\"],[0.1,\"#c51b7d\"],[0.2,\"#de77ae\"],[0.3,\"#f1b6da\"],[0.4,\"#fde0ef\"],[0.5,\"#f7f7f7\"],[0.6,\"#e6f5d0\"],[0.7,\"#b8e186\"],[0.8,\"#7fbc41\"],[0.9,\"#4d9221\"],[1,\"#276419\"]]},\"xaxis\":{\"gridcolor\":\"white\",\"linecolor\":\"white\",\"ticks\":\"\",\"title\":{\"standoff\":15},\"zerolinecolor\":\"white\",\"automargin\":true,\"zerolinewidth\":2},\"yaxis\":{\"gridcolor\":\"white\",\"linecolor\":\"white\",\"ticks\":\"\",\"title\":{\"standoff\":15},\"zerolinecolor\":\"white\",\"automargin\":true,\"zerolinewidth\":2},\"scene\":{\"xaxis\":{\"backgroundcolor\":\"#E5ECF6\",\"gridcolor\":\"white\",\"linecolor\":\"white\",\"showbackground\":true,\"ticks\":\"\",\"zerolinecolor\":\"white\",\"gridwidth\":2},\"yaxis\":{\"backgroundcolor\":\"#E5ECF6\",\"gridcolor\":\"white\",\"linecolor\":\"white\",\"showbackground\":true,\"ticks\":\"\",\"zerolinecolor\":\"white\",\"gridwidth\":2},\"zaxis\":{\"backgroundcolor\":\"#E5ECF6\",\"gridcolor\":\"white\",\"linecolor\":\"white\",\"showbackground\":true,\"ticks\":\"\",\"zerolinecolor\":\"white\",\"gridwidth\":2}},\"shapedefaults\":{\"line\":{\"color\":\"#2a3f5f\"}},\"annotationdefaults\":{\"arrowcolor\":\"#2a3f5f\",\"arrowhead\":0,\"arrowwidth\":1},\"geo\":{\"bgcolor\":\"white\",\"landcolor\":\"#E5ECF6\",\"subunitcolor\":\"white\",\"showland\":true,\"showlakes\":true,\"lakecolor\":\"white\"},\"title\":{\"x\":0.05},\"mapbox\":{\"style\":\"light\"}}},\"xaxis\":{\"anchor\":\"y\",\"domain\":[0.0,1.0],\"title\":{},\"showgrid\":false,\"zeroline\":true,\"zerolinecolor\":\"gray\"},\"yaxis\":{\"anchor\":\"x\",\"domain\":[0.0,1.0],\"title\":{\"text\":\"Dividends ($)\"},\"dtick\":5,\"gridcolor\":\"gray\",\"zeroline\":true,\"zerolinecolor\":\"gray\"},\"legend\":{\"title\":{\"text\":\"Symbol\"},\"tracegroupgap\":0},\"margin\":{\"t\":20,\"b\":20,\"l\":20,\"r\":20},\"barmode\":\"stack\",\"annotations\":[{\"align\":\"center\",\"font\":{\"color\":\"#1abc9c\",\"size\":12},\"showarrow\":false,\"text\":\"\\u003cb\\u003e0.08\\u003c\\u002fb\\u003e\",\"x\":\"2023-06\",\"y\":0.08,\"yshift\":10},{\"align\":\"center\",\"font\":{\"color\":\"#1abc9c\",\"size\":12},\"showarrow\":false,\"text\":\"\\u003cb\\u003e1.07\\u003c\\u002fb\\u003e\",\"x\":\"2023-07\",\"y\":1.07,\"yshift\":10},{\"align\":\"center\",\"font\":{\"color\":\"#1abc9c\",\"size\":12},\"showarrow\":false,\"text\":\"\\u003cb\\u003e2.92\\u003c\\u002fb\\u003e\",\"x\":\"2023-08\",\"y\":2.92,\"yshift\":10},{\"align\":\"center\",\"font\":{\"color\":\"#1abc9c\",\"size\":12},\"showarrow\":false,\"text\":\"\\u003cb\\u003e6.37\\u003c\\u002fb\\u003e\",\"x\":\"2023-09\",\"y\":6.37,\"yshift\":10},{\"align\":\"center\",\"font\":{\"color\":\"#1abc9c\",\"size\":12},\"showarrow\":false,\"text\":\"\\u003cb\\u003e4.56\\u003c\\u002fb\\u003e\",\"x\":\"2023-10\",\"y\":4.56,\"yshift\":10},{\"align\":\"center\",\"font\":{\"color\":\"#1abc9c\",\"size\":12},\"showarrow\":false,\"text\":\"\\u003cb\\u003e8.25\\u003c\\u002fb\\u003e\",\"x\":\"2023-11\",\"y\":8.25,\"yshift\":10},{\"align\":\"center\",\"font\":{\"color\":\"#1abc9c\",\"size\":12},\"showarrow\":false,\"text\":\"\\u003cb\\u003e11.01\\u003c\\u002fb\\u003e\",\"x\":\"2023-12\",\"y\":11.01,\"yshift\":10},{\"align\":\"center\",\"font\":{\"color\":\"#1abc9c\",\"size\":12},\"showarrow\":false,\"text\":\"\\u003cb\\u003e4.62\\u003c\\u002fb\\u003e\",\"x\":\"2024-01\",\"y\":4.62,\"yshift\":10},{\"align\":\"center\",\"font\":{\"color\":\"#1abc9c\",\"size\":12},\"showarrow\":false,\"text\":\"\\u003cb\\u003e8.70\\u003c\\u002fb\\u003e\",\"x\":\"2024-02\",\"y\":8.7,\"yshift\":10},{\"align\":\"center\",\"font\":{\"color\":\"#1abc9c\",\"size\":12},\"showarrow\":false,\"text\":\"\\u003cb\\u003e8.97\\u003c\\u002fb\\u003e\",\"x\":\"2024-03\",\"y\":8.97,\"yshift\":10},{\"align\":\"center\",\"font\":{\"color\":\"#1abc9c\",\"size\":12},\"showarrow\":false,\"text\":\"\\u003cb\\u003e6.49\\u003c\\u002fb\\u003e\",\"x\":\"2024-04\",\"y\":6.49,\"yshift\":10},{\"align\":\"center\",\"font\":{\"color\":\"#1abc9c\",\"size\":12},\"showarrow\":false,\"text\":\"\\u003cb\\u003e8.64\\u003c\\u002fb\\u003e\",\"x\":\"2024-05\",\"y\":8.64,\"yshift\":10},{\"align\":\"center\",\"font\":{\"color\":\"#1abc9c\",\"size\":12},\"showarrow\":false,\"text\":\"\\u003cb\\u003e10.30\\u003c\\u002fb\\u003e\",\"x\":\"2024-06\",\"y\":10.3,\"yshift\":10},{\"align\":\"center\",\"font\":{\"color\":\"#1abc9c\",\"size\":12},\"showarrow\":false,\"text\":\"\\u003cb\\u003e5.41\\u003c\\u002fb\\u003e\",\"x\":\"2024-07\",\"y\":5.41,\"yshift\":10},{\"align\":\"center\",\"font\":{\"color\":\"#1abc9c\",\"size\":12},\"showarrow\":false,\"text\":\"\\u003cb\\u003e8.71\\u003c\\u002fb\\u003e\",\"x\":\"2024-08\",\"y\":8.71,\"yshift\":10},{\"align\":\"center\",\"font\":{\"color\":\"#1abc9c\",\"size\":12},\"showarrow\":false,\"text\":\"\\u003cb\\u003e10.31\\u003c\\u002fb\\u003e\",\"x\":\"2024-09\",\"y\":10.31,\"yshift\":10},{\"align\":\"center\",\"font\":{\"color\":\"#1abc9c\",\"size\":12},\"showarrow\":false,\"text\":\"\\u003cb\\u003e5.39\\u003c\\u002fb\\u003e\",\"x\":\"2024-10\",\"y\":5.39,\"yshift\":10},{\"align\":\"center\",\"font\":{\"color\":\"#1abc9c\",\"size\":12},\"showarrow\":false,\"text\":\"\\u003cb\\u003e9.76\\u003c\\u002fb\\u003e\",\"x\":\"2024-11\",\"y\":9.76,\"yshift\":10},{\"align\":\"center\",\"font\":{\"color\":\"#1abc9c\",\"size\":12},\"showarrow\":false,\"text\":\"\\u003cb\\u003e24.46\\u003c\\u002fb\\u003e\",\"x\":\"2024-12\",\"y\":24.46,\"yshift\":10},{\"align\":\"center\",\"font\":{\"color\":\"#1abc9c\",\"size\":12},\"showarrow\":false,\"text\":\"\\u003cb\\u003e11.71\\u003c\\u002fb\\u003e\",\"x\":\"2025-01\",\"y\":11.709999999999999,\"yshift\":10},{\"align\":\"center\",\"font\":{\"color\":\"#1abc9c\",\"size\":12},\"showarrow\":false,\"text\":\"\\u003cb\\u003e25.10\\u003c\\u002fb\\u003e\",\"x\":\"2025-02\",\"y\":25.1,\"yshift\":10},{\"align\":\"center\",\"font\":{\"color\":\"#1abc9c\",\"size\":12},\"showarrow\":false,\"text\":\"\\u003cb\\u003e27.79\\u003c\\u002fb\\u003e\",\"x\":\"2025-03\",\"y\":27.79,\"yshift\":10},{\"align\":\"center\",\"font\":{\"color\":\"#1abc9c\",\"size\":12},\"showarrow\":false,\"text\":\"\\u003cb\\u003e28.57\\u003c\\u002fb\\u003e\",\"x\":\"2025-04\",\"y\":28.57,\"yshift\":10},{\"align\":\"center\",\"font\":{\"color\":\"#1abc9c\",\"size\":12},\"showarrow\":false,\"text\":\"\\u003cb\\u003e1.67\\u003c\\u002fb\\u003e\",\"x\":\"2025-05\",\"y\":1.67,\"yshift\":10}],\"font\":{\"color\":\"#1abc9c\"},\"paper_bgcolor\":\"#1e1e1e\",\"plot_bgcolor\":\"#1e1e1e\"},                        {\"responsive\": true}                    ).then(function(){\n",
       "                            \n",
       "var gd = document.getElementById('c87ccab1-4127-436c-98a5-3be52f7b59d4');\n",
       "var x = new MutationObserver(function (mutations, observer) {{\n",
       "        var display = window.getComputedStyle(gd).display;\n",
       "        if (!display || display === 'none') {{\n",
       "            console.log([gd, 'removed!']);\n",
       "            Plotly.purge(gd);\n",
       "            observer.disconnect();\n",
       "        }}\n",
       "}});\n",
       "\n",
       "// Listen for the removal of the full notebook cells\n",
       "var notebookContainer = gd.closest('#notebook-container');\n",
       "if (notebookContainer) {{\n",
       "    x.observe(notebookContainer, {childList: true});\n",
       "}}\n",
       "\n",
       "// Listen for the clearing of the current output cell\n",
       "var outputEl = gd.closest('.output');\n",
       "if (outputEl) {{\n",
       "    x.observe(outputEl, {childList: true});\n",
       "}}\n",
       "\n",
       "                        })                };                });            </script>        </div>"
      ]
     },
     "metadata": {},
     "output_type": "display_data"
    }
   ],
   "source": [
    "# 1. Convert the 'Date' column to datetime\n",
    "dividends['Date'] = pd.to_datetime(dividends['Date'])\n",
    "\n",
    "# 2. Create a 'YearMonth' column in the format 'YYYY-MM'\n",
    "dividends['YearMonth'] = dividends['Date'].dt.strftime('%Y-%m')\n",
    "\n",
    "# 3. Group the data by 'YearMonth' and 'Symbol' and sum the 'Dividend'\n",
    "grouped_dividends = dividends.groupby(['YearMonth', 'Symbol'], as_index=False)['Dividend'].sum()\n",
    "\n",
    "# Compute total dividend per YearMonth across all symbols\n",
    "total_dividends = dividends.groupby('YearMonth', as_index=False)['Dividend'].sum()\n",
    "\n",
    "# 4. Create a stacked bar chart using Plotly Express\n",
    "fig_dividends = px.bar(\n",
    "    grouped_dividends,\n",
    "    x='YearMonth',\n",
    "    y='Dividend',\n",
    "    color='Symbol',\n",
    "    title='',\n",
    "    barmode='stack'\n",
    ")\n",
    "\n",
    "# 5. Add annotations for totals above each bar using the accent color and making the text bold\n",
    "for i, row in total_dividends.iterrows():\n",
    "    fig_dividends.add_annotation(\n",
    "        x=row['YearMonth'],             # X-position at the corresponding YearMonth\n",
    "        y=row['Dividend'],              # Y-position at the total dividend (stacked bar height)\n",
    "        text=f\"<b>{row['Dividend']:.2f}</b>\",  # Bold text annotation\n",
    "        showarrow=False,\n",
    "        yshift=10,                      # Shift the text 10 pixels above the bar for clarity\n",
    "        font=dict(\n",
    "            color=accent_color,         # Use the accent color\n",
    "            size=12\n",
    "        ),\n",
    "        align=\"center\"\n",
    "    )\n",
    "\n",
    "# 6. Update the layout for a dark theme with smaller margins and no axis labels\n",
    "fig_dividends.update_layout(\n",
    "    paper_bgcolor='#1e1e1e',\n",
    "    plot_bgcolor='#1e1e1e',\n",
    "    font_color=accent_color,\n",
    "    margin=dict(t=20, b=20, l=20, r=20),\n",
    "    xaxis_title=None,  # remove x-axis label\n",
    "    yaxis_title= 'Dividends ($)'   # remove y-axis label\n",
    ")\n",
    "\n",
    "# 7. Update axes:\n",
    "#    - For the y-axis: add grid lines every 5 (colored gray) and ensure the zero line is gray.\n",
    "#    - For the x-axis: remove additional gridlines and only show the zero line (colored gray).\n",
    "fig_dividends.update_yaxes(dtick=5, gridcolor='gray', zeroline=True, zerolinecolor='gray')\n",
    "fig_dividends.update_xaxes(showgrid=False, zeroline=True, zerolinecolor='gray')\n"
   ]
  },
  {
   "cell_type": "markdown",
   "id": "9672a026-9e9d-4f21-be74-ecc2e362f248",
   "metadata": {},
   "source": [
    "# GENERATING STOCK CHART"
   ]
  },
  {
   "cell_type": "code",
   "execution_count": 188,
   "id": "bb168421-1b01-4b23-a22c-7cb0f880592a",
   "metadata": {},
   "outputs": [],
   "source": [
    "def generate_stock_chart(symbol):\n",
    "    \"\"\"\n",
    "    Given a stock symbol, generate an enhanced Plotly chart that includes:\n",
    "      - Row 1: Price chart (Close, MA lines, Bollinger Bands)\n",
    "      - Row 2: Spacer\n",
    "      - Row 3: RSI indicator chart with horizontal dashed lines labeled 'Overbought' and 'Oversold'\n",
    "      - Row 4: Volume bar chart\n",
    "      - Row 5: MACD indicator chart (MACD, Signal Line, MACD Histogram)\n",
    "      \n",
    "    The traces are grouped by subplot using legendgroup so that the global legend shows\n",
    "    extra vertical spacing between groups.\n",
    "    \"\"\"\n",
    "    # Verify the symbol exists in our stored data\n",
    "    if symbol not in symbol_dataframes:\n",
    "        return {}\n",
    "\n",
    "    # Prepare the dataframe (resetting the Date index)\n",
    "    df = symbol_dataframes[symbol].reset_index()\n",
    "    df['Date'] = pd.to_datetime(df['Date'])\n",
    "\n",
    "    # Create subplots with 5 rows.\n",
    "    fig = make_subplots(\n",
    "        rows=5, cols=1,\n",
    "        shared_xaxes=False,\n",
    "        row_heights=[0.55, 0.02, 0.15, 0.14, 0.14],\n",
    "        vertical_spacing=0.03,\n",
    "        specs=[\n",
    "            [{}],         # Row 1: Price\n",
    "            [None],       # Row 2: Spacer\n",
    "            [{}],         # Row 3: RSI\n",
    "            [{}],         # Row 4: Volume\n",
    "            [{}]          # Row 5: MACD\n",
    "        ]\n",
    "    )\n",
    "\n",
    "    # --- Row 1: Price Chart (group \"Price\") ---\n",
    "    fig.add_trace(\n",
    "        go.Scatter(\n",
    "            x=df['Date'],\n",
    "            y=df['Close'],\n",
    "            mode='lines',\n",
    "            name=\"Close\",\n",
    "            legendgroup=\"Price\",\n",
    "            line=dict(color=accent_color, width=2)\n",
    "        ),\n",
    "        row=1, col=1\n",
    "    )\n",
    "    fig.add_trace(\n",
    "        go.Scatter(\n",
    "            x=df['Date'],\n",
    "            y=df['MA200'],\n",
    "            mode='lines',\n",
    "            name=\"MA200\",\n",
    "            legendgroup=\"Price\",\n",
    "            line=dict(color='orange', width=1.5)\n",
    "        ),\n",
    "        row=1, col=1\n",
    "    )\n",
    "    fig.add_trace(\n",
    "        go.Scatter(\n",
    "            x=df['Date'],\n",
    "            y=df['MA100'],\n",
    "            mode='lines',\n",
    "            name=\"MA100\",\n",
    "            legendgroup=\"Price\",\n",
    "            line=dict(color='green', width=1.5)\n",
    "        ),\n",
    "        row=1, col=1\n",
    "    )\n",
    "    fig.add_trace(\n",
    "        go.Scatter(\n",
    "            x=df['Date'],\n",
    "            y=df['MA50'],\n",
    "            mode='lines',\n",
    "            name=\"MA50\",\n",
    "            legendgroup=\"Price\",\n",
    "            line=dict(color='purple', width=1.5)\n",
    "        ),\n",
    "        row=1, col=1\n",
    "    )\n",
    "    fig.add_trace(\n",
    "        go.Scatter(\n",
    "            x=df['Date'],\n",
    "            y=df['BB200_Upper'],\n",
    "            mode='lines',\n",
    "            name=\"BB200 Upper\",\n",
    "            legendgroup=\"Price\",\n",
    "            line=dict(color='lightblue', dash='dot')\n",
    "        ),\n",
    "        row=1, col=1\n",
    "    )\n",
    "    fig.add_trace(\n",
    "        go.Scatter(\n",
    "            x=df['Date'],\n",
    "            y=df['BB200_Lower'],\n",
    "            mode='lines',\n",
    "            name=\"BB200 Lower\",\n",
    "            legendgroup=\"Price\",\n",
    "            line=dict(color='lightblue', dash='dot')\n",
    "        ),\n",
    "        row=1, col=1\n",
    "    )\n",
    "\n",
    "    # --- Horizontal dashed line for portfolio average cost (if available) ---\n",
    "    if 'portfolio' in globals() and isinstance(portfolio, dict) and symbol in portfolio:\n",
    "        port_data = portfolio[symbol]\n",
    "        if port_data['shares'] > 0:\n",
    "            avg_cost = port_data['cost'] / port_data['shares']\n",
    "            annotation_text = f\"#Avg Cost: {avg_cost:.2f}\"\n",
    "            fig.add_hline(\n",
    "                y=avg_cost,\n",
    "                line=dict(color=\"cyan\", dash=\"dash\", width=1),\n",
    "                opacity=0.3,\n",
    "                annotation_text=annotation_text,\n",
    "                annotation_position=\"top left\",\n",
    "                annotation_font_size=10,\n",
    "                row=1, col=1\n",
    "            )\n",
    "\n",
    "    # --- Row 1: Red 'X' markers for transactions (group \"Price\") ---\n",
    "    if 'transactions' in globals():\n",
    "        trans = transactions[transactions['Symbol'] == symbol].copy()\n",
    "        if not trans.empty:\n",
    "            trans['Date'] = pd.to_datetime(trans['Date'])\n",
    "            trans['MatchedDate'] = trans['Date'].apply(lambda d: df.loc[df['Date'] >= d, 'Date'].min())\n",
    "            matching_dates = trans['MatchedDate'].dropna().unique()\n",
    "            matching_df = df[df['Date'].isin(matching_dates)]\n",
    "            if not matching_df.empty:\n",
    "                fig.add_trace(\n",
    "                    go.Scatter(\n",
    "                        x=matching_df['Date'],\n",
    "                        y=matching_df['Close'],\n",
    "                        mode='markers',\n",
    "                        marker=dict(symbol='x', color='red', size=15, line=dict(width=2)),\n",
    "                        name='Transaction',\n",
    "                        legendgroup=\"Price\"\n",
    "                    ),\n",
    "                    row=1, col=1\n",
    "                )\n",
    "\n",
    "    # --- Row 3: RSI Indicator (group \"RSI\") ---\n",
    "    fig.add_trace(\n",
    "        go.Scatter(\n",
    "            x=df['Date'],\n",
    "            y=df['RSI'],\n",
    "            mode='lines',\n",
    "            name=\"RSI\",\n",
    "            legendgroup=\"RSI\",\n",
    "            line=dict(color=accent_color, width=1.5)\n",
    "        ),\n",
    "        row=3, col=1\n",
    "    )\n",
    "    fig.add_hline(\n",
    "        y=70,\n",
    "        line=dict(color='grey', dash='dash'),\n",
    "        annotation_text=\"Overbought\",\n",
    "        annotation_position=\"top left\",\n",
    "        annotation_font_color=\"grey\",\n",
    "        row=3, col=1\n",
    "    )\n",
    "    fig.add_hline(\n",
    "        y=30,\n",
    "        line=dict(color='grey', dash='dash'),\n",
    "        annotation_text=\"Oversold\",\n",
    "        annotation_position=\"bottom left\",\n",
    "        annotation_font_color=\"grey\",\n",
    "        row=3, col=1\n",
    "    )\n",
    "\n",
    "    # --- Row 4: Volume Bars (group \"Volume\") ---\n",
    "    fig.add_trace(\n",
    "        go.Bar(\n",
    "            x=df['Date'],\n",
    "            y=df['Volume'],\n",
    "            name=\"Volume\",\n",
    "            legendgroup=\"Volume\",\n",
    "            marker=dict(color=accent_color)\n",
    "        ),\n",
    "        row=4, col=1\n",
    "    )\n",
    "\n",
    "    # --- Row 5: MACD Indicator (group \"MACD\") ---\n",
    "    fig.add_trace(\n",
    "        go.Scatter(\n",
    "            x=df['Date'],\n",
    "            y=df['MACD'],\n",
    "            mode='lines',\n",
    "            name=\"MACD\",\n",
    "            legendgroup=\"MACD\",\n",
    "            line=dict(color='blue', width=1.5)\n",
    "        ),\n",
    "        row=5, col=1\n",
    "    )\n",
    "    fig.add_trace(\n",
    "        go.Scatter(\n",
    "            x=df['Date'],\n",
    "            y=df['Signal_Line'],\n",
    "            mode='lines',\n",
    "            name=\"Signal Line\",\n",
    "            legendgroup=\"MACD\",\n",
    "            line=dict(color='red', width=1.5)\n",
    "        ),\n",
    "        row=5, col=1\n",
    "    )\n",
    "    fig.add_trace(\n",
    "        go.Bar(\n",
    "            x=df['Date'],\n",
    "            y=df['MACD_Histogram'],\n",
    "            name=\"MACD Histogram\",\n",
    "            legendgroup=\"MACD\",\n",
    "            marker_color=['green' if val >= 0 else 'red' for val in df['MACD_Histogram']]\n",
    "        ),\n",
    "        row=5, col=1\n",
    "    )\n",
    "    fig.add_hline(\n",
    "        y=0,\n",
    "        line=dict(color='grey', dash='dash'),\n",
    "        row=5, col=1\n",
    "    )\n",
    "\n",
    "    # --- Dropdown menu for date range selection ---\n",
    "    max_date = df['Date'].max()\n",
    "    six_months_date = max_date - pd.DateOffset(months=6)\n",
    "    five_year_date = max_date - pd.DateOffset(years=5)\n",
    "\n",
    "    max_date_str = max_date.strftime(\"%Y-%m-%d\")\n",
    "    six_months_str = six_months_date.strftime(\"%Y-%m-%d\")\n",
    "    five_year_str = five_year_date.strftime(\"%Y-%m-%d\")\n",
    "\n",
    "    updatemenus = [\n",
    "        dict(\n",
    "            buttons=list([\n",
    "                dict(label=\"6M\", method=\"relayout\", args=[{\"xaxis.range\": [six_months_str, max_date_str]}]),\n",
    "                dict(label=\"5Y\", method=\"relayout\", args=[{\"xaxis.range\": [five_year_str, max_date_str]}]),\n",
    "            ]),\n",
    "            direction=\"down\",\n",
    "            pad={\"r\": 10, \"t\": 10},\n",
    "            showactive=True,\n",
    "            x=0.0, xanchor=\"left\",\n",
    "            y=1.1, yanchor=\"top\"\n",
    "        )\n",
    "    ]\n",
    "    fig.update_layout(updatemenus=updatemenus)\n",
    "\n",
    "    # --- Layout Adjustments ---\n",
    "    fig.update_xaxes(title_text=\"\", row=1, col=1)\n",
    "    fig.update_xaxes(matches='x', row=3, col=1, showticklabels=False)\n",
    "    fig.update_xaxes(matches='x', row=4, col=1, showticklabels=False)\n",
    "    fig.update_xaxes(matches='x', row=5, col=1, showticklabels=False)\n",
    "\n",
    "    fig.update_yaxes(title_text=\"Price ($)\", row=1, col=1)\n",
    "    fig.update_yaxes(title_text=\"RSI\", row=3, col=1)\n",
    "    fig.update_yaxes(title_text=\"Volume\", row=4, col=1)\n",
    "    fig.update_yaxes(title_text=\"MACD\", row=5, col=1)\n",
    "\n",
    "    fig.add_annotation(\n",
    "        dict(\n",
    "            x=0.5,\n",
    "            y=1.05,\n",
    "            xref=\"paper\",\n",
    "            yref=\"paper\",\n",
    "            text=f\"{symbol} Stock Price\",\n",
    "            showarrow=False,\n",
    "            font=dict(size=16, color=accent_color)\n",
    "        )\n",
    "    )\n",
    "\n",
    "    fig.update_layout(\n",
    "        template=\"plotly_dark\",\n",
    "        paper_bgcolor='#1e1e1e',\n",
    "        plot_bgcolor='#1e1e1e',\n",
    "        font_color=accent_color,\n",
    "        margin=dict(t=20, b=20, r=20, l=20),\n",
    "        height=900\n",
    "    )\n",
    "\n",
    "    # Ensure volume bars display correctly\n",
    "    fig.update_traces(marker_line_color=accent_color, selector=dict(type='bar'))\n",
    "\n",
    "\n",
    "    \n",
    "    # --- Update the Global Legend (only the modified section) ---\n",
    "    fig.update_layout(\n",
    "        legend=dict(\n",
    "            traceorder='grouped',\n",
    "            tracegroupgap=10,  # Base gap between groups\n",
    "            orientation='v',\n",
    "            x=1.02,\n",
    "            y=1\n",
    "        )\n",
    "    )\n",
    "\n",
    "\n",
    "\n",
    "    return fig"
   ]
  },
  {
   "cell_type": "markdown",
   "id": "52e7b82d-5723-4096-87b3-f5ed6484bee8",
   "metadata": {},
   "source": [
    "# GENERATING WATCHLIST FUNCTION"
   ]
  },
  {
   "cell_type": "code",
   "execution_count": 191,
   "id": "75643479-597b-4d0f-b2cb-2fe7deffee71",
   "metadata": {},
   "outputs": [],
   "source": [
    "def generate_stock_chart1(symbol, data_dict, title_prefix=\"\"):\n",
    "    \"\"\"\n",
    "    Given a stock symbol and a data dictionary, generate an enhanced Plotly chart with:\n",
    "      - Row 1: Price chart (Close, MA lines, Bollinger Bands)\n",
    "      - Row 3: RSI indicator (with Overbought/Oversold lines)\n",
    "      - Row 4: Volume bar chart\n",
    "      - Row 5: MACD indicator (MACD, Signal Line, MACD Histogram)\n",
    "    \n",
    "    The title_prefix is prepended to the chart title.\n",
    "    \"\"\"\n",
    "    if symbol not in data_dict:\n",
    "        print(f\"Data for {symbol} not found.\")\n",
    "        return {}\n",
    "    \n",
    "    # Prepare DataFrame\n",
    "    df = data_dict[symbol].reset_index()\n",
    "    df['Date'] = pd.to_datetime(df['Date'])\n",
    "    \n",
    "    # Create subplots with 5 rows\n",
    "    fig = make_subplots(\n",
    "        rows=5, cols=1,\n",
    "        shared_xaxes=False,\n",
    "        row_heights=[0.55, 0.02, 0.15, 0.14, 0.14],\n",
    "        vertical_spacing=0.03,\n",
    "        specs=[[{}], [None], [{}], [{}], [{}]]\n",
    "    )\n",
    "    \n",
    "    # --- Row 1: Price Chart ---\n",
    "    fig.add_trace(go.Scatter(x=df['Date'], y=df['Close'], mode='lines', name=\"Close\",\n",
    "                             legendgroup=\"Price\",\n",
    "                             line=dict(color=accent_color, width=2)), row=1, col=1)\n",
    "    fig.add_trace(go.Scatter(x=df['Date'], y=df['MA200'], mode='lines', name=\"MA200\",\n",
    "                             legendgroup=\"Price\",\n",
    "                             line=dict(color='orange', width=1.5)), row=1, col=1)\n",
    "    fig.add_trace(go.Scatter(x=df['Date'], y=df['MA100'], mode='lines', name=\"MA100\",\n",
    "                             legendgroup=\"Price\",\n",
    "                             line=dict(color='green', width=1.5)), row=1, col=1)\n",
    "    fig.add_trace(go.Scatter(x=df['Date'], y=df['MA50'], mode='lines', name=\"MA50\",\n",
    "                             legendgroup=\"Price\",\n",
    "                             line=dict(color='purple', width=1.5)), row=1, col=1)\n",
    "    fig.add_trace(go.Scatter(x=df['Date'], y=df['BB200_Upper'], mode='lines', name=\"BB200 Upper\",\n",
    "                             legendgroup=\"Price\",\n",
    "                             line=dict(color='lightblue', dash='dot')), row=1, col=1)\n",
    "    fig.add_trace(go.Scatter(x=df['Date'], y=df['BB200_Lower'], mode='lines', name=\"BB200 Lower\",\n",
    "                             legendgroup=\"Price\",\n",
    "                             line=dict(color='lightblue', dash='dot')), row=1, col=1)\n",
    "    \n",
    "    # --- Row 3: RSI Indicator ---\n",
    "    fig.add_trace(go.Scatter(x=df['Date'], y=df['RSI'], mode='lines', name=\"RSI\",\n",
    "                             legendgroup=\"RSI\",\n",
    "                             line=dict(color=accent_color, width=1.5)), row=3, col=1)\n",
    "    fig.add_hline(y=70, line=dict(color='grey', dash='dash'),\n",
    "                  annotation_text=\"Overbought\", annotation_position=\"top left\",\n",
    "                  annotation_font_color=\"grey\", row=3, col=1)\n",
    "    fig.add_hline(y=30, line=dict(color='grey', dash='dash'),\n",
    "                  annotation_text=\"Oversold\", annotation_position=\"bottom left\",\n",
    "                  annotation_font_color=\"grey\", row=3, col=1)\n",
    "    \n",
    "    # --- Row 4: Volume Bar Chart ---\n",
    "    fig.add_trace(go.Bar(x=df['Date'], y=df['Volume'], name=\"Volume\",\n",
    "                         legendgroup=\"Volume\",\n",
    "                         marker=dict(color=accent_color)), row=4, col=1)\n",
    "    \n",
    "    # --- Row 5: MACD Indicator ---\n",
    "    fig.add_trace(go.Scatter(x=df['Date'], y=df['MACD'], mode='lines', name=\"MACD\",\n",
    "                             legendgroup=\"MACD\",\n",
    "                             line=dict(color='blue', width=1.5)), row=5, col=1)\n",
    "    fig.add_trace(go.Scatter(x=df['Date'], y=df['Signal_Line'], mode='lines', name=\"Signal Line\",\n",
    "                             legendgroup=\"MACD\",\n",
    "                             line=dict(color='red', width=1.5)), row=5, col=1)\n",
    "    fig.add_trace(go.Bar(x=df['Date'], y=df['MACD_Histogram'], name=\"MACD Histogram\",\n",
    "                         legendgroup=\"MACD\",\n",
    "                         marker_color=['green' if val >= 0 else 'red' for val in df['MACD_Histogram']]),\n",
    "                  row=5, col=1)\n",
    "    fig.add_hline(y=0, line=dict(color='grey', dash='dash'), row=5, col=1)\n",
    "    \n",
    "    # --- Dropdown Menu for Date Range ---\n",
    "    max_date = df['Date'].max()\n",
    "    if pd.isnull(max_date):\n",
    "        max_date = pd.Timestamp.today()\n",
    "    six_months_date = max_date - pd.DateOffset(months=6)\n",
    "    five_year_date = max_date - pd.DateOffset(years=5)\n",
    "    max_date_str = max_date.strftime(\"%Y-%m-%d\")\n",
    "    six_months_str = six_months_date.strftime(\"%Y-%m-%d\")\n",
    "    five_year_str = five_year_date.strftime(\"%Y-%m-%d\")\n",
    "    updatemenus = [dict(\n",
    "        buttons=[\n",
    "            dict(label=\"6M\", method=\"relayout\", args=[{\"xaxis.range\": [six_months_str, max_date_str]}]),\n",
    "            dict(label=\"5Y\", method=\"relayout\", args=[{\"xaxis.range\": [five_year_str, max_date_str]}]),\n",
    "        ],\n",
    "        direction=\"down\",\n",
    "        pad={\"r\": 10, \"t\": 10},\n",
    "        showactive=True,\n",
    "        x=0.0, xanchor=\"left\",\n",
    "        y=1.1, yanchor=\"top\"\n",
    "    )]\n",
    "    fig.update_layout(updatemenus=updatemenus)\n",
    "    \n",
    "    # --- Layout Adjustments ---\n",
    "    fig.update_xaxes(title_text=\"\", row=1, col=1)\n",
    "    fig.update_xaxes(matches='x', row=3, col=1, showticklabels=False)\n",
    "    fig.update_xaxes(matches='x', row=4, col=1, showticklabels=False)\n",
    "    fig.update_xaxes(matches='x', row=5, col=1, showticklabels=False)\n",
    "    fig.update_yaxes(title_text=\"Price ($)\", row=1, col=1)\n",
    "    fig.update_yaxes(title_text=\"RSI\", row=3, col=1)\n",
    "    fig.update_yaxes(title_text=\"Volume\", row=4, col=1)\n",
    "    fig.update_yaxes(title_text=\"MACD\", row=5, col=1)\n",
    "    \n",
    "    fig.add_annotation(dict(\n",
    "        x=0.5,\n",
    "        y=1.05,\n",
    "        xref=\"paper\",\n",
    "        yref=\"paper\",\n",
    "        text=f\"{title_prefix}{symbol} Stock Price\",\n",
    "        showarrow=False,\n",
    "        font=dict(size=16, color=accent_color)\n",
    "    ))\n",
    "    \n",
    "    fig.update_layout(template=\"plotly_dark\", paper_bgcolor='#1e1e1e', plot_bgcolor='#1e1e1e',\n",
    "                      font_color=accent_color, margin=dict(t=20, b=20, r=20, l=20), height=900,\n",
    "                      legend=dict(traceorder='grouped', tracegroupgap=10, orientation='v', x=1.02, y=1))\n",
    "    fig.update_traces(marker_line_color=accent_color, selector=dict(type='bar'))\n",
    "    \n",
    "    return fig"
   ]
  },
  {
   "cell_type": "markdown",
   "id": "e1d461ec-0cab-4210-a017-9d88e87795db",
   "metadata": {},
   "source": [
    "# Generating Portfolio Value"
   ]
  },
  {
   "cell_type": "code",
   "execution_count": 194,
   "id": "b928222c-5371-48ba-b21a-15d7591ec516",
   "metadata": {},
   "outputs": [
    {
     "data": {
      "application/vnd.plotly.v1+json": {
       "config": {
        "plotlyServerURL": "https://plot.ly"
       },
       "data": [
        {
         "line": {
          "color": "#1abc9c"
         },
         "mode": "lines",
         "name": "Portfolio Value",
         "type": "scatter",
         "x": [
          "2023-06-04T00:00:00",
          "2023-06-05T00:00:00",
          "2023-06-06T00:00:00",
          "2023-06-07T00:00:00",
          "2023-06-08T00:00:00",
          "2023-06-09T00:00:00",
          "2023-06-10T00:00:00",
          "2023-06-11T00:00:00",
          "2023-06-12T00:00:00",
          "2023-06-13T00:00:00",
          "2023-06-14T00:00:00",
          "2023-06-15T00:00:00",
          "2023-06-16T00:00:00",
          "2023-06-17T00:00:00",
          "2023-06-18T00:00:00",
          "2023-06-19T00:00:00",
          "2023-06-20T00:00:00",
          "2023-06-21T00:00:00",
          "2023-06-22T00:00:00",
          "2023-06-23T00:00:00",
          "2023-06-24T00:00:00",
          "2023-06-25T00:00:00",
          "2023-06-26T00:00:00",
          "2023-06-27T00:00:00",
          "2023-06-28T00:00:00",
          "2023-06-29T00:00:00",
          "2023-06-30T00:00:00",
          "2023-07-01T00:00:00",
          "2023-07-02T00:00:00",
          "2023-07-03T00:00:00",
          "2023-07-04T00:00:00",
          "2023-07-05T00:00:00",
          "2023-07-06T00:00:00",
          "2023-07-07T00:00:00",
          "2023-07-08T00:00:00",
          "2023-07-09T00:00:00",
          "2023-07-10T00:00:00",
          "2023-07-11T00:00:00",
          "2023-07-12T00:00:00",
          "2023-07-13T00:00:00",
          "2023-07-14T00:00:00",
          "2023-07-15T00:00:00",
          "2023-07-16T00:00:00",
          "2023-07-17T00:00:00",
          "2023-07-18T00:00:00",
          "2023-07-19T00:00:00",
          "2023-07-20T00:00:00",
          "2023-07-21T00:00:00",
          "2023-07-22T00:00:00",
          "2023-07-23T00:00:00",
          "2023-07-24T00:00:00",
          "2023-07-25T00:00:00",
          "2023-07-26T00:00:00",
          "2023-07-27T00:00:00",
          "2023-07-28T00:00:00",
          "2023-07-29T00:00:00",
          "2023-07-30T00:00:00",
          "2023-07-31T00:00:00",
          "2023-08-01T00:00:00",
          "2023-08-02T00:00:00",
          "2023-08-03T00:00:00",
          "2023-08-04T00:00:00",
          "2023-08-05T00:00:00",
          "2023-08-06T00:00:00",
          "2023-08-07T00:00:00",
          "2023-08-08T00:00:00",
          "2023-08-09T00:00:00",
          "2023-08-10T00:00:00",
          "2023-08-11T00:00:00",
          "2023-08-12T00:00:00",
          "2023-08-13T00:00:00",
          "2023-08-14T00:00:00",
          "2023-08-15T00:00:00",
          "2023-08-16T00:00:00",
          "2023-08-17T00:00:00",
          "2023-08-18T00:00:00",
          "2023-08-19T00:00:00",
          "2023-08-20T00:00:00",
          "2023-08-21T00:00:00",
          "2023-08-22T00:00:00",
          "2023-08-23T00:00:00",
          "2023-08-24T00:00:00",
          "2023-08-25T00:00:00",
          "2023-08-26T00:00:00",
          "2023-08-27T00:00:00",
          "2023-08-28T00:00:00",
          "2023-08-29T00:00:00",
          "2023-08-30T00:00:00",
          "2023-08-31T00:00:00",
          "2023-09-01T00:00:00",
          "2023-09-02T00:00:00",
          "2023-09-03T00:00:00",
          "2023-09-04T00:00:00",
          "2023-09-05T00:00:00",
          "2023-09-06T00:00:00",
          "2023-09-07T00:00:00",
          "2023-09-08T00:00:00",
          "2023-09-09T00:00:00",
          "2023-09-10T00:00:00",
          "2023-09-11T00:00:00",
          "2023-09-12T00:00:00",
          "2023-09-13T00:00:00",
          "2023-09-14T00:00:00",
          "2023-09-15T00:00:00",
          "2023-09-16T00:00:00",
          "2023-09-17T00:00:00",
          "2023-09-18T00:00:00",
          "2023-09-19T00:00:00",
          "2023-09-20T00:00:00",
          "2023-09-21T00:00:00",
          "2023-09-22T00:00:00",
          "2023-09-23T00:00:00",
          "2023-09-24T00:00:00",
          "2023-09-25T00:00:00",
          "2023-09-26T00:00:00",
          "2023-09-27T00:00:00",
          "2023-09-28T00:00:00",
          "2023-09-29T00:00:00",
          "2023-09-30T00:00:00",
          "2023-10-01T00:00:00",
          "2023-10-02T00:00:00",
          "2023-10-03T00:00:00",
          "2023-10-04T00:00:00",
          "2023-10-05T00:00:00",
          "2023-10-06T00:00:00",
          "2023-10-07T00:00:00",
          "2023-10-08T00:00:00",
          "2023-10-09T00:00:00",
          "2023-10-10T00:00:00",
          "2023-10-11T00:00:00",
          "2023-10-12T00:00:00",
          "2023-10-13T00:00:00",
          "2023-10-14T00:00:00",
          "2023-10-15T00:00:00",
          "2023-10-16T00:00:00",
          "2023-10-17T00:00:00",
          "2023-10-18T00:00:00",
          "2023-10-19T00:00:00",
          "2023-10-20T00:00:00",
          "2023-10-21T00:00:00",
          "2023-10-22T00:00:00",
          "2023-10-23T00:00:00",
          "2023-10-24T00:00:00",
          "2023-10-25T00:00:00",
          "2023-10-26T00:00:00",
          "2023-10-27T00:00:00",
          "2023-10-28T00:00:00",
          "2023-10-29T00:00:00",
          "2023-10-30T00:00:00",
          "2023-10-31T00:00:00",
          "2023-11-01T00:00:00",
          "2023-11-02T00:00:00",
          "2023-11-03T00:00:00",
          "2023-11-04T00:00:00",
          "2023-11-05T00:00:00",
          "2023-11-06T00:00:00",
          "2023-11-07T00:00:00",
          "2023-11-08T00:00:00",
          "2023-11-09T00:00:00",
          "2023-11-10T00:00:00",
          "2023-11-11T00:00:00",
          "2023-11-12T00:00:00",
          "2023-11-13T00:00:00",
          "2023-11-14T00:00:00",
          "2023-11-15T00:00:00",
          "2023-11-16T00:00:00",
          "2023-11-17T00:00:00",
          "2023-11-18T00:00:00",
          "2023-11-19T00:00:00",
          "2023-11-20T00:00:00",
          "2023-11-21T00:00:00",
          "2023-11-22T00:00:00",
          "2023-11-23T00:00:00",
          "2023-11-24T00:00:00",
          "2023-11-25T00:00:00",
          "2023-11-26T00:00:00",
          "2023-11-27T00:00:00",
          "2023-11-28T00:00:00",
          "2023-11-29T00:00:00",
          "2023-11-30T00:00:00",
          "2023-12-01T00:00:00",
          "2023-12-02T00:00:00",
          "2023-12-03T00:00:00",
          "2023-12-04T00:00:00",
          "2023-12-05T00:00:00",
          "2023-12-06T00:00:00",
          "2023-12-07T00:00:00",
          "2023-12-08T00:00:00",
          "2023-12-09T00:00:00",
          "2023-12-10T00:00:00",
          "2023-12-11T00:00:00",
          "2023-12-12T00:00:00",
          "2023-12-13T00:00:00",
          "2023-12-14T00:00:00",
          "2023-12-15T00:00:00",
          "2023-12-16T00:00:00",
          "2023-12-17T00:00:00",
          "2023-12-18T00:00:00",
          "2023-12-19T00:00:00",
          "2023-12-20T00:00:00",
          "2023-12-21T00:00:00",
          "2023-12-22T00:00:00",
          "2023-12-23T00:00:00",
          "2023-12-24T00:00:00",
          "2023-12-25T00:00:00",
          "2023-12-26T00:00:00",
          "2023-12-27T00:00:00",
          "2023-12-28T00:00:00",
          "2023-12-29T00:00:00",
          "2023-12-30T00:00:00",
          "2023-12-31T00:00:00",
          "2024-01-01T00:00:00",
          "2024-01-02T00:00:00",
          "2024-01-03T00:00:00",
          "2024-01-04T00:00:00",
          "2024-01-05T00:00:00",
          "2024-01-06T00:00:00",
          "2024-01-07T00:00:00",
          "2024-01-08T00:00:00",
          "2024-01-09T00:00:00",
          "2024-01-10T00:00:00",
          "2024-01-11T00:00:00",
          "2024-01-12T00:00:00",
          "2024-01-13T00:00:00",
          "2024-01-14T00:00:00",
          "2024-01-15T00:00:00",
          "2024-01-16T00:00:00",
          "2024-01-17T00:00:00",
          "2024-01-18T00:00:00",
          "2024-01-19T00:00:00",
          "2024-01-20T00:00:00",
          "2024-01-21T00:00:00",
          "2024-01-22T00:00:00",
          "2024-01-23T00:00:00",
          "2024-01-24T00:00:00",
          "2024-01-25T00:00:00",
          "2024-01-26T00:00:00",
          "2024-01-27T00:00:00",
          "2024-01-28T00:00:00",
          "2024-01-29T00:00:00",
          "2024-01-30T00:00:00",
          "2024-01-31T00:00:00",
          "2024-02-01T00:00:00",
          "2024-02-02T00:00:00",
          "2024-02-03T00:00:00",
          "2024-02-04T00:00:00",
          "2024-02-05T00:00:00",
          "2024-02-06T00:00:00",
          "2024-02-07T00:00:00",
          "2024-02-08T00:00:00",
          "2024-02-09T00:00:00",
          "2024-02-10T00:00:00",
          "2024-02-11T00:00:00",
          "2024-02-12T00:00:00",
          "2024-02-13T00:00:00",
          "2024-02-14T00:00:00",
          "2024-02-15T00:00:00",
          "2024-02-16T00:00:00",
          "2024-02-17T00:00:00",
          "2024-02-18T00:00:00",
          "2024-02-19T00:00:00",
          "2024-02-20T00:00:00",
          "2024-02-21T00:00:00",
          "2024-02-22T00:00:00",
          "2024-02-23T00:00:00",
          "2024-02-24T00:00:00",
          "2024-02-25T00:00:00",
          "2024-02-26T00:00:00",
          "2024-02-27T00:00:00",
          "2024-02-28T00:00:00",
          "2024-02-29T00:00:00",
          "2024-03-01T00:00:00",
          "2024-03-02T00:00:00",
          "2024-03-03T00:00:00",
          "2024-03-04T00:00:00",
          "2024-03-05T00:00:00",
          "2024-03-06T00:00:00",
          "2024-03-07T00:00:00",
          "2024-03-08T00:00:00",
          "2024-03-09T00:00:00",
          "2024-03-10T00:00:00",
          "2024-03-11T00:00:00",
          "2024-03-12T00:00:00",
          "2024-03-13T00:00:00",
          "2024-03-14T00:00:00",
          "2024-03-15T00:00:00",
          "2024-03-16T00:00:00",
          "2024-03-17T00:00:00",
          "2024-03-18T00:00:00",
          "2024-03-19T00:00:00",
          "2024-03-20T00:00:00",
          "2024-03-21T00:00:00",
          "2024-03-22T00:00:00",
          "2024-03-23T00:00:00",
          "2024-03-24T00:00:00",
          "2024-03-25T00:00:00",
          "2024-03-26T00:00:00",
          "2024-03-27T00:00:00",
          "2024-03-28T00:00:00",
          "2024-03-29T00:00:00",
          "2024-03-30T00:00:00",
          "2024-03-31T00:00:00",
          "2024-04-01T00:00:00",
          "2024-04-02T00:00:00",
          "2024-04-03T00:00:00",
          "2024-04-04T00:00:00",
          "2024-04-05T00:00:00",
          "2024-04-06T00:00:00",
          "2024-04-07T00:00:00",
          "2024-04-08T00:00:00",
          "2024-04-09T00:00:00",
          "2024-04-10T00:00:00",
          "2024-04-11T00:00:00",
          "2024-04-12T00:00:00",
          "2024-04-13T00:00:00",
          "2024-04-14T00:00:00",
          "2024-04-15T00:00:00",
          "2024-04-16T00:00:00",
          "2024-04-17T00:00:00",
          "2024-04-18T00:00:00",
          "2024-04-19T00:00:00",
          "2024-04-20T00:00:00",
          "2024-04-21T00:00:00",
          "2024-04-22T00:00:00",
          "2024-04-23T00:00:00",
          "2024-04-24T00:00:00",
          "2024-04-25T00:00:00",
          "2024-04-26T00:00:00",
          "2024-04-27T00:00:00",
          "2024-04-28T00:00:00",
          "2024-04-29T00:00:00",
          "2024-04-30T00:00:00",
          "2024-05-01T00:00:00",
          "2024-05-02T00:00:00",
          "2024-05-03T00:00:00",
          "2024-05-04T00:00:00",
          "2024-05-05T00:00:00",
          "2024-05-06T00:00:00",
          "2024-05-07T00:00:00",
          "2024-05-08T00:00:00",
          "2024-05-09T00:00:00",
          "2024-05-10T00:00:00",
          "2024-05-11T00:00:00",
          "2024-05-12T00:00:00",
          "2024-05-13T00:00:00",
          "2024-05-14T00:00:00",
          "2024-05-15T00:00:00",
          "2024-05-16T00:00:00",
          "2024-05-17T00:00:00",
          "2024-05-18T00:00:00",
          "2024-05-19T00:00:00",
          "2024-05-20T00:00:00",
          "2024-05-21T00:00:00",
          "2024-05-22T00:00:00",
          "2024-05-23T00:00:00",
          "2024-05-24T00:00:00",
          "2024-05-25T00:00:00",
          "2024-05-26T00:00:00",
          "2024-05-27T00:00:00",
          "2024-05-28T00:00:00",
          "2024-05-29T00:00:00",
          "2024-05-30T00:00:00",
          "2024-05-31T00:00:00",
          "2024-06-01T00:00:00",
          "2024-06-02T00:00:00",
          "2024-06-03T00:00:00",
          "2024-06-04T00:00:00",
          "2024-06-05T00:00:00",
          "2024-06-06T00:00:00",
          "2024-06-07T00:00:00",
          "2024-06-08T00:00:00",
          "2024-06-09T00:00:00",
          "2024-06-10T00:00:00",
          "2024-06-11T00:00:00",
          "2024-06-12T00:00:00",
          "2024-06-13T00:00:00",
          "2024-06-14T00:00:00",
          "2024-06-15T00:00:00",
          "2024-06-16T00:00:00",
          "2024-06-17T00:00:00",
          "2024-06-18T00:00:00",
          "2024-06-19T00:00:00",
          "2024-06-20T00:00:00",
          "2024-06-21T00:00:00",
          "2024-06-22T00:00:00",
          "2024-06-23T00:00:00",
          "2024-06-24T00:00:00",
          "2024-06-25T00:00:00",
          "2024-06-26T00:00:00",
          "2024-06-27T00:00:00",
          "2024-06-28T00:00:00",
          "2024-06-29T00:00:00",
          "2024-06-30T00:00:00",
          "2024-07-01T00:00:00",
          "2024-07-02T00:00:00",
          "2024-07-03T00:00:00",
          "2024-07-04T00:00:00",
          "2024-07-05T00:00:00",
          "2024-07-06T00:00:00",
          "2024-07-07T00:00:00",
          "2024-07-08T00:00:00",
          "2024-07-09T00:00:00",
          "2024-07-10T00:00:00",
          "2024-07-11T00:00:00",
          "2024-07-12T00:00:00",
          "2024-07-13T00:00:00",
          "2024-07-14T00:00:00",
          "2024-07-15T00:00:00",
          "2024-07-16T00:00:00",
          "2024-07-17T00:00:00",
          "2024-07-18T00:00:00",
          "2024-07-19T00:00:00",
          "2024-07-20T00:00:00",
          "2024-07-21T00:00:00",
          "2024-07-22T00:00:00",
          "2024-07-23T00:00:00",
          "2024-07-24T00:00:00",
          "2024-07-25T00:00:00",
          "2024-07-26T00:00:00",
          "2024-07-27T00:00:00",
          "2024-07-28T00:00:00",
          "2024-07-29T00:00:00",
          "2024-07-30T00:00:00",
          "2024-07-31T00:00:00",
          "2024-08-01T00:00:00",
          "2024-08-02T00:00:00",
          "2024-08-03T00:00:00",
          "2024-08-04T00:00:00",
          "2024-08-05T00:00:00",
          "2024-08-06T00:00:00",
          "2024-08-07T00:00:00",
          "2024-08-08T00:00:00",
          "2024-08-09T00:00:00",
          "2024-08-10T00:00:00",
          "2024-08-11T00:00:00",
          "2024-08-12T00:00:00",
          "2024-08-13T00:00:00",
          "2024-08-14T00:00:00",
          "2024-08-15T00:00:00",
          "2024-08-16T00:00:00",
          "2024-08-17T00:00:00",
          "2024-08-18T00:00:00",
          "2024-08-19T00:00:00",
          "2024-08-20T00:00:00",
          "2024-08-21T00:00:00",
          "2024-08-22T00:00:00",
          "2024-08-23T00:00:00",
          "2024-08-24T00:00:00",
          "2024-08-25T00:00:00",
          "2024-08-26T00:00:00",
          "2024-08-27T00:00:00",
          "2024-08-28T00:00:00",
          "2024-08-29T00:00:00",
          "2024-08-30T00:00:00",
          "2024-08-31T00:00:00",
          "2024-09-01T00:00:00",
          "2024-09-02T00:00:00",
          "2024-09-03T00:00:00",
          "2024-09-04T00:00:00",
          "2024-09-05T00:00:00",
          "2024-09-06T00:00:00",
          "2024-09-07T00:00:00",
          "2024-09-08T00:00:00",
          "2024-09-09T00:00:00",
          "2024-09-10T00:00:00",
          "2024-09-11T00:00:00",
          "2024-09-12T00:00:00",
          "2024-09-13T00:00:00",
          "2024-09-14T00:00:00",
          "2024-09-15T00:00:00",
          "2024-09-16T00:00:00",
          "2024-09-17T00:00:00",
          "2024-09-18T00:00:00",
          "2024-09-19T00:00:00",
          "2024-09-20T00:00:00",
          "2024-09-21T00:00:00",
          "2024-09-22T00:00:00",
          "2024-09-23T00:00:00",
          "2024-09-24T00:00:00",
          "2024-09-25T00:00:00",
          "2024-09-26T00:00:00",
          "2024-09-27T00:00:00",
          "2024-09-28T00:00:00",
          "2024-09-29T00:00:00",
          "2024-09-30T00:00:00",
          "2024-10-01T00:00:00",
          "2024-10-02T00:00:00",
          "2024-10-03T00:00:00",
          "2024-10-04T00:00:00",
          "2024-10-05T00:00:00",
          "2024-10-06T00:00:00",
          "2024-10-07T00:00:00",
          "2024-10-08T00:00:00",
          "2024-10-09T00:00:00",
          "2024-10-10T00:00:00",
          "2024-10-11T00:00:00",
          "2024-10-12T00:00:00",
          "2024-10-13T00:00:00",
          "2024-10-14T00:00:00",
          "2024-10-15T00:00:00",
          "2024-10-16T00:00:00",
          "2024-10-17T00:00:00",
          "2024-10-18T00:00:00",
          "2024-10-19T00:00:00",
          "2024-10-20T00:00:00",
          "2024-10-21T00:00:00",
          "2024-10-22T00:00:00",
          "2024-10-23T00:00:00",
          "2024-10-24T00:00:00",
          "2024-10-25T00:00:00",
          "2024-10-26T00:00:00",
          "2024-10-27T00:00:00",
          "2024-10-28T00:00:00",
          "2024-10-29T00:00:00",
          "2024-10-30T00:00:00",
          "2024-10-31T00:00:00",
          "2024-11-01T00:00:00",
          "2024-11-02T00:00:00",
          "2024-11-03T00:00:00",
          "2024-11-04T00:00:00",
          "2024-11-05T00:00:00",
          "2024-11-06T00:00:00",
          "2024-11-07T00:00:00",
          "2024-11-08T00:00:00",
          "2024-11-09T00:00:00",
          "2024-11-10T00:00:00",
          "2024-11-11T00:00:00",
          "2024-11-12T00:00:00",
          "2024-11-13T00:00:00",
          "2024-11-14T00:00:00",
          "2024-11-15T00:00:00",
          "2024-11-16T00:00:00",
          "2024-11-17T00:00:00",
          "2024-11-18T00:00:00",
          "2024-11-19T00:00:00",
          "2024-11-20T00:00:00",
          "2024-11-21T00:00:00",
          "2024-11-22T00:00:00",
          "2024-11-23T00:00:00",
          "2024-11-24T00:00:00",
          "2024-11-25T00:00:00",
          "2024-11-26T00:00:00",
          "2024-11-27T00:00:00",
          "2024-11-28T00:00:00",
          "2024-11-29T00:00:00",
          "2024-11-30T00:00:00",
          "2024-12-01T00:00:00",
          "2024-12-02T00:00:00",
          "2024-12-03T00:00:00",
          "2024-12-04T00:00:00",
          "2024-12-05T00:00:00",
          "2024-12-06T00:00:00",
          "2024-12-07T00:00:00",
          "2024-12-08T00:00:00",
          "2024-12-09T00:00:00",
          "2024-12-10T00:00:00",
          "2024-12-11T00:00:00",
          "2024-12-12T00:00:00",
          "2024-12-13T00:00:00",
          "2024-12-14T00:00:00",
          "2024-12-15T00:00:00",
          "2024-12-16T00:00:00",
          "2024-12-17T00:00:00",
          "2024-12-18T00:00:00",
          "2024-12-19T00:00:00",
          "2024-12-20T00:00:00",
          "2024-12-21T00:00:00",
          "2024-12-22T00:00:00",
          "2024-12-23T00:00:00",
          "2024-12-24T00:00:00",
          "2024-12-25T00:00:00",
          "2024-12-26T00:00:00",
          "2024-12-27T00:00:00",
          "2024-12-28T00:00:00",
          "2024-12-29T00:00:00",
          "2024-12-30T00:00:00",
          "2024-12-31T00:00:00",
          "2025-01-01T00:00:00",
          "2025-01-02T00:00:00",
          "2025-01-03T00:00:00",
          "2025-01-04T00:00:00",
          "2025-01-05T00:00:00",
          "2025-01-06T00:00:00",
          "2025-01-07T00:00:00",
          "2025-01-08T00:00:00",
          "2025-01-09T00:00:00",
          "2025-01-10T00:00:00",
          "2025-01-11T00:00:00",
          "2025-01-12T00:00:00",
          "2025-01-13T00:00:00",
          "2025-01-14T00:00:00",
          "2025-01-15T00:00:00",
          "2025-01-16T00:00:00",
          "2025-01-17T00:00:00",
          "2025-01-18T00:00:00",
          "2025-01-19T00:00:00",
          "2025-01-20T00:00:00",
          "2025-01-21T00:00:00",
          "2025-01-22T00:00:00",
          "2025-01-23T00:00:00",
          "2025-01-24T00:00:00",
          "2025-01-25T00:00:00",
          "2025-01-26T00:00:00",
          "2025-01-27T00:00:00",
          "2025-01-28T00:00:00",
          "2025-01-29T00:00:00",
          "2025-01-30T00:00:00",
          "2025-01-31T00:00:00",
          "2025-02-01T00:00:00",
          "2025-02-02T00:00:00",
          "2025-02-03T00:00:00",
          "2025-02-04T00:00:00",
          "2025-02-05T00:00:00",
          "2025-02-06T00:00:00",
          "2025-02-07T00:00:00",
          "2025-02-08T00:00:00",
          "2025-02-09T00:00:00",
          "2025-02-10T00:00:00",
          "2025-02-11T00:00:00",
          "2025-02-12T00:00:00",
          "2025-02-13T00:00:00",
          "2025-02-14T00:00:00",
          "2025-02-15T00:00:00",
          "2025-02-16T00:00:00",
          "2025-02-17T00:00:00",
          "2025-02-18T00:00:00",
          "2025-02-19T00:00:00",
          "2025-02-20T00:00:00",
          "2025-02-21T00:00:00",
          "2025-02-22T00:00:00",
          "2025-02-23T00:00:00",
          "2025-02-24T00:00:00",
          "2025-02-25T00:00:00",
          "2025-02-26T00:00:00",
          "2025-02-27T00:00:00",
          "2025-02-28T00:00:00",
          "2025-03-01T00:00:00",
          "2025-03-02T00:00:00",
          "2025-03-03T00:00:00",
          "2025-03-04T00:00:00",
          "2025-03-05T00:00:00",
          "2025-03-06T00:00:00",
          "2025-03-07T00:00:00",
          "2025-03-08T00:00:00",
          "2025-03-09T00:00:00",
          "2025-03-10T00:00:00",
          "2025-03-11T00:00:00",
          "2025-03-12T00:00:00",
          "2025-03-13T00:00:00",
          "2025-03-14T00:00:00",
          "2025-03-15T00:00:00",
          "2025-03-16T00:00:00",
          "2025-03-17T00:00:00",
          "2025-03-18T00:00:00",
          "2025-03-19T00:00:00",
          "2025-03-20T00:00:00",
          "2025-03-21T00:00:00",
          "2025-03-22T00:00:00",
          "2025-03-23T00:00:00",
          "2025-03-24T00:00:00",
          "2025-03-25T00:00:00",
          "2025-03-26T00:00:00",
          "2025-03-27T00:00:00",
          "2025-03-28T00:00:00",
          "2025-03-29T00:00:00",
          "2025-03-30T00:00:00",
          "2025-03-31T00:00:00",
          "2025-04-01T00:00:00",
          "2025-04-02T00:00:00",
          "2025-04-03T00:00:00",
          "2025-04-04T00:00:00",
          "2025-04-05T00:00:00",
          "2025-04-06T00:00:00",
          "2025-04-07T00:00:00",
          "2025-04-08T00:00:00"
         ],
         "y": [
          6.8900008392333945,
          6.8900008392333945,
          6.8900008392333945,
          6.8900008392333945,
          6.8900008392333945,
          106.8900008392334,
          106.8900008392334,
          106.8900008392334,
          106.8900008392334,
          106.8900008392334,
          106.8900008392334,
          106.8900008392334,
          106.8900008392334,
          100.51000141143797,
          100.51000141143797,
          100.51000141143797,
          100.51000141143797,
          150.51000141143797,
          150.51000141143797,
          300.510001411438,
          300.510001411438,
          300.510001411438,
          329.88000064849854,
          329.14000061035154,
          329.14000061035154,
          329.14000061035154,
          329.14000061035154,
          329.14000061035154,
          329.14000061035154,
          329.14000061035154,
          329.14000061035154,
          329.14000061035154,
          329.14000061035154,
          329.14000061035154,
          329.14000061035154,
          329.14000061035154,
          329.14000061035154,
          329.14000061035154,
          456.2400032806396,
          456.2400032806396,
          556.2400032806396,
          556.2400032806396,
          556.2400032806396,
          556.2400032806396,
          556.2400032806396,
          706.2400032806396,
          706.2400032806396,
          706.2400032806396,
          718.5200032043457,
          718.5200032043457,
          718.5200032043457,
          718.5200032043457,
          718.5200032043457,
          718.5200032043457,
          718.5200032043457,
          718.5200032043457,
          718.5200032043457,
          718.5200032043457,
          718.5200032043457,
          718.5200032043457,
          718.5200032043457,
          718.5200032043457,
          718.5200032043457,
          718.5200032043457,
          718.5200032043457,
          718.5200032043457,
          718.5200032043457,
          718.5200032043457,
          718.5200032043457,
          711.0800046539306,
          711.0800046539306,
          711.0800046539306,
          761.0800046539306,
          761.0800046539306,
          761.0800046539306,
          761.0800046539306,
          761.0800046539306,
          761.0800046539306,
          761.0800046539306,
          761.0800046539306,
          764.7100046539306,
          764.7100046539306,
          934.7100046539306,
          934.7100046539306,
          934.7100046539306,
          934.7100046539306,
          934.7100046539306,
          934.7100046539306,
          934.7100046539306,
          934.7100046539306,
          934.7100046539306,
          934.7100046539306,
          934.7100046539306,
          934.7100046539306,
          983.7200015258786,
          983.7200015258786,
          1158.7200015258786,
          1158.7200015258786,
          1158.7200015258786,
          1158.7200015258786,
          1158.7200015258786,
          1158.7200015258786,
          1158.7200015258786,
          1152.4400019836426,
          1152.4400019836426,
          1152.4400019836426,
          1152.4400019836426,
          1207.4400019836426,
          1207.4400019836426,
          1207.4400019836426,
          1207.4400019836426,
          1175.640002593994,
          1175.640002593994,
          1175.640002593994,
          1275.640002593994,
          1275.640002593994,
          1275.640002593994,
          1275.640002593994,
          1275.640002593994,
          1275.640002593994,
          1275.640002593994,
          1275.640002593994,
          1275.640002593994,
          1275.640002593994,
          1275.640002593994,
          1275.640002593994,
          1275.640002593994,
          1275.640002593994,
          1275.640002593994,
          1275.640002593994,
          1275.640002593994,
          1275.640002593994,
          1275.640002593994,
          1275.640002593994,
          1275.640002593994,
          1275.640002593994,
          1275.640002593994,
          1275.640002593994,
          1425.640002593994,
          1425.640002593994,
          1425.640002593994,
          1425.640002593994,
          1425.640002593994,
          1425.640002593994,
          1425.640002593994,
          1425.640002593994,
          1425.640002593994,
          1425.640002593994,
          1425.640002593994,
          1425.640002593994,
          1429.4100021362303,
          1429.4100021362303,
          1429.4100021362303,
          1429.4100021362303,
          1429.4100021362303,
          1429.4100021362303,
          1429.4100021362303,
          1429.4100021362303,
          1429.4100021362303,
          1434.3700019073485,
          1434.3700019073485,
          1434.3700019073485,
          1434.3700019073485,
          1434.3700019073485,
          1434.3700019073485,
          1434.3700019073485,
          1434.3700019073485,
          1434.3700019073485,
          1434.3700019073485,
          1434.3700019073485,
          1434.3700019073485,
          1434.3700019073485,
          1434.3700019073485,
          1434.3700019073485,
          1434.3700019073485,
          1434.3700019073485,
          1434.3700019073485,
          1434.3700019073485,
          1434.3700019073485,
          1434.3700019073485,
          1434.3700019073485,
          1434.3700019073485,
          1434.3700019073485,
          1434.3700019073485,
          1434.3700019073485,
          1434.3700019073485,
          1434.3700019073485,
          1434.3700019073485,
          1434.3700019073485,
          1434.3700019073485,
          1434.3700019073485,
          1434.3700019073485,
          1434.3700019073485,
          1434.3700019073485,
          1434.3700019073485,
          1434.3700019073485,
          1434.3700019073485,
          1434.3700019073485,
          1434.3700019073485,
          1434.3700019073485,
          1434.3700019073485,
          1434.3700019073485,
          1434.3700019073485,
          1434.3700019073485,
          1434.3700019073485,
          1434.3700019073485,
          1434.3700019073485,
          1434.3700019073485,
          1434.3700019073485,
          1434.3700019073485,
          1434.3700019073485,
          1434.3700019073485,
          1434.3700019073485,
          1434.3700019073485,
          1434.3700019073485,
          1434.3700019073485,
          1434.3700019073485,
          1434.3700019073485,
          1434.3700019073485,
          1434.3700019073485,
          1434.3700019073485,
          1434.3700019073485,
          1434.3700019073485,
          1434.3700019073485,
          1434.3700019073485,
          1434.3700019073485,
          1434.3700019073485,
          1434.3700019073485,
          1434.3700019073485,
          1434.3700019073485,
          1434.3700019073485,
          1434.3700019073485,
          1434.3700019073485,
          1434.3700019073485,
          1434.3700019073485,
          1434.3700019073485,
          1434.3700019073485,
          1434.3700019073485,
          1434.3700019073485,
          1434.3700019073485,
          1434.3700019073485,
          1434.3700019073485,
          1434.3700019073485,
          1434.3700019073485,
          1434.3700019073485,
          1434.3700019073485,
          1434.3700019073485,
          1434.3700019073485,
          1439.5500018310547,
          1439.5500018310547,
          1439.5500018310547,
          1439.5500018310547,
          1439.5500018310547,
          1439.5500018310547,
          1439.5500018310547,
          1439.5500018310547,
          1439.5500018310547,
          1439.5500018310547,
          1439.5500018310547,
          1439.5500018310547,
          1439.5500018310547,
          1439.5500018310547,
          1439.5500018310547,
          1439.5500018310547,
          1439.5500018310547,
          1439.5500018310547,
          1439.5500018310547,
          1439.5500018310547,
          1439.5500018310547,
          1439.5500018310547,
          1439.5500018310547,
          1439.5500018310547,
          1439.5500018310547,
          1439.5500018310547,
          1439.5500018310547,
          1439.5500018310547,
          1439.5500018310547,
          1439.5500018310547,
          1439.5500018310547,
          1439.5500018310547,
          1439.5500018310547,
          1439.5500018310547,
          1439.5500018310547,
          1439.5500018310547,
          1439.5500018310547,
          1439.5500018310547,
          1439.5500018310547,
          1439.5500018310547,
          1439.5500018310547,
          1439.5500018310547,
          1439.5500018310547,
          1439.5500018310547,
          1439.5500018310547,
          1439.5500018310547,
          1439.5500018310547,
          1439.5500018310547,
          1439.5500018310547,
          1439.5500018310547,
          1439.5500018310547,
          1439.5500018310547,
          1439.5500018310547,
          1439.5500018310547,
          1439.5500018310547,
          1439.5500018310547,
          1439.5500018310547,
          1439.5500018310547,
          1439.5500018310547,
          1439.5500018310547,
          1439.5500018310547,
          1439.5500018310547,
          1439.5500018310547,
          1439.5500018310547,
          1439.5500018310547,
          1439.5500018310547,
          1439.5500018310547,
          1439.5500018310547,
          1439.5500018310547,
          1439.5500018310547,
          1439.5500018310547,
          1439.5500018310547,
          1439.5500018310547,
          1439.5500018310547,
          1439.5500018310547,
          1439.5500018310547,
          1439.5500018310547,
          1439.5500018310547,
          1439.5500018310547,
          1439.5500018310547,
          1439.5500018310547,
          1439.5500018310547,
          1439.5500018310547,
          1439.5500018310547,
          1439.5500018310547,
          1439.5500018310547,
          1439.5500018310547,
          1439.5500018310547,
          1439.5500018310547,
          1439.5500018310547,
          1439.5500018310547,
          1439.5500018310547,
          1439.5500018310547,
          1439.5500018310547,
          1439.5500018310547,
          1439.5500018310547,
          1439.5500018310547,
          1439.5500018310547,
          1439.5500018310547,
          1439.5500018310547,
          1439.5500018310547,
          1439.5500018310547,
          1439.5500018310547,
          1439.5500018310547,
          1439.5500018310547,
          1439.5500018310547,
          1439.5500018310547,
          1439.5500018310547,
          1439.5500018310547,
          1439.5500018310547,
          1439.5500018310547,
          1439.5500018310547,
          1439.5500018310547,
          1439.5500018310547,
          1439.5500018310547,
          1439.5500018310547,
          1439.5500018310547,
          1439.5500018310547,
          1439.5500018310547,
          1439.5500018310547,
          1439.5500018310547,
          1439.5500018310547,
          1439.5500018310547,
          1439.5500018310547,
          1439.5500018310547,
          1439.5500018310547,
          1439.5500018310547,
          1439.5500018310547,
          1439.5500018310547,
          1439.5500018310547,
          1439.5500018310547,
          1439.5500018310547,
          1439.5500018310547,
          1439.5500018310547,
          1439.5500018310547,
          1439.5500018310547,
          1439.5500018310547,
          1439.5500018310547,
          1539.5500018310547,
          1539.5500018310547,
          1539.5500018310547,
          1539.5500018310547,
          1539.5500018310547,
          1539.5500018310547,
          1539.5500018310547,
          1539.5500018310547,
          1539.5500018310547,
          1539.5500018310547,
          1539.5500018310547,
          1539.5500018310547,
          1539.5500018310547,
          1539.5500018310547,
          1539.5500018310547,
          1539.5500018310547,
          1539.5500018310547,
          1539.5500018310547,
          1539.5500018310547,
          1539.5500018310547,
          1539.5500018310547,
          1539.5500018310547,
          1539.5500018310547,
          1539.5500018310547,
          1539.5500018310547,
          1539.5500018310547,
          1539.5500018310547,
          1539.5500018310547,
          1539.5500018310547,
          1539.5500018310547,
          1539.5500018310547,
          1539.5500018310547,
          1539.5500018310547,
          1539.5500018310547,
          1539.5500018310547,
          1539.5500018310547,
          1539.5500018310547,
          1539.5500018310547,
          1539.5500018310547,
          1539.5500018310547,
          1539.5500018310547,
          1539.5500018310547,
          1539.5500018310547,
          1539.5500018310547,
          1539.5500018310547,
          1539.5500018310547,
          1539.5500018310547,
          1539.5500018310547,
          1539.5500018310547,
          1539.5500018310547,
          1639.5500018310547,
          1639.5500018310547,
          1639.5500018310547,
          1639.5500018310547,
          1639.5500018310547,
          1639.5500018310547,
          1639.5500018310547,
          1639.5500018310547,
          1639.5500018310547,
          1639.5500018310547,
          1639.5500018310547,
          1639.5500018310547,
          1639.5500018310547,
          1639.5500018310547,
          1639.5500018310547,
          1639.5500018310547,
          1639.5500018310547,
          1639.5500018310547,
          1639.5500018310547,
          1639.5500018310547,
          1639.5500018310547,
          1639.5500018310547,
          1639.5500018310547,
          1639.5500018310547,
          1639.5500018310547,
          1639.5500018310547,
          1639.5500018310547,
          1639.5500018310547,
          1739.5500018310547,
          1739.5500018310547,
          1739.5500018310547,
          1739.5500018310547,
          1739.5500018310547,
          1739.5500018310547,
          1739.5500018310547,
          1739.5500018310547,
          1739.5500018310547,
          1739.5500018310547,
          1739.5500018310547,
          1739.5500018310547,
          1739.5500018310547,
          1739.5500018310547,
          1739.5500018310547,
          1739.5500018310547,
          1739.5500018310547,
          1739.5500018310547,
          1739.5500018310547,
          1739.5500018310547,
          1739.5500018310547,
          1739.5500018310547,
          1739.5500018310547,
          1739.5500018310547,
          1739.5500018310547,
          1739.5500018310547,
          1739.5500018310547,
          1739.5500018310547,
          1739.5500018310547,
          1739.5500018310547,
          1739.5500018310547,
          1739.5500018310547,
          1739.5500018310547,
          1739.5500018310547,
          1739.5500018310547,
          1739.5500018310547,
          1739.5500018310547,
          1739.5500018310547,
          1739.5500018310547,
          1681.9900076293945,
          1681.9900076293945,
          1681.9900076293945,
          1781.9900076293945,
          1781.9900076293945,
          1781.9900076293945,
          1781.9900076293945,
          1781.9900076293945,
          1781.9900076293945,
          1781.9900076293945,
          1781.9900076293945,
          1781.9900076293945,
          1781.9900076293945,
          1781.9900076293945,
          1781.9900076293945,
          1782.130005493164,
          1782.130005493164,
          1882.130005493164,
          1882.130005493164,
          1882.130005493164,
          1882.130005493164,
          1882.130005493164,
          1882.130005493164,
          1882.130005493164,
          1882.130005493164,
          1882.130005493164,
          1882.130005493164,
          1882.130005493164,
          1868.9300045394898,
          1868.9300045394898,
          1868.9300045394898,
          2018.9300045394898,
          2018.9300045394898,
          2018.9300045394898,
          2018.9300045394898,
          2018.9300045394898,
          2018.9300045394898,
          2018.9300045394898,
          2018.9300045394898,
          1981.3000066757202,
          1981.3000066757202,
          1981.3000066757202,
          1981.3000066757202,
          1981.3000066757202,
          2281.6300024032594,
          2481.6300024032594,
          2481.6300024032594,
          2481.6300024032594,
          2481.6300024032594,
          2481.6300024032594,
          2481.6300024032594,
          2481.6300024032594,
          2481.6300024032594,
          2453.040005264282,
          2453.040005264282,
          2853.040005264282,
          2853.040005264282,
          2853.040005264282,
          2853.040005264282,
          2853.040005264282,
          2853.040005264282,
          2853.040005264282,
          2853.040005264282,
          2853.040005264282,
          2853.040005264282,
          2853.040005264282,
          2853.040005264282,
          2853.040005264282,
          2853.040005264282,
          2853.040005264282,
          2853.040005264282,
          2853.040005264282,
          2863.8000284576415,
          2863.8000284576415,
          2863.8000284576415,
          2863.8000284576415,
          2863.8000284576415,
          2863.8000284576415,
          2863.8000284576415,
          2863.8000284576415,
          2863.8000284576415,
          2863.8000284576415,
          2863.8000284576415,
          2863.8000284576415,
          2829.3300302505495,
          2829.3300302505495,
          2829.3300302505495,
          3329.3300302505495,
          3329.3300302505495,
          3329.3300302505495,
          3329.3300302505495,
          3329.3300302505495,
          3329.3300302505495,
          3329.3300302505495,
          3329.3300302505495,
          3318.700034675598,
          3318.700034675598,
          3718.700034675598,
          3718.700034675598,
          3718.700034675598,
          3718.700034675598,
          3718.700034675598,
          3718.700034675598,
          3718.700034675598,
          3718.700034675598,
          3718.700034675598,
          3718.700034675598,
          3718.700034675598,
          3718.700034675598,
          3718.700034675598,
          3718.700034675598,
          3718.700034675598,
          3646.22004070282,
          3646.22004070282,
          3646.22004070282,
          4146.2200407028195,
          4146.2200407028195,
          4146.2200407028195,
          4146.2200407028195,
          4146.2200407028195,
          4146.2200407028195,
          4146.2200407028195,
          4146.2200407028195,
          4146.2200407028195,
          4146.2200407028195,
          4146.2200407028195,
          4146.2200407028195,
          4146.2200407028195,
          4146.2200407028195,
          4146.2200407028195,
          4146.2200407028195,
          4146.2200407028195,
          4146.2200407028195,
          4146.2200407028195,
          4146.2200407028195,
          4146.2200407028195,
          4146.2200407028195,
          4146.2200407028195,
          4346.2200407028195,
          4346.2200407028195,
          4346.2200407028195,
          4346.2200407028195,
          4546.2200407028195,
          4546.2200407028195,
          4546.2200407028195,
          4546.2200407028195,
          4546.2200407028195,
          4546.2200407028195,
          4546.2200407028195,
          4546.2200407028195,
          4546.2200407028195,
          4546.2200407028195,
          4546.2200407028195,
          4546.2200407028195,
          4546.2200407028195,
          4546.2200407028195,
          4546.2200407028195,
          4746.2200407028195,
          4746.2200407028195,
          4746.2200407028195,
          4746.2200407028195,
          4744.530049858094,
          4744.530049858094,
          4744.530049858094,
          4744.530049858094,
          4744.530049858094,
          4744.530049858094,
          4744.530049858094,
          4744.530049858094,
          4747.310057182312,
          4747.310057182312,
          5247.310057182312
         ]
        },
        {
         "marker": {
          "color": "grey",
          "size": 8,
          "symbol": "x"
         },
         "mode": "markers",
         "name": "Deposit",
         "type": "scatter",
         "x": [
          "2023-06-09T00:00:00",
          "2023-06-21T00:00:00",
          "2023-06-23T00:00:00",
          "2023-07-14T00:00:00",
          "2023-07-19T00:00:00",
          "2023-08-15T00:00:00",
          "2023-08-25T00:00:00",
          "2023-09-08T00:00:00",
          "2023-09-19T00:00:00",
          "2023-09-26T00:00:00",
          "2023-10-20T00:00:00",
          "2024-06-24T00:00:00",
          "2024-08-13T00:00:00",
          "2024-09-10T00:00:00",
          "2024-10-22T00:00:00",
          "2024-11-05T00:00:00",
          "2024-11-19T00:00:00",
          "2024-12-02T00:00:00",
          "2024-12-03T00:00:00",
          "2024-12-13T00:00:00",
          "2025-01-14T00:00:00",
          "2025-01-24T00:00:00",
          "2025-02-11T00:00:00",
          "2025-03-06T00:00:00",
          "2025-03-10T00:00:00",
          "2025-03-25T00:00:00",
          "2025-04-08T00:00:00"
         ],
         "y": [
          106.8900008392334,
          150.51000141143797,
          300.510001411438,
          556.2400032806396,
          706.2400032806396,
          761.0800046539306,
          934.7100046539306,
          1158.7200015258786,
          1207.4400019836426,
          1275.640002593994,
          1425.640002593994,
          1539.5500018310547,
          1639.5500018310547,
          1739.5500018310547,
          1781.9900076293945,
          1882.130005493164,
          2018.9300045394898,
          2281.6300024032594,
          2481.6300024032594,
          2853.040005264282,
          3329.3300302505495,
          3718.700034675598,
          4146.2200407028195,
          4346.2200407028195,
          4546.2200407028195,
          4746.2200407028195,
          5247.310057182312
         ]
        }
       ],
       "layout": {
        "font": {
         "color": "#1abc9c"
        },
        "height": 160,
        "margin": {
         "b": 20,
         "l": 0,
         "r": 20,
         "t": 20
        },
        "paper_bgcolor": "#1e1e1e",
        "plot_bgcolor": "#1e1e1e",
        "showlegend": false,
        "template": {
         "data": {
          "bar": [
           {
            "error_x": {
             "color": "#f2f5fa"
            },
            "error_y": {
             "color": "#f2f5fa"
            },
            "marker": {
             "line": {
              "color": "rgb(17,17,17)",
              "width": 0.5
             },
             "pattern": {
              "fillmode": "overlay",
              "size": 10,
              "solidity": 0.2
             }
            },
            "type": "bar"
           }
          ],
          "barpolar": [
           {
            "marker": {
             "line": {
              "color": "rgb(17,17,17)",
              "width": 0.5
             },
             "pattern": {
              "fillmode": "overlay",
              "size": 10,
              "solidity": 0.2
             }
            },
            "type": "barpolar"
           }
          ],
          "carpet": [
           {
            "aaxis": {
             "endlinecolor": "#A2B1C6",
             "gridcolor": "#506784",
             "linecolor": "#506784",
             "minorgridcolor": "#506784",
             "startlinecolor": "#A2B1C6"
            },
            "baxis": {
             "endlinecolor": "#A2B1C6",
             "gridcolor": "#506784",
             "linecolor": "#506784",
             "minorgridcolor": "#506784",
             "startlinecolor": "#A2B1C6"
            },
            "type": "carpet"
           }
          ],
          "choropleth": [
           {
            "colorbar": {
             "outlinewidth": 0,
             "ticks": ""
            },
            "type": "choropleth"
           }
          ],
          "contour": [
           {
            "colorbar": {
             "outlinewidth": 0,
             "ticks": ""
            },
            "colorscale": [
             [
              0,
              "#0d0887"
             ],
             [
              0.1111111111111111,
              "#46039f"
             ],
             [
              0.2222222222222222,
              "#7201a8"
             ],
             [
              0.3333333333333333,
              "#9c179e"
             ],
             [
              0.4444444444444444,
              "#bd3786"
             ],
             [
              0.5555555555555556,
              "#d8576b"
             ],
             [
              0.6666666666666666,
              "#ed7953"
             ],
             [
              0.7777777777777778,
              "#fb9f3a"
             ],
             [
              0.8888888888888888,
              "#fdca26"
             ],
             [
              1,
              "#f0f921"
             ]
            ],
            "type": "contour"
           }
          ],
          "contourcarpet": [
           {
            "colorbar": {
             "outlinewidth": 0,
             "ticks": ""
            },
            "type": "contourcarpet"
           }
          ],
          "heatmap": [
           {
            "colorbar": {
             "outlinewidth": 0,
             "ticks": ""
            },
            "colorscale": [
             [
              0,
              "#0d0887"
             ],
             [
              0.1111111111111111,
              "#46039f"
             ],
             [
              0.2222222222222222,
              "#7201a8"
             ],
             [
              0.3333333333333333,
              "#9c179e"
             ],
             [
              0.4444444444444444,
              "#bd3786"
             ],
             [
              0.5555555555555556,
              "#d8576b"
             ],
             [
              0.6666666666666666,
              "#ed7953"
             ],
             [
              0.7777777777777778,
              "#fb9f3a"
             ],
             [
              0.8888888888888888,
              "#fdca26"
             ],
             [
              1,
              "#f0f921"
             ]
            ],
            "type": "heatmap"
           }
          ],
          "heatmapgl": [
           {
            "colorbar": {
             "outlinewidth": 0,
             "ticks": ""
            },
            "colorscale": [
             [
              0,
              "#0d0887"
             ],
             [
              0.1111111111111111,
              "#46039f"
             ],
             [
              0.2222222222222222,
              "#7201a8"
             ],
             [
              0.3333333333333333,
              "#9c179e"
             ],
             [
              0.4444444444444444,
              "#bd3786"
             ],
             [
              0.5555555555555556,
              "#d8576b"
             ],
             [
              0.6666666666666666,
              "#ed7953"
             ],
             [
              0.7777777777777778,
              "#fb9f3a"
             ],
             [
              0.8888888888888888,
              "#fdca26"
             ],
             [
              1,
              "#f0f921"
             ]
            ],
            "type": "heatmapgl"
           }
          ],
          "histogram": [
           {
            "marker": {
             "pattern": {
              "fillmode": "overlay",
              "size": 10,
              "solidity": 0.2
             }
            },
            "type": "histogram"
           }
          ],
          "histogram2d": [
           {
            "colorbar": {
             "outlinewidth": 0,
             "ticks": ""
            },
            "colorscale": [
             [
              0,
              "#0d0887"
             ],
             [
              0.1111111111111111,
              "#46039f"
             ],
             [
              0.2222222222222222,
              "#7201a8"
             ],
             [
              0.3333333333333333,
              "#9c179e"
             ],
             [
              0.4444444444444444,
              "#bd3786"
             ],
             [
              0.5555555555555556,
              "#d8576b"
             ],
             [
              0.6666666666666666,
              "#ed7953"
             ],
             [
              0.7777777777777778,
              "#fb9f3a"
             ],
             [
              0.8888888888888888,
              "#fdca26"
             ],
             [
              1,
              "#f0f921"
             ]
            ],
            "type": "histogram2d"
           }
          ],
          "histogram2dcontour": [
           {
            "colorbar": {
             "outlinewidth": 0,
             "ticks": ""
            },
            "colorscale": [
             [
              0,
              "#0d0887"
             ],
             [
              0.1111111111111111,
              "#46039f"
             ],
             [
              0.2222222222222222,
              "#7201a8"
             ],
             [
              0.3333333333333333,
              "#9c179e"
             ],
             [
              0.4444444444444444,
              "#bd3786"
             ],
             [
              0.5555555555555556,
              "#d8576b"
             ],
             [
              0.6666666666666666,
              "#ed7953"
             ],
             [
              0.7777777777777778,
              "#fb9f3a"
             ],
             [
              0.8888888888888888,
              "#fdca26"
             ],
             [
              1,
              "#f0f921"
             ]
            ],
            "type": "histogram2dcontour"
           }
          ],
          "mesh3d": [
           {
            "colorbar": {
             "outlinewidth": 0,
             "ticks": ""
            },
            "type": "mesh3d"
           }
          ],
          "parcoords": [
           {
            "line": {
             "colorbar": {
              "outlinewidth": 0,
              "ticks": ""
             }
            },
            "type": "parcoords"
           }
          ],
          "pie": [
           {
            "automargin": true,
            "type": "pie"
           }
          ],
          "scatter": [
           {
            "marker": {
             "line": {
              "color": "#283442"
             }
            },
            "type": "scatter"
           }
          ],
          "scatter3d": [
           {
            "line": {
             "colorbar": {
              "outlinewidth": 0,
              "ticks": ""
             }
            },
            "marker": {
             "colorbar": {
              "outlinewidth": 0,
              "ticks": ""
             }
            },
            "type": "scatter3d"
           }
          ],
          "scattercarpet": [
           {
            "marker": {
             "colorbar": {
              "outlinewidth": 0,
              "ticks": ""
             }
            },
            "type": "scattercarpet"
           }
          ],
          "scattergeo": [
           {
            "marker": {
             "colorbar": {
              "outlinewidth": 0,
              "ticks": ""
             }
            },
            "type": "scattergeo"
           }
          ],
          "scattergl": [
           {
            "marker": {
             "line": {
              "color": "#283442"
             }
            },
            "type": "scattergl"
           }
          ],
          "scattermapbox": [
           {
            "marker": {
             "colorbar": {
              "outlinewidth": 0,
              "ticks": ""
             }
            },
            "type": "scattermapbox"
           }
          ],
          "scatterpolar": [
           {
            "marker": {
             "colorbar": {
              "outlinewidth": 0,
              "ticks": ""
             }
            },
            "type": "scatterpolar"
           }
          ],
          "scatterpolargl": [
           {
            "marker": {
             "colorbar": {
              "outlinewidth": 0,
              "ticks": ""
             }
            },
            "type": "scatterpolargl"
           }
          ],
          "scatterternary": [
           {
            "marker": {
             "colorbar": {
              "outlinewidth": 0,
              "ticks": ""
             }
            },
            "type": "scatterternary"
           }
          ],
          "surface": [
           {
            "colorbar": {
             "outlinewidth": 0,
             "ticks": ""
            },
            "colorscale": [
             [
              0,
              "#0d0887"
             ],
             [
              0.1111111111111111,
              "#46039f"
             ],
             [
              0.2222222222222222,
              "#7201a8"
             ],
             [
              0.3333333333333333,
              "#9c179e"
             ],
             [
              0.4444444444444444,
              "#bd3786"
             ],
             [
              0.5555555555555556,
              "#d8576b"
             ],
             [
              0.6666666666666666,
              "#ed7953"
             ],
             [
              0.7777777777777778,
              "#fb9f3a"
             ],
             [
              0.8888888888888888,
              "#fdca26"
             ],
             [
              1,
              "#f0f921"
             ]
            ],
            "type": "surface"
           }
          ],
          "table": [
           {
            "cells": {
             "fill": {
              "color": "#506784"
             },
             "line": {
              "color": "rgb(17,17,17)"
             }
            },
            "header": {
             "fill": {
              "color": "#2a3f5f"
             },
             "line": {
              "color": "rgb(17,17,17)"
             }
            },
            "type": "table"
           }
          ]
         },
         "layout": {
          "annotationdefaults": {
           "arrowcolor": "#f2f5fa",
           "arrowhead": 0,
           "arrowwidth": 1
          },
          "autotypenumbers": "strict",
          "coloraxis": {
           "colorbar": {
            "outlinewidth": 0,
            "ticks": ""
           }
          },
          "colorscale": {
           "diverging": [
            [
             0,
             "#8e0152"
            ],
            [
             0.1,
             "#c51b7d"
            ],
            [
             0.2,
             "#de77ae"
            ],
            [
             0.3,
             "#f1b6da"
            ],
            [
             0.4,
             "#fde0ef"
            ],
            [
             0.5,
             "#f7f7f7"
            ],
            [
             0.6,
             "#e6f5d0"
            ],
            [
             0.7,
             "#b8e186"
            ],
            [
             0.8,
             "#7fbc41"
            ],
            [
             0.9,
             "#4d9221"
            ],
            [
             1,
             "#276419"
            ]
           ],
           "sequential": [
            [
             0,
             "#0d0887"
            ],
            [
             0.1111111111111111,
             "#46039f"
            ],
            [
             0.2222222222222222,
             "#7201a8"
            ],
            [
             0.3333333333333333,
             "#9c179e"
            ],
            [
             0.4444444444444444,
             "#bd3786"
            ],
            [
             0.5555555555555556,
             "#d8576b"
            ],
            [
             0.6666666666666666,
             "#ed7953"
            ],
            [
             0.7777777777777778,
             "#fb9f3a"
            ],
            [
             0.8888888888888888,
             "#fdca26"
            ],
            [
             1,
             "#f0f921"
            ]
           ],
           "sequentialminus": [
            [
             0,
             "#0d0887"
            ],
            [
             0.1111111111111111,
             "#46039f"
            ],
            [
             0.2222222222222222,
             "#7201a8"
            ],
            [
             0.3333333333333333,
             "#9c179e"
            ],
            [
             0.4444444444444444,
             "#bd3786"
            ],
            [
             0.5555555555555556,
             "#d8576b"
            ],
            [
             0.6666666666666666,
             "#ed7953"
            ],
            [
             0.7777777777777778,
             "#fb9f3a"
            ],
            [
             0.8888888888888888,
             "#fdca26"
            ],
            [
             1,
             "#f0f921"
            ]
           ]
          },
          "colorway": [
           "#636efa",
           "#EF553B",
           "#00cc96",
           "#ab63fa",
           "#FFA15A",
           "#19d3f3",
           "#FF6692",
           "#B6E880",
           "#FF97FF",
           "#FECB52"
          ],
          "font": {
           "color": "#f2f5fa"
          },
          "geo": {
           "bgcolor": "rgb(17,17,17)",
           "lakecolor": "rgb(17,17,17)",
           "landcolor": "rgb(17,17,17)",
           "showlakes": true,
           "showland": true,
           "subunitcolor": "#506784"
          },
          "hoverlabel": {
           "align": "left"
          },
          "hovermode": "closest",
          "mapbox": {
           "style": "dark"
          },
          "paper_bgcolor": "rgb(17,17,17)",
          "plot_bgcolor": "rgb(17,17,17)",
          "polar": {
           "angularaxis": {
            "gridcolor": "#506784",
            "linecolor": "#506784",
            "ticks": ""
           },
           "bgcolor": "rgb(17,17,17)",
           "radialaxis": {
            "gridcolor": "#506784",
            "linecolor": "#506784",
            "ticks": ""
           }
          },
          "scene": {
           "xaxis": {
            "backgroundcolor": "rgb(17,17,17)",
            "gridcolor": "#506784",
            "gridwidth": 2,
            "linecolor": "#506784",
            "showbackground": true,
            "ticks": "",
            "zerolinecolor": "#C8D4E3"
           },
           "yaxis": {
            "backgroundcolor": "rgb(17,17,17)",
            "gridcolor": "#506784",
            "gridwidth": 2,
            "linecolor": "#506784",
            "showbackground": true,
            "ticks": "",
            "zerolinecolor": "#C8D4E3"
           },
           "zaxis": {
            "backgroundcolor": "rgb(17,17,17)",
            "gridcolor": "#506784",
            "gridwidth": 2,
            "linecolor": "#506784",
            "showbackground": true,
            "ticks": "",
            "zerolinecolor": "#C8D4E3"
           }
          },
          "shapedefaults": {
           "line": {
            "color": "#f2f5fa"
           }
          },
          "sliderdefaults": {
           "bgcolor": "#C8D4E3",
           "bordercolor": "rgb(17,17,17)",
           "borderwidth": 1,
           "tickwidth": 0
          },
          "ternary": {
           "aaxis": {
            "gridcolor": "#506784",
            "linecolor": "#506784",
            "ticks": ""
           },
           "baxis": {
            "gridcolor": "#506784",
            "linecolor": "#506784",
            "ticks": ""
           },
           "bgcolor": "rgb(17,17,17)",
           "caxis": {
            "gridcolor": "#506784",
            "linecolor": "#506784",
            "ticks": ""
           }
          },
          "title": {
           "x": 0.05
          },
          "updatemenudefaults": {
           "bgcolor": "#506784",
           "borderwidth": 0
          },
          "xaxis": {
           "automargin": true,
           "gridcolor": "#283442",
           "linecolor": "#506784",
           "ticks": "",
           "title": {
            "standoff": 15
           },
           "zerolinecolor": "#283442",
           "zerolinewidth": 2
          },
          "yaxis": {
           "automargin": true,
           "gridcolor": "#283442",
           "linecolor": "#506784",
           "ticks": "",
           "title": {
            "standoff": 15
           },
           "zerolinecolor": "#283442",
           "zerolinewidth": 2
          }
         }
        },
        "width": 700,
        "xaxis": {
         "anchor": "y",
         "automargin": true,
         "position": 0,
         "range": [
          "2023-06-04T00:00:00",
          "2025-04-08T00:00:00"
         ],
         "type": "date"
        },
        "yaxis": {
         "autorange": true,
         "range": [
          -470.0959238523367,
          5824.295981873883
         ],
         "title": {
          "text": "Portfolio Value ($)"
         },
         "type": "linear"
        }
       }
      },
      "image/png": "[encoded data removed]",
      "text/html": [
       "<div>                            <div id=\"663d787a-8946-4bc3-97ec-2e38129442ab\" class=\"plotly-graph-div\" style=\"height:160px; width:700px;\"></div>            <script type=\"text/javascript\">                require([\"plotly\"], function(Plotly) {                    window.PLOTLYENV=window.PLOTLYENV || {};                                    if (document.getElementById(\"663d787a-8946-4bc3-97ec-2e38129442ab\")) {                    Plotly.newPlot(                        \"663d787a-8946-4bc3-97ec-2e38129442ab\",                        [{\"line\":{\"color\":\"#1abc9c\"},\"mode\":\"lines\",\"name\":\"Portfolio Value\",\"x\":[\"2023-06-04T00:00:00\",\"2023-06-05T00:00:00\",\"2023-06-06T00:00:00\",\"2023-06-07T00:00:00\",\"2023-06-08T00:00:00\",\"2023-06-09T00:00:00\",\"2023-06-10T00:00:00\",\"2023-06-11T00:00:00\",\"2023-06-12T00:00:00\",\"2023-06-13T00:00:00\",\"2023-06-14T00:00:00\",\"2023-06-15T00:00:00\",\"2023-06-16T00:00:00\",\"2023-06-17T00:00:00\",\"2023-06-18T00:00:00\",\"2023-06-19T00:00:00\",\"2023-06-20T00:00:00\",\"2023-06-21T00:00:00\",\"2023-06-22T00:00:00\",\"2023-06-23T00:00:00\",\"2023-06-24T00:00:00\",\"2023-06-25T00:00:00\",\"2023-06-26T00:00:00\",\"2023-06-27T00:00:00\",\"2023-06-28T00:00:00\",\"2023-06-29T00:00:00\",\"2023-06-30T00:00:00\",\"2023-07-01T00:00:00\",\"2023-07-02T00:00:00\",\"2023-07-03T00:00:00\",\"2023-07-04T00:00:00\",\"2023-07-05T00:00:00\",\"2023-07-06T00:00:00\",\"2023-07-07T00:00:00\",\"2023-07-08T00:00:00\",\"2023-07-09T00:00:00\",\"2023-07-10T00:00:00\",\"2023-07-11T00:00:00\",\"2023-07-12T00:00:00\",\"2023-07-13T00:00:00\",\"2023-07-14T00:00:00\",\"2023-07-15T00:00:00\",\"2023-07-16T00:00:00\",\"2023-07-17T00:00:00\",\"2023-07-18T00:00:00\",\"2023-07-19T00:00:00\",\"2023-07-20T00:00:00\",\"2023-07-21T00:00:00\",\"2023-07-22T00:00:00\",\"2023-07-23T00:00:00\",\"2023-07-24T00:00:00\",\"2023-07-25T00:00:00\",\"2023-07-26T00:00:00\",\"2023-07-27T00:00:00\",\"2023-07-28T00:00:00\",\"2023-07-29T00:00:00\",\"2023-07-30T00:00:00\",\"2023-07-31T00:00:00\",\"2023-08-01T00:00:00\",\"2023-08-02T00:00:00\",\"2023-08-03T00:00:00\",\"2023-08-04T00:00:00\",\"2023-08-05T00:00:00\",\"2023-08-06T00:00:00\",\"2023-08-07T00:00:00\",\"2023-08-08T00:00:00\",\"2023-08-09T00:00:00\",\"2023-08-10T00:00:00\",\"2023-08-11T00:00:00\",\"2023-08-12T00:00:00\",\"2023-08-13T00:00:00\",\"2023-08-14T00:00:00\",\"2023-08-15T00:00:00\",\"2023-08-16T00:00:00\",\"2023-08-17T00:00:00\",\"2023-08-18T00:00:00\",\"2023-08-19T00:00:00\",\"2023-08-20T00:00:00\",\"2023-08-21T00:00:00\",\"2023-08-22T00:00:00\",\"2023-08-23T00:00:00\",\"2023-08-24T00:00:00\",\"2023-08-25T00:00:00\",\"2023-08-26T00:00:00\",\"2023-08-27T00:00:00\",\"2023-08-28T00:00:00\",\"2023-08-29T00:00:00\",\"2023-08-30T00:00:00\",\"2023-08-31T00:00:00\",\"2023-09-01T00:00:00\",\"2023-09-02T00:00:00\",\"2023-09-03T00:00:00\",\"2023-09-04T00:00:00\",\"2023-09-05T00:00:00\",\"2023-09-06T00:00:00\",\"2023-09-07T00:00:00\",\"2023-09-08T00:00:00\",\"2023-09-09T00:00:00\",\"2023-09-10T00:00:00\",\"2023-09-11T00:00:00\",\"2023-09-12T00:00:00\",\"2023-09-13T00:00:00\",\"2023-09-14T00:00:00\",\"2023-09-15T00:00:00\",\"2023-09-16T00:00:00\",\"2023-09-17T00:00:00\",\"2023-09-18T00:00:00\",\"2023-09-19T00:00:00\",\"2023-09-20T00:00:00\",\"2023-09-21T00:00:00\",\"2023-09-22T00:00:00\",\"2023-09-23T00:00:00\",\"2023-09-24T00:00:00\",\"2023-09-25T00:00:00\",\"2023-09-26T00:00:00\",\"2023-09-27T00:00:00\",\"2023-09-28T00:00:00\",\"2023-09-29T00:00:00\",\"2023-09-30T00:00:00\",\"2023-10-01T00:00:00\",\"2023-10-02T00:00:00\",\"2023-10-03T00:00:00\",\"2023-10-04T00:00:00\",\"2023-10-05T00:00:00\",\"2023-10-06T00:00:00\",\"2023-10-07T00:00:00\",\"2023-10-08T00:00:00\",\"2023-10-09T00:00:00\",\"2023-10-10T00:00:00\",\"2023-10-11T00:00:00\",\"2023-10-12T00:00:00\",\"2023-10-13T00:00:00\",\"2023-10-14T00:00:00\",\"2023-10-15T00:00:00\",\"2023-10-16T00:00:00\",\"2023-10-17T00:00:00\",\"2023-10-18T00:00:00\",\"2023-10-19T00:00:00\",\"2023-10-20T00:00:00\",\"2023-10-21T00:00:00\",\"2023-10-22T00:00:00\",\"2023-10-23T00:00:00\",\"2023-10-24T00:00:00\",\"2023-10-25T00:00:00\",\"2023-10-26T00:00:00\",\"2023-10-27T00:00:00\",\"2023-10-28T00:00:00\",\"2023-10-29T00:00:00\",\"2023-10-30T00:00:00\",\"2023-10-31T00:00:00\",\"2023-11-01T00:00:00\",\"2023-11-02T00:00:00\",\"2023-11-03T00:00:00\",\"2023-11-04T00:00:00\",\"2023-11-05T00:00:00\",\"2023-11-06T00:00:00\",\"2023-11-07T00:00:00\",\"2023-11-08T00:00:00\",\"2023-11-09T00:00:00\",\"2023-11-10T00:00:00\",\"2023-11-11T00:00:00\",\"2023-11-12T00:00:00\",\"2023-11-13T00:00:00\",\"2023-11-14T00:00:00\",\"2023-11-15T00:00:00\",\"2023-11-16T00:00:00\",\"2023-11-17T00:00:00\",\"2023-11-18T00:00:00\",\"2023-11-19T00:00:00\",\"2023-11-20T00:00:00\",\"2023-11-21T00:00:00\",\"2023-11-22T00:00:00\",\"2023-11-23T00:00:00\",\"2023-11-24T00:00:00\",\"2023-11-25T00:00:00\",\"2023-11-26T00:00:00\",\"2023-11-27T00:00:00\",\"2023-11-28T00:00:00\",\"2023-11-29T00:00:00\",\"2023-11-30T00:00:00\",\"2023-12-01T00:00:00\",\"2023-12-02T00:00:00\",\"2023-12-03T00:00:00\",\"2023-12-04T00:00:00\",\"2023-12-05T00:00:00\",\"2023-12-06T00:00:00\",\"2023-12-07T00:00:00\",\"2023-12-08T00:00:00\",\"2023-12-09T00:00:00\",\"2023-12-10T00:00:00\",\"2023-12-11T00:00:00\",\"2023-12-12T00:00:00\",\"2023-12-13T00:00:00\",\"2023-12-14T00:00:00\",\"2023-12-15T00:00:00\",\"2023-12-16T00:00:00\",\"2023-12-17T00:00:00\",\"2023-12-18T00:00:00\",\"2023-12-19T00:00:00\",\"2023-12-20T00:00:00\",\"2023-12-21T00:00:00\",\"2023-12-22T00:00:00\",\"2023-12-23T00:00:00\",\"2023-12-24T00:00:00\",\"2023-12-25T00:00:00\",\"2023-12-26T00:00:00\",\"2023-12-27T00:00:00\",\"2023-12-28T00:00:00\",\"2023-12-29T00:00:00\",\"2023-12-30T00:00:00\",\"2023-12-31T00:00:00\",\"2024-01-01T00:00:00\",\"2024-01-02T00:00:00\",\"2024-01-03T00:00:00\",\"2024-01-04T00:00:00\",\"2024-01-05T00:00:00\",\"2024-01-06T00:00:00\",\"2024-01-07T00:00:00\",\"2024-01-08T00:00:00\",\"2024-01-09T00:00:00\",\"2024-01-10T00:00:00\",\"2024-01-11T00:00:00\",\"2024-01-12T00:00:00\",\"2024-01-13T00:00:00\",\"2024-01-14T00:00:00\",\"2024-01-15T00:00:00\",\"2024-01-16T00:00:00\",\"2024-01-17T00:00:00\",\"2024-01-18T00:00:00\",\"2024-01-19T00:00:00\",\"2024-01-20T00:00:00\",\"2024-01-21T00:00:00\",\"2024-01-22T00:00:00\",\"2024-01-23T00:00:00\",\"2024-01-24T00:00:00\",\"2024-01-25T00:00:00\",\"2024-01-26T00:00:00\",\"2024-01-27T00:00:00\",\"2024-01-28T00:00:00\",\"2024-01-29T00:00:00\",\"2024-01-30T00:00:00\",\"2024-01-31T00:00:00\",\"2024-02-01T00:00:00\",\"2024-02-02T00:00:00\",\"2024-02-03T00:00:00\",\"2024-02-04T00:00:00\",\"2024-02-05T00:00:00\",\"2024-02-06T00:00:00\",\"2024-02-07T00:00:00\",\"2024-02-08T00:00:00\",\"2024-02-09T00:00:00\",\"2024-02-10T00:00:00\",\"2024-02-11T00:00:00\",\"2024-02-12T00:00:00\",\"2024-02-13T00:00:00\",\"2024-02-14T00:00:00\",\"2024-02-15T00:00:00\",\"2024-02-16T00:00:00\",\"2024-02-17T00:00:00\",\"2024-02-18T00:00:00\",\"2024-02-19T00:00:00\",\"2024-02-20T00:00:00\",\"2024-02-21T00:00:00\",\"2024-02-22T00:00:00\",\"2024-02-23T00:00:00\",\"2024-02-24T00:00:00\",\"2024-02-25T00:00:00\",\"2024-02-26T00:00:00\",\"2024-02-27T00:00:00\",\"2024-02-28T00:00:00\",\"2024-02-29T00:00:00\",\"2024-03-01T00:00:00\",\"2024-03-02T00:00:00\",\"2024-03-03T00:00:00\",\"2024-03-04T00:00:00\",\"2024-03-05T00:00:00\",\"2024-03-06T00:00:00\",\"2024-03-07T00:00:00\",\"2024-03-08T00:00:00\",\"2024-03-09T00:00:00\",\"2024-03-10T00:00:00\",\"2024-03-11T00:00:00\",\"2024-03-12T00:00:00\",\"2024-03-13T00:00:00\",\"2024-03-14T00:00:00\",\"2024-03-15T00:00:00\",\"2024-03-16T00:00:00\",\"2024-03-17T00:00:00\",\"2024-03-18T00:00:00\",\"2024-03-19T00:00:00\",\"2024-03-20T00:00:00\",\"2024-03-21T00:00:00\",\"2024-03-22T00:00:00\",\"2024-03-23T00:00:00\",\"2024-03-24T00:00:00\",\"2024-03-25T00:00:00\",\"2024-03-26T00:00:00\",\"2024-03-27T00:00:00\",\"2024-03-28T00:00:00\",\"2024-03-29T00:00:00\",\"2024-03-30T00:00:00\",\"2024-03-31T00:00:00\",\"2024-04-01T00:00:00\",\"2024-04-02T00:00:00\",\"2024-04-03T00:00:00\",\"2024-04-04T00:00:00\",\"2024-04-05T00:00:00\",\"2024-04-06T00:00:00\",\"2024-04-07T00:00:00\",\"2024-04-08T00:00:00\",\"2024-04-09T00:00:00\",\"2024-04-10T00:00:00\",\"2024-04-11T00:00:00\",\"2024-04-12T00:00:00\",\"2024-04-13T00:00:00\",\"2024-04-14T00:00:00\",\"2024-04-15T00:00:00\",\"2024-04-16T00:00:00\",\"2024-04-17T00:00:00\",\"2024-04-18T00:00:00\",\"2024-04-19T00:00:00\",\"2024-04-20T00:00:00\",\"2024-04-21T00:00:00\",\"2024-04-22T00:00:00\",\"2024-04-23T00:00:00\",\"2024-04-24T00:00:00\",\"2024-04-25T00:00:00\",\"2024-04-26T00:00:00\",\"2024-04-27T00:00:00\",\"2024-04-28T00:00:00\",\"2024-04-29T00:00:00\",\"2024-04-30T00:00:00\",\"2024-05-01T00:00:00\",\"2024-05-02T00:00:00\",\"2024-05-03T00:00:00\",\"2024-05-04T00:00:00\",\"2024-05-05T00:00:00\",\"2024-05-06T00:00:00\",\"2024-05-07T00:00:00\",\"2024-05-08T00:00:00\",\"2024-05-09T00:00:00\",\"2024-05-10T00:00:00\",\"2024-05-11T00:00:00\",\"2024-05-12T00:00:00\",\"2024-05-13T00:00:00\",\"2024-05-14T00:00:00\",\"2024-05-15T00:00:00\",\"2024-05-16T00:00:00\",\"2024-05-17T00:00:00\",\"2024-05-18T00:00:00\",\"2024-05-19T00:00:00\",\"2024-05-20T00:00:00\",\"2024-05-21T00:00:00\",\"2024-05-22T00:00:00\",\"2024-05-23T00:00:00\",\"2024-05-24T00:00:00\",\"2024-05-25T00:00:00\",\"2024-05-26T00:00:00\",\"2024-05-27T00:00:00\",\"2024-05-28T00:00:00\",\"2024-05-29T00:00:00\",\"2024-05-30T00:00:00\",\"2024-05-31T00:00:00\",\"2024-06-01T00:00:00\",\"2024-06-02T00:00:00\",\"2024-06-03T00:00:00\",\"2024-06-04T00:00:00\",\"2024-06-05T00:00:00\",\"2024-06-06T00:00:00\",\"2024-06-07T00:00:00\",\"2024-06-08T00:00:00\",\"2024-06-09T00:00:00\",\"2024-06-10T00:00:00\",\"2024-06-11T00:00:00\",\"2024-06-12T00:00:00\",\"2024-06-13T00:00:00\",\"2024-06-14T00:00:00\",\"2024-06-15T00:00:00\",\"2024-06-16T00:00:00\",\"2024-06-17T00:00:00\",\"2024-06-18T00:00:00\",\"2024-06-19T00:00:00\",\"2024-06-20T00:00:00\",\"2024-06-21T00:00:00\",\"2024-06-22T00:00:00\",\"2024-06-23T00:00:00\",\"2024-06-24T00:00:00\",\"2024-06-25T00:00:00\",\"2024-06-26T00:00:00\",\"2024-06-27T00:00:00\",\"2024-06-28T00:00:00\",\"2024-06-29T00:00:00\",\"2024-06-30T00:00:00\",\"2024-07-01T00:00:00\",\"2024-07-02T00:00:00\",\"2024-07-03T00:00:00\",\"2024-07-04T00:00:00\",\"2024-07-05T00:00:00\",\"2024-07-06T00:00:00\",\"2024-07-07T00:00:00\",\"2024-07-08T00:00:00\",\"2024-07-09T00:00:00\",\"2024-07-10T00:00:00\",\"2024-07-11T00:00:00\",\"2024-07-12T00:00:00\",\"2024-07-13T00:00:00\",\"2024-07-14T00:00:00\",\"2024-07-15T00:00:00\",\"2024-07-16T00:00:00\",\"2024-07-17T00:00:00\",\"2024-07-18T00:00:00\",\"2024-07-19T00:00:00\",\"2024-07-20T00:00:00\",\"2024-07-21T00:00:00\",\"2024-07-22T00:00:00\",\"2024-07-23T00:00:00\",\"2024-07-24T00:00:00\",\"2024-07-25T00:00:00\",\"2024-07-26T00:00:00\",\"2024-07-27T00:00:00\",\"2024-07-28T00:00:00\",\"2024-07-29T00:00:00\",\"2024-07-30T00:00:00\",\"2024-07-31T00:00:00\",\"2024-08-01T00:00:00\",\"2024-08-02T00:00:00\",\"2024-08-03T00:00:00\",\"2024-08-04T00:00:00\",\"2024-08-05T00:00:00\",\"2024-08-06T00:00:00\",\"2024-08-07T00:00:00\",\"2024-08-08T00:00:00\",\"2024-08-09T00:00:00\",\"2024-08-10T00:00:00\",\"2024-08-11T00:00:00\",\"2024-08-12T00:00:00\",\"2024-08-13T00:00:00\",\"2024-08-14T00:00:00\",\"2024-08-15T00:00:00\",\"2024-08-16T00:00:00\",\"2024-08-17T00:00:00\",\"2024-08-18T00:00:00\",\"2024-08-19T00:00:00\",\"2024-08-20T00:00:00\",\"2024-08-21T00:00:00\",\"2024-08-22T00:00:00\",\"2024-08-23T00:00:00\",\"2024-08-24T00:00:00\",\"2024-08-25T00:00:00\",\"2024-08-26T00:00:00\",\"2024-08-27T00:00:00\",\"2024-08-28T00:00:00\",\"2024-08-29T00:00:00\",\"2024-08-30T00:00:00\",\"2024-08-31T00:00:00\",\"2024-09-01T00:00:00\",\"2024-09-02T00:00:00\",\"2024-09-03T00:00:00\",\"2024-09-04T00:00:00\",\"2024-09-05T00:00:00\",\"2024-09-06T00:00:00\",\"2024-09-07T00:00:00\",\"2024-09-08T00:00:00\",\"2024-09-09T00:00:00\",\"2024-09-10T00:00:00\",\"2024-09-11T00:00:00\",\"2024-09-12T00:00:00\",\"2024-09-13T00:00:00\",\"2024-09-14T00:00:00\",\"2024-09-15T00:00:00\",\"2024-09-16T00:00:00\",\"2024-09-17T00:00:00\",\"2024-09-18T00:00:00\",\"2024-09-19T00:00:00\",\"2024-09-20T00:00:00\",\"2024-09-21T00:00:00\",\"2024-09-22T00:00:00\",\"2024-09-23T00:00:00\",\"2024-09-24T00:00:00\",\"2024-09-25T00:00:00\",\"2024-09-26T00:00:00\",\"2024-09-27T00:00:00\",\"2024-09-28T00:00:00\",\"2024-09-29T00:00:00\",\"2024-09-30T00:00:00\",\"2024-10-01T00:00:00\",\"2024-10-02T00:00:00\",\"2024-10-03T00:00:00\",\"2024-10-04T00:00:00\",\"2024-10-05T00:00:00\",\"2024-10-06T00:00:00\",\"2024-10-07T00:00:00\",\"2024-10-08T00:00:00\",\"2024-10-09T00:00:00\",\"2024-10-10T00:00:00\",\"2024-10-11T00:00:00\",\"2024-10-12T00:00:00\",\"2024-10-13T00:00:00\",\"2024-10-14T00:00:00\",\"2024-10-15T00:00:00\",\"2024-10-16T00:00:00\",\"2024-10-17T00:00:00\",\"2024-10-18T00:00:00\",\"2024-10-19T00:00:00\",\"2024-10-20T00:00:00\",\"2024-10-21T00:00:00\",\"2024-10-22T00:00:00\",\"2024-10-23T00:00:00\",\"2024-10-24T00:00:00\",\"2024-10-25T00:00:00\",\"2024-10-26T00:00:00\",\"2024-10-27T00:00:00\",\"2024-10-28T00:00:00\",\"2024-10-29T00:00:00\",\"2024-10-30T00:00:00\",\"2024-10-31T00:00:00\",\"2024-11-01T00:00:00\",\"2024-11-02T00:00:00\",\"2024-11-03T00:00:00\",\"2024-11-04T00:00:00\",\"2024-11-05T00:00:00\",\"2024-11-06T00:00:00\",\"2024-11-07T00:00:00\",\"2024-11-08T00:00:00\",\"2024-11-09T00:00:00\",\"2024-11-10T00:00:00\",\"2024-11-11T00:00:00\",\"2024-11-12T00:00:00\",\"2024-11-13T00:00:00\",\"2024-11-14T00:00:00\",\"2024-11-15T00:00:00\",\"2024-11-16T00:00:00\",\"2024-11-17T00:00:00\",\"2024-11-18T00:00:00\",\"2024-11-19T00:00:00\",\"2024-11-20T00:00:00\",\"2024-11-21T00:00:00\",\"2024-11-22T00:00:00\",\"2024-11-23T00:00:00\",\"2024-11-24T00:00:00\",\"2024-11-25T00:00:00\",\"2024-11-26T00:00:00\",\"2024-11-27T00:00:00\",\"2024-11-28T00:00:00\",\"2024-11-29T00:00:00\",\"2024-11-30T00:00:00\",\"2024-12-01T00:00:00\",\"2024-12-02T00:00:00\",\"2024-12-03T00:00:00\",\"2024-12-04T00:00:00\",\"2024-12-05T00:00:00\",\"2024-12-06T00:00:00\",\"2024-12-07T00:00:00\",\"2024-12-08T00:00:00\",\"2024-12-09T00:00:00\",\"2024-12-10T00:00:00\",\"2024-12-11T00:00:00\",\"2024-12-12T00:00:00\",\"2024-12-13T00:00:00\",\"2024-12-14T00:00:00\",\"2024-12-15T00:00:00\",\"2024-12-16T00:00:00\",\"2024-12-17T00:00:00\",\"2024-12-18T00:00:00\",\"2024-12-19T00:00:00\",\"2024-12-20T00:00:00\",\"2024-12-21T00:00:00\",\"2024-12-22T00:00:00\",\"2024-12-23T00:00:00\",\"2024-12-24T00:00:00\",\"2024-12-25T00:00:00\",\"2024-12-26T00:00:00\",\"2024-12-27T00:00:00\",\"2024-12-28T00:00:00\",\"2024-12-29T00:00:00\",\"2024-12-30T00:00:00\",\"2024-12-31T00:00:00\",\"2025-01-01T00:00:00\",\"2025-01-02T00:00:00\",\"2025-01-03T00:00:00\",\"2025-01-04T00:00:00\",\"2025-01-05T00:00:00\",\"2025-01-06T00:00:00\",\"2025-01-07T00:00:00\",\"2025-01-08T00:00:00\",\"2025-01-09T00:00:00\",\"2025-01-10T00:00:00\",\"2025-01-11T00:00:00\",\"2025-01-12T00:00:00\",\"2025-01-13T00:00:00\",\"2025-01-14T00:00:00\",\"2025-01-15T00:00:00\",\"2025-01-16T00:00:00\",\"2025-01-17T00:00:00\",\"2025-01-18T00:00:00\",\"2025-01-19T00:00:00\",\"2025-01-20T00:00:00\",\"2025-01-21T00:00:00\",\"2025-01-22T00:00:00\",\"2025-01-23T00:00:00\",\"2025-01-24T00:00:00\",\"2025-01-25T00:00:00\",\"2025-01-26T00:00:00\",\"2025-01-27T00:00:00\",\"2025-01-28T00:00:00\",\"2025-01-29T00:00:00\",\"2025-01-30T00:00:00\",\"2025-01-31T00:00:00\",\"2025-02-01T00:00:00\",\"2025-02-02T00:00:00\",\"2025-02-03T00:00:00\",\"2025-02-04T00:00:00\",\"2025-02-05T00:00:00\",\"2025-02-06T00:00:00\",\"2025-02-07T00:00:00\",\"2025-02-08T00:00:00\",\"2025-02-09T00:00:00\",\"2025-02-10T00:00:00\",\"2025-02-11T00:00:00\",\"2025-02-12T00:00:00\",\"2025-02-13T00:00:00\",\"2025-02-14T00:00:00\",\"2025-02-15T00:00:00\",\"2025-02-16T00:00:00\",\"2025-02-17T00:00:00\",\"2025-02-18T00:00:00\",\"2025-02-19T00:00:00\",\"2025-02-20T00:00:00\",\"2025-02-21T00:00:00\",\"2025-02-22T00:00:00\",\"2025-02-23T00:00:00\",\"2025-02-24T00:00:00\",\"2025-02-25T00:00:00\",\"2025-02-26T00:00:00\",\"2025-02-27T00:00:00\",\"2025-02-28T00:00:00\",\"2025-03-01T00:00:00\",\"2025-03-02T00:00:00\",\"2025-03-03T00:00:00\",\"2025-03-04T00:00:00\",\"2025-03-05T00:00:00\",\"2025-03-06T00:00:00\",\"2025-03-07T00:00:00\",\"2025-03-08T00:00:00\",\"2025-03-09T00:00:00\",\"2025-03-10T00:00:00\",\"2025-03-11T00:00:00\",\"2025-03-12T00:00:00\",\"2025-03-13T00:00:00\",\"2025-03-14T00:00:00\",\"2025-03-15T00:00:00\",\"2025-03-16T00:00:00\",\"2025-03-17T00:00:00\",\"2025-03-18T00:00:00\",\"2025-03-19T00:00:00\",\"2025-03-20T00:00:00\",\"2025-03-21T00:00:00\",\"2025-03-22T00:00:00\",\"2025-03-23T00:00:00\",\"2025-03-24T00:00:00\",\"2025-03-25T00:00:00\",\"2025-03-26T00:00:00\",\"2025-03-27T00:00:00\",\"2025-03-28T00:00:00\",\"2025-03-29T00:00:00\",\"2025-03-30T00:00:00\",\"2025-03-31T00:00:00\",\"2025-04-01T00:00:00\",\"2025-04-02T00:00:00\",\"2025-04-03T00:00:00\",\"2025-04-04T00:00:00\",\"2025-04-05T00:00:00\",\"2025-04-06T00:00:00\",\"2025-04-07T00:00:00\",\"2025-04-08T00:00:00\"],\"y\":[6.8900008392333945,6.8900008392333945,6.8900008392333945,6.8900008392333945,6.8900008392333945,106.8900008392334,106.8900008392334,106.8900008392334,106.8900008392334,106.8900008392334,106.8900008392334,106.8900008392334,106.8900008392334,100.51000141143797,100.51000141143797,100.51000141143797,100.51000141143797,150.51000141143797,150.51000141143797,300.510001411438,300.510001411438,300.510001411438,329.88000064849854,329.14000061035154,329.14000061035154,329.14000061035154,329.14000061035154,329.14000061035154,329.14000061035154,329.14000061035154,329.14000061035154,329.14000061035154,329.14000061035154,329.14000061035154,329.14000061035154,329.14000061035154,329.14000061035154,329.14000061035154,456.2400032806396,456.2400032806396,556.2400032806396,556.2400032806396,556.2400032806396,556.2400032806396,556.2400032806396,706.2400032806396,706.2400032806396,706.2400032806396,718.5200032043457,718.5200032043457,718.5200032043457,718.5200032043457,718.5200032043457,718.5200032043457,718.5200032043457,718.5200032043457,718.5200032043457,718.5200032043457,718.5200032043457,718.5200032043457,718.5200032043457,718.5200032043457,718.5200032043457,718.5200032043457,718.5200032043457,718.5200032043457,718.5200032043457,718.5200032043457,718.5200032043457,711.0800046539306,711.0800046539306,711.0800046539306,761.0800046539306,761.0800046539306,761.0800046539306,761.0800046539306,761.0800046539306,761.0800046539306,761.0800046539306,761.0800046539306,764.7100046539306,764.7100046539306,934.7100046539306,934.7100046539306,934.7100046539306,934.7100046539306,934.7100046539306,934.7100046539306,934.7100046539306,934.7100046539306,934.7100046539306,934.7100046539306,934.7100046539306,934.7100046539306,983.7200015258786,983.7200015258786,1158.7200015258786,1158.7200015258786,1158.7200015258786,1158.7200015258786,1158.7200015258786,1158.7200015258786,1158.7200015258786,1152.4400019836426,1152.4400019836426,1152.4400019836426,1152.4400019836426,1207.4400019836426,1207.4400019836426,1207.4400019836426,1207.4400019836426,1175.640002593994,1175.640002593994,1175.640002593994,1275.640002593994,1275.640002593994,1275.640002593994,1275.640002593994,1275.640002593994,1275.640002593994,1275.640002593994,1275.640002593994,1275.640002593994,1275.640002593994,1275.640002593994,1275.640002593994,1275.640002593994,1275.640002593994,1275.640002593994,1275.640002593994,1275.640002593994,1275.640002593994,1275.640002593994,1275.640002593994,1275.640002593994,1275.640002593994,1275.640002593994,1275.640002593994,1425.640002593994,1425.640002593994,1425.640002593994,1425.640002593994,1425.640002593994,1425.640002593994,1425.640002593994,1425.640002593994,1425.640002593994,1425.640002593994,1425.640002593994,1425.640002593994,1429.4100021362303,1429.4100021362303,1429.4100021362303,1429.4100021362303,1429.4100021362303,1429.4100021362303,1429.4100021362303,1429.4100021362303,1429.4100021362303,1434.3700019073485,1434.3700019073485,1434.3700019073485,1434.3700019073485,1434.3700019073485,1434.3700019073485,1434.3700019073485,1434.3700019073485,1434.3700019073485,1434.3700019073485,1434.3700019073485,1434.3700019073485,1434.3700019073485,1434.3700019073485,1434.3700019073485,1434.3700019073485,1434.3700019073485,1434.3700019073485,1434.3700019073485,1434.3700019073485,1434.3700019073485,1434.3700019073485,1434.3700019073485,1434.3700019073485,1434.3700019073485,1434.3700019073485,1434.3700019073485,1434.3700019073485,1434.3700019073485,1434.3700019073485,1434.3700019073485,1434.3700019073485,1434.3700019073485,1434.3700019073485,1434.3700019073485,1434.3700019073485,1434.3700019073485,1434.3700019073485,1434.3700019073485,1434.3700019073485,1434.3700019073485,1434.3700019073485,1434.3700019073485,1434.3700019073485,1434.3700019073485,1434.3700019073485,1434.3700019073485,1434.3700019073485,1434.3700019073485,1434.3700019073485,1434.3700019073485,1434.3700019073485,1434.3700019073485,1434.3700019073485,1434.3700019073485,1434.3700019073485,1434.3700019073485,1434.3700019073485,1434.3700019073485,1434.3700019073485,1434.3700019073485,1434.3700019073485,1434.3700019073485,1434.3700019073485,1434.3700019073485,1434.3700019073485,1434.3700019073485,1434.3700019073485,1434.3700019073485,1434.3700019073485,1434.3700019073485,1434.3700019073485,1434.3700019073485,1434.3700019073485,1434.3700019073485,1434.3700019073485,1434.3700019073485,1434.3700019073485,1434.3700019073485,1434.3700019073485,1434.3700019073485,1434.3700019073485,1434.3700019073485,1434.3700019073485,1434.3700019073485,1434.3700019073485,1434.3700019073485,1434.3700019073485,1434.3700019073485,1439.5500018310547,1439.5500018310547,1439.5500018310547,1439.5500018310547,1439.5500018310547,1439.5500018310547,1439.5500018310547,1439.5500018310547,1439.5500018310547,1439.5500018310547,1439.5500018310547,1439.5500018310547,1439.5500018310547,1439.5500018310547,1439.5500018310547,1439.5500018310547,1439.5500018310547,1439.5500018310547,1439.5500018310547,1439.5500018310547,1439.5500018310547,1439.5500018310547,1439.5500018310547,1439.5500018310547,1439.5500018310547,1439.5500018310547,1439.5500018310547,1439.5500018310547,1439.5500018310547,1439.5500018310547,1439.5500018310547,1439.5500018310547,1439.5500018310547,1439.5500018310547,1439.5500018310547,1439.5500018310547,1439.5500018310547,1439.5500018310547,1439.5500018310547,1439.5500018310547,1439.5500018310547,1439.5500018310547,1439.5500018310547,1439.5500018310547,1439.5500018310547,1439.5500018310547,1439.5500018310547,1439.5500018310547,1439.5500018310547,1439.5500018310547,1439.5500018310547,1439.5500018310547,1439.5500018310547,1439.5500018310547,1439.5500018310547,1439.5500018310547,1439.5500018310547,1439.5500018310547,1439.5500018310547,1439.5500018310547,1439.5500018310547,1439.5500018310547,1439.5500018310547,1439.5500018310547,1439.5500018310547,1439.5500018310547,1439.5500018310547,1439.5500018310547,1439.5500018310547,1439.5500018310547,1439.5500018310547,1439.5500018310547,1439.5500018310547,1439.5500018310547,1439.5500018310547,1439.5500018310547,1439.5500018310547,1439.5500018310547,1439.5500018310547,1439.5500018310547,1439.5500018310547,1439.5500018310547,1439.5500018310547,1439.5500018310547,1439.5500018310547,1439.5500018310547,1439.5500018310547,1439.5500018310547,1439.5500018310547,1439.5500018310547,1439.5500018310547,1439.5500018310547,1439.5500018310547,1439.5500018310547,1439.5500018310547,1439.5500018310547,1439.5500018310547,1439.5500018310547,1439.5500018310547,1439.5500018310547,1439.5500018310547,1439.5500018310547,1439.5500018310547,1439.5500018310547,1439.5500018310547,1439.5500018310547,1439.5500018310547,1439.5500018310547,1439.5500018310547,1439.5500018310547,1439.5500018310547,1439.5500018310547,1439.5500018310547,1439.5500018310547,1439.5500018310547,1439.5500018310547,1439.5500018310547,1439.5500018310547,1439.5500018310547,1439.5500018310547,1439.5500018310547,1439.5500018310547,1439.5500018310547,1439.5500018310547,1439.5500018310547,1439.5500018310547,1439.5500018310547,1439.5500018310547,1439.5500018310547,1439.5500018310547,1439.5500018310547,1439.5500018310547,1439.5500018310547,1439.5500018310547,1439.5500018310547,1439.5500018310547,1439.5500018310547,1439.5500018310547,1539.5500018310547,1539.5500018310547,1539.5500018310547,1539.5500018310547,1539.5500018310547,1539.5500018310547,1539.5500018310547,1539.5500018310547,1539.5500018310547,1539.5500018310547,1539.5500018310547,1539.5500018310547,1539.5500018310547,1539.5500018310547,1539.5500018310547,1539.5500018310547,1539.5500018310547,1539.5500018310547,1539.5500018310547,1539.5500018310547,1539.5500018310547,1539.5500018310547,1539.5500018310547,1539.5500018310547,1539.5500018310547,1539.5500018310547,1539.5500018310547,1539.5500018310547,1539.5500018310547,1539.5500018310547,1539.5500018310547,1539.5500018310547,1539.5500018310547,1539.5500018310547,1539.5500018310547,1539.5500018310547,1539.5500018310547,1539.5500018310547,1539.5500018310547,1539.5500018310547,1539.5500018310547,1539.5500018310547,1539.5500018310547,1539.5500018310547,1539.5500018310547,1539.5500018310547,1539.5500018310547,1539.5500018310547,1539.5500018310547,1539.5500018310547,1639.5500018310547,1639.5500018310547,1639.5500018310547,1639.5500018310547,1639.5500018310547,1639.5500018310547,1639.5500018310547,1639.5500018310547,1639.5500018310547,1639.5500018310547,1639.5500018310547,1639.5500018310547,1639.5500018310547,1639.5500018310547,1639.5500018310547,1639.5500018310547,1639.5500018310547,1639.5500018310547,1639.5500018310547,1639.5500018310547,1639.5500018310547,1639.5500018310547,1639.5500018310547,1639.5500018310547,1639.5500018310547,1639.5500018310547,1639.5500018310547,1639.5500018310547,1739.5500018310547,1739.5500018310547,1739.5500018310547,1739.5500018310547,1739.5500018310547,1739.5500018310547,1739.5500018310547,1739.5500018310547,1739.5500018310547,1739.5500018310547,1739.5500018310547,1739.5500018310547,1739.5500018310547,1739.5500018310547,1739.5500018310547,1739.5500018310547,1739.5500018310547,1739.5500018310547,1739.5500018310547,1739.5500018310547,1739.5500018310547,1739.5500018310547,1739.5500018310547,1739.5500018310547,1739.5500018310547,1739.5500018310547,1739.5500018310547,1739.5500018310547,1739.5500018310547,1739.5500018310547,1739.5500018310547,1739.5500018310547,1739.5500018310547,1739.5500018310547,1739.5500018310547,1739.5500018310547,1739.5500018310547,1739.5500018310547,1739.5500018310547,1681.9900076293945,1681.9900076293945,1681.9900076293945,1781.9900076293945,1781.9900076293945,1781.9900076293945,1781.9900076293945,1781.9900076293945,1781.9900076293945,1781.9900076293945,1781.9900076293945,1781.9900076293945,1781.9900076293945,1781.9900076293945,1781.9900076293945,1782.130005493164,1782.130005493164,1882.130005493164,1882.130005493164,1882.130005493164,1882.130005493164,1882.130005493164,1882.130005493164,1882.130005493164,1882.130005493164,1882.130005493164,1882.130005493164,1882.130005493164,1868.9300045394898,1868.9300045394898,1868.9300045394898,2018.9300045394898,2018.9300045394898,2018.9300045394898,2018.9300045394898,2018.9300045394898,2018.9300045394898,2018.9300045394898,2018.9300045394898,1981.3000066757202,1981.3000066757202,1981.3000066757202,1981.3000066757202,1981.3000066757202,2281.6300024032594,2481.6300024032594,2481.6300024032594,2481.6300024032594,2481.6300024032594,2481.6300024032594,2481.6300024032594,2481.6300024032594,2481.6300024032594,2453.040005264282,2453.040005264282,2853.040005264282,2853.040005264282,2853.040005264282,2853.040005264282,2853.040005264282,2853.040005264282,2853.040005264282,2853.040005264282,2853.040005264282,2853.040005264282,2853.040005264282,2853.040005264282,2853.040005264282,2853.040005264282,2853.040005264282,2853.040005264282,2853.040005264282,2863.8000284576415,2863.8000284576415,2863.8000284576415,2863.8000284576415,2863.8000284576415,2863.8000284576415,2863.8000284576415,2863.8000284576415,2863.8000284576415,2863.8000284576415,2863.8000284576415,2863.8000284576415,2829.3300302505495,2829.3300302505495,2829.3300302505495,3329.3300302505495,3329.3300302505495,3329.3300302505495,3329.3300302505495,3329.3300302505495,3329.3300302505495,3329.3300302505495,3329.3300302505495,3318.700034675598,3318.700034675598,3718.700034675598,3718.700034675598,3718.700034675598,3718.700034675598,3718.700034675598,3718.700034675598,3718.700034675598,3718.700034675598,3718.700034675598,3718.700034675598,3718.700034675598,3718.700034675598,3718.700034675598,3718.700034675598,3718.700034675598,3646.22004070282,3646.22004070282,3646.22004070282,4146.2200407028195,4146.2200407028195,4146.2200407028195,4146.2200407028195,4146.2200407028195,4146.2200407028195,4146.2200407028195,4146.2200407028195,4146.2200407028195,4146.2200407028195,4146.2200407028195,4146.2200407028195,4146.2200407028195,4146.2200407028195,4146.2200407028195,4146.2200407028195,4146.2200407028195,4146.2200407028195,4146.2200407028195,4146.2200407028195,4146.2200407028195,4146.2200407028195,4146.2200407028195,4346.2200407028195,4346.2200407028195,4346.2200407028195,4346.2200407028195,4546.2200407028195,4546.2200407028195,4546.2200407028195,4546.2200407028195,4546.2200407028195,4546.2200407028195,4546.2200407028195,4546.2200407028195,4546.2200407028195,4546.2200407028195,4546.2200407028195,4546.2200407028195,4546.2200407028195,4546.2200407028195,4546.2200407028195,4746.2200407028195,4746.2200407028195,4746.2200407028195,4746.2200407028195,4744.530049858094,4744.530049858094,4744.530049858094,4744.530049858094,4744.530049858094,4744.530049858094,4744.530049858094,4744.530049858094,4747.310057182312,4747.310057182312,5247.310057182312],\"type\":\"scatter\"},{\"marker\":{\"color\":\"grey\",\"size\":8,\"symbol\":\"x\"},\"mode\":\"markers\",\"name\":\"Deposit\",\"x\":[\"2023-06-09T00:00:00\",\"2023-06-21T00:00:00\",\"2023-06-23T00:00:00\",\"2023-07-14T00:00:00\",\"2023-07-19T00:00:00\",\"2023-08-15T00:00:00\",\"2023-08-25T00:00:00\",\"2023-09-08T00:00:00\",\"2023-09-19T00:00:00\",\"2023-09-26T00:00:00\",\"2023-10-20T00:00:00\",\"2024-06-24T00:00:00\",\"2024-08-13T00:00:00\",\"2024-09-10T00:00:00\",\"2024-10-22T00:00:00\",\"2024-11-05T00:00:00\",\"2024-11-19T00:00:00\",\"2024-12-02T00:00:00\",\"2024-12-03T00:00:00\",\"2024-12-13T00:00:00\",\"2025-01-14T00:00:00\",\"2025-01-24T00:00:00\",\"2025-02-11T00:00:00\",\"2025-03-06T00:00:00\",\"2025-03-10T00:00:00\",\"2025-03-25T00:00:00\",\"2025-04-08T00:00:00\"],\"y\":[106.8900008392334,150.51000141143797,300.510001411438,556.2400032806396,706.2400032806396,761.0800046539306,934.7100046539306,1158.7200015258786,1207.4400019836426,1275.640002593994,1425.640002593994,1539.5500018310547,1639.5500018310547,1739.5500018310547,1781.9900076293945,1882.130005493164,2018.9300045394898,2281.6300024032594,2481.6300024032594,2853.040005264282,3329.3300302505495,3718.700034675598,4146.2200407028195,4346.2200407028195,4546.2200407028195,4746.2200407028195,5247.310057182312],\"type\":\"scatter\"}],                        {\"template\":{\"data\":{\"barpolar\":[{\"marker\":{\"line\":{\"color\":\"rgb(17,17,17)\",\"width\":0.5},\"pattern\":{\"fillmode\":\"overlay\",\"size\":10,\"solidity\":0.2}},\"type\":\"barpolar\"}],\"bar\":[{\"error_x\":{\"color\":\"#f2f5fa\"},\"error_y\":{\"color\":\"#f2f5fa\"},\"marker\":{\"line\":{\"color\":\"rgb(17,17,17)\",\"width\":0.5},\"pattern\":{\"fillmode\":\"overlay\",\"size\":10,\"solidity\":0.2}},\"type\":\"bar\"}],\"carpet\":[{\"aaxis\":{\"endlinecolor\":\"#A2B1C6\",\"gridcolor\":\"#506784\",\"linecolor\":\"#506784\",\"minorgridcolor\":\"#506784\",\"startlinecolor\":\"#A2B1C6\"},\"baxis\":{\"endlinecolor\":\"#A2B1C6\",\"gridcolor\":\"#506784\",\"linecolor\":\"#506784\",\"minorgridcolor\":\"#506784\",\"startlinecolor\":\"#A2B1C6\"},\"type\":\"carpet\"}],\"choropleth\":[{\"colorbar\":{\"outlinewidth\":0,\"ticks\":\"\"},\"type\":\"choropleth\"}],\"contourcarpet\":[{\"colorbar\":{\"outlinewidth\":0,\"ticks\":\"\"},\"type\":\"contourcarpet\"}],\"contour\":[{\"colorbar\":{\"outlinewidth\":0,\"ticks\":\"\"},\"colorscale\":[[0.0,\"#0d0887\"],[0.1111111111111111,\"#46039f\"],[0.2222222222222222,\"#7201a8\"],[0.3333333333333333,\"#9c179e\"],[0.4444444444444444,\"#bd3786\"],[0.5555555555555556,\"#d8576b\"],[0.6666666666666666,\"#ed7953\"],[0.7777777777777778,\"#fb9f3a\"],[0.8888888888888888,\"#fdca26\"],[1.0,\"#f0f921\"]],\"type\":\"contour\"}],\"heatmapgl\":[{\"colorbar\":{\"outlinewidth\":0,\"ticks\":\"\"},\"colorscale\":[[0.0,\"#0d0887\"],[0.1111111111111111,\"#46039f\"],[0.2222222222222222,\"#7201a8\"],[0.3333333333333333,\"#9c179e\"],[0.4444444444444444,\"#bd3786\"],[0.5555555555555556,\"#d8576b\"],[0.6666666666666666,\"#ed7953\"],[0.7777777777777778,\"#fb9f3a\"],[0.8888888888888888,\"#fdca26\"],[1.0,\"#f0f921\"]],\"type\":\"heatmapgl\"}],\"heatmap\":[{\"colorbar\":{\"outlinewidth\":0,\"ticks\":\"\"},\"colorscale\":[[0.0,\"#0d0887\"],[0.1111111111111111,\"#46039f\"],[0.2222222222222222,\"#7201a8\"],[0.3333333333333333,\"#9c179e\"],[0.4444444444444444,\"#bd3786\"],[0.5555555555555556,\"#d8576b\"],[0.6666666666666666,\"#ed7953\"],[0.7777777777777778,\"#fb9f3a\"],[0.8888888888888888,\"#fdca26\"],[1.0,\"#f0f921\"]],\"type\":\"heatmap\"}],\"histogram2dcontour\":[{\"colorbar\":{\"outlinewidth\":0,\"ticks\":\"\"},\"colorscale\":[[0.0,\"#0d0887\"],[0.1111111111111111,\"#46039f\"],[0.2222222222222222,\"#7201a8\"],[0.3333333333333333,\"#9c179e\"],[0.4444444444444444,\"#bd3786\"],[0.5555555555555556,\"#d8576b\"],[0.6666666666666666,\"#ed7953\"],[0.7777777777777778,\"#fb9f3a\"],[0.8888888888888888,\"#fdca26\"],[1.0,\"#f0f921\"]],\"type\":\"histogram2dcontour\"}],\"histogram2d\":[{\"colorbar\":{\"outlinewidth\":0,\"ticks\":\"\"},\"colorscale\":[[0.0,\"#0d0887\"],[0.1111111111111111,\"#46039f\"],[0.2222222222222222,\"#7201a8\"],[0.3333333333333333,\"#9c179e\"],[0.4444444444444444,\"#bd3786\"],[0.5555555555555556,\"#d8576b\"],[0.6666666666666666,\"#ed7953\"],[0.7777777777777778,\"#fb9f3a\"],[0.8888888888888888,\"#fdca26\"],[1.0,\"#f0f921\"]],\"type\":\"histogram2d\"}],\"histogram\":[{\"marker\":{\"pattern\":{\"fillmode\":\"overlay\",\"size\":10,\"solidity\":0.2}},\"type\":\"histogram\"}],\"mesh3d\":[{\"colorbar\":{\"outlinewidth\":0,\"ticks\":\"\"},\"type\":\"mesh3d\"}],\"parcoords\":[{\"line\":{\"colorbar\":{\"outlinewidth\":0,\"ticks\":\"\"}},\"type\":\"parcoords\"}],\"pie\":[{\"automargin\":true,\"type\":\"pie\"}],\"scatter3d\":[{\"line\":{\"colorbar\":{\"outlinewidth\":0,\"ticks\":\"\"}},\"marker\":{\"colorbar\":{\"outlinewidth\":0,\"ticks\":\"\"}},\"type\":\"scatter3d\"}],\"scattercarpet\":[{\"marker\":{\"colorbar\":{\"outlinewidth\":0,\"ticks\":\"\"}},\"type\":\"scattercarpet\"}],\"scattergeo\":[{\"marker\":{\"colorbar\":{\"outlinewidth\":0,\"ticks\":\"\"}},\"type\":\"scattergeo\"}],\"scattergl\":[{\"marker\":{\"line\":{\"color\":\"#283442\"}},\"type\":\"scattergl\"}],\"scattermapbox\":[{\"marker\":{\"colorbar\":{\"outlinewidth\":0,\"ticks\":\"\"}},\"type\":\"scattermapbox\"}],\"scatterpolargl\":[{\"marker\":{\"colorbar\":{\"outlinewidth\":0,\"ticks\":\"\"}},\"type\":\"scatterpolargl\"}],\"scatterpolar\":[{\"marker\":{\"colorbar\":{\"outlinewidth\":0,\"ticks\":\"\"}},\"type\":\"scatterpolar\"}],\"scatter\":[{\"marker\":{\"line\":{\"color\":\"#283442\"}},\"type\":\"scatter\"}],\"scatterternary\":[{\"marker\":{\"colorbar\":{\"outlinewidth\":0,\"ticks\":\"\"}},\"type\":\"scatterternary\"}],\"surface\":[{\"colorbar\":{\"outlinewidth\":0,\"ticks\":\"\"},\"colorscale\":[[0.0,\"#0d0887\"],[0.1111111111111111,\"#46039f\"],[0.2222222222222222,\"#7201a8\"],[0.3333333333333333,\"#9c179e\"],[0.4444444444444444,\"#bd3786\"],[0.5555555555555556,\"#d8576b\"],[0.6666666666666666,\"#ed7953\"],[0.7777777777777778,\"#fb9f3a\"],[0.8888888888888888,\"#fdca26\"],[1.0,\"#f0f921\"]],\"type\":\"surface\"}],\"table\":[{\"cells\":{\"fill\":{\"color\":\"#506784\"},\"line\":{\"color\":\"rgb(17,17,17)\"}},\"header\":{\"fill\":{\"color\":\"#2a3f5f\"},\"line\":{\"color\":\"rgb(17,17,17)\"}},\"type\":\"table\"}]},\"layout\":{\"annotationdefaults\":{\"arrowcolor\":\"#f2f5fa\",\"arrowhead\":0,\"arrowwidth\":1},\"autotypenumbers\":\"strict\",\"coloraxis\":{\"colorbar\":{\"outlinewidth\":0,\"ticks\":\"\"}},\"colorscale\":{\"diverging\":[[0,\"#8e0152\"],[0.1,\"#c51b7d\"],[0.2,\"#de77ae\"],[0.3,\"#f1b6da\"],[0.4,\"#fde0ef\"],[0.5,\"#f7f7f7\"],[0.6,\"#e6f5d0\"],[0.7,\"#b8e186\"],[0.8,\"#7fbc41\"],[0.9,\"#4d9221\"],[1,\"#276419\"]],\"sequential\":[[0.0,\"#0d0887\"],[0.1111111111111111,\"#46039f\"],[0.2222222222222222,\"#7201a8\"],[0.3333333333333333,\"#9c179e\"],[0.4444444444444444,\"#bd3786\"],[0.5555555555555556,\"#d8576b\"],[0.6666666666666666,\"#ed7953\"],[0.7777777777777778,\"#fb9f3a\"],[0.8888888888888888,\"#fdca26\"],[1.0,\"#f0f921\"]],\"sequentialminus\":[[0.0,\"#0d0887\"],[0.1111111111111111,\"#46039f\"],[0.2222222222222222,\"#7201a8\"],[0.3333333333333333,\"#9c179e\"],[0.4444444444444444,\"#bd3786\"],[0.5555555555555556,\"#d8576b\"],[0.6666666666666666,\"#ed7953\"],[0.7777777777777778,\"#fb9f3a\"],[0.8888888888888888,\"#fdca26\"],[1.0,\"#f0f921\"]]},\"colorway\":[\"#636efa\",\"#EF553B\",\"#00cc96\",\"#ab63fa\",\"#FFA15A\",\"#19d3f3\",\"#FF6692\",\"#B6E880\",\"#FF97FF\",\"#FECB52\"],\"font\":{\"color\":\"#f2f5fa\"},\"geo\":{\"bgcolor\":\"rgb(17,17,17)\",\"lakecolor\":\"rgb(17,17,17)\",\"landcolor\":\"rgb(17,17,17)\",\"showlakes\":true,\"showland\":true,\"subunitcolor\":\"#506784\"},\"hoverlabel\":{\"align\":\"left\"},\"hovermode\":\"closest\",\"mapbox\":{\"style\":\"dark\"},\"paper_bgcolor\":\"rgb(17,17,17)\",\"plot_bgcolor\":\"rgb(17,17,17)\",\"polar\":{\"angularaxis\":{\"gridcolor\":\"#506784\",\"linecolor\":\"#506784\",\"ticks\":\"\"},\"bgcolor\":\"rgb(17,17,17)\",\"radialaxis\":{\"gridcolor\":\"#506784\",\"linecolor\":\"#506784\",\"ticks\":\"\"}},\"scene\":{\"xaxis\":{\"backgroundcolor\":\"rgb(17,17,17)\",\"gridcolor\":\"#506784\",\"gridwidth\":2,\"linecolor\":\"#506784\",\"showbackground\":true,\"ticks\":\"\",\"zerolinecolor\":\"#C8D4E3\"},\"yaxis\":{\"backgroundcolor\":\"rgb(17,17,17)\",\"gridcolor\":\"#506784\",\"gridwidth\":2,\"linecolor\":\"#506784\",\"showbackground\":true,\"ticks\":\"\",\"zerolinecolor\":\"#C8D4E3\"},\"zaxis\":{\"backgroundcolor\":\"rgb(17,17,17)\",\"gridcolor\":\"#506784\",\"gridwidth\":2,\"linecolor\":\"#506784\",\"showbackground\":true,\"ticks\":\"\",\"zerolinecolor\":\"#C8D4E3\"}},\"shapedefaults\":{\"line\":{\"color\":\"#f2f5fa\"}},\"sliderdefaults\":{\"bgcolor\":\"#C8D4E3\",\"bordercolor\":\"rgb(17,17,17)\",\"borderwidth\":1,\"tickwidth\":0},\"ternary\":{\"aaxis\":{\"gridcolor\":\"#506784\",\"linecolor\":\"#506784\",\"ticks\":\"\"},\"baxis\":{\"gridcolor\":\"#506784\",\"linecolor\":\"#506784\",\"ticks\":\"\"},\"bgcolor\":\"rgb(17,17,17)\",\"caxis\":{\"gridcolor\":\"#506784\",\"linecolor\":\"#506784\",\"ticks\":\"\"}},\"title\":{\"x\":0.05},\"updatemenudefaults\":{\"bgcolor\":\"#506784\",\"borderwidth\":0},\"xaxis\":{\"automargin\":true,\"gridcolor\":\"#283442\",\"linecolor\":\"#506784\",\"ticks\":\"\",\"title\":{\"standoff\":15},\"zerolinecolor\":\"#283442\",\"zerolinewidth\":2},\"yaxis\":{\"automargin\":true,\"gridcolor\":\"#283442\",\"linecolor\":\"#506784\",\"ticks\":\"\",\"title\":{\"standoff\":15},\"zerolinecolor\":\"#283442\",\"zerolinewidth\":2}}},\"xaxis\":{\"range\":[\"2023-06-04T00:00:00\",\"2025-04-08T00:00:00\"],\"anchor\":\"y\",\"position\":0,\"automargin\":true},\"font\":{\"color\":\"#1abc9c\"},\"margin\":{\"l\":0,\"r\":20,\"t\":20,\"b\":20},\"width\":700,\"height\":160,\"yaxis\":{\"title\":{\"text\":\"Portfolio Value ($)\"}},\"paper_bgcolor\":\"#1e1e1e\",\"plot_bgcolor\":\"#1e1e1e\",\"showlegend\":false},                        {\"responsive\": true}                    ).then(function(){\n",
       "                            \n",
       "var gd = document.getElementById('663d787a-8946-4bc3-97ec-2e38129442ab');\n",
       "var x = new MutationObserver(function (mutations, observer) {{\n",
       "        var display = window.getComputedStyle(gd).display;\n",
       "        if (!display || display === 'none') {{\n",
       "            console.log([gd, 'removed!']);\n",
       "            Plotly.purge(gd);\n",
       "            observer.disconnect();\n",
       "        }}\n",
       "}});\n",
       "\n",
       "// Listen for the removal of the full notebook cells\n",
       "var notebookContainer = gd.closest('#notebook-container');\n",
       "if (notebookContainer) {{\n",
       "    x.observe(notebookContainer, {childList: true});\n",
       "}}\n",
       "\n",
       "// Listen for the clearing of the current output cell\n",
       "var outputEl = gd.closest('.output');\n",
       "if (outputEl) {{\n",
       "    x.observe(outputEl, {childList: true});\n",
       "}}\n",
       "\n",
       "                        })                };                });            </script>        </div>"
      ]
     },
     "metadata": {},
     "output_type": "display_data"
    }
   ],
   "source": [
    "\n",
    "\n",
    "# --- 1. Prepare Daily Data ---\n",
    "\n",
    "# Ensure the Date column is datetime and sort transactions\n",
    "transactions['Date'] = pd.to_datetime(transactions['Date'])\n",
    "transactions = transactions.sort_values('Date').reset_index(drop=True)\n",
    "\n",
    "# Make sure each symbol’s DataFrame index is datetime\n",
    "for symbol, df in symbol_dataframes.items():\n",
    "    symbol_dataframes[symbol].index = pd.to_datetime(df.index)\n",
    "\n",
    "# Define simulation start and end dates.\n",
    "start_date = transactions['Date'].min()\n",
    "max_market_date = max(df.index.max() for df in symbol_dataframes.values())\n",
    "end_date = max(transactions['Date'].max(), max_market_date)\n",
    "all_dates = pd.date_range(start=start_date, end=end_date, freq='D')\n",
    "\n",
    "# Reindex each symbol’s DataFrame to daily frequency (forward–fill missing data)\n",
    "daily_symbol_prices = {}\n",
    "for symbol, df in symbol_dataframes.items():\n",
    "    df = df.sort_index()\n",
    "    df_daily = df.reindex(all_dates, method='ffill')\n",
    "    daily_symbol_prices[symbol] = df_daily\n",
    "\n",
    "# --- 2. Daily Portfolio Simulation ---\n",
    "\n",
    "# Prepare a DataFrame to hold the daily simulation results.\n",
    "daily_sim = pd.DataFrame(index=all_dates)\n",
    "daily_sim['Cash'] = np.nan\n",
    "daily_sim['MarketValue'] = np.nan\n",
    "daily_sim['PortfolioValue'] = np.nan\n",
    "daily_sim['CumulativeDeposits'] = np.nan\n",
    "\n",
    "# Initialize portfolio variables.\n",
    "cash1 = 0\n",
    "cumulative_deposits = 0\n",
    "portfolio_positions = {}  # e.g., {'AAPL': 50, 'MSFT': 20, ...}\n",
    "\n",
    "# Lists to store deposit dates and portfolio values at deposit days.\n",
    "deposit_dates = []\n",
    "deposit_portfolio_values = []\n",
    "\n",
    "# Group transactions by date for faster lookup.\n",
    "transactions_grouped = transactions.groupby('Date')\n",
    "\n",
    "# Loop through each day in the date range.\n",
    "for date in all_dates:\n",
    "    # Process any transactions on this day.\n",
    "    if date in transactions_grouped.groups:\n",
    "        day_transactions = transactions_grouped.get_group(date)\n",
    "        for _, row in day_transactions.iterrows():\n",
    "            symbol = row['Symbol']\n",
    "            bs = row['Buy_sell']\n",
    "            if bs == 'Deposit':\n",
    "                cash1 += row['Amount']\n",
    "                cumulative_deposits += row['Amount']\n",
    "                # Record the deposit date.\n",
    "                deposit_dates.append(date)\n",
    "            elif bs == 'Buy':\n",
    "                cash1 -= row['Amount']  # Deduct purchase cost.\n",
    "                portfolio_positions[symbol] = portfolio_positions.get(symbol, 0) + row['Shares']\n",
    "            elif bs == 'Sell':\n",
    "                cash1 += row['Amount']  # Add sale proceeds.\n",
    "                portfolio_positions[symbol] = portfolio_positions.get(symbol, 0) - row['Shares']\n",
    "    \n",
    "    # Compute market value for the day using that day’s prices.\n",
    "    market_value = 0\n",
    "    for symbol, qty in portfolio_positions.items():\n",
    "        if symbol in daily_symbol_prices:\n",
    "            price = daily_symbol_prices[symbol].loc[date, 'Close']\n",
    "            market_value += qty * price\n",
    "\n",
    "    # Compute total portfolio value: cash1 + market value.\n",
    "    portfolio_value = cash1 + market_value\n",
    "\n",
    "    # Save the daily results.\n",
    "    daily_sim.loc[date, 'Cash'] = cash1\n",
    "    daily_sim.loc[date, 'MarketValue'] = market_value\n",
    "    daily_sim.loc[date, 'PortfolioValue'] = portfolio_value\n",
    "    daily_sim.loc[date, 'CumulativeDeposits'] = cumulative_deposits\n",
    "\n",
    "    # If today is a deposit day, record the portfolio value for that day.\n",
    "    if date in deposit_dates:\n",
    "        deposit_portfolio_values.append(portfolio_value)\n",
    "\n",
    "# --- 3. Plot Daily Portfolio Value with Deposit Markers ---\n",
    "\n",
    "# Base trace: Plot every day's portfolio value (points and connecting lines)\n",
    "\n",
    "\n",
    "# Define desired figure dimensions\n",
    "figure_width = 700  # pixels\n",
    "figure_height = 160  # pixels\n",
    "\n",
    "\n",
    "fig1 = go.Figure()\n",
    "\n",
    "fig1.add_trace(\n",
    "    go.Scatter(\n",
    "        x=daily_sim.index,\n",
    "        y=daily_sim['PortfolioValue'],\n",
    "        mode='lines',  # Points for every day with connecting lines\n",
    "        line=dict(color=accent_color),\n",
    "        name='Portfolio Value'\n",
    "    )\n",
    ")\n",
    "\n",
    "# Additional trace: Mark deposit days with a grey \"x\"\n",
    "fig1.add_trace(\n",
    "    go.Scatter(\n",
    "        x=deposit_dates,\n",
    "        y=deposit_portfolio_values,\n",
    "        mode='markers',\n",
    "        marker=dict(symbol='x', size=8, color='grey'),\n",
    "        name='Deposit'\n",
    "    )\n",
    ")\n",
    "\n",
    "fig1.update_layout(\n",
    "    xaxis=dict(\n",
    "         range=[daily_sim.index[0], daily_sim.index[-1]],  # force the range to start at your first date\n",
    "         anchor='y',\n",
    "         position=0,       # position the x-axis at 0 (left side of the plotting area)\n",
    "         automargin=True,  # ensure margins adjust automatically (or set margin.l=0 in layout if needed)\n",
    "    ),\n",
    "    width=figure_width,\n",
    "    height=figure_height,\n",
    "    yaxis_title=\"Portfolio Value ($)\",\n",
    "    template=\"plotly_dark\",\n",
    "    font=dict(color=accent_color),\n",
    "    paper_bgcolor='#1e1e1e',\n",
    "    plot_bgcolor='#1e1e1e',\n",
    "    showlegend=False,\n",
    "    margin=dict(l=0, r=20, t=20, b=20)  # setting left margin to 0 can help align the first x value with the y-axis\n",
    ")\n",
    "\n",
    "\n",
    "\n",
    "\n",
    "\n",
    "fig1.show()"
   ]
  },
  {
   "cell_type": "markdown",
   "id": "490a5844-0d7a-46fd-b428-b54f5489640d",
   "metadata": {},
   "source": [
    "# Returns"
   ]
  },
  {
   "cell_type": "code",
   "execution_count": 197,
   "id": "8793db50-224e-4ddf-8701-a73c932b6777",
   "metadata": {},
   "outputs": [
    {
     "data": {
      "application/vnd.plotly.v1+json": {
       "config": {
        "plotlyServerURL": "https://plot.ly"
       },
       "data": [
        {
         "line": {
          "color": "#1abc9c"
         },
         "mode": "lines",
         "name": "Net Returns",
         "type": "scatter",
         "x": [
          "2023-06-04T00:00:00",
          "2023-06-05T00:00:00",
          "2023-06-06T00:00:00",
          "2023-06-07T00:00:00",
          "2023-06-08T00:00:00",
          "2023-06-09T00:00:00",
          "2023-06-10T00:00:00",
          "2023-06-11T00:00:00",
          "2023-06-12T00:00:00",
          "2023-06-13T00:00:00",
          "2023-06-14T00:00:00",
          "2023-06-15T00:00:00",
          "2023-06-16T00:00:00",
          "2023-06-17T00:00:00",
          "2023-06-18T00:00:00",
          "2023-06-19T00:00:00",
          "2023-06-20T00:00:00",
          "2023-06-21T00:00:00",
          "2023-06-22T00:00:00",
          "2023-06-23T00:00:00",
          "2023-06-24T00:00:00",
          "2023-06-25T00:00:00",
          "2023-06-26T00:00:00",
          "2023-06-27T00:00:00",
          "2023-06-28T00:00:00",
          "2023-06-29T00:00:00",
          "2023-06-30T00:00:00",
          "2023-07-01T00:00:00",
          "2023-07-02T00:00:00",
          "2023-07-03T00:00:00",
          "2023-07-04T00:00:00",
          "2023-07-05T00:00:00",
          "2023-07-06T00:00:00",
          "2023-07-07T00:00:00",
          "2023-07-08T00:00:00",
          "2023-07-09T00:00:00",
          "2023-07-10T00:00:00",
          "2023-07-11T00:00:00",
          "2023-07-12T00:00:00",
          "2023-07-13T00:00:00",
          "2023-07-14T00:00:00",
          "2023-07-15T00:00:00",
          "2023-07-16T00:00:00",
          "2023-07-17T00:00:00",
          "2023-07-18T00:00:00",
          "2023-07-19T00:00:00",
          "2023-07-20T00:00:00",
          "2023-07-21T00:00:00",
          "2023-07-22T00:00:00",
          "2023-07-23T00:00:00",
          "2023-07-24T00:00:00",
          "2023-07-25T00:00:00",
          "2023-07-26T00:00:00",
          "2023-07-27T00:00:00",
          "2023-07-28T00:00:00",
          "2023-07-29T00:00:00",
          "2023-07-30T00:00:00",
          "2023-07-31T00:00:00",
          "2023-08-01T00:00:00",
          "2023-08-02T00:00:00",
          "2023-08-03T00:00:00",
          "2023-08-04T00:00:00",
          "2023-08-05T00:00:00",
          "2023-08-06T00:00:00",
          "2023-08-07T00:00:00",
          "2023-08-08T00:00:00",
          "2023-08-09T00:00:00",
          "2023-08-10T00:00:00",
          "2023-08-11T00:00:00",
          "2023-08-12T00:00:00",
          "2023-08-13T00:00:00",
          "2023-08-14T00:00:00",
          "2023-08-15T00:00:00",
          "2023-08-16T00:00:00",
          "2023-08-17T00:00:00",
          "2023-08-18T00:00:00",
          "2023-08-19T00:00:00",
          "2023-08-20T00:00:00",
          "2023-08-21T00:00:00",
          "2023-08-22T00:00:00",
          "2023-08-23T00:00:00",
          "2023-08-24T00:00:00",
          "2023-08-25T00:00:00",
          "2023-08-26T00:00:00",
          "2023-08-27T00:00:00",
          "2023-08-28T00:00:00",
          "2023-08-29T00:00:00",
          "2023-08-30T00:00:00",
          "2023-08-31T00:00:00",
          "2023-09-01T00:00:00",
          "2023-09-02T00:00:00",
          "2023-09-03T00:00:00",
          "2023-09-04T00:00:00",
          "2023-09-05T00:00:00",
          "2023-09-06T00:00:00",
          "2023-09-07T00:00:00",
          "2023-09-08T00:00:00",
          "2023-09-09T00:00:00",
          "2023-09-10T00:00:00",
          "2023-09-11T00:00:00",
          "2023-09-12T00:00:00",
          "2023-09-13T00:00:00",
          "2023-09-14T00:00:00",
          "2023-09-15T00:00:00",
          "2023-09-16T00:00:00",
          "2023-09-17T00:00:00",
          "2023-09-18T00:00:00",
          "2023-09-19T00:00:00",
          "2023-09-20T00:00:00",
          "2023-09-21T00:00:00",
          "2023-09-22T00:00:00",
          "2023-09-23T00:00:00",
          "2023-09-24T00:00:00",
          "2023-09-25T00:00:00",
          "2023-09-26T00:00:00",
          "2023-09-27T00:00:00",
          "2023-09-28T00:00:00",
          "2023-09-29T00:00:00",
          "2023-09-30T00:00:00",
          "2023-10-01T00:00:00",
          "2023-10-02T00:00:00",
          "2023-10-03T00:00:00",
          "2023-10-04T00:00:00",
          "2023-10-05T00:00:00",
          "2023-10-06T00:00:00",
          "2023-10-07T00:00:00",
          "2023-10-08T00:00:00",
          "2023-10-09T00:00:00",
          "2023-10-10T00:00:00",
          "2023-10-11T00:00:00",
          "2023-10-12T00:00:00",
          "2023-10-13T00:00:00",
          "2023-10-14T00:00:00",
          "2023-10-15T00:00:00",
          "2023-10-16T00:00:00",
          "2023-10-17T00:00:00",
          "2023-10-18T00:00:00",
          "2023-10-19T00:00:00",
          "2023-10-20T00:00:00",
          "2023-10-21T00:00:00",
          "2023-10-22T00:00:00",
          "2023-10-23T00:00:00",
          "2023-10-24T00:00:00",
          "2023-10-25T00:00:00",
          "2023-10-26T00:00:00",
          "2023-10-27T00:00:00",
          "2023-10-28T00:00:00",
          "2023-10-29T00:00:00",
          "2023-10-30T00:00:00",
          "2023-10-31T00:00:00",
          "2023-11-01T00:00:00",
          "2023-11-02T00:00:00",
          "2023-11-03T00:00:00",
          "2023-11-04T00:00:00",
          "2023-11-05T00:00:00",
          "2023-11-06T00:00:00",
          "2023-11-07T00:00:00",
          "2023-11-08T00:00:00",
          "2023-11-09T00:00:00",
          "2023-11-10T00:00:00",
          "2023-11-11T00:00:00",
          "2023-11-12T00:00:00",
          "2023-11-13T00:00:00",
          "2023-11-14T00:00:00",
          "2023-11-15T00:00:00",
          "2023-11-16T00:00:00",
          "2023-11-17T00:00:00",
          "2023-11-18T00:00:00",
          "2023-11-19T00:00:00",
          "2023-11-20T00:00:00",
          "2023-11-21T00:00:00",
          "2023-11-22T00:00:00",
          "2023-11-23T00:00:00",
          "2023-11-24T00:00:00",
          "2023-11-25T00:00:00",
          "2023-11-26T00:00:00",
          "2023-11-27T00:00:00",
          "2023-11-28T00:00:00",
          "2023-11-29T00:00:00",
          "2023-11-30T00:00:00",
          "2023-12-01T00:00:00",
          "2023-12-02T00:00:00",
          "2023-12-03T00:00:00",
          "2023-12-04T00:00:00",
          "2023-12-05T00:00:00",
          "2023-12-06T00:00:00",
          "2023-12-07T00:00:00",
          "2023-12-08T00:00:00",
          "2023-12-09T00:00:00",
          "2023-12-10T00:00:00",
          "2023-12-11T00:00:00",
          "2023-12-12T00:00:00",
          "2023-12-13T00:00:00",
          "2023-12-14T00:00:00",
          "2023-12-15T00:00:00",
          "2023-12-16T00:00:00",
          "2023-12-17T00:00:00",
          "2023-12-18T00:00:00",
          "2023-12-19T00:00:00",
          "2023-12-20T00:00:00",
          "2023-12-21T00:00:00",
          "2023-12-22T00:00:00",
          "2023-12-23T00:00:00",
          "2023-12-24T00:00:00",
          "2023-12-25T00:00:00",
          "2023-12-26T00:00:00",
          "2023-12-27T00:00:00",
          "2023-12-28T00:00:00",
          "2023-12-29T00:00:00",
          "2023-12-30T00:00:00",
          "2023-12-31T00:00:00",
          "2024-01-01T00:00:00",
          "2024-01-02T00:00:00",
          "2024-01-03T00:00:00",
          "2024-01-04T00:00:00",
          "2024-01-05T00:00:00",
          "2024-01-06T00:00:00",
          "2024-01-07T00:00:00",
          "2024-01-08T00:00:00",
          "2024-01-09T00:00:00",
          "2024-01-10T00:00:00",
          "2024-01-11T00:00:00",
          "2024-01-12T00:00:00",
          "2024-01-13T00:00:00",
          "2024-01-14T00:00:00",
          "2024-01-15T00:00:00",
          "2024-01-16T00:00:00",
          "2024-01-17T00:00:00",
          "2024-01-18T00:00:00",
          "2024-01-19T00:00:00",
          "2024-01-20T00:00:00",
          "2024-01-21T00:00:00",
          "2024-01-22T00:00:00",
          "2024-01-23T00:00:00",
          "2024-01-24T00:00:00",
          "2024-01-25T00:00:00",
          "2024-01-26T00:00:00",
          "2024-01-27T00:00:00",
          "2024-01-28T00:00:00",
          "2024-01-29T00:00:00",
          "2024-01-30T00:00:00",
          "2024-01-31T00:00:00",
          "2024-02-01T00:00:00",
          "2024-02-02T00:00:00",
          "2024-02-03T00:00:00",
          "2024-02-04T00:00:00",
          "2024-02-05T00:00:00",
          "2024-02-06T00:00:00",
          "2024-02-07T00:00:00",
          "2024-02-08T00:00:00",
          "2024-02-09T00:00:00",
          "2024-02-10T00:00:00",
          "2024-02-11T00:00:00",
          "2024-02-12T00:00:00",
          "2024-02-13T00:00:00",
          "2024-02-14T00:00:00",
          "2024-02-15T00:00:00",
          "2024-02-16T00:00:00",
          "2024-02-17T00:00:00",
          "2024-02-18T00:00:00",
          "2024-02-19T00:00:00",
          "2024-02-20T00:00:00",
          "2024-02-21T00:00:00",
          "2024-02-22T00:00:00",
          "2024-02-23T00:00:00",
          "2024-02-24T00:00:00",
          "2024-02-25T00:00:00",
          "2024-02-26T00:00:00",
          "2024-02-27T00:00:00",
          "2024-02-28T00:00:00",
          "2024-02-29T00:00:00",
          "2024-03-01T00:00:00",
          "2024-03-02T00:00:00",
          "2024-03-03T00:00:00",
          "2024-03-04T00:00:00",
          "2024-03-05T00:00:00",
          "2024-03-06T00:00:00",
          "2024-03-07T00:00:00",
          "2024-03-08T00:00:00",
          "2024-03-09T00:00:00",
          "2024-03-10T00:00:00",
          "2024-03-11T00:00:00",
          "2024-03-12T00:00:00",
          "2024-03-13T00:00:00",
          "2024-03-14T00:00:00",
          "2024-03-15T00:00:00",
          "2024-03-16T00:00:00",
          "2024-03-17T00:00:00",
          "2024-03-18T00:00:00",
          "2024-03-19T00:00:00",
          "2024-03-20T00:00:00",
          "2024-03-21T00:00:00",
          "2024-03-22T00:00:00",
          "2024-03-23T00:00:00",
          "2024-03-24T00:00:00",
          "2024-03-25T00:00:00",
          "2024-03-26T00:00:00",
          "2024-03-27T00:00:00",
          "2024-03-28T00:00:00",
          "2024-03-29T00:00:00",
          "2024-03-30T00:00:00",
          "2024-03-31T00:00:00",
          "2024-04-01T00:00:00",
          "2024-04-02T00:00:00",
          "2024-04-03T00:00:00",
          "2024-04-04T00:00:00",
          "2024-04-05T00:00:00",
          "2024-04-06T00:00:00",
          "2024-04-07T00:00:00",
          "2024-04-08T00:00:00",
          "2024-04-09T00:00:00",
          "2024-04-10T00:00:00",
          "2024-04-11T00:00:00",
          "2024-04-12T00:00:00",
          "2024-04-13T00:00:00",
          "2024-04-14T00:00:00",
          "2024-04-15T00:00:00",
          "2024-04-16T00:00:00",
          "2024-04-17T00:00:00",
          "2024-04-18T00:00:00",
          "2024-04-19T00:00:00",
          "2024-04-20T00:00:00",
          "2024-04-21T00:00:00",
          "2024-04-22T00:00:00",
          "2024-04-23T00:00:00",
          "2024-04-24T00:00:00",
          "2024-04-25T00:00:00",
          "2024-04-26T00:00:00",
          "2024-04-27T00:00:00",
          "2024-04-28T00:00:00",
          "2024-04-29T00:00:00",
          "2024-04-30T00:00:00",
          "2024-05-01T00:00:00",
          "2024-05-02T00:00:00",
          "2024-05-03T00:00:00",
          "2024-05-04T00:00:00",
          "2024-05-05T00:00:00",
          "2024-05-06T00:00:00",
          "2024-05-07T00:00:00",
          "2024-05-08T00:00:00",
          "2024-05-09T00:00:00",
          "2024-05-10T00:00:00",
          "2024-05-11T00:00:00",
          "2024-05-12T00:00:00",
          "2024-05-13T00:00:00",
          "2024-05-14T00:00:00",
          "2024-05-15T00:00:00",
          "2024-05-16T00:00:00",
          "2024-05-17T00:00:00",
          "2024-05-18T00:00:00",
          "2024-05-19T00:00:00",
          "2024-05-20T00:00:00",
          "2024-05-21T00:00:00",
          "2024-05-22T00:00:00",
          "2024-05-23T00:00:00",
          "2024-05-24T00:00:00",
          "2024-05-25T00:00:00",
          "2024-05-26T00:00:00",
          "2024-05-27T00:00:00",
          "2024-05-28T00:00:00",
          "2024-05-29T00:00:00",
          "2024-05-30T00:00:00",
          "2024-05-31T00:00:00",
          "2024-06-01T00:00:00",
          "2024-06-02T00:00:00",
          "2024-06-03T00:00:00",
          "2024-06-04T00:00:00",
          "2024-06-05T00:00:00",
          "2024-06-06T00:00:00",
          "2024-06-07T00:00:00",
          "2024-06-08T00:00:00",
          "2024-06-09T00:00:00",
          "2024-06-10T00:00:00",
          "2024-06-11T00:00:00",
          "2024-06-12T00:00:00",
          "2024-06-13T00:00:00",
          "2024-06-14T00:00:00",
          "2024-06-15T00:00:00",
          "2024-06-16T00:00:00",
          "2024-06-17T00:00:00",
          "2024-06-18T00:00:00",
          "2024-06-19T00:00:00",
          "2024-06-20T00:00:00",
          "2024-06-21T00:00:00",
          "2024-06-22T00:00:00",
          "2024-06-23T00:00:00",
          "2024-06-24T00:00:00",
          "2024-06-25T00:00:00",
          "2024-06-26T00:00:00",
          "2024-06-27T00:00:00",
          "2024-06-28T00:00:00",
          "2024-06-29T00:00:00",
          "2024-06-30T00:00:00",
          "2024-07-01T00:00:00",
          "2024-07-02T00:00:00",
          "2024-07-03T00:00:00",
          "2024-07-04T00:00:00",
          "2024-07-05T00:00:00",
          "2024-07-06T00:00:00",
          "2024-07-07T00:00:00",
          "2024-07-08T00:00:00",
          "2024-07-09T00:00:00",
          "2024-07-10T00:00:00",
          "2024-07-11T00:00:00",
          "2024-07-12T00:00:00",
          "2024-07-13T00:00:00",
          "2024-07-14T00:00:00",
          "2024-07-15T00:00:00",
          "2024-07-16T00:00:00",
          "2024-07-17T00:00:00",
          "2024-07-18T00:00:00",
          "2024-07-19T00:00:00",
          "2024-07-20T00:00:00",
          "2024-07-21T00:00:00",
          "2024-07-22T00:00:00",
          "2024-07-23T00:00:00",
          "2024-07-24T00:00:00",
          "2024-07-25T00:00:00",
          "2024-07-26T00:00:00",
          "2024-07-27T00:00:00",
          "2024-07-28T00:00:00",
          "2024-07-29T00:00:00",
          "2024-07-30T00:00:00",
          "2024-07-31T00:00:00",
          "2024-08-01T00:00:00",
          "2024-08-02T00:00:00",
          "2024-08-03T00:00:00",
          "2024-08-04T00:00:00",
          "2024-08-05T00:00:00",
          "2024-08-06T00:00:00",
          "2024-08-07T00:00:00",
          "2024-08-08T00:00:00",
          "2024-08-09T00:00:00",
          "2024-08-10T00:00:00",
          "2024-08-11T00:00:00",
          "2024-08-12T00:00:00",
          "2024-08-13T00:00:00",
          "2024-08-14T00:00:00",
          "2024-08-15T00:00:00",
          "2024-08-16T00:00:00",
          "2024-08-17T00:00:00",
          "2024-08-18T00:00:00",
          "2024-08-19T00:00:00",
          "2024-08-20T00:00:00",
          "2024-08-21T00:00:00",
          "2024-08-22T00:00:00",
          "2024-08-23T00:00:00",
          "2024-08-24T00:00:00",
          "2024-08-25T00:00:00",
          "2024-08-26T00:00:00",
          "2024-08-27T00:00:00",
          "2024-08-28T00:00:00",
          "2024-08-29T00:00:00",
          "2024-08-30T00:00:00",
          "2024-08-31T00:00:00",
          "2024-09-01T00:00:00",
          "2024-09-02T00:00:00",
          "2024-09-03T00:00:00",
          "2024-09-04T00:00:00",
          "2024-09-05T00:00:00",
          "2024-09-06T00:00:00",
          "2024-09-07T00:00:00",
          "2024-09-08T00:00:00",
          "2024-09-09T00:00:00",
          "2024-09-10T00:00:00",
          "2024-09-11T00:00:00",
          "2024-09-12T00:00:00",
          "2024-09-13T00:00:00",
          "2024-09-14T00:00:00",
          "2024-09-15T00:00:00",
          "2024-09-16T00:00:00",
          "2024-09-17T00:00:00",
          "2024-09-18T00:00:00",
          "2024-09-19T00:00:00",
          "2024-09-20T00:00:00",
          "2024-09-21T00:00:00",
          "2024-09-22T00:00:00",
          "2024-09-23T00:00:00",
          "2024-09-24T00:00:00",
          "2024-09-25T00:00:00",
          "2024-09-26T00:00:00",
          "2024-09-27T00:00:00",
          "2024-09-28T00:00:00",
          "2024-09-29T00:00:00",
          "2024-09-30T00:00:00",
          "2024-10-01T00:00:00",
          "2024-10-02T00:00:00",
          "2024-10-03T00:00:00",
          "2024-10-04T00:00:00",
          "2024-10-05T00:00:00",
          "2024-10-06T00:00:00",
          "2024-10-07T00:00:00",
          "2024-10-08T00:00:00",
          "2024-10-09T00:00:00",
          "2024-10-10T00:00:00",
          "2024-10-11T00:00:00",
          "2024-10-12T00:00:00",
          "2024-10-13T00:00:00",
          "2024-10-14T00:00:00",
          "2024-10-15T00:00:00",
          "2024-10-16T00:00:00",
          "2024-10-17T00:00:00",
          "2024-10-18T00:00:00",
          "2024-10-19T00:00:00",
          "2024-10-20T00:00:00",
          "2024-10-21T00:00:00",
          "2024-10-22T00:00:00",
          "2024-10-23T00:00:00",
          "2024-10-24T00:00:00",
          "2024-10-25T00:00:00",
          "2024-10-26T00:00:00",
          "2024-10-27T00:00:00",
          "2024-10-28T00:00:00",
          "2024-10-29T00:00:00",
          "2024-10-30T00:00:00",
          "2024-10-31T00:00:00",
          "2024-11-01T00:00:00",
          "2024-11-02T00:00:00",
          "2024-11-03T00:00:00",
          "2024-11-04T00:00:00",
          "2024-11-05T00:00:00",
          "2024-11-06T00:00:00",
          "2024-11-07T00:00:00",
          "2024-11-08T00:00:00",
          "2024-11-09T00:00:00",
          "2024-11-10T00:00:00",
          "2024-11-11T00:00:00",
          "2024-11-12T00:00:00",
          "2024-11-13T00:00:00",
          "2024-11-14T00:00:00",
          "2024-11-15T00:00:00",
          "2024-11-16T00:00:00",
          "2024-11-17T00:00:00",
          "2024-11-18T00:00:00",
          "2024-11-19T00:00:00",
          "2024-11-20T00:00:00",
          "2024-11-21T00:00:00",
          "2024-11-22T00:00:00",
          "2024-11-23T00:00:00",
          "2024-11-24T00:00:00",
          "2024-11-25T00:00:00",
          "2024-11-26T00:00:00",
          "2024-11-27T00:00:00",
          "2024-11-28T00:00:00",
          "2024-11-29T00:00:00",
          "2024-11-30T00:00:00",
          "2024-12-01T00:00:00",
          "2024-12-02T00:00:00",
          "2024-12-03T00:00:00",
          "2024-12-04T00:00:00",
          "2024-12-05T00:00:00",
          "2024-12-06T00:00:00",
          "2024-12-07T00:00:00",
          "2024-12-08T00:00:00",
          "2024-12-09T00:00:00",
          "2024-12-10T00:00:00",
          "2024-12-11T00:00:00",
          "2024-12-12T00:00:00",
          "2024-12-13T00:00:00",
          "2024-12-14T00:00:00",
          "2024-12-15T00:00:00",
          "2024-12-16T00:00:00",
          "2024-12-17T00:00:00",
          "2024-12-18T00:00:00",
          "2024-12-19T00:00:00",
          "2024-12-20T00:00:00",
          "2024-12-21T00:00:00",
          "2024-12-22T00:00:00",
          "2024-12-23T00:00:00",
          "2024-12-24T00:00:00",
          "2024-12-25T00:00:00",
          "2024-12-26T00:00:00",
          "2024-12-27T00:00:00",
          "2024-12-28T00:00:00",
          "2024-12-29T00:00:00",
          "2024-12-30T00:00:00",
          "2024-12-31T00:00:00",
          "2025-01-01T00:00:00",
          "2025-01-02T00:00:00",
          "2025-01-03T00:00:00",
          "2025-01-04T00:00:00",
          "2025-01-05T00:00:00",
          "2025-01-06T00:00:00",
          "2025-01-07T00:00:00",
          "2025-01-08T00:00:00",
          "2025-01-09T00:00:00",
          "2025-01-10T00:00:00",
          "2025-01-11T00:00:00",
          "2025-01-12T00:00:00",
          "2025-01-13T00:00:00",
          "2025-01-14T00:00:00",
          "2025-01-15T00:00:00",
          "2025-01-16T00:00:00",
          "2025-01-17T00:00:00",
          "2025-01-18T00:00:00",
          "2025-01-19T00:00:00",
          "2025-01-20T00:00:00",
          "2025-01-21T00:00:00",
          "2025-01-22T00:00:00",
          "2025-01-23T00:00:00",
          "2025-01-24T00:00:00",
          "2025-01-25T00:00:00",
          "2025-01-26T00:00:00",
          "2025-01-27T00:00:00",
          "2025-01-28T00:00:00",
          "2025-01-29T00:00:00",
          "2025-01-30T00:00:00",
          "2025-01-31T00:00:00",
          "2025-02-01T00:00:00",
          "2025-02-02T00:00:00",
          "2025-02-03T00:00:00",
          "2025-02-04T00:00:00",
          "2025-02-05T00:00:00",
          "2025-02-06T00:00:00",
          "2025-02-07T00:00:00",
          "2025-02-08T00:00:00",
          "2025-02-09T00:00:00",
          "2025-02-10T00:00:00",
          "2025-02-11T00:00:00",
          "2025-02-12T00:00:00",
          "2025-02-13T00:00:00",
          "2025-02-14T00:00:00",
          "2025-02-15T00:00:00",
          "2025-02-16T00:00:00",
          "2025-02-17T00:00:00",
          "2025-02-18T00:00:00",
          "2025-02-19T00:00:00",
          "2025-02-20T00:00:00",
          "2025-02-21T00:00:00",
          "2025-02-22T00:00:00",
          "2025-02-23T00:00:00",
          "2025-02-24T00:00:00",
          "2025-02-25T00:00:00",
          "2025-02-26T00:00:00",
          "2025-02-27T00:00:00",
          "2025-02-28T00:00:00",
          "2025-03-01T00:00:00",
          "2025-03-02T00:00:00",
          "2025-03-03T00:00:00",
          "2025-03-04T00:00:00",
          "2025-03-05T00:00:00",
          "2025-03-06T00:00:00",
          "2025-03-07T00:00:00",
          "2025-03-08T00:00:00",
          "2025-03-09T00:00:00",
          "2025-03-10T00:00:00",
          "2025-03-11T00:00:00",
          "2025-03-12T00:00:00",
          "2025-03-13T00:00:00",
          "2025-03-14T00:00:00",
          "2025-03-15T00:00:00",
          "2025-03-16T00:00:00",
          "2025-03-17T00:00:00",
          "2025-03-18T00:00:00",
          "2025-03-19T00:00:00",
          "2025-03-20T00:00:00",
          "2025-03-21T00:00:00",
          "2025-03-22T00:00:00",
          "2025-03-23T00:00:00",
          "2025-03-24T00:00:00",
          "2025-03-25T00:00:00",
          "2025-03-26T00:00:00",
          "2025-03-27T00:00:00",
          "2025-03-28T00:00:00",
          "2025-03-29T00:00:00",
          "2025-03-30T00:00:00",
          "2025-03-31T00:00:00",
          "2025-04-01T00:00:00",
          "2025-04-02T00:00:00",
          "2025-04-03T00:00:00",
          "2025-04-04T00:00:00",
          "2025-04-05T00:00:00",
          "2025-04-06T00:00:00",
          "2025-04-07T00:00:00",
          "2025-04-08T00:00:00"
         ],
         "y": [
          6.8900008392333945,
          6.8900008392333945,
          6.8900008392333945,
          6.8900008392333945,
          6.8900008392333945,
          6.8900008392333945,
          6.8900008392333945,
          6.8900008392333945,
          6.8900008392333945,
          6.8900008392333945,
          6.8900008392333945,
          6.8900008392333945,
          6.8900008392333945,
          0.510001411437969,
          0.510001411437969,
          0.510001411437969,
          0.510001411437969,
          0.510001411437969,
          0.510001411437969,
          0.5100014114379974,
          0.5100014114379974,
          0.5100014114379974,
          29.880000648498537,
          29.140000610351535,
          29.140000610351535,
          29.140000610351535,
          29.140000610351535,
          29.140000610351535,
          29.140000610351535,
          29.140000610351535,
          29.140000610351535,
          29.140000610351535,
          29.140000610351535,
          29.140000610351535,
          29.140000610351535,
          29.140000610351535,
          29.140000610351535,
          29.140000610351535,
          156.2400032806396,
          156.2400032806396,
          156.2400032806396,
          156.2400032806396,
          156.2400032806396,
          156.2400032806396,
          156.2400032806396,
          156.2400032806396,
          156.2400032806396,
          156.2400032806396,
          168.5200032043457,
          168.5200032043457,
          168.5200032043457,
          168.5200032043457,
          168.5200032043457,
          168.5200032043457,
          168.5200032043457,
          168.5200032043457,
          168.5200032043457,
          168.5200032043457,
          168.5200032043457,
          168.5200032043457,
          168.5200032043457,
          168.5200032043457,
          168.5200032043457,
          168.5200032043457,
          168.5200032043457,
          168.5200032043457,
          168.5200032043457,
          168.5200032043457,
          168.5200032043457,
          161.0800046539306,
          161.0800046539306,
          161.0800046539306,
          161.0800046539306,
          161.0800046539306,
          161.0800046539306,
          161.0800046539306,
          161.0800046539306,
          161.0800046539306,
          161.0800046539306,
          161.0800046539306,
          164.71000465393058,
          164.71000465393058,
          164.71000465393058,
          164.71000465393058,
          164.71000465393058,
          164.71000465393058,
          164.71000465393058,
          164.71000465393058,
          164.71000465393058,
          164.71000465393058,
          164.71000465393058,
          164.71000465393058,
          164.71000465393058,
          164.71000465393058,
          213.72000152587862,
          213.72000152587862,
          213.72000152587862,
          213.72000152587862,
          213.72000152587862,
          213.72000152587862,
          213.72000152587862,
          213.72000152587862,
          213.72000152587862,
          207.44000198364256,
          207.44000198364256,
          207.44000198364256,
          207.44000198364256,
          207.44000198364256,
          207.44000198364256,
          207.44000198364256,
          207.44000198364256,
          175.64000259399404,
          175.64000259399404,
          175.64000259399404,
          175.64000259399404,
          175.64000259399404,
          175.64000259399404,
          175.64000259399404,
          175.64000259399404,
          175.64000259399404,
          175.64000259399404,
          175.64000259399404,
          175.64000259399404,
          175.64000259399404,
          175.64000259399404,
          175.64000259399404,
          175.64000259399404,
          175.64000259399404,
          175.64000259399404,
          175.64000259399404,
          175.64000259399404,
          175.64000259399404,
          175.64000259399404,
          175.64000259399404,
          175.64000259399404,
          175.64000259399404,
          175.64000259399404,
          175.64000259399404,
          175.64000259399404,
          175.64000259399404,
          175.64000259399404,
          175.64000259399404,
          175.64000259399404,
          175.64000259399404,
          175.64000259399404,
          175.64000259399404,
          175.64000259399404,
          175.64000259399404,
          175.64000259399404,
          175.64000259399404,
          179.41000213623033,
          179.41000213623033,
          179.41000213623033,
          179.41000213623033,
          179.41000213623033,
          179.41000213623033,
          179.41000213623033,
          179.41000213623033,
          179.41000213623033,
          184.37000190734852,
          184.37000190734852,
          184.37000190734852,
          184.37000190734852,
          184.37000190734852,
          184.37000190734852,
          184.37000190734852,
          184.37000190734852,
          184.37000190734852,
          184.37000190734852,
          184.37000190734852,
          184.37000190734852,
          184.37000190734852,
          184.37000190734852,
          184.37000190734852,
          184.37000190734852,
          184.37000190734852,
          184.37000190734852,
          184.37000190734852,
          184.37000190734852,
          184.37000190734852,
          184.37000190734852,
          184.37000190734852,
          184.37000190734852,
          184.37000190734852,
          184.37000190734852,
          184.37000190734852,
          184.37000190734852,
          184.37000190734852,
          184.37000190734852,
          184.37000190734852,
          184.37000190734852,
          184.37000190734852,
          184.37000190734852,
          184.37000190734852,
          184.37000190734852,
          184.37000190734852,
          184.37000190734852,
          184.37000190734852,
          184.37000190734852,
          184.37000190734852,
          184.37000190734852,
          184.37000190734852,
          184.37000190734852,
          184.37000190734852,
          184.37000190734852,
          184.37000190734852,
          184.37000190734852,
          184.37000190734852,
          184.37000190734852,
          184.37000190734852,
          184.37000190734852,
          184.37000190734852,
          184.37000190734852,
          184.37000190734852,
          184.37000190734852,
          184.37000190734852,
          184.37000190734852,
          184.37000190734852,
          184.37000190734852,
          184.37000190734852,
          184.37000190734852,
          184.37000190734852,
          184.37000190734852,
          184.37000190734852,
          184.37000190734852,
          184.37000190734852,
          184.37000190734852,
          184.37000190734852,
          184.37000190734852,
          184.37000190734852,
          184.37000190734852,
          184.37000190734852,
          184.37000190734852,
          184.37000190734852,
          184.37000190734852,
          184.37000190734852,
          184.37000190734852,
          184.37000190734852,
          184.37000190734852,
          184.37000190734852,
          184.37000190734852,
          184.37000190734852,
          184.37000190734852,
          184.37000190734852,
          184.37000190734852,
          184.37000190734852,
          184.37000190734852,
          184.37000190734852,
          189.55000183105471,
          189.55000183105471,
          189.55000183105471,
          189.55000183105471,
          189.55000183105471,
          189.55000183105471,
          189.55000183105471,
          189.55000183105471,
          189.55000183105471,
          189.55000183105471,
          189.55000183105471,
          189.55000183105471,
          189.55000183105471,
          189.55000183105471,
          189.55000183105471,
          189.55000183105471,
          189.55000183105471,
          189.55000183105471,
          189.55000183105471,
          189.55000183105471,
          189.55000183105471,
          189.55000183105471,
          189.55000183105471,
          189.55000183105471,
          189.55000183105471,
          189.55000183105471,
          189.55000183105471,
          189.55000183105471,
          189.55000183105471,
          189.55000183105471,
          189.55000183105471,
          189.55000183105471,
          189.55000183105471,
          189.55000183105471,
          189.55000183105471,
          189.55000183105471,
          189.55000183105471,
          189.55000183105471,
          189.55000183105471,
          189.55000183105471,
          189.55000183105471,
          189.55000183105471,
          189.55000183105471,
          189.55000183105471,
          189.55000183105471,
          189.55000183105471,
          189.55000183105471,
          189.55000183105471,
          189.55000183105471,
          189.55000183105471,
          189.55000183105471,
          189.55000183105471,
          189.55000183105471,
          189.55000183105471,
          189.55000183105471,
          189.55000183105471,
          189.55000183105471,
          189.55000183105471,
          189.55000183105471,
          189.55000183105471,
          189.55000183105471,
          189.55000183105471,
          189.55000183105471,
          189.55000183105471,
          189.55000183105471,
          189.55000183105471,
          189.55000183105471,
          189.55000183105471,
          189.55000183105471,
          189.55000183105471,
          189.55000183105471,
          189.55000183105471,
          189.55000183105471,
          189.55000183105471,
          189.55000183105471,
          189.55000183105471,
          189.55000183105471,
          189.55000183105471,
          189.55000183105471,
          189.55000183105471,
          189.55000183105471,
          189.55000183105471,
          189.55000183105471,
          189.55000183105471,
          189.55000183105471,
          189.55000183105471,
          189.55000183105471,
          189.55000183105471,
          189.55000183105471,
          189.55000183105471,
          189.55000183105471,
          189.55000183105471,
          189.55000183105471,
          189.55000183105471,
          189.55000183105471,
          189.55000183105471,
          189.55000183105471,
          189.55000183105471,
          189.55000183105471,
          189.55000183105471,
          189.55000183105471,
          189.55000183105471,
          189.55000183105471,
          189.55000183105471,
          189.55000183105471,
          189.55000183105471,
          189.55000183105471,
          189.55000183105471,
          189.55000183105471,
          189.55000183105471,
          189.55000183105471,
          189.55000183105471,
          189.55000183105471,
          189.55000183105471,
          189.55000183105471,
          189.55000183105471,
          189.55000183105471,
          189.55000183105471,
          189.55000183105471,
          189.55000183105471,
          189.55000183105471,
          189.55000183105471,
          189.55000183105471,
          189.55000183105471,
          189.55000183105471,
          189.55000183105471,
          189.55000183105471,
          189.55000183105471,
          189.55000183105471,
          189.55000183105471,
          189.55000183105471,
          189.55000183105471,
          189.55000183105471,
          189.55000183105471,
          189.55000183105471,
          189.55000183105471,
          189.55000183105471,
          189.55000183105471,
          189.55000183105471,
          189.55000183105471,
          189.55000183105471,
          189.55000183105471,
          189.55000183105471,
          189.55000183105471,
          189.55000183105471,
          189.55000183105471,
          189.55000183105471,
          189.55000183105471,
          189.55000183105471,
          189.55000183105471,
          189.55000183105471,
          189.55000183105471,
          189.55000183105471,
          189.55000183105471,
          189.55000183105471,
          189.55000183105471,
          189.55000183105471,
          189.55000183105471,
          189.55000183105471,
          189.55000183105471,
          189.55000183105471,
          189.55000183105471,
          189.55000183105471,
          189.55000183105471,
          189.55000183105471,
          189.55000183105471,
          189.55000183105471,
          189.55000183105471,
          189.55000183105471,
          189.55000183105471,
          189.55000183105471,
          189.55000183105471,
          189.55000183105471,
          189.55000183105471,
          189.55000183105471,
          189.55000183105471,
          189.55000183105471,
          189.55000183105471,
          189.55000183105471,
          189.55000183105471,
          189.55000183105471,
          189.55000183105471,
          189.55000183105471,
          189.55000183105471,
          189.55000183105471,
          189.55000183105471,
          189.55000183105471,
          189.55000183105471,
          189.55000183105471,
          189.55000183105471,
          189.55000183105471,
          189.55000183105471,
          189.55000183105471,
          189.55000183105471,
          189.55000183105471,
          189.55000183105471,
          189.55000183105471,
          189.55000183105471,
          189.55000183105471,
          189.55000183105471,
          189.55000183105471,
          189.55000183105471,
          189.55000183105471,
          189.55000183105471,
          189.55000183105471,
          189.55000183105471,
          189.55000183105471,
          189.55000183105471,
          189.55000183105471,
          189.55000183105471,
          189.55000183105471,
          189.55000183105471,
          189.55000183105471,
          189.55000183105471,
          189.55000183105471,
          189.55000183105471,
          189.55000183105471,
          189.55000183105471,
          189.55000183105471,
          189.55000183105471,
          189.55000183105471,
          189.55000183105471,
          189.55000183105471,
          189.55000183105471,
          189.55000183105471,
          189.55000183105471,
          189.55000183105471,
          189.55000183105471,
          189.55000183105471,
          189.55000183105471,
          189.55000183105471,
          189.55000183105471,
          189.55000183105471,
          189.55000183105471,
          189.55000183105471,
          189.55000183105471,
          189.55000183105471,
          189.55000183105471,
          189.55000183105471,
          189.55000183105471,
          189.55000183105471,
          189.55000183105471,
          189.55000183105471,
          189.55000183105471,
          189.55000183105471,
          189.55000183105471,
          189.55000183105471,
          189.55000183105471,
          189.55000183105471,
          189.55000183105471,
          189.55000183105471,
          189.55000183105471,
          189.55000183105471,
          189.55000183105471,
          189.55000183105471,
          131.99000762939454,
          131.99000762939454,
          131.99000762939454,
          131.99000762939454,
          131.99000762939454,
          131.99000762939454,
          131.99000762939454,
          131.99000762939454,
          131.99000762939454,
          131.99000762939454,
          131.99000762939454,
          131.99000762939454,
          131.99000762939454,
          131.99000762939454,
          131.99000762939454,
          132.13000549316394,
          132.13000549316394,
          132.13000549316394,
          132.13000549316394,
          132.13000549316394,
          132.13000549316394,
          132.13000549316394,
          132.13000549316394,
          132.13000549316394,
          132.13000549316394,
          132.13000549316394,
          132.13000549316394,
          132.13000549316394,
          118.9300045394898,
          118.9300045394898,
          118.9300045394898,
          118.9300045394898,
          118.9300045394898,
          118.9300045394898,
          118.9300045394898,
          118.9300045394898,
          118.9300045394898,
          118.9300045394898,
          118.9300045394898,
          81.30000667572017,
          81.30000667572017,
          81.30000667572017,
          81.30000667572017,
          81.30000667572017,
          81.63000240325937,
          81.63000240325937,
          81.63000240325937,
          81.63000240325937,
          81.63000240325937,
          81.63000240325937,
          81.63000240325937,
          81.63000240325937,
          81.63000240325937,
          53.04000526428217,
          53.04000526428217,
          53.04000526428217,
          53.04000526428217,
          53.04000526428217,
          53.04000526428217,
          53.04000526428217,
          53.04000526428217,
          53.04000526428217,
          53.04000526428217,
          53.04000526428217,
          53.04000526428217,
          53.04000526428217,
          53.04000526428217,
          53.04000526428217,
          53.04000526428217,
          53.04000526428217,
          53.04000526428217,
          53.04000526428217,
          63.800028457641474,
          63.800028457641474,
          63.800028457641474,
          63.800028457641474,
          63.800028457641474,
          63.800028457641474,
          63.800028457641474,
          63.800028457641474,
          63.800028457641474,
          63.800028457641474,
          63.800028457641474,
          63.800028457641474,
          29.3300302505495,
          29.3300302505495,
          29.3300302505495,
          29.3300302505495,
          29.3300302505495,
          29.3300302505495,
          29.3300302505495,
          29.3300302505495,
          29.3300302505495,
          29.3300302505495,
          29.3300302505495,
          18.70003467559809,
          18.70003467559809,
          18.70003467559809,
          18.70003467559809,
          18.70003467559809,
          18.70003467559809,
          18.70003467559809,
          18.70003467559809,
          18.70003467559809,
          18.70003467559809,
          18.70003467559809,
          18.70003467559809,
          18.70003467559809,
          18.70003467559809,
          18.70003467559809,
          18.70003467559809,
          18.70003467559809,
          -53.779959297180085,
          -53.779959297180085,
          -53.779959297180085,
          -53.77995929718054,
          -53.77995929718054,
          -53.77995929718054,
          -53.77995929718054,
          -53.77995929718054,
          -53.77995929718054,
          -53.77995929718054,
          -53.77995929718054,
          -53.77995929718054,
          -53.77995929718054,
          -53.77995929718054,
          -53.77995929718054,
          -53.77995929718054,
          -53.77995929718054,
          -53.77995929718054,
          -53.77995929718054,
          -53.77995929718054,
          -53.77995929718054,
          -53.77995929718054,
          -53.77995929718054,
          -53.77995929718054,
          -53.77995929718054,
          -53.77995929718054,
          -53.77995929718054,
          -53.77995929718054,
          -53.77995929718054,
          -53.77995929718054,
          -53.77995929718054,
          -53.77995929718054,
          -53.77995929718054,
          -53.77995929718054,
          -53.77995929718054,
          -53.77995929718054,
          -53.77995929718054,
          -53.77995929718054,
          -53.77995929718054,
          -53.77995929718054,
          -53.77995929718054,
          -53.77995929718054,
          -53.77995929718054,
          -53.77995929718054,
          -53.77995929718054,
          -53.77995929718054,
          -53.77995929718054,
          -53.77995929718054,
          -53.77995929718054,
          -55.46995014190634,
          -55.46995014190634,
          -55.46995014190634,
          -55.46995014190634,
          -55.46995014190634,
          -55.46995014190634,
          -55.46995014190634,
          -55.46995014190634,
          -52.68994281768755,
          -52.68994281768755,
          -52.68994281768755
         ]
        }
       ],
       "layout": {
        "font": {
         "color": "#1abc9c"
        },
        "height": 160,
        "margin": {
         "b": 20,
         "l": 20,
         "r": 20,
         "t": 20
        },
        "paper_bgcolor": "#1e1e1e",
        "plot_bgcolor": "#1e1e1e",
        "shapes": [
         {
          "line": {
           "color": "grey",
           "dash": "dash"
          },
          "type": "line",
          "x0": 0,
          "x1": 1,
          "xref": "x domain",
          "y0": 0,
          "y1": 0,
          "yref": "y"
         }
        ],
        "showlegend": false,
        "template": {
         "data": {
          "bar": [
           {
            "error_x": {
             "color": "#f2f5fa"
            },
            "error_y": {
             "color": "#f2f5fa"
            },
            "marker": {
             "line": {
              "color": "rgb(17,17,17)",
              "width": 0.5
             },
             "pattern": {
              "fillmode": "overlay",
              "size": 10,
              "solidity": 0.2
             }
            },
            "type": "bar"
           }
          ],
          "barpolar": [
           {
            "marker": {
             "line": {
              "color": "rgb(17,17,17)",
              "width": 0.5
             },
             "pattern": {
              "fillmode": "overlay",
              "size": 10,
              "solidity": 0.2
             }
            },
            "type": "barpolar"
           }
          ],
          "carpet": [
           {
            "aaxis": {
             "endlinecolor": "#A2B1C6",
             "gridcolor": "#506784",
             "linecolor": "#506784",
             "minorgridcolor": "#506784",
             "startlinecolor": "#A2B1C6"
            },
            "baxis": {
             "endlinecolor": "#A2B1C6",
             "gridcolor": "#506784",
             "linecolor": "#506784",
             "minorgridcolor": "#506784",
             "startlinecolor": "#A2B1C6"
            },
            "type": "carpet"
           }
          ],
          "choropleth": [
           {
            "colorbar": {
             "outlinewidth": 0,
             "ticks": ""
            },
            "type": "choropleth"
           }
          ],
          "contour": [
           {
            "colorbar": {
             "outlinewidth": 0,
             "ticks": ""
            },
            "colorscale": [
             [
              0,
              "#0d0887"
             ],
             [
              0.1111111111111111,
              "#46039f"
             ],
             [
              0.2222222222222222,
              "#7201a8"
             ],
             [
              0.3333333333333333,
              "#9c179e"
             ],
             [
              0.4444444444444444,
              "#bd3786"
             ],
             [
              0.5555555555555556,
              "#d8576b"
             ],
             [
              0.6666666666666666,
              "#ed7953"
             ],
             [
              0.7777777777777778,
              "#fb9f3a"
             ],
             [
              0.8888888888888888,
              "#fdca26"
             ],
             [
              1,
              "#f0f921"
             ]
            ],
            "type": "contour"
           }
          ],
          "contourcarpet": [
           {
            "colorbar": {
             "outlinewidth": 0,
             "ticks": ""
            },
            "type": "contourcarpet"
           }
          ],
          "heatmap": [
           {
            "colorbar": {
             "outlinewidth": 0,
             "ticks": ""
            },
            "colorscale": [
             [
              0,
              "#0d0887"
             ],
             [
              0.1111111111111111,
              "#46039f"
             ],
             [
              0.2222222222222222,
              "#7201a8"
             ],
             [
              0.3333333333333333,
              "#9c179e"
             ],
             [
              0.4444444444444444,
              "#bd3786"
             ],
             [
              0.5555555555555556,
              "#d8576b"
             ],
             [
              0.6666666666666666,
              "#ed7953"
             ],
             [
              0.7777777777777778,
              "#fb9f3a"
             ],
             [
              0.8888888888888888,
              "#fdca26"
             ],
             [
              1,
              "#f0f921"
             ]
            ],
            "type": "heatmap"
           }
          ],
          "heatmapgl": [
           {
            "colorbar": {
             "outlinewidth": 0,
             "ticks": ""
            },
            "colorscale": [
             [
              0,
              "#0d0887"
             ],
             [
              0.1111111111111111,
              "#46039f"
             ],
             [
              0.2222222222222222,
              "#7201a8"
             ],
             [
              0.3333333333333333,
              "#9c179e"
             ],
             [
              0.4444444444444444,
              "#bd3786"
             ],
             [
              0.5555555555555556,
              "#d8576b"
             ],
             [
              0.6666666666666666,
              "#ed7953"
             ],
             [
              0.7777777777777778,
              "#fb9f3a"
             ],
             [
              0.8888888888888888,
              "#fdca26"
             ],
             [
              1,
              "#f0f921"
             ]
            ],
            "type": "heatmapgl"
           }
          ],
          "histogram": [
           {
            "marker": {
             "pattern": {
              "fillmode": "overlay",
              "size": 10,
              "solidity": 0.2
             }
            },
            "type": "histogram"
           }
          ],
          "histogram2d": [
           {
            "colorbar": {
             "outlinewidth": 0,
             "ticks": ""
            },
            "colorscale": [
             [
              0,
              "#0d0887"
             ],
             [
              0.1111111111111111,
              "#46039f"
             ],
             [
              0.2222222222222222,
              "#7201a8"
             ],
             [
              0.3333333333333333,
              "#9c179e"
             ],
             [
              0.4444444444444444,
              "#bd3786"
             ],
             [
              0.5555555555555556,
              "#d8576b"
             ],
             [
              0.6666666666666666,
              "#ed7953"
             ],
             [
              0.7777777777777778,
              "#fb9f3a"
             ],
             [
              0.8888888888888888,
              "#fdca26"
             ],
             [
              1,
              "#f0f921"
             ]
            ],
            "type": "histogram2d"
           }
          ],
          "histogram2dcontour": [
           {
            "colorbar": {
             "outlinewidth": 0,
             "ticks": ""
            },
            "colorscale": [
             [
              0,
              "#0d0887"
             ],
             [
              0.1111111111111111,
              "#46039f"
             ],
             [
              0.2222222222222222,
              "#7201a8"
             ],
             [
              0.3333333333333333,
              "#9c179e"
             ],
             [
              0.4444444444444444,
              "#bd3786"
             ],
             [
              0.5555555555555556,
              "#d8576b"
             ],
             [
              0.6666666666666666,
              "#ed7953"
             ],
             [
              0.7777777777777778,
              "#fb9f3a"
             ],
             [
              0.8888888888888888,
              "#fdca26"
             ],
             [
              1,
              "#f0f921"
             ]
            ],
            "type": "histogram2dcontour"
           }
          ],
          "mesh3d": [
           {
            "colorbar": {
             "outlinewidth": 0,
             "ticks": ""
            },
            "type": "mesh3d"
           }
          ],
          "parcoords": [
           {
            "line": {
             "colorbar": {
              "outlinewidth": 0,
              "ticks": ""
             }
            },
            "type": "parcoords"
           }
          ],
          "pie": [
           {
            "automargin": true,
            "type": "pie"
           }
          ],
          "scatter": [
           {
            "marker": {
             "line": {
              "color": "#283442"
             }
            },
            "type": "scatter"
           }
          ],
          "scatter3d": [
           {
            "line": {
             "colorbar": {
              "outlinewidth": 0,
              "ticks": ""
             }
            },
            "marker": {
             "colorbar": {
              "outlinewidth": 0,
              "ticks": ""
             }
            },
            "type": "scatter3d"
           }
          ],
          "scattercarpet": [
           {
            "marker": {
             "colorbar": {
              "outlinewidth": 0,
              "ticks": ""
             }
            },
            "type": "scattercarpet"
           }
          ],
          "scattergeo": [
           {
            "marker": {
             "colorbar": {
              "outlinewidth": 0,
              "ticks": ""
             }
            },
            "type": "scattergeo"
           }
          ],
          "scattergl": [
           {
            "marker": {
             "line": {
              "color": "#283442"
             }
            },
            "type": "scattergl"
           }
          ],
          "scattermapbox": [
           {
            "marker": {
             "colorbar": {
              "outlinewidth": 0,
              "ticks": ""
             }
            },
            "type": "scattermapbox"
           }
          ],
          "scatterpolar": [
           {
            "marker": {
             "colorbar": {
              "outlinewidth": 0,
              "ticks": ""
             }
            },
            "type": "scatterpolar"
           }
          ],
          "scatterpolargl": [
           {
            "marker": {
             "colorbar": {
              "outlinewidth": 0,
              "ticks": ""
             }
            },
            "type": "scatterpolargl"
           }
          ],
          "scatterternary": [
           {
            "marker": {
             "colorbar": {
              "outlinewidth": 0,
              "ticks": ""
             }
            },
            "type": "scatterternary"
           }
          ],
          "surface": [
           {
            "colorbar": {
             "outlinewidth": 0,
             "ticks": ""
            },
            "colorscale": [
             [
              0,
              "#0d0887"
             ],
             [
              0.1111111111111111,
              "#46039f"
             ],
             [
              0.2222222222222222,
              "#7201a8"
             ],
             [
              0.3333333333333333,
              "#9c179e"
             ],
             [
              0.4444444444444444,
              "#bd3786"
             ],
             [
              0.5555555555555556,
              "#d8576b"
             ],
             [
              0.6666666666666666,
              "#ed7953"
             ],
             [
              0.7777777777777778,
              "#fb9f3a"
             ],
             [
              0.8888888888888888,
              "#fdca26"
             ],
             [
              1,
              "#f0f921"
             ]
            ],
            "type": "surface"
           }
          ],
          "table": [
           {
            "cells": {
             "fill": {
              "color": "#506784"
             },
             "line": {
              "color": "rgb(17,17,17)"
             }
            },
            "header": {
             "fill": {
              "color": "#2a3f5f"
             },
             "line": {
              "color": "rgb(17,17,17)"
             }
            },
            "type": "table"
           }
          ]
         },
         "layout": {
          "annotationdefaults": {
           "arrowcolor": "#f2f5fa",
           "arrowhead": 0,
           "arrowwidth": 1
          },
          "autotypenumbers": "strict",
          "coloraxis": {
           "colorbar": {
            "outlinewidth": 0,
            "ticks": ""
           }
          },
          "colorscale": {
           "diverging": [
            [
             0,
             "#8e0152"
            ],
            [
             0.1,
             "#c51b7d"
            ],
            [
             0.2,
             "#de77ae"
            ],
            [
             0.3,
             "#f1b6da"
            ],
            [
             0.4,
             "#fde0ef"
            ],
            [
             0.5,
             "#f7f7f7"
            ],
            [
             0.6,
             "#e6f5d0"
            ],
            [
             0.7,
             "#b8e186"
            ],
            [
             0.8,
             "#7fbc41"
            ],
            [
             0.9,
             "#4d9221"
            ],
            [
             1,
             "#276419"
            ]
           ],
           "sequential": [
            [
             0,
             "#0d0887"
            ],
            [
             0.1111111111111111,
             "#46039f"
            ],
            [
             0.2222222222222222,
             "#7201a8"
            ],
            [
             0.3333333333333333,
             "#9c179e"
            ],
            [
             0.4444444444444444,
             "#bd3786"
            ],
            [
             0.5555555555555556,
             "#d8576b"
            ],
            [
             0.6666666666666666,
             "#ed7953"
            ],
            [
             0.7777777777777778,
             "#fb9f3a"
            ],
            [
             0.8888888888888888,
             "#fdca26"
            ],
            [
             1,
             "#f0f921"
            ]
           ],
           "sequentialminus": [
            [
             0,
             "#0d0887"
            ],
            [
             0.1111111111111111,
             "#46039f"
            ],
            [
             0.2222222222222222,
             "#7201a8"
            ],
            [
             0.3333333333333333,
             "#9c179e"
            ],
            [
             0.4444444444444444,
             "#bd3786"
            ],
            [
             0.5555555555555556,
             "#d8576b"
            ],
            [
             0.6666666666666666,
             "#ed7953"
            ],
            [
             0.7777777777777778,
             "#fb9f3a"
            ],
            [
             0.8888888888888888,
             "#fdca26"
            ],
            [
             1,
             "#f0f921"
            ]
           ]
          },
          "colorway": [
           "#636efa",
           "#EF553B",
           "#00cc96",
           "#ab63fa",
           "#FFA15A",
           "#19d3f3",
           "#FF6692",
           "#B6E880",
           "#FF97FF",
           "#FECB52"
          ],
          "font": {
           "color": "#f2f5fa"
          },
          "geo": {
           "bgcolor": "rgb(17,17,17)",
           "lakecolor": "rgb(17,17,17)",
           "landcolor": "rgb(17,17,17)",
           "showlakes": true,
           "showland": true,
           "subunitcolor": "#506784"
          },
          "hoverlabel": {
           "align": "left"
          },
          "hovermode": "closest",
          "mapbox": {
           "style": "dark"
          },
          "paper_bgcolor": "rgb(17,17,17)",
          "plot_bgcolor": "rgb(17,17,17)",
          "polar": {
           "angularaxis": {
            "gridcolor": "#506784",
            "linecolor": "#506784",
            "ticks": ""
           },
           "bgcolor": "rgb(17,17,17)",
           "radialaxis": {
            "gridcolor": "#506784",
            "linecolor": "#506784",
            "ticks": ""
           }
          },
          "scene": {
           "xaxis": {
            "backgroundcolor": "rgb(17,17,17)",
            "gridcolor": "#506784",
            "gridwidth": 2,
            "linecolor": "#506784",
            "showbackground": true,
            "ticks": "",
            "zerolinecolor": "#C8D4E3"
           },
           "yaxis": {
            "backgroundcolor": "rgb(17,17,17)",
            "gridcolor": "#506784",
            "gridwidth": 2,
            "linecolor": "#506784",
            "showbackground": true,
            "ticks": "",
            "zerolinecolor": "#C8D4E3"
           },
           "zaxis": {
            "backgroundcolor": "rgb(17,17,17)",
            "gridcolor": "#506784",
            "gridwidth": 2,
            "linecolor": "#506784",
            "showbackground": true,
            "ticks": "",
            "zerolinecolor": "#C8D4E3"
           }
          },
          "shapedefaults": {
           "line": {
            "color": "#f2f5fa"
           }
          },
          "sliderdefaults": {
           "bgcolor": "#C8D4E3",
           "bordercolor": "rgb(17,17,17)",
           "borderwidth": 1,
           "tickwidth": 0
          },
          "ternary": {
           "aaxis": {
            "gridcolor": "#506784",
            "linecolor": "#506784",
            "ticks": ""
           },
           "baxis": {
            "gridcolor": "#506784",
            "linecolor": "#506784",
            "ticks": ""
           },
           "bgcolor": "rgb(17,17,17)",
           "caxis": {
            "gridcolor": "#506784",
            "linecolor": "#506784",
            "ticks": ""
           }
          },
          "title": {
           "x": 0.05
          },
          "updatemenudefaults": {
           "bgcolor": "#506784",
           "borderwidth": 0
          },
          "xaxis": {
           "automargin": true,
           "gridcolor": "#283442",
           "linecolor": "#506784",
           "ticks": "",
           "title": {
            "standoff": 15
           },
           "zerolinecolor": "#283442",
           "zerolinewidth": 2
          },
          "yaxis": {
           "automargin": true,
           "gridcolor": "#283442",
           "linecolor": "#506784",
           "ticks": "",
           "title": {
            "standoff": 15
           },
           "zerolinecolor": "#283442",
           "zerolinewidth": 2
          }
         }
        },
        "width": 700,
        "xaxis": {
         "autorange": true,
         "range": [
          "2023-06-04",
          "2025-04-08"
         ],
         "type": "date"
        },
        "yaxis": {
         "autorange": true,
         "range": [
          -70.42494745678329,
          228.67499884075556
         ],
         "title": {
          "text": "Return ($)"
         },
         "type": "linear"
        }
       }
      },
      "image/png": "[encoded data removed]",
      "text/html": [
       "<div>                            <div id=\"0c19e68d-9d13-427d-914d-0285090f9fda\" class=\"plotly-graph-div\" style=\"height:160px; width:700px;\"></div>            <script type=\"text/javascript\">                require([\"plotly\"], function(Plotly) {                    window.PLOTLYENV=window.PLOTLYENV || {};                                    if (document.getElementById(\"0c19e68d-9d13-427d-914d-0285090f9fda\")) {                    Plotly.newPlot(                        \"0c19e68d-9d13-427d-914d-0285090f9fda\",                        [{\"line\":{\"color\":\"#1abc9c\"},\"mode\":\"lines\",\"name\":\"Net Returns\",\"x\":[\"2023-06-04T00:00:00\",\"2023-06-05T00:00:00\",\"2023-06-06T00:00:00\",\"2023-06-07T00:00:00\",\"2023-06-08T00:00:00\",\"2023-06-09T00:00:00\",\"2023-06-10T00:00:00\",\"2023-06-11T00:00:00\",\"2023-06-12T00:00:00\",\"2023-06-13T00:00:00\",\"2023-06-14T00:00:00\",\"2023-06-15T00:00:00\",\"2023-06-16T00:00:00\",\"2023-06-17T00:00:00\",\"2023-06-18T00:00:00\",\"2023-06-19T00:00:00\",\"2023-06-20T00:00:00\",\"2023-06-21T00:00:00\",\"2023-06-22T00:00:00\",\"2023-06-23T00:00:00\",\"2023-06-24T00:00:00\",\"2023-06-25T00:00:00\",\"2023-06-26T00:00:00\",\"2023-06-27T00:00:00\",\"2023-06-28T00:00:00\",\"2023-06-29T00:00:00\",\"2023-06-30T00:00:00\",\"2023-07-01T00:00:00\",\"2023-07-02T00:00:00\",\"2023-07-03T00:00:00\",\"2023-07-04T00:00:00\",\"2023-07-05T00:00:00\",\"2023-07-06T00:00:00\",\"2023-07-07T00:00:00\",\"2023-07-08T00:00:00\",\"2023-07-09T00:00:00\",\"2023-07-10T00:00:00\",\"2023-07-11T00:00:00\",\"2023-07-12T00:00:00\",\"2023-07-13T00:00:00\",\"2023-07-14T00:00:00\",\"2023-07-15T00:00:00\",\"2023-07-16T00:00:00\",\"2023-07-17T00:00:00\",\"2023-07-18T00:00:00\",\"2023-07-19T00:00:00\",\"2023-07-20T00:00:00\",\"2023-07-21T00:00:00\",\"2023-07-22T00:00:00\",\"2023-07-23T00:00:00\",\"2023-07-24T00:00:00\",\"2023-07-25T00:00:00\",\"2023-07-26T00:00:00\",\"2023-07-27T00:00:00\",\"2023-07-28T00:00:00\",\"2023-07-29T00:00:00\",\"2023-07-30T00:00:00\",\"2023-07-31T00:00:00\",\"2023-08-01T00:00:00\",\"2023-08-02T00:00:00\",\"2023-08-03T00:00:00\",\"2023-08-04T00:00:00\",\"2023-08-05T00:00:00\",\"2023-08-06T00:00:00\",\"2023-08-07T00:00:00\",\"2023-08-08T00:00:00\",\"2023-08-09T00:00:00\",\"2023-08-10T00:00:00\",\"2023-08-11T00:00:00\",\"2023-08-12T00:00:00\",\"2023-08-13T00:00:00\",\"2023-08-14T00:00:00\",\"2023-08-15T00:00:00\",\"2023-08-16T00:00:00\",\"2023-08-17T00:00:00\",\"2023-08-18T00:00:00\",\"2023-08-19T00:00:00\",\"2023-08-20T00:00:00\",\"2023-08-21T00:00:00\",\"2023-08-22T00:00:00\",\"2023-08-23T00:00:00\",\"2023-08-24T00:00:00\",\"2023-08-25T00:00:00\",\"2023-08-26T00:00:00\",\"2023-08-27T00:00:00\",\"2023-08-28T00:00:00\",\"2023-08-29T00:00:00\",\"2023-08-30T00:00:00\",\"2023-08-31T00:00:00\",\"2023-09-01T00:00:00\",\"2023-09-02T00:00:00\",\"2023-09-03T00:00:00\",\"2023-09-04T00:00:00\",\"2023-09-05T00:00:00\",\"2023-09-06T00:00:00\",\"2023-09-07T00:00:00\",\"2023-09-08T00:00:00\",\"2023-09-09T00:00:00\",\"2023-09-10T00:00:00\",\"2023-09-11T00:00:00\",\"2023-09-12T00:00:00\",\"2023-09-13T00:00:00\",\"2023-09-14T00:00:00\",\"2023-09-15T00:00:00\",\"2023-09-16T00:00:00\",\"2023-09-17T00:00:00\",\"2023-09-18T00:00:00\",\"2023-09-19T00:00:00\",\"2023-09-20T00:00:00\",\"2023-09-21T00:00:00\",\"2023-09-22T00:00:00\",\"2023-09-23T00:00:00\",\"2023-09-24T00:00:00\",\"2023-09-25T00:00:00\",\"2023-09-26T00:00:00\",\"2023-09-27T00:00:00\",\"2023-09-28T00:00:00\",\"2023-09-29T00:00:00\",\"2023-09-30T00:00:00\",\"2023-10-01T00:00:00\",\"2023-10-02T00:00:00\",\"2023-10-03T00:00:00\",\"2023-10-04T00:00:00\",\"2023-10-05T00:00:00\",\"2023-10-06T00:00:00\",\"2023-10-07T00:00:00\",\"2023-10-08T00:00:00\",\"2023-10-09T00:00:00\",\"2023-10-10T00:00:00\",\"2023-10-11T00:00:00\",\"2023-10-12T00:00:00\",\"2023-10-13T00:00:00\",\"2023-10-14T00:00:00\",\"2023-10-15T00:00:00\",\"2023-10-16T00:00:00\",\"2023-10-17T00:00:00\",\"2023-10-18T00:00:00\",\"2023-10-19T00:00:00\",\"2023-10-20T00:00:00\",\"2023-10-21T00:00:00\",\"2023-10-22T00:00:00\",\"2023-10-23T00:00:00\",\"2023-10-24T00:00:00\",\"2023-10-25T00:00:00\",\"2023-10-26T00:00:00\",\"2023-10-27T00:00:00\",\"2023-10-28T00:00:00\",\"2023-10-29T00:00:00\",\"2023-10-30T00:00:00\",\"2023-10-31T00:00:00\",\"2023-11-01T00:00:00\",\"2023-11-02T00:00:00\",\"2023-11-03T00:00:00\",\"2023-11-04T00:00:00\",\"2023-11-05T00:00:00\",\"2023-11-06T00:00:00\",\"2023-11-07T00:00:00\",\"2023-11-08T00:00:00\",\"2023-11-09T00:00:00\",\"2023-11-10T00:00:00\",\"2023-11-11T00:00:00\",\"2023-11-12T00:00:00\",\"2023-11-13T00:00:00\",\"2023-11-14T00:00:00\",\"2023-11-15T00:00:00\",\"2023-11-16T00:00:00\",\"2023-11-17T00:00:00\",\"2023-11-18T00:00:00\",\"2023-11-19T00:00:00\",\"2023-11-20T00:00:00\",\"2023-11-21T00:00:00\",\"2023-11-22T00:00:00\",\"2023-11-23T00:00:00\",\"2023-11-24T00:00:00\",\"2023-11-25T00:00:00\",\"2023-11-26T00:00:00\",\"2023-11-27T00:00:00\",\"2023-11-28T00:00:00\",\"2023-11-29T00:00:00\",\"2023-11-30T00:00:00\",\"2023-12-01T00:00:00\",\"2023-12-02T00:00:00\",\"2023-12-03T00:00:00\",\"2023-12-04T00:00:00\",\"2023-12-05T00:00:00\",\"2023-12-06T00:00:00\",\"2023-12-07T00:00:00\",\"2023-12-08T00:00:00\",\"2023-12-09T00:00:00\",\"2023-12-10T00:00:00\",\"2023-12-11T00:00:00\",\"2023-12-12T00:00:00\",\"2023-12-13T00:00:00\",\"2023-12-14T00:00:00\",\"2023-12-15T00:00:00\",\"2023-12-16T00:00:00\",\"2023-12-17T00:00:00\",\"2023-12-18T00:00:00\",\"2023-12-19T00:00:00\",\"2023-12-20T00:00:00\",\"2023-12-21T00:00:00\",\"2023-12-22T00:00:00\",\"2023-12-23T00:00:00\",\"2023-12-24T00:00:00\",\"2023-12-25T00:00:00\",\"2023-12-26T00:00:00\",\"2023-12-27T00:00:00\",\"2023-12-28T00:00:00\",\"2023-12-29T00:00:00\",\"2023-12-30T00:00:00\",\"2023-12-31T00:00:00\",\"2024-01-01T00:00:00\",\"2024-01-02T00:00:00\",\"2024-01-03T00:00:00\",\"2024-01-04T00:00:00\",\"2024-01-05T00:00:00\",\"2024-01-06T00:00:00\",\"2024-01-07T00:00:00\",\"2024-01-08T00:00:00\",\"2024-01-09T00:00:00\",\"2024-01-10T00:00:00\",\"2024-01-11T00:00:00\",\"2024-01-12T00:00:00\",\"2024-01-13T00:00:00\",\"2024-01-14T00:00:00\",\"2024-01-15T00:00:00\",\"2024-01-16T00:00:00\",\"2024-01-17T00:00:00\",\"2024-01-18T00:00:00\",\"2024-01-19T00:00:00\",\"2024-01-20T00:00:00\",\"2024-01-21T00:00:00\",\"2024-01-22T00:00:00\",\"2024-01-23T00:00:00\",\"2024-01-24T00:00:00\",\"2024-01-25T00:00:00\",\"2024-01-26T00:00:00\",\"2024-01-27T00:00:00\",\"2024-01-28T00:00:00\",\"2024-01-29T00:00:00\",\"2024-01-30T00:00:00\",\"2024-01-31T00:00:00\",\"2024-02-01T00:00:00\",\"2024-02-02T00:00:00\",\"2024-02-03T00:00:00\",\"2024-02-04T00:00:00\",\"2024-02-05T00:00:00\",\"2024-02-06T00:00:00\",\"2024-02-07T00:00:00\",\"2024-02-08T00:00:00\",\"2024-02-09T00:00:00\",\"2024-02-10T00:00:00\",\"2024-02-11T00:00:00\",\"2024-02-12T00:00:00\",\"2024-02-13T00:00:00\",\"2024-02-14T00:00:00\",\"2024-02-15T00:00:00\",\"2024-02-16T00:00:00\",\"2024-02-17T00:00:00\",\"2024-02-18T00:00:00\",\"2024-02-19T00:00:00\",\"2024-02-20T00:00:00\",\"2024-02-21T00:00:00\",\"2024-02-22T00:00:00\",\"2024-02-23T00:00:00\",\"2024-02-24T00:00:00\",\"2024-02-25T00:00:00\",\"2024-02-26T00:00:00\",\"2024-02-27T00:00:00\",\"2024-02-28T00:00:00\",\"2024-02-29T00:00:00\",\"2024-03-01T00:00:00\",\"2024-03-02T00:00:00\",\"2024-03-03T00:00:00\",\"2024-03-04T00:00:00\",\"2024-03-05T00:00:00\",\"2024-03-06T00:00:00\",\"2024-03-07T00:00:00\",\"2024-03-08T00:00:00\",\"2024-03-09T00:00:00\",\"2024-03-10T00:00:00\",\"2024-03-11T00:00:00\",\"2024-03-12T00:00:00\",\"2024-03-13T00:00:00\",\"2024-03-14T00:00:00\",\"2024-03-15T00:00:00\",\"2024-03-16T00:00:00\",\"2024-03-17T00:00:00\",\"2024-03-18T00:00:00\",\"2024-03-19T00:00:00\",\"2024-03-20T00:00:00\",\"2024-03-21T00:00:00\",\"2024-03-22T00:00:00\",\"2024-03-23T00:00:00\",\"2024-03-24T00:00:00\",\"2024-03-25T00:00:00\",\"2024-03-26T00:00:00\",\"2024-03-27T00:00:00\",\"2024-03-28T00:00:00\",\"2024-03-29T00:00:00\",\"2024-03-30T00:00:00\",\"2024-03-31T00:00:00\",\"2024-04-01T00:00:00\",\"2024-04-02T00:00:00\",\"2024-04-03T00:00:00\",\"2024-04-04T00:00:00\",\"2024-04-05T00:00:00\",\"2024-04-06T00:00:00\",\"2024-04-07T00:00:00\",\"2024-04-08T00:00:00\",\"2024-04-09T00:00:00\",\"2024-04-10T00:00:00\",\"2024-04-11T00:00:00\",\"2024-04-12T00:00:00\",\"2024-04-13T00:00:00\",\"2024-04-14T00:00:00\",\"2024-04-15T00:00:00\",\"2024-04-16T00:00:00\",\"2024-04-17T00:00:00\",\"2024-04-18T00:00:00\",\"2024-04-19T00:00:00\",\"2024-04-20T00:00:00\",\"2024-04-21T00:00:00\",\"2024-04-22T00:00:00\",\"2024-04-23T00:00:00\",\"2024-04-24T00:00:00\",\"2024-04-25T00:00:00\",\"2024-04-26T00:00:00\",\"2024-04-27T00:00:00\",\"2024-04-28T00:00:00\",\"2024-04-29T00:00:00\",\"2024-04-30T00:00:00\",\"2024-05-01T00:00:00\",\"2024-05-02T00:00:00\",\"2024-05-03T00:00:00\",\"2024-05-04T00:00:00\",\"2024-05-05T00:00:00\",\"2024-05-06T00:00:00\",\"2024-05-07T00:00:00\",\"2024-05-08T00:00:00\",\"2024-05-09T00:00:00\",\"2024-05-10T00:00:00\",\"2024-05-11T00:00:00\",\"2024-05-12T00:00:00\",\"2024-05-13T00:00:00\",\"2024-05-14T00:00:00\",\"2024-05-15T00:00:00\",\"2024-05-16T00:00:00\",\"2024-05-17T00:00:00\",\"2024-05-18T00:00:00\",\"2024-05-19T00:00:00\",\"2024-05-20T00:00:00\",\"2024-05-21T00:00:00\",\"2024-05-22T00:00:00\",\"2024-05-23T00:00:00\",\"2024-05-24T00:00:00\",\"2024-05-25T00:00:00\",\"2024-05-26T00:00:00\",\"2024-05-27T00:00:00\",\"2024-05-28T00:00:00\",\"2024-05-29T00:00:00\",\"2024-05-30T00:00:00\",\"2024-05-31T00:00:00\",\"2024-06-01T00:00:00\",\"2024-06-02T00:00:00\",\"2024-06-03T00:00:00\",\"2024-06-04T00:00:00\",\"2024-06-05T00:00:00\",\"2024-06-06T00:00:00\",\"2024-06-07T00:00:00\",\"2024-06-08T00:00:00\",\"2024-06-09T00:00:00\",\"2024-06-10T00:00:00\",\"2024-06-11T00:00:00\",\"2024-06-12T00:00:00\",\"2024-06-13T00:00:00\",\"2024-06-14T00:00:00\",\"2024-06-15T00:00:00\",\"2024-06-16T00:00:00\",\"2024-06-17T00:00:00\",\"2024-06-18T00:00:00\",\"2024-06-19T00:00:00\",\"2024-06-20T00:00:00\",\"2024-06-21T00:00:00\",\"2024-06-22T00:00:00\",\"2024-06-23T00:00:00\",\"2024-06-24T00:00:00\",\"2024-06-25T00:00:00\",\"2024-06-26T00:00:00\",\"2024-06-27T00:00:00\",\"2024-06-28T00:00:00\",\"2024-06-29T00:00:00\",\"2024-06-30T00:00:00\",\"2024-07-01T00:00:00\",\"2024-07-02T00:00:00\",\"2024-07-03T00:00:00\",\"2024-07-04T00:00:00\",\"2024-07-05T00:00:00\",\"2024-07-06T00:00:00\",\"2024-07-07T00:00:00\",\"2024-07-08T00:00:00\",\"2024-07-09T00:00:00\",\"2024-07-10T00:00:00\",\"2024-07-11T00:00:00\",\"2024-07-12T00:00:00\",\"2024-07-13T00:00:00\",\"2024-07-14T00:00:00\",\"2024-07-15T00:00:00\",\"2024-07-16T00:00:00\",\"2024-07-17T00:00:00\",\"2024-07-18T00:00:00\",\"2024-07-19T00:00:00\",\"2024-07-20T00:00:00\",\"2024-07-21T00:00:00\",\"2024-07-22T00:00:00\",\"2024-07-23T00:00:00\",\"2024-07-24T00:00:00\",\"2024-07-25T00:00:00\",\"2024-07-26T00:00:00\",\"2024-07-27T00:00:00\",\"2024-07-28T00:00:00\",\"2024-07-29T00:00:00\",\"2024-07-30T00:00:00\",\"2024-07-31T00:00:00\",\"2024-08-01T00:00:00\",\"2024-08-02T00:00:00\",\"2024-08-03T00:00:00\",\"2024-08-04T00:00:00\",\"2024-08-05T00:00:00\",\"2024-08-06T00:00:00\",\"2024-08-07T00:00:00\",\"2024-08-08T00:00:00\",\"2024-08-09T00:00:00\",\"2024-08-10T00:00:00\",\"2024-08-11T00:00:00\",\"2024-08-12T00:00:00\",\"2024-08-13T00:00:00\",\"2024-08-14T00:00:00\",\"2024-08-15T00:00:00\",\"2024-08-16T00:00:00\",\"2024-08-17T00:00:00\",\"2024-08-18T00:00:00\",\"2024-08-19T00:00:00\",\"2024-08-20T00:00:00\",\"2024-08-21T00:00:00\",\"2024-08-22T00:00:00\",\"2024-08-23T00:00:00\",\"2024-08-24T00:00:00\",\"2024-08-25T00:00:00\",\"2024-08-26T00:00:00\",\"2024-08-27T00:00:00\",\"2024-08-28T00:00:00\",\"2024-08-29T00:00:00\",\"2024-08-30T00:00:00\",\"2024-08-31T00:00:00\",\"2024-09-01T00:00:00\",\"2024-09-02T00:00:00\",\"2024-09-03T00:00:00\",\"2024-09-04T00:00:00\",\"2024-09-05T00:00:00\",\"2024-09-06T00:00:00\",\"2024-09-07T00:00:00\",\"2024-09-08T00:00:00\",\"2024-09-09T00:00:00\",\"2024-09-10T00:00:00\",\"2024-09-11T00:00:00\",\"2024-09-12T00:00:00\",\"2024-09-13T00:00:00\",\"2024-09-14T00:00:00\",\"2024-09-15T00:00:00\",\"2024-09-16T00:00:00\",\"2024-09-17T00:00:00\",\"2024-09-18T00:00:00\",\"2024-09-19T00:00:00\",\"2024-09-20T00:00:00\",\"2024-09-21T00:00:00\",\"2024-09-22T00:00:00\",\"2024-09-23T00:00:00\",\"2024-09-24T00:00:00\",\"2024-09-25T00:00:00\",\"2024-09-26T00:00:00\",\"2024-09-27T00:00:00\",\"2024-09-28T00:00:00\",\"2024-09-29T00:00:00\",\"2024-09-30T00:00:00\",\"2024-10-01T00:00:00\",\"2024-10-02T00:00:00\",\"2024-10-03T00:00:00\",\"2024-10-04T00:00:00\",\"2024-10-05T00:00:00\",\"2024-10-06T00:00:00\",\"2024-10-07T00:00:00\",\"2024-10-08T00:00:00\",\"2024-10-09T00:00:00\",\"2024-10-10T00:00:00\",\"2024-10-11T00:00:00\",\"2024-10-12T00:00:00\",\"2024-10-13T00:00:00\",\"2024-10-14T00:00:00\",\"2024-10-15T00:00:00\",\"2024-10-16T00:00:00\",\"2024-10-17T00:00:00\",\"2024-10-18T00:00:00\",\"2024-10-19T00:00:00\",\"2024-10-20T00:00:00\",\"2024-10-21T00:00:00\",\"2024-10-22T00:00:00\",\"2024-10-23T00:00:00\",\"2024-10-24T00:00:00\",\"2024-10-25T00:00:00\",\"2024-10-26T00:00:00\",\"2024-10-27T00:00:00\",\"2024-10-28T00:00:00\",\"2024-10-29T00:00:00\",\"2024-10-30T00:00:00\",\"2024-10-31T00:00:00\",\"2024-11-01T00:00:00\",\"2024-11-02T00:00:00\",\"2024-11-03T00:00:00\",\"2024-11-04T00:00:00\",\"2024-11-05T00:00:00\",\"2024-11-06T00:00:00\",\"2024-11-07T00:00:00\",\"2024-11-08T00:00:00\",\"2024-11-09T00:00:00\",\"2024-11-10T00:00:00\",\"2024-11-11T00:00:00\",\"2024-11-12T00:00:00\",\"2024-11-13T00:00:00\",\"2024-11-14T00:00:00\",\"2024-11-15T00:00:00\",\"2024-11-16T00:00:00\",\"2024-11-17T00:00:00\",\"2024-11-18T00:00:00\",\"2024-11-19T00:00:00\",\"2024-11-20T00:00:00\",\"2024-11-21T00:00:00\",\"2024-11-22T00:00:00\",\"2024-11-23T00:00:00\",\"2024-11-24T00:00:00\",\"2024-11-25T00:00:00\",\"2024-11-26T00:00:00\",\"2024-11-27T00:00:00\",\"2024-11-28T00:00:00\",\"2024-11-29T00:00:00\",\"2024-11-30T00:00:00\",\"2024-12-01T00:00:00\",\"2024-12-02T00:00:00\",\"2024-12-03T00:00:00\",\"2024-12-04T00:00:00\",\"2024-12-05T00:00:00\",\"2024-12-06T00:00:00\",\"2024-12-07T00:00:00\",\"2024-12-08T00:00:00\",\"2024-12-09T00:00:00\",\"2024-12-10T00:00:00\",\"2024-12-11T00:00:00\",\"2024-12-12T00:00:00\",\"2024-12-13T00:00:00\",\"2024-12-14T00:00:00\",\"2024-12-15T00:00:00\",\"2024-12-16T00:00:00\",\"2024-12-17T00:00:00\",\"2024-12-18T00:00:00\",\"2024-12-19T00:00:00\",\"2024-12-20T00:00:00\",\"2024-12-21T00:00:00\",\"2024-12-22T00:00:00\",\"2024-12-23T00:00:00\",\"2024-12-24T00:00:00\",\"2024-12-25T00:00:00\",\"2024-12-26T00:00:00\",\"2024-12-27T00:00:00\",\"2024-12-28T00:00:00\",\"2024-12-29T00:00:00\",\"2024-12-30T00:00:00\",\"2024-12-31T00:00:00\",\"2025-01-01T00:00:00\",\"2025-01-02T00:00:00\",\"2025-01-03T00:00:00\",\"2025-01-04T00:00:00\",\"2025-01-05T00:00:00\",\"2025-01-06T00:00:00\",\"2025-01-07T00:00:00\",\"2025-01-08T00:00:00\",\"2025-01-09T00:00:00\",\"2025-01-10T00:00:00\",\"2025-01-11T00:00:00\",\"2025-01-12T00:00:00\",\"2025-01-13T00:00:00\",\"2025-01-14T00:00:00\",\"2025-01-15T00:00:00\",\"2025-01-16T00:00:00\",\"2025-01-17T00:00:00\",\"2025-01-18T00:00:00\",\"2025-01-19T00:00:00\",\"2025-01-20T00:00:00\",\"2025-01-21T00:00:00\",\"2025-01-22T00:00:00\",\"2025-01-23T00:00:00\",\"2025-01-24T00:00:00\",\"2025-01-25T00:00:00\",\"2025-01-26T00:00:00\",\"2025-01-27T00:00:00\",\"2025-01-28T00:00:00\",\"2025-01-29T00:00:00\",\"2025-01-30T00:00:00\",\"2025-01-31T00:00:00\",\"2025-02-01T00:00:00\",\"2025-02-02T00:00:00\",\"2025-02-03T00:00:00\",\"2025-02-04T00:00:00\",\"2025-02-05T00:00:00\",\"2025-02-06T00:00:00\",\"2025-02-07T00:00:00\",\"2025-02-08T00:00:00\",\"2025-02-09T00:00:00\",\"2025-02-10T00:00:00\",\"2025-02-11T00:00:00\",\"2025-02-12T00:00:00\",\"2025-02-13T00:00:00\",\"2025-02-14T00:00:00\",\"2025-02-15T00:00:00\",\"2025-02-16T00:00:00\",\"2025-02-17T00:00:00\",\"2025-02-18T00:00:00\",\"2025-02-19T00:00:00\",\"2025-02-20T00:00:00\",\"2025-02-21T00:00:00\",\"2025-02-22T00:00:00\",\"2025-02-23T00:00:00\",\"2025-02-24T00:00:00\",\"2025-02-25T00:00:00\",\"2025-02-26T00:00:00\",\"2025-02-27T00:00:00\",\"2025-02-28T00:00:00\",\"2025-03-01T00:00:00\",\"2025-03-02T00:00:00\",\"2025-03-03T00:00:00\",\"2025-03-04T00:00:00\",\"2025-03-05T00:00:00\",\"2025-03-06T00:00:00\",\"2025-03-07T00:00:00\",\"2025-03-08T00:00:00\",\"2025-03-09T00:00:00\",\"2025-03-10T00:00:00\",\"2025-03-11T00:00:00\",\"2025-03-12T00:00:00\",\"2025-03-13T00:00:00\",\"2025-03-14T00:00:00\",\"2025-03-15T00:00:00\",\"2025-03-16T00:00:00\",\"2025-03-17T00:00:00\",\"2025-03-18T00:00:00\",\"2025-03-19T00:00:00\",\"2025-03-20T00:00:00\",\"2025-03-21T00:00:00\",\"2025-03-22T00:00:00\",\"2025-03-23T00:00:00\",\"2025-03-24T00:00:00\",\"2025-03-25T00:00:00\",\"2025-03-26T00:00:00\",\"2025-03-27T00:00:00\",\"2025-03-28T00:00:00\",\"2025-03-29T00:00:00\",\"2025-03-30T00:00:00\",\"2025-03-31T00:00:00\",\"2025-04-01T00:00:00\",\"2025-04-02T00:00:00\",\"2025-04-03T00:00:00\",\"2025-04-04T00:00:00\",\"2025-04-05T00:00:00\",\"2025-04-06T00:00:00\",\"2025-04-07T00:00:00\",\"2025-04-08T00:00:00\"],\"y\":[6.8900008392333945,6.8900008392333945,6.8900008392333945,6.8900008392333945,6.8900008392333945,6.8900008392333945,6.8900008392333945,6.8900008392333945,6.8900008392333945,6.8900008392333945,6.8900008392333945,6.8900008392333945,6.8900008392333945,0.510001411437969,0.510001411437969,0.510001411437969,0.510001411437969,0.510001411437969,0.510001411437969,0.5100014114379974,0.5100014114379974,0.5100014114379974,29.880000648498537,29.140000610351535,29.140000610351535,29.140000610351535,29.140000610351535,29.140000610351535,29.140000610351535,29.140000610351535,29.140000610351535,29.140000610351535,29.140000610351535,29.140000610351535,29.140000610351535,29.140000610351535,29.140000610351535,29.140000610351535,156.2400032806396,156.2400032806396,156.2400032806396,156.2400032806396,156.2400032806396,156.2400032806396,156.2400032806396,156.2400032806396,156.2400032806396,156.2400032806396,168.5200032043457,168.5200032043457,168.5200032043457,168.5200032043457,168.5200032043457,168.5200032043457,168.5200032043457,168.5200032043457,168.5200032043457,168.5200032043457,168.5200032043457,168.5200032043457,168.5200032043457,168.5200032043457,168.5200032043457,168.5200032043457,168.5200032043457,168.5200032043457,168.5200032043457,168.5200032043457,168.5200032043457,161.0800046539306,161.0800046539306,161.0800046539306,161.0800046539306,161.0800046539306,161.0800046539306,161.0800046539306,161.0800046539306,161.0800046539306,161.0800046539306,161.0800046539306,164.71000465393058,164.71000465393058,164.71000465393058,164.71000465393058,164.71000465393058,164.71000465393058,164.71000465393058,164.71000465393058,164.71000465393058,164.71000465393058,164.71000465393058,164.71000465393058,164.71000465393058,164.71000465393058,213.72000152587862,213.72000152587862,213.72000152587862,213.72000152587862,213.72000152587862,213.72000152587862,213.72000152587862,213.72000152587862,213.72000152587862,207.44000198364256,207.44000198364256,207.44000198364256,207.44000198364256,207.44000198364256,207.44000198364256,207.44000198364256,207.44000198364256,175.64000259399404,175.64000259399404,175.64000259399404,175.64000259399404,175.64000259399404,175.64000259399404,175.64000259399404,175.64000259399404,175.64000259399404,175.64000259399404,175.64000259399404,175.64000259399404,175.64000259399404,175.64000259399404,175.64000259399404,175.64000259399404,175.64000259399404,175.64000259399404,175.64000259399404,175.64000259399404,175.64000259399404,175.64000259399404,175.64000259399404,175.64000259399404,175.64000259399404,175.64000259399404,175.64000259399404,175.64000259399404,175.64000259399404,175.64000259399404,175.64000259399404,175.64000259399404,175.64000259399404,175.64000259399404,175.64000259399404,175.64000259399404,175.64000259399404,175.64000259399404,175.64000259399404,179.41000213623033,179.41000213623033,179.41000213623033,179.41000213623033,179.41000213623033,179.41000213623033,179.41000213623033,179.41000213623033,179.41000213623033,184.37000190734852,184.37000190734852,184.37000190734852,184.37000190734852,184.37000190734852,184.37000190734852,184.37000190734852,184.37000190734852,184.37000190734852,184.37000190734852,184.37000190734852,184.37000190734852,184.37000190734852,184.37000190734852,184.37000190734852,184.37000190734852,184.37000190734852,184.37000190734852,184.37000190734852,184.37000190734852,184.37000190734852,184.37000190734852,184.37000190734852,184.37000190734852,184.37000190734852,184.37000190734852,184.37000190734852,184.37000190734852,184.37000190734852,184.37000190734852,184.37000190734852,184.37000190734852,184.37000190734852,184.37000190734852,184.37000190734852,184.37000190734852,184.37000190734852,184.37000190734852,184.37000190734852,184.37000190734852,184.37000190734852,184.37000190734852,184.37000190734852,184.37000190734852,184.37000190734852,184.37000190734852,184.37000190734852,184.37000190734852,184.37000190734852,184.37000190734852,184.37000190734852,184.37000190734852,184.37000190734852,184.37000190734852,184.37000190734852,184.37000190734852,184.37000190734852,184.37000190734852,184.37000190734852,184.37000190734852,184.37000190734852,184.37000190734852,184.37000190734852,184.37000190734852,184.37000190734852,184.37000190734852,184.37000190734852,184.37000190734852,184.37000190734852,184.37000190734852,184.37000190734852,184.37000190734852,184.37000190734852,184.37000190734852,184.37000190734852,184.37000190734852,184.37000190734852,184.37000190734852,184.37000190734852,184.37000190734852,184.37000190734852,184.37000190734852,184.37000190734852,184.37000190734852,184.37000190734852,184.37000190734852,184.37000190734852,184.37000190734852,184.37000190734852,189.55000183105471,189.55000183105471,189.55000183105471,189.55000183105471,189.55000183105471,189.55000183105471,189.55000183105471,189.55000183105471,189.55000183105471,189.55000183105471,189.55000183105471,189.55000183105471,189.55000183105471,189.55000183105471,189.55000183105471,189.55000183105471,189.55000183105471,189.55000183105471,189.55000183105471,189.55000183105471,189.55000183105471,189.55000183105471,189.55000183105471,189.55000183105471,189.55000183105471,189.55000183105471,189.55000183105471,189.55000183105471,189.55000183105471,189.55000183105471,189.55000183105471,189.55000183105471,189.55000183105471,189.55000183105471,189.55000183105471,189.55000183105471,189.55000183105471,189.55000183105471,189.55000183105471,189.55000183105471,189.55000183105471,189.55000183105471,189.55000183105471,189.55000183105471,189.55000183105471,189.55000183105471,189.55000183105471,189.55000183105471,189.55000183105471,189.55000183105471,189.55000183105471,189.55000183105471,189.55000183105471,189.55000183105471,189.55000183105471,189.55000183105471,189.55000183105471,189.55000183105471,189.55000183105471,189.55000183105471,189.55000183105471,189.55000183105471,189.55000183105471,189.55000183105471,189.55000183105471,189.55000183105471,189.55000183105471,189.55000183105471,189.55000183105471,189.55000183105471,189.55000183105471,189.55000183105471,189.55000183105471,189.55000183105471,189.55000183105471,189.55000183105471,189.55000183105471,189.55000183105471,189.55000183105471,189.55000183105471,189.55000183105471,189.55000183105471,189.55000183105471,189.55000183105471,189.55000183105471,189.55000183105471,189.55000183105471,189.55000183105471,189.55000183105471,189.55000183105471,189.55000183105471,189.55000183105471,189.55000183105471,189.55000183105471,189.55000183105471,189.55000183105471,189.55000183105471,189.55000183105471,189.55000183105471,189.55000183105471,189.55000183105471,189.55000183105471,189.55000183105471,189.55000183105471,189.55000183105471,189.55000183105471,189.55000183105471,189.55000183105471,189.55000183105471,189.55000183105471,189.55000183105471,189.55000183105471,189.55000183105471,189.55000183105471,189.55000183105471,189.55000183105471,189.55000183105471,189.55000183105471,189.55000183105471,189.55000183105471,189.55000183105471,189.55000183105471,189.55000183105471,189.55000183105471,189.55000183105471,189.55000183105471,189.55000183105471,189.55000183105471,189.55000183105471,189.55000183105471,189.55000183105471,189.55000183105471,189.55000183105471,189.55000183105471,189.55000183105471,189.55000183105471,189.55000183105471,189.55000183105471,189.55000183105471,189.55000183105471,189.55000183105471,189.55000183105471,189.55000183105471,189.55000183105471,189.55000183105471,189.55000183105471,189.55000183105471,189.55000183105471,189.55000183105471,189.55000183105471,189.55000183105471,189.55000183105471,189.55000183105471,189.55000183105471,189.55000183105471,189.55000183105471,189.55000183105471,189.55000183105471,189.55000183105471,189.55000183105471,189.55000183105471,189.55000183105471,189.55000183105471,189.55000183105471,189.55000183105471,189.55000183105471,189.55000183105471,189.55000183105471,189.55000183105471,189.55000183105471,189.55000183105471,189.55000183105471,189.55000183105471,189.55000183105471,189.55000183105471,189.55000183105471,189.55000183105471,189.55000183105471,189.55000183105471,189.55000183105471,189.55000183105471,189.55000183105471,189.55000183105471,189.55000183105471,189.55000183105471,189.55000183105471,189.55000183105471,189.55000183105471,189.55000183105471,189.55000183105471,189.55000183105471,189.55000183105471,189.55000183105471,189.55000183105471,189.55000183105471,189.55000183105471,189.55000183105471,189.55000183105471,189.55000183105471,189.55000183105471,189.55000183105471,189.55000183105471,189.55000183105471,189.55000183105471,189.55000183105471,189.55000183105471,189.55000183105471,189.55000183105471,189.55000183105471,189.55000183105471,189.55000183105471,189.55000183105471,189.55000183105471,189.55000183105471,189.55000183105471,189.55000183105471,189.55000183105471,189.55000183105471,189.55000183105471,189.55000183105471,189.55000183105471,189.55000183105471,189.55000183105471,189.55000183105471,189.55000183105471,189.55000183105471,189.55000183105471,189.55000183105471,189.55000183105471,189.55000183105471,189.55000183105471,189.55000183105471,189.55000183105471,189.55000183105471,189.55000183105471,189.55000183105471,189.55000183105471,189.55000183105471,189.55000183105471,189.55000183105471,189.55000183105471,189.55000183105471,189.55000183105471,189.55000183105471,189.55000183105471,189.55000183105471,189.55000183105471,189.55000183105471,189.55000183105471,189.55000183105471,189.55000183105471,189.55000183105471,189.55000183105471,189.55000183105471,189.55000183105471,131.99000762939454,131.99000762939454,131.99000762939454,131.99000762939454,131.99000762939454,131.99000762939454,131.99000762939454,131.99000762939454,131.99000762939454,131.99000762939454,131.99000762939454,131.99000762939454,131.99000762939454,131.99000762939454,131.99000762939454,132.13000549316394,132.13000549316394,132.13000549316394,132.13000549316394,132.13000549316394,132.13000549316394,132.13000549316394,132.13000549316394,132.13000549316394,132.13000549316394,132.13000549316394,132.13000549316394,132.13000549316394,118.9300045394898,118.9300045394898,118.9300045394898,118.9300045394898,118.9300045394898,118.9300045394898,118.9300045394898,118.9300045394898,118.9300045394898,118.9300045394898,118.9300045394898,81.30000667572017,81.30000667572017,81.30000667572017,81.30000667572017,81.30000667572017,81.63000240325937,81.63000240325937,81.63000240325937,81.63000240325937,81.63000240325937,81.63000240325937,81.63000240325937,81.63000240325937,81.63000240325937,53.04000526428217,53.04000526428217,53.04000526428217,53.04000526428217,53.04000526428217,53.04000526428217,53.04000526428217,53.04000526428217,53.04000526428217,53.04000526428217,53.04000526428217,53.04000526428217,53.04000526428217,53.04000526428217,53.04000526428217,53.04000526428217,53.04000526428217,53.04000526428217,53.04000526428217,63.800028457641474,63.800028457641474,63.800028457641474,63.800028457641474,63.800028457641474,63.800028457641474,63.800028457641474,63.800028457641474,63.800028457641474,63.800028457641474,63.800028457641474,63.800028457641474,29.3300302505495,29.3300302505495,29.3300302505495,29.3300302505495,29.3300302505495,29.3300302505495,29.3300302505495,29.3300302505495,29.3300302505495,29.3300302505495,29.3300302505495,18.70003467559809,18.70003467559809,18.70003467559809,18.70003467559809,18.70003467559809,18.70003467559809,18.70003467559809,18.70003467559809,18.70003467559809,18.70003467559809,18.70003467559809,18.70003467559809,18.70003467559809,18.70003467559809,18.70003467559809,18.70003467559809,18.70003467559809,-53.779959297180085,-53.779959297180085,-53.779959297180085,-53.77995929718054,-53.77995929718054,-53.77995929718054,-53.77995929718054,-53.77995929718054,-53.77995929718054,-53.77995929718054,-53.77995929718054,-53.77995929718054,-53.77995929718054,-53.77995929718054,-53.77995929718054,-53.77995929718054,-53.77995929718054,-53.77995929718054,-53.77995929718054,-53.77995929718054,-53.77995929718054,-53.77995929718054,-53.77995929718054,-53.77995929718054,-53.77995929718054,-53.77995929718054,-53.77995929718054,-53.77995929718054,-53.77995929718054,-53.77995929718054,-53.77995929718054,-53.77995929718054,-53.77995929718054,-53.77995929718054,-53.77995929718054,-53.77995929718054,-53.77995929718054,-53.77995929718054,-53.77995929718054,-53.77995929718054,-53.77995929718054,-53.77995929718054,-53.77995929718054,-53.77995929718054,-53.77995929718054,-53.77995929718054,-53.77995929718054,-53.77995929718054,-53.77995929718054,-55.46995014190634,-55.46995014190634,-55.46995014190634,-55.46995014190634,-55.46995014190634,-55.46995014190634,-55.46995014190634,-55.46995014190634,-52.68994281768755,-52.68994281768755,-52.68994281768755],\"type\":\"scatter\"}],                        {\"template\":{\"data\":{\"barpolar\":[{\"marker\":{\"line\":{\"color\":\"rgb(17,17,17)\",\"width\":0.5},\"pattern\":{\"fillmode\":\"overlay\",\"size\":10,\"solidity\":0.2}},\"type\":\"barpolar\"}],\"bar\":[{\"error_x\":{\"color\":\"#f2f5fa\"},\"error_y\":{\"color\":\"#f2f5fa\"},\"marker\":{\"line\":{\"color\":\"rgb(17,17,17)\",\"width\":0.5},\"pattern\":{\"fillmode\":\"overlay\",\"size\":10,\"solidity\":0.2}},\"type\":\"bar\"}],\"carpet\":[{\"aaxis\":{\"endlinecolor\":\"#A2B1C6\",\"gridcolor\":\"#506784\",\"linecolor\":\"#506784\",\"minorgridcolor\":\"#506784\",\"startlinecolor\":\"#A2B1C6\"},\"baxis\":{\"endlinecolor\":\"#A2B1C6\",\"gridcolor\":\"#506784\",\"linecolor\":\"#506784\",\"minorgridcolor\":\"#506784\",\"startlinecolor\":\"#A2B1C6\"},\"type\":\"carpet\"}],\"choropleth\":[{\"colorbar\":{\"outlinewidth\":0,\"ticks\":\"\"},\"type\":\"choropleth\"}],\"contourcarpet\":[{\"colorbar\":{\"outlinewidth\":0,\"ticks\":\"\"},\"type\":\"contourcarpet\"}],\"contour\":[{\"colorbar\":{\"outlinewidth\":0,\"ticks\":\"\"},\"colorscale\":[[0.0,\"#0d0887\"],[0.1111111111111111,\"#46039f\"],[0.2222222222222222,\"#7201a8\"],[0.3333333333333333,\"#9c179e\"],[0.4444444444444444,\"#bd3786\"],[0.5555555555555556,\"#d8576b\"],[0.6666666666666666,\"#ed7953\"],[0.7777777777777778,\"#fb9f3a\"],[0.8888888888888888,\"#fdca26\"],[1.0,\"#f0f921\"]],\"type\":\"contour\"}],\"heatmapgl\":[{\"colorbar\":{\"outlinewidth\":0,\"ticks\":\"\"},\"colorscale\":[[0.0,\"#0d0887\"],[0.1111111111111111,\"#46039f\"],[0.2222222222222222,\"#7201a8\"],[0.3333333333333333,\"#9c179e\"],[0.4444444444444444,\"#bd3786\"],[0.5555555555555556,\"#d8576b\"],[0.6666666666666666,\"#ed7953\"],[0.7777777777777778,\"#fb9f3a\"],[0.8888888888888888,\"#fdca26\"],[1.0,\"#f0f921\"]],\"type\":\"heatmapgl\"}],\"heatmap\":[{\"colorbar\":{\"outlinewidth\":0,\"ticks\":\"\"},\"colorscale\":[[0.0,\"#0d0887\"],[0.1111111111111111,\"#46039f\"],[0.2222222222222222,\"#7201a8\"],[0.3333333333333333,\"#9c179e\"],[0.4444444444444444,\"#bd3786\"],[0.5555555555555556,\"#d8576b\"],[0.6666666666666666,\"#ed7953\"],[0.7777777777777778,\"#fb9f3a\"],[0.8888888888888888,\"#fdca26\"],[1.0,\"#f0f921\"]],\"type\":\"heatmap\"}],\"histogram2dcontour\":[{\"colorbar\":{\"outlinewidth\":0,\"ticks\":\"\"},\"colorscale\":[[0.0,\"#0d0887\"],[0.1111111111111111,\"#46039f\"],[0.2222222222222222,\"#7201a8\"],[0.3333333333333333,\"#9c179e\"],[0.4444444444444444,\"#bd3786\"],[0.5555555555555556,\"#d8576b\"],[0.6666666666666666,\"#ed7953\"],[0.7777777777777778,\"#fb9f3a\"],[0.8888888888888888,\"#fdca26\"],[1.0,\"#f0f921\"]],\"type\":\"histogram2dcontour\"}],\"histogram2d\":[{\"colorbar\":{\"outlinewidth\":0,\"ticks\":\"\"},\"colorscale\":[[0.0,\"#0d0887\"],[0.1111111111111111,\"#46039f\"],[0.2222222222222222,\"#7201a8\"],[0.3333333333333333,\"#9c179e\"],[0.4444444444444444,\"#bd3786\"],[0.5555555555555556,\"#d8576b\"],[0.6666666666666666,\"#ed7953\"],[0.7777777777777778,\"#fb9f3a\"],[0.8888888888888888,\"#fdca26\"],[1.0,\"#f0f921\"]],\"type\":\"histogram2d\"}],\"histogram\":[{\"marker\":{\"pattern\":{\"fillmode\":\"overlay\",\"size\":10,\"solidity\":0.2}},\"type\":\"histogram\"}],\"mesh3d\":[{\"colorbar\":{\"outlinewidth\":0,\"ticks\":\"\"},\"type\":\"mesh3d\"}],\"parcoords\":[{\"line\":{\"colorbar\":{\"outlinewidth\":0,\"ticks\":\"\"}},\"type\":\"parcoords\"}],\"pie\":[{\"automargin\":true,\"type\":\"pie\"}],\"scatter3d\":[{\"line\":{\"colorbar\":{\"outlinewidth\":0,\"ticks\":\"\"}},\"marker\":{\"colorbar\":{\"outlinewidth\":0,\"ticks\":\"\"}},\"type\":\"scatter3d\"}],\"scattercarpet\":[{\"marker\":{\"colorbar\":{\"outlinewidth\":0,\"ticks\":\"\"}},\"type\":\"scattercarpet\"}],\"scattergeo\":[{\"marker\":{\"colorbar\":{\"outlinewidth\":0,\"ticks\":\"\"}},\"type\":\"scattergeo\"}],\"scattergl\":[{\"marker\":{\"line\":{\"color\":\"#283442\"}},\"type\":\"scattergl\"}],\"scattermapbox\":[{\"marker\":{\"colorbar\":{\"outlinewidth\":0,\"ticks\":\"\"}},\"type\":\"scattermapbox\"}],\"scatterpolargl\":[{\"marker\":{\"colorbar\":{\"outlinewidth\":0,\"ticks\":\"\"}},\"type\":\"scatterpolargl\"}],\"scatterpolar\":[{\"marker\":{\"colorbar\":{\"outlinewidth\":0,\"ticks\":\"\"}},\"type\":\"scatterpolar\"}],\"scatter\":[{\"marker\":{\"line\":{\"color\":\"#283442\"}},\"type\":\"scatter\"}],\"scatterternary\":[{\"marker\":{\"colorbar\":{\"outlinewidth\":0,\"ticks\":\"\"}},\"type\":\"scatterternary\"}],\"surface\":[{\"colorbar\":{\"outlinewidth\":0,\"ticks\":\"\"},\"colorscale\":[[0.0,\"#0d0887\"],[0.1111111111111111,\"#46039f\"],[0.2222222222222222,\"#7201a8\"],[0.3333333333333333,\"#9c179e\"],[0.4444444444444444,\"#bd3786\"],[0.5555555555555556,\"#d8576b\"],[0.6666666666666666,\"#ed7953\"],[0.7777777777777778,\"#fb9f3a\"],[0.8888888888888888,\"#fdca26\"],[1.0,\"#f0f921\"]],\"type\":\"surface\"}],\"table\":[{\"cells\":{\"fill\":{\"color\":\"#506784\"},\"line\":{\"color\":\"rgb(17,17,17)\"}},\"header\":{\"fill\":{\"color\":\"#2a3f5f\"},\"line\":{\"color\":\"rgb(17,17,17)\"}},\"type\":\"table\"}]},\"layout\":{\"annotationdefaults\":{\"arrowcolor\":\"#f2f5fa\",\"arrowhead\":0,\"arrowwidth\":1},\"autotypenumbers\":\"strict\",\"coloraxis\":{\"colorbar\":{\"outlinewidth\":0,\"ticks\":\"\"}},\"colorscale\":{\"diverging\":[[0,\"#8e0152\"],[0.1,\"#c51b7d\"],[0.2,\"#de77ae\"],[0.3,\"#f1b6da\"],[0.4,\"#fde0ef\"],[0.5,\"#f7f7f7\"],[0.6,\"#e6f5d0\"],[0.7,\"#b8e186\"],[0.8,\"#7fbc41\"],[0.9,\"#4d9221\"],[1,\"#276419\"]],\"sequential\":[[0.0,\"#0d0887\"],[0.1111111111111111,\"#46039f\"],[0.2222222222222222,\"#7201a8\"],[0.3333333333333333,\"#9c179e\"],[0.4444444444444444,\"#bd3786\"],[0.5555555555555556,\"#d8576b\"],[0.6666666666666666,\"#ed7953\"],[0.7777777777777778,\"#fb9f3a\"],[0.8888888888888888,\"#fdca26\"],[1.0,\"#f0f921\"]],\"sequentialminus\":[[0.0,\"#0d0887\"],[0.1111111111111111,\"#46039f\"],[0.2222222222222222,\"#7201a8\"],[0.3333333333333333,\"#9c179e\"],[0.4444444444444444,\"#bd3786\"],[0.5555555555555556,\"#d8576b\"],[0.6666666666666666,\"#ed7953\"],[0.7777777777777778,\"#fb9f3a\"],[0.8888888888888888,\"#fdca26\"],[1.0,\"#f0f921\"]]},\"colorway\":[\"#636efa\",\"#EF553B\",\"#00cc96\",\"#ab63fa\",\"#FFA15A\",\"#19d3f3\",\"#FF6692\",\"#B6E880\",\"#FF97FF\",\"#FECB52\"],\"font\":{\"color\":\"#f2f5fa\"},\"geo\":{\"bgcolor\":\"rgb(17,17,17)\",\"lakecolor\":\"rgb(17,17,17)\",\"landcolor\":\"rgb(17,17,17)\",\"showlakes\":true,\"showland\":true,\"subunitcolor\":\"#506784\"},\"hoverlabel\":{\"align\":\"left\"},\"hovermode\":\"closest\",\"mapbox\":{\"style\":\"dark\"},\"paper_bgcolor\":\"rgb(17,17,17)\",\"plot_bgcolor\":\"rgb(17,17,17)\",\"polar\":{\"angularaxis\":{\"gridcolor\":\"#506784\",\"linecolor\":\"#506784\",\"ticks\":\"\"},\"bgcolor\":\"rgb(17,17,17)\",\"radialaxis\":{\"gridcolor\":\"#506784\",\"linecolor\":\"#506784\",\"ticks\":\"\"}},\"scene\":{\"xaxis\":{\"backgroundcolor\":\"rgb(17,17,17)\",\"gridcolor\":\"#506784\",\"gridwidth\":2,\"linecolor\":\"#506784\",\"showbackground\":true,\"ticks\":\"\",\"zerolinecolor\":\"#C8D4E3\"},\"yaxis\":{\"backgroundcolor\":\"rgb(17,17,17)\",\"gridcolor\":\"#506784\",\"gridwidth\":2,\"linecolor\":\"#506784\",\"showbackground\":true,\"ticks\":\"\",\"zerolinecolor\":\"#C8D4E3\"},\"zaxis\":{\"backgroundcolor\":\"rgb(17,17,17)\",\"gridcolor\":\"#506784\",\"gridwidth\":2,\"linecolor\":\"#506784\",\"showbackground\":true,\"ticks\":\"\",\"zerolinecolor\":\"#C8D4E3\"}},\"shapedefaults\":{\"line\":{\"color\":\"#f2f5fa\"}},\"sliderdefaults\":{\"bgcolor\":\"#C8D4E3\",\"bordercolor\":\"rgb(17,17,17)\",\"borderwidth\":1,\"tickwidth\":0},\"ternary\":{\"aaxis\":{\"gridcolor\":\"#506784\",\"linecolor\":\"#506784\",\"ticks\":\"\"},\"baxis\":{\"gridcolor\":\"#506784\",\"linecolor\":\"#506784\",\"ticks\":\"\"},\"bgcolor\":\"rgb(17,17,17)\",\"caxis\":{\"gridcolor\":\"#506784\",\"linecolor\":\"#506784\",\"ticks\":\"\"}},\"title\":{\"x\":0.05},\"updatemenudefaults\":{\"bgcolor\":\"#506784\",\"borderwidth\":0},\"xaxis\":{\"automargin\":true,\"gridcolor\":\"#283442\",\"linecolor\":\"#506784\",\"ticks\":\"\",\"title\":{\"standoff\":15},\"zerolinecolor\":\"#283442\",\"zerolinewidth\":2},\"yaxis\":{\"automargin\":true,\"gridcolor\":\"#283442\",\"linecolor\":\"#506784\",\"ticks\":\"\",\"title\":{\"standoff\":15},\"zerolinecolor\":\"#283442\",\"zerolinewidth\":2}}},\"shapes\":[{\"line\":{\"color\":\"grey\",\"dash\":\"dash\"},\"type\":\"line\",\"x0\":0,\"x1\":1,\"xref\":\"x domain\",\"y0\":0,\"y1\":0,\"yref\":\"y\"}],\"font\":{\"color\":\"#1abc9c\"},\"margin\":{\"l\":20,\"r\":20,\"t\":20,\"b\":20},\"width\":700,\"height\":160,\"yaxis\":{\"title\":{\"text\":\"Return ($)\"}},\"showlegend\":false,\"paper_bgcolor\":\"#1e1e1e\",\"plot_bgcolor\":\"#1e1e1e\"},                        {\"responsive\": true}                    ).then(function(){\n",
       "                            \n",
       "var gd = document.getElementById('0c19e68d-9d13-427d-914d-0285090f9fda');\n",
       "var x = new MutationObserver(function (mutations, observer) {{\n",
       "        var display = window.getComputedStyle(gd).display;\n",
       "        if (!display || display === 'none') {{\n",
       "            console.log([gd, 'removed!']);\n",
       "            Plotly.purge(gd);\n",
       "            observer.disconnect();\n",
       "        }}\n",
       "}});\n",
       "\n",
       "// Listen for the removal of the full notebook cells\n",
       "var notebookContainer = gd.closest('#notebook-container');\n",
       "if (notebookContainer) {{\n",
       "    x.observe(notebookContainer, {childList: true});\n",
       "}}\n",
       "\n",
       "// Listen for the clearing of the current output cell\n",
       "var outputEl = gd.closest('.output');\n",
       "if (outputEl) {{\n",
       "    x.observe(outputEl, {childList: true});\n",
       "}}\n",
       "\n",
       "                        })                };                });            </script>        </div>"
      ]
     },
     "metadata": {},
     "output_type": "display_data"
    }
   ],
   "source": [
    "import pandas as pd\n",
    "import numpy as np\n",
    "import plotly.graph_objects as go\n",
    "\n",
    "# Ensure transaction dates are in datetime format and sort them\n",
    "transactions['Date'] = pd.to_datetime(transactions['Date'])\n",
    "transactions = transactions.sort_values('Date').reset_index(drop=True)\n",
    "\n",
    "# Convert index of each symbol's DataFrame to datetime\n",
    "for symbol, df in symbol_dataframes.items():\n",
    "    df.index = pd.to_datetime(df.index)\n",
    "\n",
    "# Create a daily date range for the simulation period\n",
    "start_date = transactions['Date'].min()\n",
    "max_market_date = max(df.index.max() for df in symbol_dataframes.values())\n",
    "end_date = max(transactions['Date'].max(), max_market_date)\n",
    "all_dates = pd.date_range(start=start_date, end=end_date, freq='D')\n",
    "\n",
    "# Reindex symbol data to daily frequency with forward fill\n",
    "daily_symbol_prices = {}\n",
    "for symbol, df in symbol_dataframes.items():\n",
    "    df = df.sort_index()\n",
    "    df_daily = df.reindex(all_dates, method='ffill')\n",
    "    daily_symbol_prices[symbol] = df_daily\n",
    "\n",
    "# Initialize the DataFrame to hold daily simulation results\n",
    "daily_sim = pd.DataFrame(index=all_dates)\n",
    "daily_sim['Cash'] = np.nan\n",
    "daily_sim['MarketValue'] = np.nan\n",
    "daily_sim['TotalReturns'] = np.nan\n",
    "daily_sim['CumulativeDeposits'] = np.nan\n",
    "daily_sim['NetReturns'] = np.nan\n",
    "\n",
    "# Initialize portfolio variables\n",
    "cash1 = 0\n",
    "cumulative_deposits = 0\n",
    "portfolio_positions = {}\n",
    "\n",
    "# Group transactions by date\n",
    "transactions_grouped = transactions.groupby('Date')\n",
    "\n",
    "# Iterate over each date in the simulation period\n",
    "for date in all_dates:\n",
    "    # Process transactions for the current date\n",
    "    if date in transactions_grouped.groups:\n",
    "        day_transactions = transactions_grouped.get_group(date)\n",
    "        for _, row in day_transactions.iterrows():\n",
    "            symbol = row['Symbol']\n",
    "            action = row['Buy_sell']\n",
    "            if action == 'Deposit':\n",
    "                cash1 += row['Amount']\n",
    "                cumulative_deposits += row['Amount']\n",
    "            elif action == 'Buy':\n",
    "                cash1 -= row['Amount']\n",
    "                portfolio_positions[symbol] = portfolio_positions.get(symbol, 0) + row['Shares']\n",
    "            elif action == 'Sell':\n",
    "                cash1 += row['Amount']\n",
    "                portfolio_positions[symbol] = portfolio_positions.get(symbol, 0) - row['Shares']\n",
    "    \n",
    "    # Calculate market value of current holdings\n",
    "    market_value = 0\n",
    "    for symbol, qty in portfolio_positions.items():\n",
    "        if symbol in daily_symbol_prices:\n",
    "            price = daily_symbol_prices[symbol].loc[date, 'Close']\n",
    "            market_value += qty * price\n",
    "\n",
    "    total_returns = cash1 + market_value\n",
    "    net_returns = total_returns - cumulative_deposits\n",
    "\n",
    "    # Record daily values\n",
    "    daily_sim.loc[date, 'Cash'] = cash1\n",
    "    daily_sim.loc[date, 'MarketValue'] = market_value\n",
    "    daily_sim.loc[date, 'TotalReturns'] = total_returns\n",
    "    daily_sim.loc[date, 'CumulativeDeposits'] = cumulative_deposits\n",
    "    daily_sim.loc[date, 'NetReturns'] = net_returns\n",
    "\n",
    "import plotly.graph_objects as go\n",
    "\n",
    "# === 5. Plot Daily Net Returns with Plotly ===\n",
    "\n",
    "# Define desired figure dimensions\n",
    "figure_width = 700  # pixels\n",
    "figure_height = 160  # pixels\n",
    "\n",
    "# Create a new figure\n",
    "fig2 = go.Figure()\n",
    "\n",
    "# Plot the daily net returns as a line\n",
    "fig2.add_trace(\n",
    "    go.Scatter(\n",
    "        x=daily_sim.index,\n",
    "        y=daily_sim['NetReturns'],\n",
    "        mode='lines',\n",
    "        line=dict(color=accent_color),\n",
    "        name='Net Returns'\n",
    "    )\n",
    ")\n",
    "\n",
    "# Add a horizontal line at 0 (break-even level)\n",
    "fig2.add_hline(\n",
    "    y=0,\n",
    "    line=dict(color='grey', dash='dash'),\n",
    "    #annotation_text='0 Baseline',\n",
    "    #annotation_position='bottom right'\n",
    ")\n",
    "\n",
    "# Update layout for better visualization\n",
    "fig2.update_layout(\n",
    "    width=figure_width,       # Set the figure width\n",
    "    height=figure_height,     # Set the figure height\n",
    "    yaxis_title=\"Return ($)\",\n",
    "    template=\"plotly_dark\",\n",
    "    showlegend=False,\n",
    "    font=dict(color=accent_color),\n",
    "    paper_bgcolor='#1e1e1e',\n",
    "    plot_bgcolor='#1e1e1e',\n",
    "    margin=dict(l=20, r=20, t=20, b=20)  # Adjust margins (left, right, top, bottom)\n",
    ")\n",
    "\n",
    "# Display the interactive figure\n",
    "fig2.show()\n",
    "\n"
   ]
  },
  {
   "cell_type": "markdown",
   "id": "22868de4-f81b-416b-a09b-c126e631cd51",
   "metadata": {},
   "source": [
    "# MAIN DISPLAY "
   ]
  },
  {
   "cell_type": "code",
   "execution_count": 200,
   "id": "be6ae8d5-e338-401d-9efc-48c20aa3d4d5",
   "metadata": {},
   "outputs": [
    {
     "data": {
      "text/html": [
       "\n",
       "        <iframe\n",
       "            width=\"100%\"\n",
       "            height=\"650\"\n",
       "            src=\"http://127.0.0.1:52154/\"\n",
       "            frameborder=\"0\"\n",
       "            allowfullscreen\n",
       "            \n",
       "        ></iframe>\n",
       "        "
      ],
      "text/plain": [
       "<IPython.lib.display.IFrame at 0x16971624b00>"
      ]
     },
     "metadata": {},
     "output_type": "display_data"
    },
    {
     "name": "stdout",
     "output_type": "stream",
     "text": [
      "Your app is available at: http://127.0.0.1:52154\n"
     ]
    }
   ],
   "source": [
    "import socket\n",
    "from dash import dcc, html, dash_table, Dash\n",
    "from dash.dependencies import Input, Output\n",
    "import plotly.express as px\n",
    "import pandas as pd\n",
    "\n",
    "# -----------------------------------------------------------------------------\n",
    "# Helper function to get a free port\n",
    "# -----------------------------------------------------------------------------\n",
    "def get_free_port():\n",
    "    \"\"\"Finds a free port on localhost.\"\"\"\n",
    "    s = socket.socket(socket.AF_INET, socket.SOCK_STREAM)\n",
    "    s.bind(('127.0.0.1', 0))\n",
    "    addr, port = s.getsockname()\n",
    "    s.close()\n",
    "    return port\n",
    "\n",
    "# -----------------------------------------------------------------------------\n",
    "# Attempt to terminate any existing app instance (if defined)\n",
    "# -----------------------------------------------------------------------------\n",
    "# if 'app' in globals():\n",
    "#     try:\n",
    "#         app._terminate()  # JupyterDash provides this method to clean up the server\n",
    "#     except Exception as e:\n",
    "#         print(\"Error terminating previous instance:\", e)\n",
    "\n",
    "# -----------------------------------------------------------------------------\n",
    "# Dynamically get a free port\n",
    "# -----------------------------------------------------------------------------\n",
    "port = get_free_port()\n",
    "\n",
    "# -----------------------------------------------------------------------------\n",
    "# Create a new Dash app instance\n",
    "# -----------------------------------------------------------------------------\n",
    "app = Dash(__name__)\n",
    "\n",
    "# -----------------------------------------------------------------------------\n",
    "# Define color theme settings\n",
    "# -----------------------------------------------------------------------------\n",
    "accent_color = '#1abc9c'  # Fresh teal accent\n",
    "panel_bg     = '#222222'  # Panel background\n",
    "header_bg    = '#333333'  # Table header background\n",
    "cell_bg      = '#262626'  # Table cell background\n",
    "\n",
    "# -----------------------------------------------------------------------------\n",
    "# Prepare the table data from the master DataFrame.\n",
    "# (Assumes 'master' already contains the required columns.)\n",
    "table_data = master[top_columns].copy()\n",
    "\n",
    "# -----------------------------------------------------------------------------\n",
    "# Define the app layout\n",
    "# -----------------------------------------------------------------------------\n",
    "app.layout = html.Div(\n",
    "    style={\n",
    "        'backgroundColor': 'black',\n",
    "        'color': 'white',\n",
    "        'fontFamily': \"'Montserrat', sans-serif\",\n",
    "        'padding': '20px',\n",
    "        'minHeight': '100vh',\n",
    "        'display': 'flex',\n",
    "        'flexDirection': 'column',\n",
    "        'alignItems': 'center',\n",
    "    },\n",
    "    children=[\n",
    "        # Main Title\n",
    "        html.H1(\n",
    "            \"Otica\",\n",
    "            style={\n",
    "                'textAlign': 'center',\n",
    "                'color': accent_color,\n",
    "                'fontSize': '2.8em',\n",
    "                'marginBottom': '20px',\n",
    "                'width': '100%',\n",
    "            },\n",
    "        ),\n",
    "        # Banner with Total Invested and Portfolio Value\n",
    "        html.Div(\n",
    "            style={\n",
    "                'width': '100%',\n",
    "                'maxWidth': '1200px',\n",
    "                'display': 'flex',\n",
    "                'justifyContent': 'space-around',\n",
    "                'alignItems': 'center',\n",
    "                'marginBottom': '20px',\n",
    "                'padding': '10px',\n",
    "                'backgroundColor': panel_bg,\n",
    "                'borderRadius': '15px',\n",
    "                'boxShadow': '0px 4px 10px rgba(0, 0, 0, 0.5)',\n",
    "            },\n",
    "            children=[\n",
    "                html.Div(\n",
    "                    f\"Total: {total}\",\n",
    "                    style={'fontSize': '1.5em', 'color': accent_color}\n",
    "                ),\n",
    "                 html.Div(\n",
    "                    f\"Cash: {cash}\",\n",
    "                    style={'fontSize': '1.5em', 'color': accent_color}\n",
    "                ),\n",
    "                html.Div(\n",
    "                    f\"Portfolio Value: {curr_port_value_str}\",\n",
    "                    style={'fontSize': '1.5em', 'color': accent_color}\n",
    "                ),\n",
    "                html.Div(\n",
    "                    f\"Returns: {returns}\",\n",
    "                    style={'fontSize': '1.5em', 'color': accent_color}\n",
    "                ),\n",
    "                html.Div(\n",
    "                    f\"Return %: {return_pct}\",\n",
    "                    style={'fontSize': '1.5em', 'color': accent_color}\n",
    "                ),\n",
    "            ]\n",
    "        ),\n",
    "        ###ADJUSTMENTS: New top banner layout with sunburst on left and two charts (without titles) on the right.\n",
    "        html.Div(\n",
    "            style={\n",
    "                'display': 'flex',\n",
    "                'width': '100%',\n",
    "                'maxWidth': '1200px',\n",
    "                'marginBottom': '20px',\n",
    "                'gap': '20px',\n",
    "            },\n",
    "\n",
    "\n",
    "            \n",
    "            children=[\n",
    "                # Sunburst Chart Container (smaller and with reduced height)\n",
    "                html.Div(\n",
    "                    style={\n",
    "                        'width': '490px',\n",
    "                        'height': '360px',  # reduced container height\n",
    "                        'backgroundColor': panel_bg,\n",
    "                        'borderRadius': '15px',\n",
    "                        'padding': '10px',  # reduced padding if needed\n",
    "                        'boxShadow': '0px 4px 10px rgba(0, 0, 0, 0.5)',\n",
    "                        'display': 'flex',\n",
    "                        'justifyContent': 'center',\n",
    "                        'alignItems': 'center',\n",
    "                    },\n",
    "                    children=[\n",
    "                        dcc.Graph(\n",
    "                            id='sunburst-chart',\n",
    "                            figure=sunburst_fig.update_layout(\n",
    "                                paper_bgcolor='#1e1e1e',\n",
    "                                plot_bgcolor='#1e1e1e',\n",
    "                                font_color='white',\n",
    "                                margin=dict(t=10, b=10, r=10, l=10),\n",
    "                                height=420,  # reduced to fit container\n",
    "                                width=410\n",
    "                            ),\n",
    "                            style={'margin': '0 auto'},\n",
    "                        ),\n",
    "                    ],\n",
    "                ),\n",
    "\n",
    "\n",
    "                \n",
    "                # Statistics Banner Container (split vertically into two equal charts, no titles)\n",
    "                html.Div(\n",
    "                    style={\n",
    "                        'flex': '1',\n",
    "                        'display': 'flex',\n",
    "                        'flexDirection': 'column',\n",
    "                        'gap': '20px',\n",
    "                    },\n",
    "                    children=[\n",
    "                        # Top half: Figure One - Cumulative Daily Returns (Detailed) without title\n",
    "                        html.Div(\n",
    "                            style={\n",
    "                                'backgroundColor': panel_bg,\n",
    "                                'borderRadius': '15px',\n",
    "                                'padding': '10px',\n",
    "                                'boxShadow': '0px 4px 10px rgba(0, 0, 0, 0.5)',\n",
    "                                'height': '160px',\n",
    "                            },\n",
    "                            children=[\n",
    "                                dcc.Graph(\n",
    "                                    id='detailed-returns-chart',\n",
    "                                    figure=fig1,\n",
    "                                    style={'width': '100%', 'height': '300px'},\n",
    "                                ),\n",
    "                            ],\n",
    "                        ),\n",
    "                        # Bottom half: Figure Two - Cumulative Daily Returns Over Time (Optimized) without title\n",
    "                        html.Div(\n",
    "                            style={\n",
    "                                'backgroundColor': panel_bg,\n",
    "                                'borderRadius': '15px',\n",
    "                                'padding': '10px',\n",
    "                                'boxShadow': '0px 4px 10px rgba(0, 0, 0, 0.5)',\n",
    "                                'height': '160px',\n",
    "                            },\n",
    "                            children=[\n",
    "                                dcc.Graph(\n",
    "                                    id='returns-chart',\n",
    "                                    figure=fig2,\n",
    "                                    style={'width': '100%', 'height': '300px'},\n",
    "                                ),\n",
    "                            ],\n",
    "                        ),\n",
    "                    ],\n",
    "                ),\n",
    "            ],\n",
    "        ),\n",
    "        # -----------------------------------------------------------------------------\n",
    "        # Dividends Chart Section\n",
    "        # -----------------------------------------------------------------------------\n",
    "        html.Div(\n",
    "            style={\n",
    "                'backgroundColor': panel_bg,\n",
    "                'borderRadius': '15px',\n",
    "                'padding': '20px',\n",
    "                'boxShadow': '0px 4px 10px rgba(0, 0, 0, 0.5)',\n",
    "                'width': '100%',\n",
    "                'maxWidth': '1200px',\n",
    "                'marginBottom': '20px'\n",
    "            },\n",
    "            children=[\n",
    "                html.H3(\n",
    "                    \"Dividends\",\n",
    "                    style={'textAlign': 'center', 'color': accent_color, 'marginBottom': '8px'},\n",
    "                ),\n",
    "                dcc.Graph(\n",
    "                    id='dividend-chart',\n",
    "                    figure=fig_dividends,\n",
    "                    style={'width': '100%', 'height': '500px'},\n",
    "                ),\n",
    "            ],\n",
    "        ),\n",
    "        # -----------------------------------------------------------------------------\n",
    "        # Stock Chart Section\n",
    "        # -----------------------------------------------------------------------------\n",
    "        html.Div(\n",
    "            style={\n",
    "                'backgroundColor': panel_bg,\n",
    "                'borderRadius': '15px',\n",
    "                'padding': '20px',\n",
    "                'boxShadow': '0px 4px 10px rgba(0, 0, 0, 0.5)',\n",
    "                'width': '100%',\n",
    "                'maxWidth': '1200px',\n",
    "                'marginBottom': '20px',\n",
    "            },\n",
    "            children=[\n",
    "                # Dropdown Container\n",
    "                html.Div(\n",
    "                    style={\n",
    "                        'display': 'flex',\n",
    "                        'justifyContent': 'center',\n",
    "                        'marginBottom': '20px'\n",
    "                    },\n",
    "                    children=[\n",
    "                        dcc.Dropdown(\n",
    "                            id='symbol-dropdown',\n",
    "                            options=[{'label': symbol, 'value': symbol} for symbol in symbol_dataframes.keys()],\n",
    "                            value=list(symbol_dataframes.keys())[0],\n",
    "                            clearable=False,\n",
    "                            style={\n",
    "                                'width': '100%',\n",
    "                                'borderRadius': '5px',\n",
    "                                'backgroundColor': 'black',\n",
    "                                'color': 'black'\n",
    "                            }\n",
    "                        ),\n",
    "                    ]\n",
    "                ),\n",
    "                # Stock Chart Graph with increased height\n",
    "                dcc.Graph(\n",
    "                    id='stock-chart',\n",
    "                    style={'width': '100%', 'height': '900px'},\n",
    "                ),\n",
    "            ],\n",
    "        ),\n",
    "        # -----------------------------------------------------------------------------\n",
    "        # Portfolio Details Table Section\n",
    "        # -----------------------------------------------------------------------------\n",
    "        html.Div(\n",
    "            style={\n",
    "                'backgroundColor': panel_bg,\n",
    "                'borderRadius': '15px',\n",
    "                'padding': '20px',\n",
    "                'boxShadow': '0px 4px 10px rgba(0, 0, 0, 0.5)',\n",
    "                'width': '100%',\n",
    "                'maxWidth': '1200px',\n",
    "            },\n",
    "            children=[\n",
    "                html.H3(\n",
    "                    \"Portfolio Details\",\n",
    "                    style={'textAlign': 'center', 'color': accent_color, 'marginBottom': '10px'},\n",
    "                ),\n",
    "                \n",
    "\n",
    "                dash_table.DataTable(\n",
    "                    id='portfolio-table',\n",
    "                    columns=[{\"name\": col, \"id\": col, \"type\": \"numeric\" if pd.api.types.is_numeric_dtype(table_data[col]) else \"text\"}\n",
    "                             for col in table_data.columns],\n",
    "                    data=table_data.to_dict('records'),\n",
    "                    style_table={\n",
    "                        'margin': 'auto',\n",
    "                        'width': '100%',\n",
    "                        'borderRadius': '10px',\n",
    "                        'overflowX': 'auto'  # Enable horizontal scroll\n",
    "                    },\n",
    "                    style_header={\n",
    "                        'backgroundColor': header_bg,\n",
    "                        'color': 'white',\n",
    "                        'fontWeight': 'bold',\n",
    "                        'fontSize': '1.1em',\n",
    "                        'border': 'none',\n",
    "                        'borderBottom': f'2px solid {accent_color}'\n",
    "                    },\n",
    "                    style_cell={\n",
    "                        'backgroundColor': cell_bg,\n",
    "                        'color': 'white',  # Default all cell text to white\n",
    "                        'textAlign': 'center',\n",
    "                        'border': 'none',\n",
    "                        'padding': '8px',\n",
    "                        'minWidth': '120px', 'width': '120px', 'maxWidth': '120px',  # consistent column widths\n",
    "                        'overflow': 'hidden',\n",
    "                        'textOverflow': 'ellipsis',\n",
    "                    },\n",
    "                    style_data={\n",
    "                        'border': 'none',\n",
    "                        'fontSize': '1em'\n",
    "                    },\n",
    "                    style_data_conditional=[\n",
    "                        {'if': {'row_index': 'odd'}, 'backgroundColor': panel_bg},\n",
    "                        {'if': {'state': 'active'}, 'backgroundColor': '#424242',\n",
    "                         'border': f'1px solid {accent_color}'},\n",
    "                \n",
    "                        # Only apply red/green to \"Total Return %\" column\n",
    "                        {\n",
    "                            'if': {\n",
    "                                'filter_query': '{Total Return %} < 0',\n",
    "                                'column_id': 'Total Return %'\n",
    "                            },\n",
    "                            'color': 'red'\n",
    "                        },\n",
    "                        {\n",
    "                            'if': {\n",
    "                                'filter_query': '{Total Return %} > 0',\n",
    "                                'column_id': 'Total Return %'\n",
    "                            },\n",
    "                            'color': 'green'\n",
    "                        },\n",
    "                    ],\n",
    "                ),\n",
    "\n",
    "\n",
    "                \n",
    "            ],\n",
    "        ),\n",
    "        # -----------------------------------------------------------------------------\n",
    "        # Add Watchlist Visualization Section here (NEW)\n",
    "        # -----------------------------------------------------------------------------\n",
    "        html.Div(\n",
    "            style={\n",
    "                'backgroundColor': panel_bg,\n",
    "                'borderRadius': '15px',\n",
    "                'padding': '20px',\n",
    "                'boxShadow': '0px 4px 10px rgba(0, 0, 0, 0.5)',\n",
    "                'width': '100%',\n",
    "                'maxWidth': '1200px',\n",
    "                'marginBottom': '20px',\n",
    "            },\n",
    "            children=[\n",
    "                html.H3(\n",
    "                    \"Watchlist Visualization\",\n",
    "                    style={'textAlign': 'center', 'color': accent_color, 'marginBottom': '10px'}\n",
    "                ),\n",
    "                dcc.Dropdown(\n",
    "                    id='watchlist-dropdown',\n",
    "                    options=[{'label': symbol, 'value': symbol} for symbol in symbols1],\n",
    "                    value=symbols1[0],\n",
    "                    clearable=False,\n",
    "                    style={\n",
    "                        'width': '100%',\n",
    "                        'borderRadius': '5px',\n",
    "                        'backgroundColor': 'black',\n",
    "                        'color': 'black'\n",
    "                    }\n",
    "                ),\n",
    "                dcc.Graph(\n",
    "                    id='watchlist-chart',\n",
    "                    style={'width': '100%', 'height': '900px'}\n",
    "                ),\n",
    "            ]\n",
    "        ),\n",
    "    ]\n",
    ")\n",
    "\n",
    "# -----------------------------------------------------------------------------\n",
    "# Callback to update the stock chart based on the dropdown selection (Main Stock Chart)\n",
    "# -----------------------------------------------------------------------------\n",
    "@app.callback(\n",
    "    Output('stock-chart', 'figure'),\n",
    "    [Input('symbol-dropdown', 'value')]\n",
    ")\n",
    "def update_stock_chart(symbol):\n",
    "    return generate_stock_chart(symbol)\n",
    "\n",
    "# -----------------------------------------------------------------------------\n",
    "# Callback to update the Watchlist Visualization based on the dropdown selection\n",
    "# -----------------------------------------------------------------------------\n",
    "@app.callback(\n",
    "    Output('watchlist-chart', 'figure'),\n",
    "    [Input('watchlist-dropdown', 'value')]\n",
    ")\n",
    "def update_watchlist_chart(symbol):\n",
    "    return generate_stock_chart1(symbol, symbol_dataframes1, title_prefix=\"Watchlist: \")\n",
    "\n",
    "# -----------------------------------------------------------------------------\n",
    "# Run the app inline in the notebook using the dynamically selected port.\n",
    "# -----------------------------------------------------------------------------\n",
    "app.run_server(mode='inline', debug=True, port=port)\n",
    "print(f\"Your app is available at: http://127.0.0.1:{port}\")\n"
   ]
  },
  {
   "cell_type": "code",
   "execution_count": null,
   "id": "3a3641c8-9de7-4a64-915c-8d6fe64a79ff",
   "metadata": {},
   "outputs": [],
   "source": []
  },
  {
   "cell_type": "code",
   "execution_count": null,
   "id": "8a094906-44b7-4490-b152-357441f75cbb",
   "metadata": {},
   "outputs": [],
   "source": [
    "# reutrn (equity, Total Return %, # Shares"
   ]
  },
  {
   "cell_type": "code",
   "execution_count": 206,
   "id": "af48a025-4284-4792-85f2-0c1711f07e15",
   "metadata": {},
   "outputs": [
    {
     "data": {
      "text/html": [
       "<div>\n",
       "<style scoped>\n",
       "    .dataframe tbody tr th:only-of-type {\n",
       "        vertical-align: middle;\n",
       "    }\n",
       "\n",
       "    .dataframe tbody tr th {\n",
       "        vertical-align: top;\n",
       "    }\n",
       "\n",
       "    .dataframe thead th {\n",
       "        text-align: right;\n",
       "    }\n",
       "</style>\n",
       "<table border=\"1\" class=\"dataframe\">\n",
       "  <thead>\n",
       "    <tr style=\"text-align: right;\">\n",
       "      <th></th>\n",
       "      <th>Name</th>\n",
       "      <th>Symbol</th>\n",
       "      <th>Shares</th>\n",
       "      <th>Price</th>\n",
       "      <th>Average cost</th>\n",
       "      <th>Return</th>\n",
       "      <th>Equity</th>\n",
       "      <th>Return %</th>\n",
       "      <th>Portfolio %</th>\n",
       "      <th>Total_Div</th>\n",
       "      <th>...</th>\n",
       "      <th>technical_score_description</th>\n",
       "      <th>Fundamental_Signal</th>\n",
       "      <th>Technical_Signal</th>\n",
       "      <th>Composite_Action</th>\n",
       "      <th>industry.1</th>\n",
       "      <th>industryKey.1</th>\n",
       "      <th>industryDisp.1</th>\n",
       "      <th>sector.1</th>\n",
       "      <th>sectorKey.1</th>\n",
       "      <th>sectorDisp.1</th>\n",
       "    </tr>\n",
       "  </thead>\n",
       "  <tbody>\n",
       "    <tr>\n",
       "      <th>0</th>\n",
       "      <td>AT&amp;T</td>\n",
       "      <td>T</td>\n",
       "      <td>6</td>\n",
       "      <td>26.78</td>\n",
       "      <td>15.17</td>\n",
       "      <td>69.66</td>\n",
       "      <td>160.68</td>\n",
       "      <td>76.5</td>\n",
       "      <td>3.3</td>\n",
       "      <td>11.97</td>\n",
       "      <td>...</td>\n",
       "      <td>This score is derived from technical indicator...</td>\n",
       "      <td>Sell</td>\n",
       "      <td>Hold</td>\n",
       "      <td>Sell</td>\n",
       "      <td>NaN</td>\n",
       "      <td>NaN</td>\n",
       "      <td>NaN</td>\n",
       "      <td>NaN</td>\n",
       "      <td>NaN</td>\n",
       "      <td>NaN</td>\n",
       "    </tr>\n",
       "    <tr>\n",
       "      <th>1</th>\n",
       "      <td>Alliance Resource</td>\n",
       "      <td>ARLP</td>\n",
       "      <td>8</td>\n",
       "      <td>26.55</td>\n",
       "      <td>22.63</td>\n",
       "      <td>31.38</td>\n",
       "      <td>212.40</td>\n",
       "      <td>17.3</td>\n",
       "      <td>4.4</td>\n",
       "      <td>24.50</td>\n",
       "      <td>...</td>\n",
       "      <td>This score is derived from technical indicator...</td>\n",
       "      <td>Sell</td>\n",
       "      <td>Hold</td>\n",
       "      <td>Sell</td>\n",
       "      <td>NaN</td>\n",
       "      <td>NaN</td>\n",
       "      <td>NaN</td>\n",
       "      <td>NaN</td>\n",
       "      <td>NaN</td>\n",
       "      <td>NaN</td>\n",
       "    </tr>\n",
       "    <tr>\n",
       "      <th>2</th>\n",
       "      <td>Gladstone Capital</td>\n",
       "      <td>GLAD</td>\n",
       "      <td>7</td>\n",
       "      <td>24.15</td>\n",
       "      <td>20.05</td>\n",
       "      <td>28.71</td>\n",
       "      <td>169.05</td>\n",
       "      <td>20.4</td>\n",
       "      <td>3.5</td>\n",
       "      <td>25.45</td>\n",
       "      <td>...</td>\n",
       "      <td>This score is derived from technical indicator...</td>\n",
       "      <td>Sell</td>\n",
       "      <td>Hold</td>\n",
       "      <td>Sell</td>\n",
       "      <td>NaN</td>\n",
       "      <td>NaN</td>\n",
       "      <td>NaN</td>\n",
       "      <td>NaN</td>\n",
       "      <td>NaN</td>\n",
       "      <td>NaN</td>\n",
       "    </tr>\n",
       "    <tr>\n",
       "      <th>3</th>\n",
       "      <td>Broadcom</td>\n",
       "      <td>AVGO</td>\n",
       "      <td>1</td>\n",
       "      <td>181.60</td>\n",
       "      <td>164.30</td>\n",
       "      <td>17.30</td>\n",
       "      <td>181.60</td>\n",
       "      <td>10.5</td>\n",
       "      <td>3.7</td>\n",
       "      <td>0.00</td>\n",
       "      <td>...</td>\n",
       "      <td>This score is derived from technical indicator...</td>\n",
       "      <td>Sell</td>\n",
       "      <td>Hold</td>\n",
       "      <td>Sell</td>\n",
       "      <td>NaN</td>\n",
       "      <td>NaN</td>\n",
       "      <td>NaN</td>\n",
       "      <td>NaN</td>\n",
       "      <td>NaN</td>\n",
       "      <td>NaN</td>\n",
       "    </tr>\n",
       "    <tr>\n",
       "      <th>4</th>\n",
       "      <td>Altria</td>\n",
       "      <td>MO</td>\n",
       "      <td>3</td>\n",
       "      <td>56.84</td>\n",
       "      <td>51.45</td>\n",
       "      <td>16.18</td>\n",
       "      <td>170.52</td>\n",
       "      <td>10.5</td>\n",
       "      <td>3.5</td>\n",
       "      <td>6.12</td>\n",
       "      <td>...</td>\n",
       "      <td>This score is derived from technical indicator...</td>\n",
       "      <td>Sell</td>\n",
       "      <td>Hold</td>\n",
       "      <td>Sell</td>\n",
       "      <td>NaN</td>\n",
       "      <td>NaN</td>\n",
       "      <td>NaN</td>\n",
       "      <td>NaN</td>\n",
       "      <td>NaN</td>\n",
       "      <td>NaN</td>\n",
       "    </tr>\n",
       "    <tr>\n",
       "      <th>5</th>\n",
       "      <td>Realty Income</td>\n",
       "      <td>O</td>\n",
       "      <td>18</td>\n",
       "      <td>55.20</td>\n",
       "      <td>54.87</td>\n",
       "      <td>6.03</td>\n",
       "      <td>993.60</td>\n",
       "      <td>0.6</td>\n",
       "      <td>20.5</td>\n",
       "      <td>27.48</td>\n",
       "      <td>...</td>\n",
       "      <td>This score is derived from technical indicator...</td>\n",
       "      <td>Sell</td>\n",
       "      <td>Hold</td>\n",
       "      <td>Sell</td>\n",
       "      <td>NaN</td>\n",
       "      <td>NaN</td>\n",
       "      <td>NaN</td>\n",
       "      <td>NaN</td>\n",
       "      <td>NaN</td>\n",
       "      <td>NaN</td>\n",
       "    </tr>\n",
       "    <tr>\n",
       "      <th>6</th>\n",
       "      <td>Algonquin Power &amp; Utilities</td>\n",
       "      <td>AQN</td>\n",
       "      <td>3</td>\n",
       "      <td>5.04</td>\n",
       "      <td>4.79</td>\n",
       "      <td>0.75</td>\n",
       "      <td>15.12</td>\n",
       "      <td>5.2</td>\n",
       "      <td>0.3</td>\n",
       "      <td>0.17</td>\n",
       "      <td>...</td>\n",
       "      <td>This score is derived from technical indicator...</td>\n",
       "      <td>Sell</td>\n",
       "      <td>Hold</td>\n",
       "      <td>Sell</td>\n",
       "      <td>NaN</td>\n",
       "      <td>NaN</td>\n",
       "      <td>NaN</td>\n",
       "      <td>NaN</td>\n",
       "      <td>NaN</td>\n",
       "      <td>NaN</td>\n",
       "    </tr>\n",
       "    <tr>\n",
       "      <th>7</th>\n",
       "      <td>Aramark</td>\n",
       "      <td>ARMK</td>\n",
       "      <td>1</td>\n",
       "      <td>33.13</td>\n",
       "      <td>33.85</td>\n",
       "      <td>-0.72</td>\n",
       "      <td>33.13</td>\n",
       "      <td>-2.1</td>\n",
       "      <td>0.7</td>\n",
       "      <td>0.00</td>\n",
       "      <td>...</td>\n",
       "      <td>This score is derived from technical indicator...</td>\n",
       "      <td>Sell</td>\n",
       "      <td>Hold</td>\n",
       "      <td>Sell</td>\n",
       "      <td>NaN</td>\n",
       "      <td>NaN</td>\n",
       "      <td>NaN</td>\n",
       "      <td>NaN</td>\n",
       "      <td>NaN</td>\n",
       "      <td>NaN</td>\n",
       "    </tr>\n",
       "    <tr>\n",
       "      <th>8</th>\n",
       "      <td>PennantPark Floating Rate</td>\n",
       "      <td>PFLT</td>\n",
       "      <td>11</td>\n",
       "      <td>9.60</td>\n",
       "      <td>9.79</td>\n",
       "      <td>-2.10</td>\n",
       "      <td>105.60</td>\n",
       "      <td>-1.9</td>\n",
       "      <td>2.2</td>\n",
       "      <td>0.00</td>\n",
       "      <td>...</td>\n",
       "      <td>This score is derived from technical indicator...</td>\n",
       "      <td>Sell</td>\n",
       "      <td>Hold</td>\n",
       "      <td>Sell</td>\n",
       "      <td>NaN</td>\n",
       "      <td>NaN</td>\n",
       "      <td>NaN</td>\n",
       "      <td>NaN</td>\n",
       "      <td>NaN</td>\n",
       "      <td>NaN</td>\n",
       "    </tr>\n",
       "    <tr>\n",
       "      <th>9</th>\n",
       "      <td>Novo Nordisk</td>\n",
       "      <td>NVO</td>\n",
       "      <td>1</td>\n",
       "      <td>65.00</td>\n",
       "      <td>67.64</td>\n",
       "      <td>-2.64</td>\n",
       "      <td>65.00</td>\n",
       "      <td>-3.9</td>\n",
       "      <td>1.3</td>\n",
       "      <td>0.00</td>\n",
       "      <td>...</td>\n",
       "      <td>This score is derived from technical indicator...</td>\n",
       "      <td>Sell</td>\n",
       "      <td>Hold</td>\n",
       "      <td>Sell</td>\n",
       "      <td>NaN</td>\n",
       "      <td>NaN</td>\n",
       "      <td>NaN</td>\n",
       "      <td>NaN</td>\n",
       "      <td>NaN</td>\n",
       "      <td>NaN</td>\n",
       "    </tr>\n",
       "    <tr>\n",
       "      <th>10</th>\n",
       "      <td>Main Street Capital</td>\n",
       "      <td>MAIN</td>\n",
       "      <td>1</td>\n",
       "      <td>51.70</td>\n",
       "      <td>56.00</td>\n",
       "      <td>-4.30</td>\n",
       "      <td>51.70</td>\n",
       "      <td>-7.7</td>\n",
       "      <td>1.1</td>\n",
       "      <td>0.25</td>\n",
       "      <td>...</td>\n",
       "      <td>This score is derived from technical indicator...</td>\n",
       "      <td>Sell</td>\n",
       "      <td>Hold</td>\n",
       "      <td>Sell</td>\n",
       "      <td>NaN</td>\n",
       "      <td>NaN</td>\n",
       "      <td>NaN</td>\n",
       "      <td>NaN</td>\n",
       "      <td>NaN</td>\n",
       "      <td>NaN</td>\n",
       "    </tr>\n",
       "    <tr>\n",
       "      <th>11</th>\n",
       "      <td>Intel</td>\n",
       "      <td>INTC</td>\n",
       "      <td>1</td>\n",
       "      <td>19.64</td>\n",
       "      <td>31.30</td>\n",
       "      <td>-11.66</td>\n",
       "      <td>19.64</td>\n",
       "      <td>-37.3</td>\n",
       "      <td>0.4</td>\n",
       "      <td>0.65</td>\n",
       "      <td>...</td>\n",
       "      <td>This score is derived from technical indicator...</td>\n",
       "      <td>Sell</td>\n",
       "      <td>Hold</td>\n",
       "      <td>Sell</td>\n",
       "      <td>NaN</td>\n",
       "      <td>NaN</td>\n",
       "      <td>NaN</td>\n",
       "      <td>NaN</td>\n",
       "      <td>NaN</td>\n",
       "      <td>NaN</td>\n",
       "    </tr>\n",
       "    <tr>\n",
       "      <th>12</th>\n",
       "      <td>Hafnia LTD</td>\n",
       "      <td>HAFN</td>\n",
       "      <td>10</td>\n",
       "      <td>4.21</td>\n",
       "      <td>5.66</td>\n",
       "      <td>-14.59</td>\n",
       "      <td>42.05</td>\n",
       "      <td>-25.6</td>\n",
       "      <td>0.9</td>\n",
       "      <td>0.76</td>\n",
       "      <td>...</td>\n",
       "      <td>This score is derived from technical indicator...</td>\n",
       "      <td>Sell</td>\n",
       "      <td>Hold</td>\n",
       "      <td>Sell</td>\n",
       "      <td>NaN</td>\n",
       "      <td>NaN</td>\n",
       "      <td>NaN</td>\n",
       "      <td>NaN</td>\n",
       "      <td>NaN</td>\n",
       "      <td>NaN</td>\n",
       "    </tr>\n",
       "    <tr>\n",
       "      <th>13</th>\n",
       "      <td>Dynex Capital</td>\n",
       "      <td>DX</td>\n",
       "      <td>22</td>\n",
       "      <td>11.43</td>\n",
       "      <td>12.22</td>\n",
       "      <td>-17.42</td>\n",
       "      <td>251.46</td>\n",
       "      <td>-6.5</td>\n",
       "      <td>5.2</td>\n",
       "      <td>9.66</td>\n",
       "      <td>...</td>\n",
       "      <td>This score is derived from technical indicator...</td>\n",
       "      <td>Sell</td>\n",
       "      <td>Hold</td>\n",
       "      <td>Sell</td>\n",
       "      <td>NaN</td>\n",
       "      <td>NaN</td>\n",
       "      <td>NaN</td>\n",
       "      <td>NaN</td>\n",
       "      <td>NaN</td>\n",
       "      <td>NaN</td>\n",
       "    </tr>\n",
       "    <tr>\n",
       "      <th>14</th>\n",
       "      <td>Apple Hospitality REIT</td>\n",
       "      <td>APLE</td>\n",
       "      <td>16</td>\n",
       "      <td>11.47</td>\n",
       "      <td>13.02</td>\n",
       "      <td>-24.83</td>\n",
       "      <td>183.52</td>\n",
       "      <td>-11.9</td>\n",
       "      <td>3.8</td>\n",
       "      <td>6.96</td>\n",
       "      <td>...</td>\n",
       "      <td>This score is derived from technical indicator...</td>\n",
       "      <td>Sell</td>\n",
       "      <td>Hold</td>\n",
       "      <td>Sell</td>\n",
       "      <td>NaN</td>\n",
       "      <td>NaN</td>\n",
       "      <td>NaN</td>\n",
       "      <td>NaN</td>\n",
       "      <td>NaN</td>\n",
       "      <td>NaN</td>\n",
       "    </tr>\n",
       "    <tr>\n",
       "      <th>15</th>\n",
       "      <td>Energy Transfer</td>\n",
       "      <td>ET</td>\n",
       "      <td>12</td>\n",
       "      <td>16.23</td>\n",
       "      <td>18.70</td>\n",
       "      <td>-29.65</td>\n",
       "      <td>194.76</td>\n",
       "      <td>-13.2</td>\n",
       "      <td>4.0</td>\n",
       "      <td>3.90</td>\n",
       "      <td>...</td>\n",
       "      <td>This score is derived from technical indicator...</td>\n",
       "      <td>Sell</td>\n",
       "      <td>Hold</td>\n",
       "      <td>Sell</td>\n",
       "      <td>NaN</td>\n",
       "      <td>NaN</td>\n",
       "      <td>NaN</td>\n",
       "      <td>NaN</td>\n",
       "      <td>NaN</td>\n",
       "      <td>NaN</td>\n",
       "    </tr>\n",
       "    <tr>\n",
       "      <th>16</th>\n",
       "      <td>JPMorgan Equity Premium Income</td>\n",
       "      <td>JEPI</td>\n",
       "      <td>13</td>\n",
       "      <td>54.15</td>\n",
       "      <td>57.15</td>\n",
       "      <td>-39.05</td>\n",
       "      <td>703.95</td>\n",
       "      <td>-5.2</td>\n",
       "      <td>14.5</td>\n",
       "      <td>14.12</td>\n",
       "      <td>...</td>\n",
       "      <td>This score is derived from technical indicator...</td>\n",
       "      <td>Sell</td>\n",
       "      <td>Hold</td>\n",
       "      <td>Sell</td>\n",
       "      <td>Asset Management</td>\n",
       "      <td>asset_management</td>\n",
       "      <td>Asset Management</td>\n",
       "      <td>Financial Services</td>\n",
       "      <td>financial_services</td>\n",
       "      <td>Financial Services</td>\n",
       "    </tr>\n",
       "    <tr>\n",
       "      <th>17</th>\n",
       "      <td>Saratoga Investment</td>\n",
       "      <td>SAR</td>\n",
       "      <td>17</td>\n",
       "      <td>22.47</td>\n",
       "      <td>25.22</td>\n",
       "      <td>-46.73</td>\n",
       "      <td>381.99</td>\n",
       "      <td>-10.9</td>\n",
       "      <td>7.9</td>\n",
       "      <td>59.83</td>\n",
       "      <td>...</td>\n",
       "      <td>This score is derived from technical indicator...</td>\n",
       "      <td>Sell</td>\n",
       "      <td>Hold</td>\n",
       "      <td>Sell</td>\n",
       "      <td>NaN</td>\n",
       "      <td>NaN</td>\n",
       "      <td>NaN</td>\n",
       "      <td>NaN</td>\n",
       "      <td>NaN</td>\n",
       "      <td>NaN</td>\n",
       "    </tr>\n",
       "    <tr>\n",
       "      <th>18</th>\n",
       "      <td>Innovative Industrial Properties</td>\n",
       "      <td>IIPR</td>\n",
       "      <td>5</td>\n",
       "      <td>49.60</td>\n",
       "      <td>66.15</td>\n",
       "      <td>-82.76</td>\n",
       "      <td>248.00</td>\n",
       "      <td>-25.0</td>\n",
       "      <td>5.1</td>\n",
       "      <td>22.54</td>\n",
       "      <td>...</td>\n",
       "      <td>This score is derived from technical indicator...</td>\n",
       "      <td>Sell</td>\n",
       "      <td>Hold</td>\n",
       "      <td>Sell</td>\n",
       "      <td>NaN</td>\n",
       "      <td>NaN</td>\n",
       "      <td>NaN</td>\n",
       "      <td>NaN</td>\n",
       "      <td>NaN</td>\n",
       "      <td>NaN</td>\n",
       "    </tr>\n",
       "    <tr>\n",
       "      <th>19</th>\n",
       "      <td>STAG Industrial</td>\n",
       "      <td>STAG</td>\n",
       "      <td>21</td>\n",
       "      <td>31.44</td>\n",
       "      <td>36.35</td>\n",
       "      <td>-103.19</td>\n",
       "      <td>660.24</td>\n",
       "      <td>-13.5</td>\n",
       "      <td>13.6</td>\n",
       "      <td>20.28</td>\n",
       "      <td>...</td>\n",
       "      <td>This score is derived from technical indicator...</td>\n",
       "      <td>Sell</td>\n",
       "      <td>Hold</td>\n",
       "      <td>Sell</td>\n",
       "      <td>NaN</td>\n",
       "      <td>NaN</td>\n",
       "      <td>NaN</td>\n",
       "      <td>NaN</td>\n",
       "      <td>NaN</td>\n",
       "      <td>NaN</td>\n",
       "    </tr>\n",
       "  </tbody>\n",
       "</table>\n",
       "<p>20 rows × 265 columns</p>\n",
       "</div>"
      ],
      "text/plain": [
       "                                Name Symbol  Shares   Price  Average cost  \\\n",
       "0                               AT&T      T       6   26.78         15.17   \n",
       "1                  Alliance Resource   ARLP       8   26.55         22.63   \n",
       "2                  Gladstone Capital   GLAD       7   24.15         20.05   \n",
       "3                           Broadcom   AVGO       1  181.60        164.30   \n",
       "4                             Altria     MO       3   56.84         51.45   \n",
       "5                      Realty Income      O      18   55.20         54.87   \n",
       "6        Algonquin Power & Utilities    AQN       3    5.04          4.79   \n",
       "7                            Aramark   ARMK       1   33.13         33.85   \n",
       "8          PennantPark Floating Rate   PFLT      11    9.60          9.79   \n",
       "9                       Novo Nordisk    NVO       1   65.00         67.64   \n",
       "10               Main Street Capital   MAIN       1   51.70         56.00   \n",
       "11                             Intel   INTC       1   19.64         31.30   \n",
       "12                        Hafnia LTD   HAFN      10    4.21          5.66   \n",
       "13                     Dynex Capital     DX      22   11.43         12.22   \n",
       "14            Apple Hospitality REIT   APLE      16   11.47         13.02   \n",
       "15                   Energy Transfer     ET      12   16.23         18.70   \n",
       "16    JPMorgan Equity Premium Income   JEPI      13   54.15         57.15   \n",
       "17               Saratoga Investment    SAR      17   22.47         25.22   \n",
       "18  Innovative Industrial Properties   IIPR       5   49.60         66.15   \n",
       "19                   STAG Industrial   STAG      21   31.44         36.35   \n",
       "\n",
       "    Return  Equity  Return %  Portfolio %  Total_Div  ...  \\\n",
       "0    69.66  160.68      76.5          3.3      11.97  ...   \n",
       "1    31.38  212.40      17.3          4.4      24.50  ...   \n",
       "2    28.71  169.05      20.4          3.5      25.45  ...   \n",
       "3    17.30  181.60      10.5          3.7       0.00  ...   \n",
       "4    16.18  170.52      10.5          3.5       6.12  ...   \n",
       "5     6.03  993.60       0.6         20.5      27.48  ...   \n",
       "6     0.75   15.12       5.2          0.3       0.17  ...   \n",
       "7    -0.72   33.13      -2.1          0.7       0.00  ...   \n",
       "8    -2.10  105.60      -1.9          2.2       0.00  ...   \n",
       "9    -2.64   65.00      -3.9          1.3       0.00  ...   \n",
       "10   -4.30   51.70      -7.7          1.1       0.25  ...   \n",
       "11  -11.66   19.64     -37.3          0.4       0.65  ...   \n",
       "12  -14.59   42.05     -25.6          0.9       0.76  ...   \n",
       "13  -17.42  251.46      -6.5          5.2       9.66  ...   \n",
       "14  -24.83  183.52     -11.9          3.8       6.96  ...   \n",
       "15  -29.65  194.76     -13.2          4.0       3.90  ...   \n",
       "16  -39.05  703.95      -5.2         14.5      14.12  ...   \n",
       "17  -46.73  381.99     -10.9          7.9      59.83  ...   \n",
       "18  -82.76  248.00     -25.0          5.1      22.54  ...   \n",
       "19 -103.19  660.24     -13.5         13.6      20.28  ...   \n",
       "\n",
       "                          technical_score_description  Fundamental_Signal  \\\n",
       "0   This score is derived from technical indicator...                Sell   \n",
       "1   This score is derived from technical indicator...                Sell   \n",
       "2   This score is derived from technical indicator...                Sell   \n",
       "3   This score is derived from technical indicator...                Sell   \n",
       "4   This score is derived from technical indicator...                Sell   \n",
       "5   This score is derived from technical indicator...                Sell   \n",
       "6   This score is derived from technical indicator...                Sell   \n",
       "7   This score is derived from technical indicator...                Sell   \n",
       "8   This score is derived from technical indicator...                Sell   \n",
       "9   This score is derived from technical indicator...                Sell   \n",
       "10  This score is derived from technical indicator...                Sell   \n",
       "11  This score is derived from technical indicator...                Sell   \n",
       "12  This score is derived from technical indicator...                Sell   \n",
       "13  This score is derived from technical indicator...                Sell   \n",
       "14  This score is derived from technical indicator...                Sell   \n",
       "15  This score is derived from technical indicator...                Sell   \n",
       "16  This score is derived from technical indicator...                Sell   \n",
       "17  This score is derived from technical indicator...                Sell   \n",
       "18  This score is derived from technical indicator...                Sell   \n",
       "19  This score is derived from technical indicator...                Sell   \n",
       "\n",
       "   Technical_Signal  Composite_Action        industry.1     industryKey.1  \\\n",
       "0              Hold              Sell               NaN               NaN   \n",
       "1              Hold              Sell               NaN               NaN   \n",
       "2              Hold              Sell               NaN               NaN   \n",
       "3              Hold              Sell               NaN               NaN   \n",
       "4              Hold              Sell               NaN               NaN   \n",
       "5              Hold              Sell               NaN               NaN   \n",
       "6              Hold              Sell               NaN               NaN   \n",
       "7              Hold              Sell               NaN               NaN   \n",
       "8              Hold              Sell               NaN               NaN   \n",
       "9              Hold              Sell               NaN               NaN   \n",
       "10             Hold              Sell               NaN               NaN   \n",
       "11             Hold              Sell               NaN               NaN   \n",
       "12             Hold              Sell               NaN               NaN   \n",
       "13             Hold              Sell               NaN               NaN   \n",
       "14             Hold              Sell               NaN               NaN   \n",
       "15             Hold              Sell               NaN               NaN   \n",
       "16             Hold              Sell  Asset Management  asset_management   \n",
       "17             Hold              Sell               NaN               NaN   \n",
       "18             Hold              Sell               NaN               NaN   \n",
       "19             Hold              Sell               NaN               NaN   \n",
       "\n",
       "      industryDisp.1            sector.1         sectorKey.1  \\\n",
       "0                NaN                 NaN                 NaN   \n",
       "1                NaN                 NaN                 NaN   \n",
       "2                NaN                 NaN                 NaN   \n",
       "3                NaN                 NaN                 NaN   \n",
       "4                NaN                 NaN                 NaN   \n",
       "5                NaN                 NaN                 NaN   \n",
       "6                NaN                 NaN                 NaN   \n",
       "7                NaN                 NaN                 NaN   \n",
       "8                NaN                 NaN                 NaN   \n",
       "9                NaN                 NaN                 NaN   \n",
       "10               NaN                 NaN                 NaN   \n",
       "11               NaN                 NaN                 NaN   \n",
       "12               NaN                 NaN                 NaN   \n",
       "13               NaN                 NaN                 NaN   \n",
       "14               NaN                 NaN                 NaN   \n",
       "15               NaN                 NaN                 NaN   \n",
       "16  Asset Management  Financial Services  financial_services   \n",
       "17               NaN                 NaN                 NaN   \n",
       "18               NaN                 NaN                 NaN   \n",
       "19               NaN                 NaN                 NaN   \n",
       "\n",
       "          sectorDisp.1  \n",
       "0                  NaN  \n",
       "1                  NaN  \n",
       "2                  NaN  \n",
       "3                  NaN  \n",
       "4                  NaN  \n",
       "5                  NaN  \n",
       "6                  NaN  \n",
       "7                  NaN  \n",
       "8                  NaN  \n",
       "9                  NaN  \n",
       "10                 NaN  \n",
       "11                 NaN  \n",
       "12                 NaN  \n",
       "13                 NaN  \n",
       "14                 NaN  \n",
       "15                 NaN  \n",
       "16  Financial Services  \n",
       "17                 NaN  \n",
       "18                 NaN  \n",
       "19                 NaN  \n",
       "\n",
       "[20 rows x 265 columns]"
      ]
     },
     "execution_count": 206,
     "metadata": {},
     "output_type": "execute_result"
    }
   ],
   "source": [
    "master"
   ]
  },
  {
   "cell_type": "code",
   "execution_count": 216,
   "id": "dffd2aba-ef68-4b19-9269-d09355fe092c",
   "metadata": {},
   "outputs": [
    {
     "data": {
      "text/plain": [
       "Index(['Name', 'Symbol', 'Shares', 'Price', 'Average cost', 'Return', 'Equity',\n",
       "       'Return %', 'Portfolio %', 'Total_Div',\n",
       "       ...\n",
       "       'technical_score_description', 'Fundamental_Signal', 'Technical_Signal',\n",
       "       'Composite_Action', 'industry.1', 'industryKey.1', 'industryDisp.1',\n",
       "       'sector.1', 'sectorKey.1', 'sectorDisp.1'],\n",
       "      dtype='object', length=265)"
      ]
     },
     "execution_count": 216,
     "metadata": {},
     "output_type": "execute_result"
    }
   ],
   "source": [
    "master.columns"
   ]
  },
  {
   "cell_type": "code",
   "execution_count": 220,
   "id": "42ded37a-b9a7-4856-b0f9-3c4997e31490",
   "metadata": {},
   "outputs": [
    {
     "data": {
      "text/html": [
       "<div>\n",
       "<style scoped>\n",
       "    .dataframe tbody tr th:only-of-type {\n",
       "        vertical-align: middle;\n",
       "    }\n",
       "\n",
       "    .dataframe tbody tr th {\n",
       "        vertical-align: top;\n",
       "    }\n",
       "\n",
       "    .dataframe thead th {\n",
       "        text-align: right;\n",
       "    }\n",
       "</style>\n",
       "<table border=\"1\" class=\"dataframe\">\n",
       "  <thead>\n",
       "    <tr style=\"text-align: right;\">\n",
       "      <th></th>\n",
       "      <th>Name</th>\n",
       "      <th>Symbol</th>\n",
       "      <th>Shares</th>\n",
       "      <th>dividendYield</th>\n",
       "      <th>Div_Freq</th>\n",
       "      <th>Average cost</th>\n",
       "      <th>Price</th>\n",
       "      <th>Return %</th>\n",
       "    </tr>\n",
       "  </thead>\n",
       "  <tbody>\n",
       "    <tr>\n",
       "      <th>0</th>\n",
       "      <td>AT&amp;T</td>\n",
       "      <td>T</td>\n",
       "      <td>6</td>\n",
       "      <td>4.14</td>\n",
       "      <td>Q</td>\n",
       "      <td>15.17</td>\n",
       "      <td>26.78</td>\n",
       "      <td>76.5</td>\n",
       "    </tr>\n",
       "    <tr>\n",
       "      <th>1</th>\n",
       "      <td>Alliance Resource</td>\n",
       "      <td>ARLP</td>\n",
       "      <td>8</td>\n",
       "      <td>10.74</td>\n",
       "      <td>Q</td>\n",
       "      <td>22.63</td>\n",
       "      <td>26.55</td>\n",
       "      <td>17.3</td>\n",
       "    </tr>\n",
       "    <tr>\n",
       "      <th>2</th>\n",
       "      <td>Gladstone Capital</td>\n",
       "      <td>GLAD</td>\n",
       "      <td>7</td>\n",
       "      <td>8.20</td>\n",
       "      <td>M</td>\n",
       "      <td>20.05</td>\n",
       "      <td>24.15</td>\n",
       "      <td>20.4</td>\n",
       "    </tr>\n",
       "    <tr>\n",
       "      <th>3</th>\n",
       "      <td>Broadcom</td>\n",
       "      <td>AVGO</td>\n",
       "      <td>1</td>\n",
       "      <td>1.30</td>\n",
       "      <td>NaN</td>\n",
       "      <td>164.30</td>\n",
       "      <td>181.60</td>\n",
       "      <td>10.5</td>\n",
       "    </tr>\n",
       "    <tr>\n",
       "      <th>4</th>\n",
       "      <td>Altria</td>\n",
       "      <td>MO</td>\n",
       "      <td>3</td>\n",
       "      <td>7.20</td>\n",
       "      <td>Q</td>\n",
       "      <td>51.45</td>\n",
       "      <td>56.84</td>\n",
       "      <td>10.5</td>\n",
       "    </tr>\n",
       "    <tr>\n",
       "      <th>5</th>\n",
       "      <td>Realty Income</td>\n",
       "      <td>O</td>\n",
       "      <td>18</td>\n",
       "      <td>5.83</td>\n",
       "      <td>M</td>\n",
       "      <td>54.87</td>\n",
       "      <td>55.20</td>\n",
       "      <td>0.6</td>\n",
       "    </tr>\n",
       "    <tr>\n",
       "      <th>6</th>\n",
       "      <td>Algonquin Power &amp; Utilities</td>\n",
       "      <td>AQN</td>\n",
       "      <td>3</td>\n",
       "      <td>5.16</td>\n",
       "      <td>Q</td>\n",
       "      <td>4.79</td>\n",
       "      <td>5.04</td>\n",
       "      <td>5.2</td>\n",
       "    </tr>\n",
       "    <tr>\n",
       "      <th>7</th>\n",
       "      <td>Aramark</td>\n",
       "      <td>ARMK</td>\n",
       "      <td>1</td>\n",
       "      <td>1.27</td>\n",
       "      <td>NaN</td>\n",
       "      <td>33.85</td>\n",
       "      <td>33.13</td>\n",
       "      <td>-2.1</td>\n",
       "    </tr>\n",
       "    <tr>\n",
       "      <th>8</th>\n",
       "      <td>PennantPark Floating Rate</td>\n",
       "      <td>PFLT</td>\n",
       "      <td>11</td>\n",
       "      <td>12.92</td>\n",
       "      <td>NaN</td>\n",
       "      <td>9.79</td>\n",
       "      <td>9.60</td>\n",
       "      <td>-1.9</td>\n",
       "    </tr>\n",
       "    <tr>\n",
       "      <th>9</th>\n",
       "      <td>Novo Nordisk</td>\n",
       "      <td>NVO</td>\n",
       "      <td>1</td>\n",
       "      <td>2.50</td>\n",
       "      <td>NaN</td>\n",
       "      <td>67.64</td>\n",
       "      <td>65.00</td>\n",
       "      <td>-3.9</td>\n",
       "    </tr>\n",
       "    <tr>\n",
       "      <th>10</th>\n",
       "      <td>Main Street Capital</td>\n",
       "      <td>MAIN</td>\n",
       "      <td>1</td>\n",
       "      <td>8.10</td>\n",
       "      <td>Q</td>\n",
       "      <td>56.00</td>\n",
       "      <td>51.70</td>\n",
       "      <td>-7.7</td>\n",
       "    </tr>\n",
       "    <tr>\n",
       "      <th>11</th>\n",
       "      <td>Intel</td>\n",
       "      <td>INTC</td>\n",
       "      <td>1</td>\n",
       "      <td>2.24</td>\n",
       "      <td>Q</td>\n",
       "      <td>31.30</td>\n",
       "      <td>19.64</td>\n",
       "      <td>-37.3</td>\n",
       "    </tr>\n",
       "    <tr>\n",
       "      <th>12</th>\n",
       "      <td>Hafnia LTD</td>\n",
       "      <td>HAFN</td>\n",
       "      <td>10</td>\n",
       "      <td>27.50</td>\n",
       "      <td>Q</td>\n",
       "      <td>5.66</td>\n",
       "      <td>4.21</td>\n",
       "      <td>-25.6</td>\n",
       "    </tr>\n",
       "    <tr>\n",
       "      <th>13</th>\n",
       "      <td>Dynex Capital</td>\n",
       "      <td>DX</td>\n",
       "      <td>22</td>\n",
       "      <td>17.91</td>\n",
       "      <td>M</td>\n",
       "      <td>12.22</td>\n",
       "      <td>11.43</td>\n",
       "      <td>-6.5</td>\n",
       "    </tr>\n",
       "    <tr>\n",
       "      <th>14</th>\n",
       "      <td>Apple Hospitality REIT</td>\n",
       "      <td>APLE</td>\n",
       "      <td>16</td>\n",
       "      <td>8.37</td>\n",
       "      <td>M</td>\n",
       "      <td>13.02</td>\n",
       "      <td>11.47</td>\n",
       "      <td>-11.9</td>\n",
       "    </tr>\n",
       "    <tr>\n",
       "      <th>15</th>\n",
       "      <td>Energy Transfer</td>\n",
       "      <td>ET</td>\n",
       "      <td>12</td>\n",
       "      <td>7.96</td>\n",
       "      <td>Q</td>\n",
       "      <td>18.70</td>\n",
       "      <td>16.23</td>\n",
       "      <td>-13.2</td>\n",
       "    </tr>\n",
       "    <tr>\n",
       "      <th>16</th>\n",
       "      <td>JPMorgan Equity Premium Income</td>\n",
       "      <td>JEPI</td>\n",
       "      <td>13</td>\n",
       "      <td>7.47</td>\n",
       "      <td>M</td>\n",
       "      <td>57.15</td>\n",
       "      <td>54.15</td>\n",
       "      <td>-5.2</td>\n",
       "    </tr>\n",
       "    <tr>\n",
       "      <th>17</th>\n",
       "      <td>Saratoga Investment</td>\n",
       "      <td>SAR</td>\n",
       "      <td>17</td>\n",
       "      <td>13.33</td>\n",
       "      <td>Q</td>\n",
       "      <td>25.22</td>\n",
       "      <td>22.47</td>\n",
       "      <td>-10.9</td>\n",
       "    </tr>\n",
       "    <tr>\n",
       "      <th>18</th>\n",
       "      <td>Innovative Industrial Properties</td>\n",
       "      <td>IIPR</td>\n",
       "      <td>5</td>\n",
       "      <td>15.40</td>\n",
       "      <td>Q</td>\n",
       "      <td>66.15</td>\n",
       "      <td>49.60</td>\n",
       "      <td>-25.0</td>\n",
       "    </tr>\n",
       "    <tr>\n",
       "      <th>19</th>\n",
       "      <td>STAG Industrial</td>\n",
       "      <td>STAG</td>\n",
       "      <td>21</td>\n",
       "      <td>4.74</td>\n",
       "      <td>M</td>\n",
       "      <td>36.35</td>\n",
       "      <td>31.44</td>\n",
       "      <td>-13.5</td>\n",
       "    </tr>\n",
       "  </tbody>\n",
       "</table>\n",
       "</div>"
      ],
      "text/plain": [
       "                                Name Symbol  Shares  dividendYield Div_Freq  \\\n",
       "0                               AT&T      T       6           4.14        Q   \n",
       "1                  Alliance Resource   ARLP       8          10.74        Q   \n",
       "2                  Gladstone Capital   GLAD       7           8.20        M   \n",
       "3                           Broadcom   AVGO       1           1.30      NaN   \n",
       "4                             Altria     MO       3           7.20        Q   \n",
       "5                      Realty Income      O      18           5.83        M   \n",
       "6        Algonquin Power & Utilities    AQN       3           5.16        Q   \n",
       "7                            Aramark   ARMK       1           1.27      NaN   \n",
       "8          PennantPark Floating Rate   PFLT      11          12.92      NaN   \n",
       "9                       Novo Nordisk    NVO       1           2.50      NaN   \n",
       "10               Main Street Capital   MAIN       1           8.10        Q   \n",
       "11                             Intel   INTC       1           2.24        Q   \n",
       "12                        Hafnia LTD   HAFN      10          27.50        Q   \n",
       "13                     Dynex Capital     DX      22          17.91        M   \n",
       "14            Apple Hospitality REIT   APLE      16           8.37        M   \n",
       "15                   Energy Transfer     ET      12           7.96        Q   \n",
       "16    JPMorgan Equity Premium Income   JEPI      13           7.47        M   \n",
       "17               Saratoga Investment    SAR      17          13.33        Q   \n",
       "18  Innovative Industrial Properties   IIPR       5          15.40        Q   \n",
       "19                   STAG Industrial   STAG      21           4.74        M   \n",
       "\n",
       "    Average cost   Price  Return %  \n",
       "0          15.17   26.78      76.5  \n",
       "1          22.63   26.55      17.3  \n",
       "2          20.05   24.15      20.4  \n",
       "3         164.30  181.60      10.5  \n",
       "4          51.45   56.84      10.5  \n",
       "5          54.87   55.20       0.6  \n",
       "6           4.79    5.04       5.2  \n",
       "7          33.85   33.13      -2.1  \n",
       "8           9.79    9.60      -1.9  \n",
       "9          67.64   65.00      -3.9  \n",
       "10         56.00   51.70      -7.7  \n",
       "11         31.30   19.64     -37.3  \n",
       "12          5.66    4.21     -25.6  \n",
       "13         12.22   11.43      -6.5  \n",
       "14         13.02   11.47     -11.9  \n",
       "15         18.70   16.23     -13.2  \n",
       "16         57.15   54.15      -5.2  \n",
       "17         25.22   22.47     -10.9  \n",
       "18         66.15   49.60     -25.0  \n",
       "19         36.35   31.44     -13.5  "
      ]
     },
     "execution_count": 220,
     "metadata": {},
     "output_type": "execute_result"
    }
   ],
   "source": [
    "master[['Name', 'Symbol', 'Shares', 'dividendYield', 'Div_Freq', 'Average cost', 'Price', 'Return %']]"
   ]
  }
 ],
 "metadata": {
  "kernelspec": {
   "display_name": "Python [conda env:base] *",
   "language": "python",
   "name": "conda-base-py"
  },
  "language_info": {
   "codemirror_mode": {
    "name": "ipython",
    "version": 3
   },
   "file_extension": ".py",
   "mimetype": "text/x-python",
   "name": "python",
   "nbconvert_exporter": "python",
   "pygments_lexer": "ipython3",
   "version": "3.12.7"
  }
 },
 "nbformat": 4,
 "nbformat_minor": 5
}
